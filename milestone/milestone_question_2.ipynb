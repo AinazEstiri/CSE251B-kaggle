{
 "cells": [
  {
   "cell_type": "markdown",
   "id": "d633ff66",
   "metadata": {},
   "source": [
    "# CSE 251B Project Milestone Problem 2 Code"
   ]
  },
  {
   "cell_type": "code",
   "execution_count": 49,
   "id": "5eb0a627",
   "metadata": {},
   "outputs": [
    {
     "name": "stdout",
     "output_type": "stream",
     "text": [
      "Using Apple Silicon GPU\n"
     ]
    }
   ],
   "source": [
    "# from starter file\n",
    "import numpy as np\n",
    "import pandas as pd\n",
    "import matplotlib.pyplot as plt\n",
    "import random\n",
    "\n",
    "import torch\n",
    "import torch.nn as nn\n",
    "import torch.optim as optim\n",
    "from torch.utils.data import Dataset, DataLoader, TensorDataset\n",
    "from torch_geometric.data import Data, Batch\n",
    "from torch.optim.lr_scheduler import ReduceLROnPlateau\n",
    "from torch.optim import lr_scheduler\n",
    "\n",
    "\n",
    "import matplotlib.pyplot as plt\n",
    "from sklearn.model_selection import ParameterGrid, TimeSeriesSplit\n",
    "from typing import Dict, List, Tuple\n",
    "import os\n",
    "import time\n",
    "import tqdm\n",
    "import itertools\n",
    "\n",
    "\n",
    "train_npz = np.load('./train.npz')\n",
    "train_data = train_npz['data']\n",
    "test_npz  = np.load('./test_input.npz')\n",
    "test_data  = test_npz['data']\n",
    "\n",
    "X_train = train_data[..., :50, :]\n",
    "Y_train = train_data[:, 0, 50:, :2]\n",
    "\n",
    "class TrajectoryDatasetTrain(Dataset):\n",
    "    def __init__(self, data, scale=10.0, augment=True):\n",
    "        \"\"\"\n",
    "        data: Shape (N, 50, 110, 6) Training data\n",
    "        scale: Scale for normalization (suggested to use 10.0 for Argoverse 2 data)\n",
    "        augment: Whether to apply data augmentation (only for training)\n",
    "        \"\"\"\n",
    "        self.data = data\n",
    "        self.scale = scale\n",
    "        self.augment = augment\n",
    "\n",
    "    def __len__(self):\n",
    "        return len(self.data)\n",
    "\n",
    "    def __getitem__(self, idx):\n",
    "        scene = self.data[idx]\n",
    "        # Getting 50 historical timestamps and 60 future timestamps\n",
    "        hist = scene[:, :50, :].copy()    # (agents=50, time_seq=50, 6)\n",
    "        future = torch.tensor(scene[0, 50:, :2].copy(), dtype=torch.float32)  # (60, 2)\n",
    "        \n",
    "        # Data augmentation(only for training)\n",
    "        if self.augment:\n",
    "            if np.random.rand() < 0.5:\n",
    "                theta = np.random.uniform(-np.pi, np.pi)\n",
    "                R = np.array([[np.cos(theta), -np.sin(theta)],\n",
    "                              [np.sin(theta),  np.cos(theta)]], dtype=np.float32)\n",
    "                # Rotate the historical trajectory and future trajectory\n",
    "                hist[..., :2] = hist[..., :2] @ R\n",
    "                hist[..., 2:4] = hist[..., 2:4] @ R\n",
    "                future = future @ R\n",
    "            if np.random.rand() < 0.5:\n",
    "                hist[..., 0] *= -1\n",
    "                hist[..., 2] *= -1\n",
    "                future[:, 0] *= -1\n",
    "\n",
    "        # Use the last timeframe of the historical trajectory as the origin\n",
    "        origin = hist[0, 49, :2].copy()  # (2,)\n",
    "        hist[..., :2] = hist[..., :2] - origin\n",
    "        future = future - origin\n",
    "\n",
    "        # Normalize the historical trajectory and future trajectory\n",
    "        hist[..., :4] = hist[..., :4] / self.scale\n",
    "        future = future / self.scale\n",
    "\n",
    "        data_item = Data(\n",
    "            x=torch.tensor(hist, dtype=torch.float32),\n",
    "            y=future.type(torch.float32),\n",
    "            origin=torch.tensor(origin, dtype=torch.float32).unsqueeze(0),\n",
    "            scale=torch.tensor(self.scale, dtype=torch.float32),\n",
    "        )\n",
    "\n",
    "        return data_item\n",
    "    \n",
    "\n",
    "class TrajectoryDatasetTest(Dataset):\n",
    "    def __init__(self, data, scale=10.0):\n",
    "        \"\"\"\n",
    "        data: Shape (N, 50, 110, 6) Testing data\n",
    "        scale: Scale for normalization (suggested to use 10.0 for Argoverse 2 data)\n",
    "        \"\"\"\n",
    "        self.data = data\n",
    "        self.scale = scale\n",
    "\n",
    "    def __len__(self):\n",
    "        return len(self.data)\n",
    "\n",
    "    def __getitem__(self, idx):\n",
    "        # Testing data only contains historical trajectory\n",
    "        scene = self.data[idx]  # (50, 50, 6)\n",
    "        hist = scene.copy()\n",
    "        \n",
    "        origin = hist[0, 49, :2].copy()\n",
    "        hist[..., :2] = hist[..., :2] - origin\n",
    "        hist[..., :4] = hist[..., :4] / self.scale\n",
    "\n",
    "        data_item = Data(\n",
    "            x=torch.tensor(hist, dtype=torch.float32),\n",
    "            origin=torch.tensor(origin, dtype=torch.float32).unsqueeze(0),\n",
    "            scale=torch.tensor(self.scale, dtype=torch.float32),\n",
    "        )\n",
    "        return data_item\n",
    "\n",
    "torch.manual_seed(251)\n",
    "np.random.seed(42)\n",
    "\n",
    "scale = 7.0\n",
    "\n",
    "N = len(train_data)\n",
    "val_size = int(0.1 * N)\n",
    "train_size = N - val_size\n",
    "\n",
    "train_dataset = TrajectoryDatasetTrain(train_data[:train_size], scale=scale, augment=True)\n",
    "val_dataset = TrajectoryDatasetTrain(train_data[train_size:], scale=scale, augment=False)\n",
    "\n",
    "train_dataloader = DataLoader(train_dataset, batch_size=32, shuffle=True, collate_fn=lambda x: Batch.from_data_list(x))\n",
    "val_dataloader = DataLoader(val_dataset, batch_size=32, shuffle=False, collate_fn=lambda x: Batch.from_data_list(x))\n",
    "\n",
    "# Set device for training speedup\n",
    "if torch.backends.mps.is_available():\n",
    "    device = torch.device('mps')\n",
    "    print(\"Using Apple Silicon GPU\")\n",
    "elif torch.cuda.is_available():\n",
    "    device = torch.device('cuda')\n",
    "    print(\"Using CUDA GPU\")\n",
    "else:\n",
    "    device = torch.device('cpu')"
   ]
  },
  {
   "cell_type": "markdown",
   "id": "2e989437",
   "metadata": {},
   "source": [
    "Disclaimer: some code taken from starter code notebook and some code is referenced from AI sources (i.e. ChatGPT)"
   ]
  },
  {
   "cell_type": "markdown",
   "id": "17a9fe51",
   "metadata": {},
   "source": [
    "### Problem 2A - Searching for the optimal parameters to train our model on"
   ]
  },
  {
   "cell_type": "code",
   "execution_count": null,
   "id": "85dea3a9",
   "metadata": {},
   "outputs": [],
   "source": [
    "# decided to use the Adam optimizer\n",
    "# define hyperparameter search space\n",
    "search_params = {\n",
    "    'learning_rate': [1e-2, 5e-3, 1e-3, 5e-4],\n",
    "    'weight_decay': [1e-3, 1e-4, 1e-5, 0.0],\n",
    "    'step_size': [10, 20, 30],\n",
    "    'gamma': [0.5, 0.25, 0.1]\n",
    "}\n",
    "\n",
    "# define model to use for the search (LSTM in this case)\n",
    "model_kwargs = {\n",
    "    'input_dim': 6,\n",
    "    'hidden_dim': 128,\n",
    "    'output_dim': 60*2\n",
    "}"
   ]
  },
  {
   "cell_type": "code",
   "execution_count": 9,
   "id": "dd60e151",
   "metadata": {},
   "outputs": [],
   "source": [
    "def hyperparameter_search(\n",
    "    train_data: np.ndarray,\n",
    "    model_class,\n",
    "    model_kwargs: Dict = {},\n",
    "    search_params: Dict = None,\n",
    "    batch_size: int = 32,\n",
    "    val_ratio: float = 0.1,\n",
    "    scale: float = 7.0,\n",
    "    max_epochs: int = 30,\n",
    "    early_stopping_patience: int = 5,\n",
    "    device: torch.device = None,\n",
    "    results_dir: str = 'hyperparameter_search_results',\n",
    "    verbose: bool = True\n",
    "):\n",
    "    \"\"\"\n",
    "    Perform hyperparameter search for trajectory prediction model.\n",
    "    \n",
    "    Args:\n",
    "        train_data: Training data\n",
    "        model_class: Model class to instantiate\n",
    "        model_kwargs: Additional model parameters\n",
    "        search_params: Dictionary of parameters to search over\n",
    "        batch_size: Batch size for training\n",
    "        val_ratio: Proportion of data to use for validation\n",
    "        scale: Scale factor for normalization\n",
    "        max_epochs: Maximum number of epochs to train\n",
    "        early_stopping_patience: Number of epochs to wait before early stopping\n",
    "        device: Device to train on\n",
    "        results_dir: Directory to save results\n",
    "        verbose: Whether to print progress\n",
    "        \n",
    "    Returns:\n",
    "        results_df: DataFrame of results\n",
    "        best_params: Best parameters found\n",
    "    \"\"\"\n",
    "    if device is None:\n",
    "        if torch.backends.mps.is_available():\n",
    "            device = torch.device('mps')\n",
    "            print(\"Using Apple Silicon GPU\")\n",
    "        elif torch.cuda.is_available():\n",
    "            device = torch.device('cuda')\n",
    "            print(\"Using CUDA GPU\")\n",
    "        else:\n",
    "            device = torch.device('cpu')\n",
    "            print(\"Using CPU\")\n",
    "    \n",
    "    if search_params is None:\n",
    "        search_params = {\n",
    "            'learning_rate': [1e-2, 1e-3, 5e-4],\n",
    "            'weight_decay': [1e-4, 1e-5, 0.0],\n",
    "            'step_size': [10, 20, 30],\n",
    "            'gamma': [0.5, 0.25, 0.1]\n",
    "        }\n",
    "    \n",
    "    # Create directory for results\n",
    "    os.makedirs(results_dir, exist_ok=True)\n",
    "    \n",
    "    # Prepare the data\n",
    "    N = len(train_data)\n",
    "    val_size = int(val_ratio * N)\n",
    "    train_size = N - val_size\n",
    "    \n",
    "    # Create datasets\n",
    "    train_dataset = TrajectoryDatasetTrain(train_data[:train_size], scale=scale, augment=True)\n",
    "    val_dataset = TrajectoryDatasetTrain(train_data[train_size:], scale=scale, augment=False)\n",
    "    \n",
    "    # Create data loaders\n",
    "    train_dataloader = DataLoader(\n",
    "        train_dataset, \n",
    "        batch_size=batch_size, \n",
    "        shuffle=True, \n",
    "        collate_fn=lambda x: Batch.from_data_list(x)\n",
    "    )\n",
    "    \n",
    "    val_dataloader = DataLoader(\n",
    "        val_dataset, \n",
    "        batch_size=batch_size, \n",
    "        shuffle=False, \n",
    "        collate_fn=lambda x: Batch.from_data_list(x)\n",
    "    )\n",
    "    \n",
    "    # Generate parameter combinations\n",
    "    param_grid = list(ParameterGrid(search_params))\n",
    "    if verbose:\n",
    "        print(f\"Testing {len(param_grid)} parameter combinations\")\n",
    "    \n",
    "    # Initialize results tracking\n",
    "    results = []\n",
    "    \n",
    "    # Run hyperparameter search\n",
    "    for param_idx, params in enumerate(param_grid):\n",
    "        if verbose:\n",
    "            print(f\"\\nParameter set {param_idx+1}/{len(param_grid)}: {params}\")\n",
    "        \n",
    "        # Create model\n",
    "        model = model_class(**model_kwargs).to(device)\n",
    "        \n",
    "        # Setup optimizer and scheduler\n",
    "        optimizer = optim.Adam(\n",
    "            model.parameters(),\n",
    "            lr=params['learning_rate'],\n",
    "            weight_decay=params['weight_decay']\n",
    "        )\n",
    "        \n",
    "        scheduler = optim.lr_scheduler.StepLR(\n",
    "            optimizer,\n",
    "            step_size=params['step_size'],\n",
    "            gamma=params['gamma']\n",
    "        )\n",
    "        \n",
    "        # Track best validation loss\n",
    "        best_val_loss = float('inf')\n",
    "        no_improvement = 0\n",
    "        criterion = nn.MSELoss()\n",
    "        \n",
    "        # Track metrics\n",
    "        train_losses = []\n",
    "        val_losses = []\n",
    "        val_maes = []\n",
    "        val_mses = []\n",
    "        epoch_times = []\n",
    "        \n",
    "        # Training loop\n",
    "        for epoch in range(max_epochs):\n",
    "            start_time = time.time()\n",
    "            \n",
    "            # ---- Training ----\n",
    "            model.train()\n",
    "            train_loss = 0\n",
    "            for batch in train_dataloader:\n",
    "                batch = batch.to(device)\n",
    "                pred = model(batch)\n",
    "                y = batch.y.view(batch.num_graphs, 60, 2)\n",
    "                loss = criterion(pred, y)\n",
    "                \n",
    "                optimizer.zero_grad()\n",
    "                loss.backward()\n",
    "                torch.nn.utils.clip_grad_norm_(model.parameters(), 5.0)\n",
    "                optimizer.step()\n",
    "                \n",
    "                train_loss += loss.item()\n",
    "            \n",
    "            # ---- Validation ----\n",
    "            model.eval()\n",
    "            val_loss = 0\n",
    "            val_mae = 0\n",
    "            val_mse = 0\n",
    "            with torch.no_grad():\n",
    "                for batch in val_dataloader:\n",
    "                    batch = batch.to(device)\n",
    "                    pred = model(batch)\n",
    "                    y = batch.y.view(batch.num_graphs, 60, 2)\n",
    "                    val_loss += criterion(pred, y).item()\n",
    "                    \n",
    "                    # Unnormalize for metric calculation\n",
    "                    pred_unnorm = pred * batch.scale.view(-1, 1, 1) + batch.origin.unsqueeze(1)\n",
    "                    y_unnorm = y * batch.scale.view(-1, 1, 1) + batch.origin.unsqueeze(1)\n",
    "                    \n",
    "                    val_mae += nn.L1Loss()(pred_unnorm, y_unnorm).item()\n",
    "                    val_mse += nn.MSELoss()(pred_unnorm, y_unnorm).item()\n",
    "            \n",
    "            # Calculate average losses\n",
    "            train_loss /= len(train_dataloader)\n",
    "            val_loss /= len(val_dataloader)\n",
    "            val_mae /= len(val_dataloader)\n",
    "            val_mse /= len(val_dataloader)\n",
    "            \n",
    "            # Step scheduler\n",
    "            scheduler.step()\n",
    "            \n",
    "            # Track time\n",
    "            epoch_time = time.time() - start_time\n",
    "            epoch_times.append(epoch_time)\n",
    "            \n",
    "            # Track metrics\n",
    "            train_losses.append(train_loss)\n",
    "            val_losses.append(val_loss)\n",
    "            val_maes.append(val_mae)\n",
    "            val_mses.append(val_mse)\n",
    "            \n",
    "            if verbose:\n",
    "                print(f\"Epoch {epoch:03d} | LR {optimizer.param_groups[0]['lr']:.6f} | \"\n",
    "                      f\"Train MSE {train_loss:.4f} | Val MSE {val_loss:.4f} | \"\n",
    "                      f\"Val MAE {val_mae:.4f} | Val ADE {val_mae:.4f} | \"\n",
    "                      f\"Time {epoch_time:.2f}s\")\n",
    "            \n",
    "            # Check for improvement\n",
    "            if val_loss < best_val_loss - 1e-3:\n",
    "                best_val_loss = val_loss\n",
    "                no_improvement = 0\n",
    "            else:\n",
    "                no_improvement += 1\n",
    "                if no_improvement >= early_stopping_patience:\n",
    "                    if verbose:\n",
    "                        print(f\"Early stopping at epoch {epoch}\")\n",
    "                    break\n",
    "        \n",
    "        # Record results for this parameter set\n",
    "        avg_epoch_time = sum(epoch_times) / len(epoch_times)\n",
    "        best_epoch = val_losses.index(min(val_losses))\n",
    "        \n",
    "        param_results = {\n",
    "            **params,\n",
    "            'best_val_loss': min(val_losses),\n",
    "            'best_val_mae': val_maes[best_epoch],\n",
    "            'best_val_mse': val_mses[best_epoch],\n",
    "            'best_epoch': best_epoch,\n",
    "            'epoch_time_seconds': avg_epoch_time,\n",
    "            'total_epochs': len(train_losses)\n",
    "        }\n",
    "        \n",
    "        results.append(param_results)\n",
    "        \n",
    "        # Create and save training curve plot\n",
    "        plt.figure(figsize=(12, 8))\n",
    "        \n",
    "        plt.subplot(2, 2, 1)\n",
    "        plt.plot(train_losses, label='Train Loss')\n",
    "        plt.plot(val_losses, label='Val Loss')\n",
    "        plt.xlabel('Epoch')\n",
    "        plt.ylabel('MSE Loss')\n",
    "        plt.title('Training Curves')\n",
    "        plt.legend()\n",
    "        \n",
    "        plt.subplot(2, 2, 2)\n",
    "        plt.plot(val_maes, label='MAE (meters)')\n",
    "        plt.xlabel('Epoch')\n",
    "        plt.ylabel('MAE')\n",
    "        plt.title('Validation MAE')\n",
    "        \n",
    "        plt.subplot(2, 2, 3)\n",
    "        lr_values = [optimizer.param_groups[0]['lr'] * (params['gamma'] ** (i // params['step_size'])) \n",
    "                     for i in range(len(train_losses))]\n",
    "        plt.plot(lr_values)\n",
    "        plt.xlabel('Epoch')\n",
    "        plt.ylabel('Learning Rate')\n",
    "        plt.title('Learning Rate Schedule')\n",
    "        \n",
    "        plt.subplot(2, 2, 4)\n",
    "        plt.bar(['Learning Rate', 'Weight Decay', 'Step Size', 'Gamma'], \n",
    "                [params['learning_rate'], params['weight_decay'], params['step_size'], params['gamma']])\n",
    "        plt.title('Hyperparameters')\n",
    "        plt.yscale('log')\n",
    "        \n",
    "        plt.tight_layout()\n",
    "        plt.savefig(f\"{results_dir}/params_{param_idx+1}_plot.png\")\n",
    "        plt.close()\n",
    "        \n",
    "    # Convert results to DataFrame\n",
    "    results_df = pd.DataFrame(results)\n",
    "    \n",
    "    # Sort by validation MAE\n",
    "    results_df = results_df.sort_values('best_val_mae')\n",
    "    \n",
    "    # Save results\n",
    "    results_df.to_csv(f\"{results_dir}/hyperparameter_search_results.csv\", index=False)\n",
    "    \n",
    "    # Get best parameters\n",
    "    best_params = results_df.iloc[0].to_dict()\n",
    "    \n",
    "    # Plot comparative results\n",
    "    plt.figure(figsize=(15, 10))\n",
    "    \n",
    "    param_labels = [f\"lr={p['learning_rate']:.0e}, wd={p['weight_decay']:.0e}, ss={p['step_size']}, γ={p['gamma']}\" \n",
    "                   for _, p in results_df.iloc[:10].iterrows()]\n",
    "    \n",
    "    plt.subplot(2, 2, 1)\n",
    "    plt.barh(param_labels, results_df['best_val_mae'].iloc[:10])\n",
    "    plt.xlabel('MAE (meters)')\n",
    "    plt.title('Top 10 Parameter Sets by MAE')\n",
    "    \n",
    "    plt.subplot(2, 2, 2)\n",
    "    plt.barh(param_labels, results_df['best_val_mse'].iloc[:10])\n",
    "    plt.xlabel('MSE (square meters)')\n",
    "    plt.title('MSE for Top 10 Parameter Sets')\n",
    "    \n",
    "    plt.subplot(2, 2, 3)\n",
    "    plt.barh(param_labels, results_df['epoch_time_seconds'].iloc[:10])\n",
    "    plt.xlabel('Average Epoch Time (seconds)')\n",
    "    plt.title('Training Time for Top 10 Parameter Sets')\n",
    "    \n",
    "    plt.subplot(2, 2, 4)\n",
    "    plt.barh(param_labels, results_df['best_epoch'].iloc[:10])\n",
    "    plt.xlabel('Best Epoch')\n",
    "    plt.title('Convergence Speed for Top 10 Parameter Sets')\n",
    "    \n",
    "    plt.tight_layout()\n",
    "    plt.savefig(f\"{results_dir}/comparative_results.png\")\n",
    "    plt.close()\n",
    "    \n",
    "    if verbose:\n",
    "        print(\"\\nHyperparameter search complete!\")\n",
    "        print(f\"Best parameters: {best_params}\")\n",
    "    \n",
    "    return results_df, best_params\n"
   ]
  },
  {
   "cell_type": "code",
   "execution_count": 10,
   "id": "541c2890",
   "metadata": {},
   "outputs": [],
   "source": [
    "def visualize_hyperparameter_effects(results_df: pd.DataFrame, save_path: str = None):\n",
    "    \"\"\"\n",
    "    Visualize the effects of different hyperparameters on model performance.\n",
    "    \n",
    "    Args:\n",
    "        results_df: DataFrame of hyperparameter search results\n",
    "        save_path: Path to save the visualization\n",
    "    \"\"\"\n",
    "    plt.figure(figsize=(16, 12))\n",
    "    \n",
    "    # Effect of learning rate\n",
    "    plt.subplot(2, 2, 1)\n",
    "    lr_groups = results_df.groupby('learning_rate')['best_val_mae'].mean().reset_index()\n",
    "    plt.bar(lr_groups['learning_rate'].astype(str), lr_groups['best_val_mae'])\n",
    "    plt.xlabel('Learning Rate')\n",
    "    plt.ylabel('Average MAE (meters)')\n",
    "    plt.title('Effect of Learning Rate on MAE')\n",
    "    \n",
    "    # Effect of weight decay\n",
    "    plt.subplot(2, 2, 2)\n",
    "    wd_groups = results_df.groupby('weight_decay')['best_val_mae'].mean().reset_index()\n",
    "    plt.bar(wd_groups['weight_decay'].astype(str), wd_groups['best_val_mae'])\n",
    "    plt.xlabel('Weight Decay')\n",
    "    plt.ylabel('Average MAE (meters)')\n",
    "    plt.title('Effect of Weight Decay on MAE')\n",
    "    \n",
    "    # Effect of step size\n",
    "    plt.subplot(2, 2, 3)\n",
    "    ss_groups = results_df.groupby('step_size')['best_val_mae'].mean().reset_index()\n",
    "    plt.bar(ss_groups['step_size'].astype(str), ss_groups['best_val_mae'])\n",
    "    plt.xlabel('Step Size')\n",
    "    plt.ylabel('Average MAE (meters)')\n",
    "    plt.title('Effect of Step Size on MAE')\n",
    "    \n",
    "    # Effect of gamma\n",
    "    plt.subplot(2, 2, 4)\n",
    "    gamma_groups = results_df.groupby('gamma')['best_val_mae'].mean().reset_index()\n",
    "    plt.bar(gamma_groups['gamma'].astype(str), gamma_groups['best_val_mae'])\n",
    "    plt.xlabel('Gamma')\n",
    "    plt.ylabel('Average MAE (meters)')\n",
    "    plt.title('Effect of Gamma on MAE')\n",
    "    \n",
    "    plt.tight_layout()\n",
    "    \n",
    "    if save_path is not None:\n",
    "        plt.savefig(save_path)\n",
    "    \n",
    "    plt.show()\n"
   ]
  },
  {
   "cell_type": "code",
   "execution_count": 11,
   "id": "64d967ca",
   "metadata": {},
   "outputs": [],
   "source": [
    "def run_best_model_training(\n",
    "    train_data: np.ndarray,\n",
    "    model_class,\n",
    "    model_kwargs: Dict = {},\n",
    "    best_params: Dict = None,\n",
    "    batch_size: int = 32,\n",
    "    val_ratio: float = 0.1,\n",
    "    scale: float = 7.0,\n",
    "    max_epochs: int = 100,\n",
    "    early_stopping_patience: int = 10,\n",
    "    device: torch.device = None,\n",
    "    save_model_path: str = 'best_model.pt',\n",
    "    verbose: bool = True\n",
    "):\n",
    "    \"\"\"\n",
    "    Train a model with the best hyperparameters.\n",
    "    \n",
    "    Args:\n",
    "        train_data: Training data\n",
    "        model_class: Model class to instantiate\n",
    "        model_kwargs: Additional model parameters\n",
    "        best_params: Best hyperparameters from search\n",
    "        batch_size: Batch size for training\n",
    "        val_ratio: Proportion of data to use for validation\n",
    "        scale: Scale factor for normalization\n",
    "        max_epochs: Maximum number of epochs to train\n",
    "        early_stopping_patience: Number of epochs to wait before early stopping\n",
    "        device: Device to train on\n",
    "        save_model_path: Path to save the best model\n",
    "        verbose: Whether to print progress\n",
    "        \n",
    "    Returns:\n",
    "        trained_model: Trained model\n",
    "        history: Training history\n",
    "    \"\"\"\n",
    "    if device is None:\n",
    "        if torch.backends.mps.is_available():\n",
    "            device = torch.device('mps')\n",
    "            print(\"Using Apple Silicon GPU\")\n",
    "        elif torch.cuda.is_available():\n",
    "            device = torch.device('cuda')\n",
    "            print(\"Using CUDA GPU\")\n",
    "        else:\n",
    "            device = torch.device('cpu')\n",
    "            print(\"Using CPU\")\n",
    "    \n",
    "    if best_params is None:\n",
    "        best_params = {\n",
    "            'learning_rate': 1e-3,\n",
    "            'weight_decay': 1e-4,\n",
    "            'step_size': 20,\n",
    "            'gamma': 0.25\n",
    "        }\n",
    "    \n",
    "    # Prepare the data\n",
    "    N = len(train_data)\n",
    "    val_size = int(val_ratio * N)\n",
    "    train_size = N - val_size\n",
    "    \n",
    "    # Create datasets\n",
    "    train_dataset = TrajectoryDatasetTrain(train_data[:train_size], scale=scale, augment=True)\n",
    "    val_dataset = TrajectoryDatasetTrain(train_data[train_size:], scale=scale, augment=False)\n",
    "    \n",
    "    # Create data loaders\n",
    "    train_dataloader = DataLoader(\n",
    "        train_dataset, \n",
    "        batch_size=batch_size, \n",
    "        shuffle=True, \n",
    "        collate_fn=lambda x: Batch.from_data_list(x)\n",
    "    )\n",
    "    \n",
    "    val_dataloader = DataLoader(\n",
    "        val_dataset, \n",
    "        batch_size=batch_size, \n",
    "        shuffle=False, \n",
    "        collate_fn=lambda x: Batch.from_data_list(x)\n",
    "    )\n",
    "    \n",
    "    # Create model\n",
    "    model = model_class(**model_kwargs).to(device)\n",
    "    \n",
    "    # Setup optimizer and scheduler\n",
    "    optimizer = optim.Adam(\n",
    "        model.parameters(),\n",
    "        lr=best_params['learning_rate'],\n",
    "        weight_decay=best_params['weight_decay']\n",
    "    )\n",
    "    \n",
    "    scheduler = optim.lr_scheduler.StepLR(\n",
    "        optimizer,\n",
    "        step_size=best_params['step_size'],\n",
    "        gamma=best_params['gamma']\n",
    "    )\n",
    "    \n",
    "    # Track best validation loss\n",
    "    best_val_loss = float('inf')\n",
    "    no_improvement = 0\n",
    "    criterion = nn.MSELoss()\n",
    "    \n",
    "    # Track metrics\n",
    "    history = {\n",
    "        'train_loss': [],\n",
    "        'val_loss': [],\n",
    "        'val_mae': [],\n",
    "        'val_mse': [],\n",
    "        'learning_rate': []\n",
    "    }\n",
    "    \n",
    "    # Training loop\n",
    "    start_time = time.time()\n",
    "    for epoch in tqdm(range(max_epochs), desc=\"Training with best parameters\"):\n",
    "        epoch_start = time.time()\n",
    "        \n",
    "        # ---- Training ----\n",
    "        model.train()\n",
    "        train_loss = 0\n",
    "        for batch in train_dataloader:\n",
    "            batch = batch.to(device)\n",
    "            pred = model(batch)\n",
    "            y = batch.y.view(batch.num_graphs, 60, 2)\n",
    "            loss = criterion(pred, y)\n",
    "            \n",
    "            optimizer.zero_grad()\n",
    "            loss.backward()\n",
    "            torch.nn.utils.clip_grad_norm_(model.parameters(), 5.0)\n",
    "            optimizer.step()\n",
    "            \n",
    "            train_loss += loss.item()\n",
    "        \n",
    "        # ---- Validation ----\n",
    "        model.eval()\n",
    "        val_loss = 0\n",
    "        val_mae = 0\n",
    "        val_mse = 0\n",
    "        with torch.no_grad():\n",
    "            for batch in val_dataloader:\n",
    "                batch = batch.to(device)\n",
    "                pred = model(batch)\n",
    "                y = batch.y.view(batch.num_graphs, 60, 2)\n",
    "                val_loss += criterion(pred, y).item()\n",
    "                \n",
    "                # Unnormalize for metric calculation\n",
    "                pred_unnorm = pred * batch.scale.view(-1, 1, 1) + batch.origin.unsqueeze(1)\n",
    "                y_unnorm = y * batch.scale.view(-1, 1, 1) + batch.origin.unsqueeze(1)\n",
    "                \n",
    "                val_mae += nn.L1Loss()(pred_unnorm, y_unnorm).item()\n",
    "                val_mse += nn.MSELoss()(pred_unnorm, y_unnorm).item()\n",
    "        \n",
    "        # Calculate average losses\n",
    "        train_loss /= len(train_dataloader)\n",
    "        val_loss /= len(val_dataloader)\n",
    "        val_mae /= len(val_dataloader)\n",
    "        val_mse /= len(val_dataloader)\n",
    "        \n",
    "        # Step scheduler\n",
    "        current_lr = optimizer.param_groups[0]['lr']\n",
    "        scheduler.step()\n",
    "        \n",
    "        # Track metrics\n",
    "        history['train_loss'].append(train_loss)\n",
    "        history['val_loss'].append(val_loss)\n",
    "        history['val_mae'].append(val_mae)\n",
    "        history['val_mse'].append(val_mse)\n",
    "        history['learning_rate'].append(current_lr)\n",
    "        \n",
    "        epoch_time = time.time() - epoch_start\n",
    "        \n",
    "        if verbose:\n",
    "            print(f\"Epoch {epoch:03d} | LR {current_lr:.6f} | \"\n",
    "                  f\"Train MSE {train_loss:.4f} | Val MSE {val_loss:.4f} | \"\n",
    "                  f\"Val MAE {val_mae:.4f} | Val MSE {val_mse:.4f} | \"\n",
    "                  f\"Time {epoch_time:.2f}s\")\n",
    "        \n",
    "        # Check for improvement\n",
    "        if val_loss < best_val_loss - 1e-3:\n",
    "            best_val_loss = val_loss\n",
    "            no_improvement = 0\n",
    "            # Save best model\n",
    "            torch.save(model.state_dict(), save_model_path)\n",
    "        else:\n",
    "            no_improvement += 1\n",
    "            if no_improvement >= early_stopping_patience:\n",
    "                if verbose:\n",
    "                    print(f\"Early stopping at epoch {epoch}\")\n",
    "                break\n",
    "    \n",
    "    total_time = time.time() - start_time\n",
    "    if verbose:\n",
    "        print(f\"Training completed in {total_time:.2f} seconds\")\n",
    "        print(f\"Best validation loss: {best_val_loss:.4f}\")\n",
    "    \n",
    "    # Load best model\n",
    "    model.load_state_dict(torch.load(save_model_path))\n",
    "    \n",
    "    # Create and save training curve plot\n",
    "    plt.figure(figsize=(15, 10))\n",
    "    \n",
    "    plt.subplot(2, 2, 1)\n",
    "    plt.plot(history['train_loss'], label='Train Loss')\n",
    "    plt.plot(history['val_loss'], label='Val Loss')\n",
    "    plt.xlabel('Epoch')\n",
    "    plt.ylabel('MSE Loss')\n",
    "    plt.title('Training Curves')\n",
    "    plt.legend()\n",
    "    \n",
    "    plt.subplot(2, 2, 2)\n",
    "    plt.plot(history['val_mae'], label='MAE (meters)')\n",
    "    plt.xlabel('Epoch')\n",
    "    plt.ylabel('MAE')\n",
    "    plt.title('Validation MAE')\n",
    "    \n",
    "    plt.subplot(2, 2, 3)\n",
    "    plt.plot(history['learning_rate'])\n",
    "    plt.xlabel('Epoch')\n",
    "    plt.ylabel('Learning Rate')\n",
    "    plt.title('Learning Rate Schedule')\n",
    "    \n",
    "    plt.subplot(2, 2, 4)\n",
    "    plt.plot(history['val_mse'], label='MSE (square meters)')\n",
    "    plt.xlabel('Epoch')\n",
    "    plt.ylabel('MSE')\n",
    "    plt.title('Validation MSE')\n",
    "    \n",
    "    plt.tight_layout()\n",
    "    plt.savefig(\"best_model_training_curves.png\")\n",
    "    \n",
    "    return model, history\n"
   ]
  },
  {
   "cell_type": "code",
   "execution_count": 12,
   "id": "5e93ae92",
   "metadata": {},
   "outputs": [],
   "source": [
    "class LSTM(nn.Module):\n",
    "    def __init__(self, input_dim=6, hidden_dim=128, output_dim=60 * 2):\n",
    "        super(LSTM, self).__init__()\n",
    "        self.lstm = nn.LSTM(input_dim, hidden_dim, batch_first=True)\n",
    "        self.fc = nn.Linear(hidden_dim, output_dim)\n",
    "\n",
    "    def forward(self, data):\n",
    "        x = data.x\n",
    "        x= x.reshape(-1, 50, 50, 6)  # (batch_size, num_agents, seq_len, input_dim)\n",
    "        x = x[:, 0, :, :] # Only Consider ego agent index 0\n",
    "\n",
    "        lstm_out, _ = self.lstm(x)\n",
    "        # lstm_out is of shape (batch_size, seq_len, hidden_dim) and we want the last time step output\n",
    "        out = self.fc(lstm_out[:, -1, :])\n",
    "        return out.view(-1, 60, 2)"
   ]
  },
  {
   "cell_type": "code",
   "execution_count": null,
   "id": "8c85b5a2",
   "metadata": {},
   "outputs": [],
   "source": [
    "# took 2-3 hours to run on original notebook, so skipping running here\n",
    "# results loaded in markdown cell below as well as in the listed files \n",
    "# run hyperparameter search\n",
    "print(\"Starting hyperparameter search...\")\n",
    "results_df, best_params = hyperparameter_search(\n",
    "    train_data=train_data,\n",
    "    model_class=LSTM,\n",
    "    model_kwargs=model_kwargs,\n",
    "    search_params=search_params,\n",
    "    batch_size=32,\n",
    "    max_epochs=50,\n",
    "    results_dir='lstm_hyperparameter_search'\n",
    ")\n",
    "\n",
    "# visualize hyperparameter effects\n",
    "print(\"Visualizing hyperparameter effects...\")\n",
    "visualize_hyperparameter_effects(\n",
    "    results_df=results_df,\n",
    "    save_path='lstm_hyperparameter_effects.png'\n",
    ")\n",
    "\n",
    "# train best model\n",
    "print(\"Training final model with best hyperparameters...\")\n",
    "best_model, history = run_best_model_training(\n",
    "    train_data=train_data,\n",
    "    model_class=LSTM,\n",
    "    model_kwargs=model_kwargs,\n",
    "    best_params=best_params,\n",
    "    max_epochs=100,\n",
    "    save_model_path='lstm_best_model.pt'\n",
    ")\n",
    "\n",
    "print(\"Done!\")"
   ]
  },
  {
   "cell_type": "markdown",
   "id": "24e2bb87",
   "metadata": {},
   "source": [
    "Best parameters: {'gamma': 0.5, 'learning_rate': 0.005, 'step_size': 10.0, 'weight_decay': 0.0, 'best_val_loss': 0.1667313063517213, 'best_val_mae': 1.339437248185277, 'best_val_mse': 8.169826827943325, 'best_epoch': 37.0, 'epoch_time_seconds': 4.156487265298533, 'total_epochs': 43.0}\n",
    "\n",
    "Although, best parameters are not the same as those that yield on average the lowest MAE - just something to keep in mind.\n",
    "\n",
    "All additional output files are found in `/question_2_files` directory.\n",
    "- Hyperparameter effects on MAE loaded in `lystm_hyperparameter_effects.png`\n",
    "- Model with the best parameters loaded in `lstm_best_model.pt`\n",
    "- Training curves for model with best parameters loaded in `best_model_training_curves.png`\n",
    "- Output of each hyperparameter combination loaded in `hyperparameter_search_results.csv`\n"
   ]
  },
  {
   "cell_type": "markdown",
   "id": "2ab1c09e",
   "metadata": {},
   "source": [
    "### Problem 2B - Deciding which model we should use to make predictions"
   ]
  },
  {
   "cell_type": "code",
   "execution_count": 14,
   "id": "efe58379",
   "metadata": {},
   "outputs": [],
   "source": [
    "class LinearRegressionModel(nn.Module):\n",
    "    def __init__(self, input_dim=50 * 50 * 2, output_dim=60 * 2):\n",
    "        super(LinearRegressionModel, self).__init__()\n",
    "        self.linear = nn.Linear(input_dim, output_dim)\n",
    "\n",
    "    def forward(self, data):\n",
    "        x = data.x[..., :2] # (batch*50, 50, 2)\n",
    "        x = x.reshape(-1, 50 * 50 * 2) # (batch, 5000)\n",
    "        x = self.linear(x)\n",
    "        return x.view(-1, 60, 2)"
   ]
  },
  {
   "cell_type": "code",
   "execution_count": 18,
   "id": "f523aeaa",
   "metadata": {},
   "outputs": [],
   "source": [
    "def run_model_with_adam(model, optimizer, scheduler):\n",
    "    early_stopping_patience = 10\n",
    "    best_val_loss = float('inf')\n",
    "    no_improvement = 0\n",
    "    criterion = nn.MSELoss()\n",
    "    \n",
    "    for epoch in tqdm.tqdm(range(50), desc=\"Epoch\", unit=\"epoch\"):\n",
    "        # ---- Training ----\n",
    "        model.train()\n",
    "        train_loss = 0\n",
    "        for batch in train_dataloader:\n",
    "            batch = batch.to(device)\n",
    "            pred = model(batch)\n",
    "            y = batch.y.view(batch.num_graphs, 60, 2)\n",
    "            loss = criterion(pred, y)\n",
    "            optimizer.zero_grad()\n",
    "            loss.backward()\n",
    "            torch.nn.utils.clip_grad_norm_(model.parameters(), 5.0)\n",
    "            optimizer.step()\n",
    "            train_loss += loss.item()\n",
    "        \n",
    "        # ---- Validation ----\n",
    "        model.eval()\n",
    "        val_loss = 0\n",
    "        val_mae = 0\n",
    "        val_mse = 0\n",
    "        with torch.no_grad():\n",
    "            for batch in val_dataloader:\n",
    "                batch = batch.to(device)\n",
    "                pred = model(batch)\n",
    "                y = batch.y.view(batch.num_graphs, 60, 2)\n",
    "                val_loss += criterion(pred, y).item()\n",
    "\n",
    "                # show MAE and MSE with unnormalized data\n",
    "                pred = pred * batch.scale.view(-1, 1, 1) + batch.origin.unsqueeze(1)\n",
    "                y = y * batch.scale.view(-1, 1, 1) + batch.origin.unsqueeze(1)\n",
    "                val_mae += nn.L1Loss()(pred, y).item()\n",
    "                val_mse += nn.MSELoss()(pred, y).item()\n",
    "        \n",
    "        train_loss /= len(train_dataloader)\n",
    "        val_loss /= len(val_dataloader)\n",
    "        val_mae /= len(val_dataloader)\n",
    "        val_mse /= len(val_dataloader)\n",
    "        scheduler.step()\n",
    "        # scheduler.step(val_loss)\n",
    "        \n",
    "        tqdm.tqdm.write(f\"Epoch {epoch:03d} | Learning rate {optimizer.param_groups[0]['lr']:.6f} | train normalized MSE {train_loss:8.4f} | val normalized MSE {val_loss:8.4f}, | val MAE {val_mae:8.4f} | val MSE {val_mse:8.4f}\")\n",
    "        if val_loss < best_val_loss - 1e-3:\n",
    "            best_val_loss = val_loss\n",
    "            no_improvement = 0\n",
    "            torch.save(model.state_dict(), \"best_model.pt\")\n",
    "        else:\n",
    "            no_improvement += 1\n",
    "            if no_improvement >= early_stopping_patience:\n",
    "                print(\"Early stop!\")\n",
    "                break"
   ]
  },
  {
   "cell_type": "code",
   "execution_count": 20,
   "id": "2fb0aa35",
   "metadata": {},
   "outputs": [
    {
     "name": "stderr",
     "output_type": "stream",
     "text": [
      "Epoch:   0%|          | 0/50 [00:00<?, ?epoch/s]/var/folders/k0/0k4d4ymn0d7_g9v6fws_l0j80000gn/T/ipykernel_257/1780213679.py:59: DeprecationWarning: __array_wrap__ must accept context and return_scalar arguments (positionally) in the future. (Deprecated NumPy 2.0)\n",
      "  future = future @ R\n",
      "/var/folders/k0/0k4d4ymn0d7_g9v6fws_l0j80000gn/T/ipykernel_257/1780213679.py:68: DeprecationWarning: __array_wrap__ must accept context and return_scalar arguments (positionally) in the future. (Deprecated NumPy 2.0)\n",
      "  future = future - origin\n",
      "Epoch:   2%|▏         | 1/50 [00:03<03:13,  3.95s/epoch]"
     ]
    },
    {
     "name": "stdout",
     "output_type": "stream",
     "text": [
      "Epoch 000 | Learning rate 0.005000 | train normalized MSE 872151.6035 | val normalized MSE 501180.2974, | val MAE 2790.7326 | val MSE 24557834.4062\n"
     ]
    },
    {
     "name": "stderr",
     "output_type": "stream",
     "text": [
      "Epoch:   4%|▍         | 2/50 [00:06<02:42,  3.38s/epoch]"
     ]
    },
    {
     "name": "stdout",
     "output_type": "stream",
     "text": [
      "Epoch 001 | Learning rate 0.005000 | train normalized MSE 532459.7002 | val normalized MSE 622617.3989, | val MAE 3102.9715 | val MSE 30508252.2188\n"
     ]
    },
    {
     "name": "stderr",
     "output_type": "stream",
     "text": [
      "Epoch:   6%|▌         | 3/50 [00:10<02:33,  3.27s/epoch]"
     ]
    },
    {
     "name": "stdout",
     "output_type": "stream",
     "text": [
      "Epoch 002 | Learning rate 0.005000 | train normalized MSE 517074.2379 | val normalized MSE 575209.7065, | val MAE 2973.5589 | val MSE 28185276.2812\n"
     ]
    },
    {
     "name": "stderr",
     "output_type": "stream",
     "text": [
      "Epoch:   8%|▊         | 4/50 [00:13<02:28,  3.22s/epoch]"
     ]
    },
    {
     "name": "stdout",
     "output_type": "stream",
     "text": [
      "Epoch 003 | Learning rate 0.005000 | train normalized MSE 502019.5635 | val normalized MSE 575427.1555, | val MAE 2939.7223 | val MSE 28195930.3906\n"
     ]
    },
    {
     "name": "stderr",
     "output_type": "stream",
     "text": [
      "Epoch:  10%|█         | 5/50 [00:16<02:21,  3.15s/epoch]"
     ]
    },
    {
     "name": "stdout",
     "output_type": "stream",
     "text": [
      "Epoch 004 | Learning rate 0.005000 | train normalized MSE 561039.4572 | val normalized MSE 249077.3333, | val MAE 2101.9020 | val MSE 12204788.9062\n"
     ]
    },
    {
     "name": "stderr",
     "output_type": "stream",
     "text": [
      "Epoch:  12%|█▏        | 6/50 [00:19<02:20,  3.19s/epoch]"
     ]
    },
    {
     "name": "stdout",
     "output_type": "stream",
     "text": [
      "Epoch 005 | Learning rate 0.005000 | train normalized MSE 462470.3681 | val normalized MSE 557208.3867, | val MAE 2997.2091 | val MSE 27303211.0625\n"
     ]
    },
    {
     "name": "stderr",
     "output_type": "stream",
     "text": [
      "Epoch:  14%|█▍        | 7/50 [00:22<02:20,  3.26s/epoch]"
     ]
    },
    {
     "name": "stdout",
     "output_type": "stream",
     "text": [
      "Epoch 006 | Learning rate 0.005000 | train normalized MSE 457640.1743 | val normalized MSE 547150.2930, | val MAE 3296.1719 | val MSE 26810364.1562\n"
     ]
    },
    {
     "name": "stderr",
     "output_type": "stream",
     "text": [
      "Epoch:  16%|█▌        | 8/50 [00:26<02:15,  3.22s/epoch]"
     ]
    },
    {
     "name": "stdout",
     "output_type": "stream",
     "text": [
      "Epoch 007 | Learning rate 0.005000 | train normalized MSE 539183.4640 | val normalized MSE 588926.9092, | val MAE 3142.2813 | val MSE 28857418.9375\n"
     ]
    },
    {
     "name": "stderr",
     "output_type": "stream",
     "text": [
      "Epoch:  18%|█▊        | 9/50 [00:29<02:09,  3.15s/epoch]"
     ]
    },
    {
     "name": "stdout",
     "output_type": "stream",
     "text": [
      "Epoch 008 | Learning rate 0.005000 | train normalized MSE 607500.1388 | val normalized MSE 965869.8281, | val MAE 3855.4744 | val MSE 47327622.4375\n"
     ]
    },
    {
     "name": "stderr",
     "output_type": "stream",
     "text": [
      "Epoch:  20%|██        | 10/50 [00:32<02:07,  3.20s/epoch]"
     ]
    },
    {
     "name": "stdout",
     "output_type": "stream",
     "text": [
      "Epoch 009 | Learning rate 0.002500 | train normalized MSE 519629.8412 | val normalized MSE 439051.5698, | val MAE 2530.0212 | val MSE 21513526.9062\n"
     ]
    },
    {
     "name": "stderr",
     "output_type": "stream",
     "text": [
      "Epoch:  22%|██▏       | 11/50 [00:35<02:05,  3.21s/epoch]"
     ]
    },
    {
     "name": "stdout",
     "output_type": "stream",
     "text": [
      "Epoch 010 | Learning rate 0.002500 | train normalized MSE 188078.8295 | val normalized MSE 76766.2495, | val MAE 1224.3653 | val MSE 3761546.2539\n"
     ]
    },
    {
     "name": "stderr",
     "output_type": "stream",
     "text": [
      "Epoch:  24%|██▍       | 12/50 [00:38<02:02,  3.21s/epoch]"
     ]
    },
    {
     "name": "stdout",
     "output_type": "stream",
     "text": [
      "Epoch 011 | Learning rate 0.002500 | train normalized MSE 137313.9342 | val normalized MSE 124978.3351, | val MAE 1487.6870 | val MSE 6123938.3125\n"
     ]
    },
    {
     "name": "stderr",
     "output_type": "stream",
     "text": [
      "Epoch:  26%|██▌       | 13/50 [00:41<01:58,  3.20s/epoch]"
     ]
    },
    {
     "name": "stdout",
     "output_type": "stream",
     "text": [
      "Epoch 012 | Learning rate 0.002500 | train normalized MSE 137252.6397 | val normalized MSE 167827.0641, | val MAE 1675.4626 | val MSE 8223526.1094\n"
     ]
    },
    {
     "name": "stderr",
     "output_type": "stream",
     "text": [
      "Epoch:  28%|██▊       | 14/50 [00:44<01:53,  3.14s/epoch]"
     ]
    },
    {
     "name": "stdout",
     "output_type": "stream",
     "text": [
      "Epoch 013 | Learning rate 0.002500 | train normalized MSE 162514.1235 | val normalized MSE 76100.1370, | val MAE 1196.5497 | val MSE 3728906.6797\n"
     ]
    },
    {
     "name": "stderr",
     "output_type": "stream",
     "text": [
      "Epoch:  30%|███       | 15/50 [00:47<01:47,  3.09s/epoch]"
     ]
    },
    {
     "name": "stdout",
     "output_type": "stream",
     "text": [
      "Epoch 014 | Learning rate 0.002500 | train normalized MSE 122159.8023 | val normalized MSE 202453.8706, | val MAE 1789.6585 | val MSE 9920239.6172\n"
     ]
    },
    {
     "name": "stderr",
     "output_type": "stream",
     "text": [
      "Epoch:  32%|███▏      | 16/50 [00:51<01:44,  3.09s/epoch]"
     ]
    },
    {
     "name": "stdout",
     "output_type": "stream",
     "text": [
      "Epoch 015 | Learning rate 0.002500 | train normalized MSE 142035.3397 | val normalized MSE 163516.7207, | val MAE 1697.2523 | val MSE 8012319.3516\n"
     ]
    },
    {
     "name": "stderr",
     "output_type": "stream",
     "text": [
      "Epoch:  34%|███▍      | 17/50 [00:54<01:45,  3.19s/epoch]"
     ]
    },
    {
     "name": "stdout",
     "output_type": "stream",
     "text": [
      "Epoch 016 | Learning rate 0.002500 | train normalized MSE 131829.7372 | val normalized MSE 118021.9673, | val MAE 1536.0177 | val MSE 5783076.5547\n"
     ]
    },
    {
     "name": "stderr",
     "output_type": "stream",
     "text": [
      "Epoch:  36%|███▌      | 18/50 [00:57<01:40,  3.16s/epoch]"
     ]
    },
    {
     "name": "stdout",
     "output_type": "stream",
     "text": [
      "Epoch 017 | Learning rate 0.002500 | train normalized MSE 116732.8641 | val normalized MSE 85660.5085, | val MAE 1225.2630 | val MSE 4197364.9375\n"
     ]
    },
    {
     "name": "stderr",
     "output_type": "stream",
     "text": [
      "Epoch:  38%|███▊      | 19/50 [01:00<01:37,  3.14s/epoch]"
     ]
    },
    {
     "name": "stdout",
     "output_type": "stream",
     "text": [
      "Epoch 018 | Learning rate 0.002500 | train normalized MSE 148908.7279 | val normalized MSE 94117.8333, | val MAE 1230.1388 | val MSE 4611773.8008\n"
     ]
    },
    {
     "name": "stderr",
     "output_type": "stream",
     "text": [
      "Epoch:  40%|████      | 20/50 [01:03<01:36,  3.20s/epoch]"
     ]
    },
    {
     "name": "stdout",
     "output_type": "stream",
     "text": [
      "Epoch 019 | Learning rate 0.001250 | train normalized MSE 119562.3462 | val normalized MSE 135442.8687, | val MAE 1399.0751 | val MSE 6636700.5430\n"
     ]
    },
    {
     "name": "stderr",
     "output_type": "stream",
     "text": [
      "Epoch:  42%|████▏     | 21/50 [01:07<01:39,  3.42s/epoch]"
     ]
    },
    {
     "name": "stdout",
     "output_type": "stream",
     "text": [
      "Epoch 020 | Learning rate 0.001250 | train normalized MSE 50436.6120 | val normalized MSE 38982.1766, | val MAE 836.1175 | val MSE 1910126.6816\n"
     ]
    },
    {
     "name": "stderr",
     "output_type": "stream",
     "text": [
      "Epoch:  44%|████▍     | 22/50 [01:11<01:36,  3.45s/epoch]"
     ]
    },
    {
     "name": "stdout",
     "output_type": "stream",
     "text": [
      "Epoch 021 | Learning rate 0.001250 | train normalized MSE 41441.9490 | val normalized MSE 35504.0084, | val MAE 796.5497 | val MSE 1739696.4141\n"
     ]
    },
    {
     "name": "stderr",
     "output_type": "stream",
     "text": [
      "Epoch:  46%|████▌     | 23/50 [01:15<01:35,  3.55s/epoch]"
     ]
    },
    {
     "name": "stdout",
     "output_type": "stream",
     "text": [
      "Epoch 022 | Learning rate 0.001250 | train normalized MSE 45805.1977 | val normalized MSE 24635.2404, | val MAE 638.8877 | val MSE 1207126.7832\n"
     ]
    },
    {
     "name": "stderr",
     "output_type": "stream",
     "text": [
      "Epoch:  48%|████▊     | 24/50 [01:18<01:31,  3.52s/epoch]"
     ]
    },
    {
     "name": "stdout",
     "output_type": "stream",
     "text": [
      "Epoch 023 | Learning rate 0.001250 | train normalized MSE 38877.5559 | val normalized MSE 28059.5773, | val MAE 747.3991 | val MSE 1374919.2754\n"
     ]
    },
    {
     "name": "stderr",
     "output_type": "stream",
     "text": [
      "Epoch:  50%|█████     | 25/50 [01:21<01:25,  3.42s/epoch]"
     ]
    },
    {
     "name": "stdout",
     "output_type": "stream",
     "text": [
      "Epoch 024 | Learning rate 0.001250 | train normalized MSE 39208.0954 | val normalized MSE 22332.5503, | val MAE 632.6210 | val MSE 1094294.9551\n"
     ]
    },
    {
     "name": "stderr",
     "output_type": "stream",
     "text": [
      "Epoch:  52%|█████▏    | 26/50 [01:25<01:20,  3.34s/epoch]"
     ]
    },
    {
     "name": "stdout",
     "output_type": "stream",
     "text": [
      "Epoch 025 | Learning rate 0.001250 | train normalized MSE 34656.3980 | val normalized MSE 22063.7740, | val MAE 625.7281 | val MSE 1081124.9170\n"
     ]
    },
    {
     "name": "stderr",
     "output_type": "stream",
     "text": [
      "Epoch:  54%|█████▍    | 27/50 [01:28<01:16,  3.32s/epoch]"
     ]
    },
    {
     "name": "stdout",
     "output_type": "stream",
     "text": [
      "Epoch 026 | Learning rate 0.001250 | train normalized MSE 33645.0434 | val normalized MSE 23884.0143, | val MAE 678.7630 | val MSE 1170316.6982\n"
     ]
    },
    {
     "name": "stderr",
     "output_type": "stream",
     "text": [
      "Epoch:  56%|█████▌    | 28/50 [01:31<01:12,  3.28s/epoch]"
     ]
    },
    {
     "name": "stdout",
     "output_type": "stream",
     "text": [
      "Epoch 027 | Learning rate 0.001250 | train normalized MSE 34777.1785 | val normalized MSE 31092.6352, | val MAE 680.0121 | val MSE 1523539.1250\n"
     ]
    },
    {
     "name": "stderr",
     "output_type": "stream",
     "text": [
      "Epoch:  58%|█████▊    | 29/50 [01:34<01:07,  3.20s/epoch]"
     ]
    },
    {
     "name": "stdout",
     "output_type": "stream",
     "text": [
      "Epoch 028 | Learning rate 0.001250 | train normalized MSE 34068.2223 | val normalized MSE 40983.5138, | val MAE 817.9870 | val MSE 2008192.1270\n"
     ]
    },
    {
     "name": "stderr",
     "output_type": "stream",
     "text": [
      "Epoch:  60%|██████    | 30/50 [01:37<01:03,  3.18s/epoch]"
     ]
    },
    {
     "name": "stdout",
     "output_type": "stream",
     "text": [
      "Epoch 029 | Learning rate 0.000625 | train normalized MSE 36343.2863 | val normalized MSE 20107.1384, | val MAE 563.6772 | val MSE 985249.7705\n"
     ]
    },
    {
     "name": "stderr",
     "output_type": "stream",
     "text": [
      "Epoch:  62%|██████▏   | 31/50 [01:40<01:00,  3.21s/epoch]"
     ]
    },
    {
     "name": "stdout",
     "output_type": "stream",
     "text": [
      "Epoch 030 | Learning rate 0.000625 | train normalized MSE 13896.3272 | val normalized MSE 9058.9697, | val MAE 415.9834 | val MSE 443889.5195\n"
     ]
    },
    {
     "name": "stderr",
     "output_type": "stream",
     "text": [
      "Epoch:  64%|██████▍   | 32/50 [01:44<00:58,  3.28s/epoch]"
     ]
    },
    {
     "name": "stdout",
     "output_type": "stream",
     "text": [
      "Epoch 031 | Learning rate 0.000625 | train normalized MSE 11696.5372 | val normalized MSE 7548.7192, | val MAE 377.3616 | val MSE 369887.2441\n"
     ]
    },
    {
     "name": "stderr",
     "output_type": "stream",
     "text": [
      "Epoch:  66%|██████▌   | 33/50 [01:47<00:55,  3.28s/epoch]"
     ]
    },
    {
     "name": "stdout",
     "output_type": "stream",
     "text": [
      "Epoch 032 | Learning rate 0.000625 | train normalized MSE 10401.7839 | val normalized MSE 6986.4814, | val MAE 374.2352 | val MSE 342337.5972\n"
     ]
    },
    {
     "name": "stderr",
     "output_type": "stream",
     "text": [
      "Epoch:  68%|██████▊   | 34/50 [01:50<00:52,  3.28s/epoch]"
     ]
    },
    {
     "name": "stdout",
     "output_type": "stream",
     "text": [
      "Epoch 033 | Learning rate 0.000625 | train normalized MSE 9748.5807 | val normalized MSE 7135.6912, | val MAE 374.8431 | val MSE 349648.8699\n"
     ]
    },
    {
     "name": "stderr",
     "output_type": "stream",
     "text": [
      "Epoch:  70%|███████   | 35/50 [01:54<00:48,  3.23s/epoch]"
     ]
    },
    {
     "name": "stdout",
     "output_type": "stream",
     "text": [
      "Epoch 034 | Learning rate 0.000625 | train normalized MSE 10018.7164 | val normalized MSE 7614.3450, | val MAE 377.1314 | val MSE 373102.9004\n"
     ]
    },
    {
     "name": "stderr",
     "output_type": "stream",
     "text": [
      "Epoch:  72%|███████▏  | 36/50 [01:57<00:44,  3.18s/epoch]"
     ]
    },
    {
     "name": "stdout",
     "output_type": "stream",
     "text": [
      "Epoch 035 | Learning rate 0.000625 | train normalized MSE 9854.8931 | val normalized MSE 6657.9258, | val MAE 340.3397 | val MSE 326238.3643\n"
     ]
    },
    {
     "name": "stderr",
     "output_type": "stream",
     "text": [
      "Epoch:  74%|███████▍  | 37/50 [02:00<00:41,  3.19s/epoch]"
     ]
    },
    {
     "name": "stdout",
     "output_type": "stream",
     "text": [
      "Epoch 036 | Learning rate 0.000625 | train normalized MSE 10057.6122 | val normalized MSE 11223.2444, | val MAE 426.8594 | val MSE 549938.9717\n"
     ]
    },
    {
     "name": "stderr",
     "output_type": "stream",
     "text": [
      "Epoch:  76%|███████▌  | 38/50 [02:03<00:38,  3.20s/epoch]"
     ]
    },
    {
     "name": "stdout",
     "output_type": "stream",
     "text": [
      "Epoch 037 | Learning rate 0.000625 | train normalized MSE 10143.7375 | val normalized MSE 7020.6107, | val MAE 367.5894 | val MSE 344009.9302\n"
     ]
    },
    {
     "name": "stderr",
     "output_type": "stream",
     "text": [
      "Epoch:  78%|███████▊  | 39/50 [02:06<00:36,  3.28s/epoch]"
     ]
    },
    {
     "name": "stdout",
     "output_type": "stream",
     "text": [
      "Epoch 038 | Learning rate 0.000625 | train normalized MSE 9529.0222 | val normalized MSE 8292.1713, | val MAE 384.4319 | val MSE 406316.3921\n"
     ]
    },
    {
     "name": "stderr",
     "output_type": "stream",
     "text": [
      "Epoch:  80%|████████  | 40/50 [02:10<00:32,  3.26s/epoch]"
     ]
    },
    {
     "name": "stdout",
     "output_type": "stream",
     "text": [
      "Epoch 039 | Learning rate 0.000313 | train normalized MSE 9429.1726 | val normalized MSE 8069.0980, | val MAE 362.6443 | val MSE 395385.8079\n"
     ]
    },
    {
     "name": "stderr",
     "output_type": "stream",
     "text": [
      "Epoch:  82%|████████▏ | 41/50 [02:13<00:29,  3.30s/epoch]"
     ]
    },
    {
     "name": "stdout",
     "output_type": "stream",
     "text": [
      "Epoch 040 | Learning rate 0.000313 | train normalized MSE 3854.8445 | val normalized MSE 5128.6185, | val MAE 303.4684 | val MSE 251302.3052\n"
     ]
    },
    {
     "name": "stderr",
     "output_type": "stream",
     "text": [
      "Epoch:  84%|████████▍ | 42/50 [02:16<00:26,  3.27s/epoch]"
     ]
    },
    {
     "name": "stdout",
     "output_type": "stream",
     "text": [
      "Epoch 041 | Learning rate 0.000313 | train normalized MSE 3319.7639 | val normalized MSE 4059.6756, | val MAE 268.1120 | val MSE 198924.1028\n"
     ]
    },
    {
     "name": "stderr",
     "output_type": "stream",
     "text": [
      "Epoch:  86%|████████▌ | 43/50 [02:19<00:22,  3.21s/epoch]"
     ]
    },
    {
     "name": "stdout",
     "output_type": "stream",
     "text": [
      "Epoch 042 | Learning rate 0.000313 | train normalized MSE 3105.0771 | val normalized MSE 3507.5700, | val MAE 257.4080 | val MSE 171870.9250\n"
     ]
    },
    {
     "name": "stderr",
     "output_type": "stream",
     "text": [
      "Epoch:  88%|████████▊ | 44/50 [02:23<00:19,  3.21s/epoch]"
     ]
    },
    {
     "name": "stdout",
     "output_type": "stream",
     "text": [
      "Epoch 043 | Learning rate 0.000313 | train normalized MSE 3170.6070 | val normalized MSE 4885.9118, | val MAE 286.0231 | val MSE 239409.6766\n"
     ]
    },
    {
     "name": "stderr",
     "output_type": "stream",
     "text": [
      "Epoch:  90%|█████████ | 45/50 [02:26<00:16,  3.22s/epoch]"
     ]
    },
    {
     "name": "stdout",
     "output_type": "stream",
     "text": [
      "Epoch 044 | Learning rate 0.000313 | train normalized MSE 3181.9204 | val normalized MSE 3477.9235, | val MAE 244.4828 | val MSE 170418.2469\n"
     ]
    },
    {
     "name": "stderr",
     "output_type": "stream",
     "text": [
      "Epoch:  92%|█████████▏| 46/50 [02:30<00:14,  3.58s/epoch]"
     ]
    },
    {
     "name": "stdout",
     "output_type": "stream",
     "text": [
      "Epoch 045 | Learning rate 0.000313 | train normalized MSE 3045.8693 | val normalized MSE 2344.8812, | val MAE 211.6103 | val MSE 114899.1775\n"
     ]
    },
    {
     "name": "stderr",
     "output_type": "stream",
     "text": [
      "Epoch:  94%|█████████▍| 47/50 [02:33<00:10,  3.49s/epoch]"
     ]
    },
    {
     "name": "stdout",
     "output_type": "stream",
     "text": [
      "Epoch 046 | Learning rate 0.000313 | train normalized MSE 2870.1511 | val normalized MSE 2104.6113, | val MAE 202.4587 | val MSE 103125.9569\n"
     ]
    },
    {
     "name": "stderr",
     "output_type": "stream",
     "text": [
      "Epoch:  96%|█████████▌| 48/50 [02:37<00:06,  3.44s/epoch]"
     ]
    },
    {
     "name": "stdout",
     "output_type": "stream",
     "text": [
      "Epoch 047 | Learning rate 0.000313 | train normalized MSE 2858.6133 | val normalized MSE 2563.6937, | val MAE 212.3176 | val MSE 125620.9919\n"
     ]
    },
    {
     "name": "stderr",
     "output_type": "stream",
     "text": [
      "Epoch:  98%|█████████▊| 49/50 [02:40<00:03,  3.38s/epoch]"
     ]
    },
    {
     "name": "stdout",
     "output_type": "stream",
     "text": [
      "Epoch 048 | Learning rate 0.000313 | train normalized MSE 2867.8652 | val normalized MSE 3634.4509, | val MAE 255.3746 | val MSE 178088.0935\n"
     ]
    },
    {
     "name": "stderr",
     "output_type": "stream",
     "text": [
      "Epoch: 100%|██████████| 50/50 [02:43<00:00,  3.27s/epoch]"
     ]
    },
    {
     "name": "stdout",
     "output_type": "stream",
     "text": [
      "Epoch 049 | Learning rate 0.000156 | train normalized MSE 3248.1229 | val normalized MSE 2880.5482, | val MAE 221.3872 | val MSE 141146.8619\n"
     ]
    },
    {
     "name": "stderr",
     "output_type": "stream",
     "text": [
      "\n"
     ]
    }
   ],
   "source": [
    "# running the linear regression model\n",
    "model = LinearRegressionModel().to(device)\n",
    "\n",
    "# setting Adam with the parameters from Part A (first ran with best parameters that the lstm model used)\n",
    "optimizer = optim.Adam(model.parameters(), lr=0.005, weight_decay=0)\n",
    "scheduler = optim.lr_scheduler.StepLR(optimizer, step_size=10, gamma=0.5) # You can try different schedulers\n",
    "\n",
    "run_model_with_adam(model, optimizer, scheduler)"
   ]
  },
  {
   "cell_type": "code",
   "execution_count": 19,
   "id": "e0c42288",
   "metadata": {},
   "outputs": [
    {
     "name": "stderr",
     "output_type": "stream",
     "text": [
      "Epoch:   0%|          | 0/50 [00:00<?, ?epoch/s]/var/folders/k0/0k4d4ymn0d7_g9v6fws_l0j80000gn/T/ipykernel_257/1780213679.py:68: DeprecationWarning: __array_wrap__ must accept context and return_scalar arguments (positionally) in the future. (Deprecated NumPy 2.0)\n",
      "  future = future - origin\n",
      "/var/folders/k0/0k4d4ymn0d7_g9v6fws_l0j80000gn/T/ipykernel_257/1780213679.py:59: DeprecationWarning: __array_wrap__ must accept context and return_scalar arguments (positionally) in the future. (Deprecated NumPy 2.0)\n",
      "  future = future @ R\n",
      "Epoch:   2%|▏         | 1/50 [00:04<03:28,  4.26s/epoch]"
     ]
    },
    {
     "name": "stdout",
     "output_type": "stream",
     "text": [
      "Epoch 000 | Learning rate 0.001000 | train normalized MSE 35850.8932 | val normalized MSE 14766.7557, | val MAE 542.5683 | val MSE 723571.0146\n"
     ]
    },
    {
     "name": "stderr",
     "output_type": "stream",
     "text": [
      "Epoch:   4%|▍         | 2/50 [00:07<02:52,  3.59s/epoch]"
     ]
    },
    {
     "name": "stdout",
     "output_type": "stream",
     "text": [
      "Epoch 001 | Learning rate 0.001000 | train normalized MSE 21370.5092 | val normalized MSE 20659.2856, | val MAE 602.1485 | val MSE 1012304.9844\n"
     ]
    },
    {
     "name": "stderr",
     "output_type": "stream",
     "text": [
      "Epoch:   6%|▌         | 3/50 [00:10<02:43,  3.47s/epoch]"
     ]
    },
    {
     "name": "stdout",
     "output_type": "stream",
     "text": [
      "Epoch 002 | Learning rate 0.001000 | train normalized MSE 20602.2097 | val normalized MSE 18463.4015, | val MAE 576.6624 | val MSE 904706.6602\n"
     ]
    },
    {
     "name": "stderr",
     "output_type": "stream",
     "text": [
      "Epoch:   8%|▊         | 4/50 [00:13<02:33,  3.33s/epoch]"
     ]
    },
    {
     "name": "stdout",
     "output_type": "stream",
     "text": [
      "Epoch 003 | Learning rate 0.001000 | train normalized MSE 23057.2355 | val normalized MSE 15343.6091, | val MAE 535.4515 | val MSE 751836.8350\n"
     ]
    },
    {
     "name": "stderr",
     "output_type": "stream",
     "text": [
      "Epoch:  10%|█         | 5/50 [00:17<02:31,  3.36s/epoch]"
     ]
    },
    {
     "name": "stdout",
     "output_type": "stream",
     "text": [
      "Epoch 004 | Learning rate 0.001000 | train normalized MSE 20582.0501 | val normalized MSE 40170.4522, | val MAE 814.7236 | val MSE 1968352.1904\n"
     ]
    },
    {
     "name": "stderr",
     "output_type": "stream",
     "text": [
      "Epoch:  12%|█▏        | 6/50 [00:20<02:29,  3.40s/epoch]"
     ]
    },
    {
     "name": "stdout",
     "output_type": "stream",
     "text": [
      "Epoch 005 | Learning rate 0.001000 | train normalized MSE 21676.8813 | val normalized MSE 13969.9550, | val MAE 490.3682 | val MSE 684527.7896\n"
     ]
    },
    {
     "name": "stderr",
     "output_type": "stream",
     "text": [
      "Epoch:  14%|█▍        | 7/50 [00:24<02:25,  3.37s/epoch]"
     ]
    },
    {
     "name": "stdout",
     "output_type": "stream",
     "text": [
      "Epoch 006 | Learning rate 0.001000 | train normalized MSE 18527.8854 | val normalized MSE 10985.6292, | val MAE 472.6377 | val MSE 538295.8301\n"
     ]
    },
    {
     "name": "stderr",
     "output_type": "stream",
     "text": [
      "Epoch:  16%|█▌        | 8/50 [00:27<02:21,  3.38s/epoch]"
     ]
    },
    {
     "name": "stdout",
     "output_type": "stream",
     "text": [
      "Epoch 007 | Learning rate 0.001000 | train normalized MSE 18959.2283 | val normalized MSE 14030.9455, | val MAE 525.7732 | val MSE 687516.3530\n"
     ]
    },
    {
     "name": "stderr",
     "output_type": "stream",
     "text": [
      "Epoch:  18%|█▊        | 9/50 [00:30<02:16,  3.34s/epoch]"
     ]
    },
    {
     "name": "stdout",
     "output_type": "stream",
     "text": [
      "Epoch 008 | Learning rate 0.001000 | train normalized MSE 20987.2147 | val normalized MSE 18737.5311, | val MAE 575.4323 | val MSE 918139.0117\n"
     ]
    },
    {
     "name": "stderr",
     "output_type": "stream",
     "text": [
      "Epoch:  20%|██        | 10/50 [00:33<02:11,  3.28s/epoch]"
     ]
    },
    {
     "name": "stdout",
     "output_type": "stream",
     "text": [
      "Epoch 009 | Learning rate 0.000100 | train normalized MSE 22669.8741 | val normalized MSE 15571.9845, | val MAE 543.1097 | val MSE 763027.2490\n"
     ]
    },
    {
     "name": "stderr",
     "output_type": "stream",
     "text": [
      "Epoch:  22%|██▏       | 11/50 [00:37<02:07,  3.27s/epoch]"
     ]
    },
    {
     "name": "stdout",
     "output_type": "stream",
     "text": [
      "Epoch 010 | Learning rate 0.000100 | train normalized MSE 3375.3879 | val normalized MSE 1456.0560, | val MAE 168.6393 | val MSE 71346.7430\n"
     ]
    },
    {
     "name": "stderr",
     "output_type": "stream",
     "text": [
      "Epoch:  24%|██▍       | 12/50 [00:40<02:02,  3.22s/epoch]"
     ]
    },
    {
     "name": "stdout",
     "output_type": "stream",
     "text": [
      "Epoch 011 | Learning rate 0.000100 | train normalized MSE 1454.6642 | val normalized MSE 1186.9200, | val MAE 153.2105 | val MSE 58159.0811\n"
     ]
    },
    {
     "name": "stderr",
     "output_type": "stream",
     "text": [
      "Epoch:  26%|██▌       | 13/50 [00:43<01:58,  3.19s/epoch]"
     ]
    },
    {
     "name": "stdout",
     "output_type": "stream",
     "text": [
      "Epoch 012 | Learning rate 0.000100 | train normalized MSE 1122.1071 | val normalized MSE 1065.6548, | val MAE 145.5477 | val MSE 52217.0867\n"
     ]
    },
    {
     "name": "stderr",
     "output_type": "stream",
     "text": [
      "Epoch:  28%|██▊       | 14/50 [00:46<01:56,  3.25s/epoch]"
     ]
    },
    {
     "name": "stdout",
     "output_type": "stream",
     "text": [
      "Epoch 013 | Learning rate 0.000100 | train normalized MSE 944.0622 | val normalized MSE 941.3627, | val MAE 132.5787 | val MSE 46126.7709\n"
     ]
    },
    {
     "name": "stderr",
     "output_type": "stream",
     "text": [
      "Epoch:  30%|███       | 15/50 [00:50<01:54,  3.28s/epoch]"
     ]
    },
    {
     "name": "stdout",
     "output_type": "stream",
     "text": [
      "Epoch 014 | Learning rate 0.000100 | train normalized MSE 870.6615 | val normalized MSE 703.6312, | val MAE 120.9610 | val MSE 34477.9291\n"
     ]
    },
    {
     "name": "stderr",
     "output_type": "stream",
     "text": [
      "Epoch:  32%|███▏      | 16/50 [00:53<01:49,  3.21s/epoch]"
     ]
    },
    {
     "name": "stdout",
     "output_type": "stream",
     "text": [
      "Epoch 015 | Learning rate 0.000100 | train normalized MSE 810.6898 | val normalized MSE 748.7241, | val MAE 121.5505 | val MSE 36687.4775\n"
     ]
    },
    {
     "name": "stderr",
     "output_type": "stream",
     "text": [
      "Epoch:  34%|███▍      | 17/50 [00:56<01:45,  3.19s/epoch]"
     ]
    },
    {
     "name": "stdout",
     "output_type": "stream",
     "text": [
      "Epoch 016 | Learning rate 0.000100 | train normalized MSE 732.6024 | val normalized MSE 862.7189, | val MAE 127.9765 | val MSE 42273.2282\n"
     ]
    },
    {
     "name": "stderr",
     "output_type": "stream",
     "text": [
      "Epoch:  36%|███▌      | 18/50 [00:59<01:42,  3.20s/epoch]"
     ]
    },
    {
     "name": "stdout",
     "output_type": "stream",
     "text": [
      "Epoch 017 | Learning rate 0.000100 | train normalized MSE 685.4968 | val normalized MSE 816.2894, | val MAE 127.2521 | val MSE 39998.1818\n"
     ]
    },
    {
     "name": "stderr",
     "output_type": "stream",
     "text": [
      "Epoch:  38%|███▊      | 19/50 [01:02<01:38,  3.18s/epoch]"
     ]
    },
    {
     "name": "stdout",
     "output_type": "stream",
     "text": [
      "Epoch 018 | Learning rate 0.000100 | train normalized MSE 674.5227 | val normalized MSE 663.7153, | val MAE 116.2323 | val MSE 32522.0477\n"
     ]
    },
    {
     "name": "stderr",
     "output_type": "stream",
     "text": [
      "Epoch:  40%|████      | 20/50 [01:05<01:34,  3.14s/epoch]"
     ]
    },
    {
     "name": "stdout",
     "output_type": "stream",
     "text": [
      "Epoch 019 | Learning rate 0.000010 | train normalized MSE 603.5712 | val normalized MSE 598.4256, | val MAE 108.8588 | val MSE 29322.8545\n"
     ]
    },
    {
     "name": "stderr",
     "output_type": "stream",
     "text": [
      "Epoch:  42%|████▏     | 21/50 [01:08<01:31,  3.16s/epoch]"
     ]
    },
    {
     "name": "stdout",
     "output_type": "stream",
     "text": [
      "Epoch 020 | Learning rate 0.000010 | train normalized MSE 295.1442 | val normalized MSE 329.2002, | val MAE  81.6187 | val MSE 16130.8082\n"
     ]
    },
    {
     "name": "stderr",
     "output_type": "stream",
     "text": [
      "Epoch:  44%|████▍     | 22/50 [01:12<01:28,  3.17s/epoch]"
     ]
    },
    {
     "name": "stdout",
     "output_type": "stream",
     "text": [
      "Epoch 021 | Learning rate 0.000010 | train normalized MSE 261.4215 | val normalized MSE 313.3359, | val MAE  79.7893 | val MSE 15353.4601\n"
     ]
    },
    {
     "name": "stderr",
     "output_type": "stream",
     "text": [
      "Epoch:  46%|████▌     | 23/50 [01:15<01:24,  3.13s/epoch]"
     ]
    },
    {
     "name": "stdout",
     "output_type": "stream",
     "text": [
      "Epoch 022 | Learning rate 0.000010 | train normalized MSE 250.5910 | val normalized MSE 301.1397, | val MAE  78.3871 | val MSE 14755.8463\n"
     ]
    },
    {
     "name": "stderr",
     "output_type": "stream",
     "text": [
      "Epoch:  48%|████▊     | 24/50 [01:18<01:20,  3.11s/epoch]"
     ]
    },
    {
     "name": "stdout",
     "output_type": "stream",
     "text": [
      "Epoch 023 | Learning rate 0.000010 | train normalized MSE 245.4379 | val normalized MSE 304.3890, | val MAE  78.4885 | val MSE 14915.0631\n"
     ]
    },
    {
     "name": "stderr",
     "output_type": "stream",
     "text": [
      "Epoch:  50%|█████     | 25/50 [01:21<01:18,  3.13s/epoch]"
     ]
    },
    {
     "name": "stdout",
     "output_type": "stream",
     "text": [
      "Epoch 024 | Learning rate 0.000010 | train normalized MSE 242.6634 | val normalized MSE 299.0688, | val MAE  77.9024 | val MSE 14654.3714\n"
     ]
    },
    {
     "name": "stderr",
     "output_type": "stream",
     "text": [
      "Epoch:  52%|█████▏    | 26/50 [01:24<01:16,  3.18s/epoch]"
     ]
    },
    {
     "name": "stdout",
     "output_type": "stream",
     "text": [
      "Epoch 025 | Learning rate 0.000010 | train normalized MSE 237.8389 | val normalized MSE 296.1446, | val MAE  77.5531 | val MSE 14511.0843\n"
     ]
    },
    {
     "name": "stderr",
     "output_type": "stream",
     "text": [
      "Epoch:  54%|█████▍    | 27/50 [01:27<01:13,  3.18s/epoch]"
     ]
    },
    {
     "name": "stdout",
     "output_type": "stream",
     "text": [
      "Epoch 026 | Learning rate 0.000010 | train normalized MSE 232.4395 | val normalized MSE 292.9917, | val MAE  77.2295 | val MSE 14356.5942\n"
     ]
    },
    {
     "name": "stderr",
     "output_type": "stream",
     "text": [
      "Epoch:  56%|█████▌    | 28/50 [01:30<01:09,  3.16s/epoch]"
     ]
    },
    {
     "name": "stdout",
     "output_type": "stream",
     "text": [
      "Epoch 027 | Learning rate 0.000010 | train normalized MSE 229.6555 | val normalized MSE 289.6255, | val MAE  76.5121 | val MSE 14191.6474\n"
     ]
    },
    {
     "name": "stderr",
     "output_type": "stream",
     "text": [
      "Epoch:  58%|█████▊    | 29/50 [01:34<01:07,  3.23s/epoch]"
     ]
    },
    {
     "name": "stdout",
     "output_type": "stream",
     "text": [
      "Epoch 028 | Learning rate 0.000010 | train normalized MSE 224.9906 | val normalized MSE 286.2961, | val MAE  76.2398 | val MSE 14028.5078\n"
     ]
    },
    {
     "name": "stderr",
     "output_type": "stream",
     "text": [
      "Epoch:  60%|██████    | 30/50 [01:37<01:03,  3.19s/epoch]"
     ]
    },
    {
     "name": "stdout",
     "output_type": "stream",
     "text": [
      "Epoch 029 | Learning rate 0.000001 | train normalized MSE 223.5594 | val normalized MSE 281.2234, | val MAE  75.6290 | val MSE 13779.9454\n"
     ]
    },
    {
     "name": "stderr",
     "output_type": "stream",
     "text": [
      "Epoch:  62%|██████▏   | 31/50 [01:40<01:01,  3.26s/epoch]"
     ]
    },
    {
     "name": "stdout",
     "output_type": "stream",
     "text": [
      "Epoch 030 | Learning rate 0.000001 | train normalized MSE 197.3624 | val normalized MSE 262.3515, | val MAE  72.8018 | val MSE 12855.2251\n"
     ]
    },
    {
     "name": "stderr",
     "output_type": "stream",
     "text": [
      "Epoch:  64%|██████▍   | 32/50 [01:44<00:59,  3.31s/epoch]"
     ]
    },
    {
     "name": "stdout",
     "output_type": "stream",
     "text": [
      "Epoch 031 | Learning rate 0.000001 | train normalized MSE 195.7196 | val normalized MSE 262.0870, | val MAE  72.7927 | val MSE 12842.2640\n"
     ]
    },
    {
     "name": "stderr",
     "output_type": "stream",
     "text": [
      "Epoch:  66%|██████▌   | 33/50 [01:47<00:56,  3.31s/epoch]"
     ]
    },
    {
     "name": "stdout",
     "output_type": "stream",
     "text": [
      "Epoch 032 | Learning rate 0.000001 | train normalized MSE 195.4183 | val normalized MSE 262.3057, | val MAE  72.8233 | val MSE 12852.9812\n"
     ]
    },
    {
     "name": "stderr",
     "output_type": "stream",
     "text": [
      "Epoch:  68%|██████▊   | 34/50 [01:50<00:53,  3.35s/epoch]"
     ]
    },
    {
     "name": "stdout",
     "output_type": "stream",
     "text": [
      "Epoch 033 | Learning rate 0.000001 | train normalized MSE 193.7820 | val normalized MSE 260.9999, | val MAE  72.5722 | val MSE 12788.9937\n"
     ]
    },
    {
     "name": "stderr",
     "output_type": "stream",
     "text": [
      "Epoch:  70%|███████   | 35/50 [01:54<00:50,  3.33s/epoch]"
     ]
    },
    {
     "name": "stdout",
     "output_type": "stream",
     "text": [
      "Epoch 034 | Learning rate 0.000001 | train normalized MSE 193.1072 | val normalized MSE 259.5596, | val MAE  72.3888 | val MSE 12718.4204\n"
     ]
    },
    {
     "name": "stderr",
     "output_type": "stream",
     "text": [
      "Epoch:  72%|███████▏  | 36/50 [01:57<00:47,  3.40s/epoch]"
     ]
    },
    {
     "name": "stdout",
     "output_type": "stream",
     "text": [
      "Epoch 035 | Learning rate 0.000001 | train normalized MSE 191.9142 | val normalized MSE 260.3583, | val MAE  72.4869 | val MSE 12757.5555\n"
     ]
    },
    {
     "name": "stderr",
     "output_type": "stream",
     "text": [
      "Epoch:  74%|███████▍  | 37/50 [02:01<00:44,  3.42s/epoch]"
     ]
    },
    {
     "name": "stdout",
     "output_type": "stream",
     "text": [
      "Epoch 036 | Learning rate 0.000001 | train normalized MSE 192.3538 | val normalized MSE 260.7412, | val MAE  72.5676 | val MSE 12776.3173\n"
     ]
    },
    {
     "name": "stderr",
     "output_type": "stream",
     "text": [
      "Epoch:  76%|███████▌  | 38/50 [02:05<00:42,  3.54s/epoch]"
     ]
    },
    {
     "name": "stdout",
     "output_type": "stream",
     "text": [
      "Epoch 037 | Learning rate 0.000001 | train normalized MSE 191.0124 | val normalized MSE 259.3031, | val MAE  72.3495 | val MSE 12705.8515\n"
     ]
    },
    {
     "name": "stderr",
     "output_type": "stream",
     "text": [
      "Epoch:  78%|███████▊  | 39/50 [02:08<00:38,  3.47s/epoch]"
     ]
    },
    {
     "name": "stdout",
     "output_type": "stream",
     "text": [
      "Epoch 038 | Learning rate 0.000001 | train normalized MSE 192.3569 | val normalized MSE 258.4489, | val MAE  72.2204 | val MSE 12663.9972\n"
     ]
    },
    {
     "name": "stderr",
     "output_type": "stream",
     "text": [
      "Epoch:  80%|████████  | 40/50 [02:12<00:35,  3.51s/epoch]"
     ]
    },
    {
     "name": "stdout",
     "output_type": "stream",
     "text": [
      "Epoch 039 | Learning rate 0.000000 | train normalized MSE 191.7657 | val normalized MSE 258.1814, | val MAE  72.1948 | val MSE 12650.8881\n"
     ]
    },
    {
     "name": "stderr",
     "output_type": "stream",
     "text": [
      "Epoch:  82%|████████▏ | 41/50 [02:15<00:32,  3.60s/epoch]"
     ]
    },
    {
     "name": "stdout",
     "output_type": "stream",
     "text": [
      "Epoch 040 | Learning rate 0.000000 | train normalized MSE 188.3147 | val normalized MSE 256.8890, | val MAE  71.9873 | val MSE 12587.5587\n"
     ]
    },
    {
     "name": "stderr",
     "output_type": "stream",
     "text": [
      "Epoch:  84%|████████▍ | 42/50 [02:19<00:29,  3.65s/epoch]"
     ]
    },
    {
     "name": "stdout",
     "output_type": "stream",
     "text": [
      "Epoch 041 | Learning rate 0.000000 | train normalized MSE 187.6753 | val normalized MSE 256.6727, | val MAE  71.9600 | val MSE 12576.9623\n"
     ]
    },
    {
     "name": "stderr",
     "output_type": "stream",
     "text": [
      "Epoch:  86%|████████▌ | 43/50 [02:23<00:25,  3.62s/epoch]"
     ]
    },
    {
     "name": "stdout",
     "output_type": "stream",
     "text": [
      "Epoch 042 | Learning rate 0.000000 | train normalized MSE 188.1057 | val normalized MSE 256.8076, | val MAE  71.9731 | val MSE 12583.5714\n"
     ]
    },
    {
     "name": "stderr",
     "output_type": "stream",
     "text": [
      "Epoch:  88%|████████▊ | 44/50 [02:26<00:21,  3.61s/epoch]"
     ]
    },
    {
     "name": "stdout",
     "output_type": "stream",
     "text": [
      "Epoch 043 | Learning rate 0.000000 | train normalized MSE 189.8385 | val normalized MSE 256.6513, | val MAE  71.9496 | val MSE 12575.9123\n"
     ]
    },
    {
     "name": "stderr",
     "output_type": "stream",
     "text": [
      "Epoch:  90%|█████████ | 45/50 [02:30<00:17,  3.53s/epoch]"
     ]
    },
    {
     "name": "stdout",
     "output_type": "stream",
     "text": [
      "Epoch 044 | Learning rate 0.000000 | train normalized MSE 188.7798 | val normalized MSE 256.6549, | val MAE  71.9516 | val MSE 12576.0923\n"
     ]
    },
    {
     "name": "stderr",
     "output_type": "stream",
     "text": [
      "Epoch:  92%|█████████▏| 46/50 [02:33<00:13,  3.45s/epoch]"
     ]
    },
    {
     "name": "stdout",
     "output_type": "stream",
     "text": [
      "Epoch 045 | Learning rate 0.000000 | train normalized MSE 187.0722 | val normalized MSE 256.6041, | val MAE  71.9353 | val MSE 12573.6025\n"
     ]
    },
    {
     "name": "stderr",
     "output_type": "stream",
     "text": [
      "Epoch:  94%|█████████▍| 47/50 [02:36<00:10,  3.34s/epoch]"
     ]
    },
    {
     "name": "stdout",
     "output_type": "stream",
     "text": [
      "Epoch 046 | Learning rate 0.000000 | train normalized MSE 188.3030 | val normalized MSE 256.4078, | val MAE  71.9259 | val MSE 12563.9813\n"
     ]
    },
    {
     "name": "stderr",
     "output_type": "stream",
     "text": [
      "Epoch:  96%|█████████▌| 48/50 [02:39<00:06,  3.25s/epoch]"
     ]
    },
    {
     "name": "stdout",
     "output_type": "stream",
     "text": [
      "Epoch 047 | Learning rate 0.000000 | train normalized MSE 186.9761 | val normalized MSE 256.5194, | val MAE  71.9262 | val MSE 12569.4511\n"
     ]
    },
    {
     "name": "stderr",
     "output_type": "stream",
     "text": [
      "Epoch:  98%|█████████▊| 49/50 [02:42<00:03,  3.23s/epoch]"
     ]
    },
    {
     "name": "stdout",
     "output_type": "stream",
     "text": [
      "Epoch 048 | Learning rate 0.000000 | train normalized MSE 187.8277 | val normalized MSE 256.3864, | val MAE  71.9148 | val MSE 12562.9334\n"
     ]
    },
    {
     "name": "stderr",
     "output_type": "stream",
     "text": [
      "Epoch: 100%|██████████| 50/50 [02:46<00:00,  3.32s/epoch]"
     ]
    },
    {
     "name": "stdout",
     "output_type": "stream",
     "text": [
      "Epoch 049 | Learning rate 0.000000 | train normalized MSE 187.7085 | val normalized MSE 256.4414, | val MAE  71.9114 | val MSE 12565.6286\n"
     ]
    },
    {
     "name": "stderr",
     "output_type": "stream",
     "text": [
      "\n"
     ]
    }
   ],
   "source": [
    "# running the linear regression model\n",
    "model = LinearRegressionModel().to(device)\n",
    "\n",
    "# setting Adam with the parameters from Part A (first ran with best parameters, and now \n",
    "# running with the parameters that had best average performance as that \n",
    "# appears to produce lower MSE values for linear regression model )\n",
    "optimizer = optim.Adam(model.parameters(), lr=0.001, weight_decay=1e-5)\n",
    "scheduler = optim.lr_scheduler.StepLR(optimizer, step_size=10, gamma=0.1) # You can try different schedulers\n",
    "\n",
    "run_model_with_adam(model, optimizer, scheduler)"
   ]
  },
  {
   "cell_type": "markdown",
   "id": "14506bd3",
   "metadata": {},
   "source": [
    "Linear regression got val MAE down to 71-72 range, probs could get even lower if we specifically did a grid search for best parameters using this linear regression model.\n",
    "\n",
    "Next, looking into the MLP model."
   ]
  },
  {
   "cell_type": "code",
   "execution_count": null,
   "id": "4dc97a0b",
   "metadata": {},
   "outputs": [],
   "source": [
    "class MLP(nn.Module):\n",
    "    def __init__(self, input_features, output_features):\n",
    "        super(MLP, self).__init__()\n",
    "        \n",
    "        # Define the layers\n",
    "        self.flatten = nn.Flatten()\n",
    "        self.mlp = nn.Sequential(\n",
    "            nn.Linear(input_features, 1024),\n",
    "            nn.ReLU(),\n",
    "            nn.Dropout(0.1),\n",
    "            \n",
    "            nn.Linear(1024, 512),\n",
    "            nn.ReLU(),\n",
    "            nn.Dropout(0.1),\n",
    "            \n",
    "            nn.Linear(512, 256),\n",
    "            nn.ReLU(),\n",
    "            nn.Dropout(0.1),\n",
    "            \n",
    "            nn.Linear(256, output_features)\n",
    "        )\n",
    "    \n",
    "    def forward(self, x):\n",
    "        if not isinstance(x, torch.Tensor):\n",
    "            x = x.x\n",
    "        x = x.reshape(-1, 50 * 50 * 6)\n",
    "        x = self.mlp(x)\n",
    "        return x.view(-1, 60, 2)"
   ]
  },
  {
   "cell_type": "code",
   "execution_count": null,
   "id": "c32b0b54",
   "metadata": {},
   "outputs": [],
   "source": [
    "# running the MLP model \n",
    "input_features = 50 * 50 * 6\n",
    "output_features = 60 * 2\n",
    "\n",
    "model = MLP(input_features, output_features).to(device)\n"
   ]
  },
  {
   "cell_type": "code",
   "execution_count": null,
   "id": "d3a23ec0",
   "metadata": {},
   "outputs": [
    {
     "name": "stderr",
     "output_type": "stream",
     "text": [
      "Epoch 1/100 [Train]:   0%|          | 0/40 [00:00<?, ?it/s]/var/folders/k0/0k4d4ymn0d7_g9v6fws_l0j80000gn/T/ipykernel_257/2808079002.py:71: DeprecationWarning: __array_wrap__ must accept context and return_scalar arguments (positionally) in the future. (Deprecated NumPy 2.0)\n",
      "  future = future - origin\n",
      "/var/folders/k0/0k4d4ymn0d7_g9v6fws_l0j80000gn/T/ipykernel_257/2808079002.py:62: DeprecationWarning: __array_wrap__ must accept context and return_scalar arguments (positionally) in the future. (Deprecated NumPy 2.0)\n",
      "  future = future @ R\n",
      "                                                                    \r"
     ]
    },
    {
     "name": "stdout",
     "output_type": "stream",
     "text": [
      "Epoch 000 | Learning rate 0.001000 | train normalized MSE  91.6027 | val normalized MSE   3.0853, | val MAE   9.9695 | val MSE 308.5275\n"
     ]
    },
    {
     "name": "stderr",
     "output_type": "stream",
     "text": [
      "                                                                    \r"
     ]
    },
    {
     "name": "stdout",
     "output_type": "stream",
     "text": [
      "Epoch 001 | Learning rate 0.001000 | train normalized MSE   3.4383 | val normalized MSE   3.0852, | val MAE   9.9679 | val MSE 308.5225\n"
     ]
    },
    {
     "name": "stderr",
     "output_type": "stream",
     "text": [
      "                                                                    \r"
     ]
    },
    {
     "name": "stdout",
     "output_type": "stream",
     "text": [
      "Epoch 002 | Learning rate 0.001000 | train normalized MSE   3.2484 | val normalized MSE   3.0851, | val MAE   9.9656 | val MSE 308.5109\n"
     ]
    },
    {
     "name": "stderr",
     "output_type": "stream",
     "text": [
      "                                                                    \r"
     ]
    },
    {
     "name": "stdout",
     "output_type": "stream",
     "text": [
      "Epoch 003 | Learning rate 0.001000 | train normalized MSE   3.0981 | val normalized MSE   3.0850, | val MAE   9.9633 | val MSE 308.5024\n"
     ]
    },
    {
     "name": "stderr",
     "output_type": "stream",
     "text": [
      "                                                                    \r"
     ]
    },
    {
     "name": "stdout",
     "output_type": "stream",
     "text": [
      "Epoch 004 | Learning rate 0.001000 | train normalized MSE   3.0947 | val normalized MSE   3.0850, | val MAE   9.9609 | val MSE 308.4961\n"
     ]
    },
    {
     "name": "stderr",
     "output_type": "stream",
     "text": [
      "                                                                    \r"
     ]
    },
    {
     "name": "stdout",
     "output_type": "stream",
     "text": [
      "Epoch 005 | Learning rate 0.001000 | train normalized MSE   3.0969 | val normalized MSE   3.0850, | val MAE   9.9586 | val MSE 308.4962\n"
     ]
    },
    {
     "name": "stderr",
     "output_type": "stream",
     "text": [
      "                                                                    \r"
     ]
    },
    {
     "name": "stdout",
     "output_type": "stream",
     "text": [
      "Epoch 006 | Learning rate 0.001000 | train normalized MSE   3.0949 | val normalized MSE   3.0849, | val MAE   9.9559 | val MSE 308.4891\n"
     ]
    },
    {
     "name": "stderr",
     "output_type": "stream",
     "text": [
      "                                                                    \r"
     ]
    },
    {
     "name": "stdout",
     "output_type": "stream",
     "text": [
      "Epoch 007 | Learning rate 0.001000 | train normalized MSE   3.1011 | val normalized MSE   3.0849, | val MAE   9.9537 | val MSE 308.4880\n"
     ]
    },
    {
     "name": "stderr",
     "output_type": "stream",
     "text": [
      "                                                                    \r"
     ]
    },
    {
     "name": "stdout",
     "output_type": "stream",
     "text": [
      "Epoch 008 | Learning rate 0.001000 | train normalized MSE   3.0954 | val normalized MSE   3.0848, | val MAE   9.9516 | val MSE 308.4834\n"
     ]
    },
    {
     "name": "stderr",
     "output_type": "stream",
     "text": [
      "                                                                     \r"
     ]
    },
    {
     "name": "stdout",
     "output_type": "stream",
     "text": [
      "Epoch 009 | Learning rate 0.001000 | train normalized MSE   3.1026 | val normalized MSE   3.0847, | val MAE   9.9493 | val MSE 308.4740\n"
     ]
    },
    {
     "name": "stderr",
     "output_type": "stream",
     "text": [
      "                                                                     \r"
     ]
    },
    {
     "name": "stdout",
     "output_type": "stream",
     "text": [
      "Epoch 010 | Learning rate 0.001000 | train normalized MSE   3.0946 | val normalized MSE   3.0847, | val MAE   9.9464 | val MSE 308.4654\n"
     ]
    },
    {
     "name": "stderr",
     "output_type": "stream",
     "text": [
      "                                                                     \r"
     ]
    },
    {
     "name": "stdout",
     "output_type": "stream",
     "text": [
      "Epoch 011 | Learning rate 0.000500 | train normalized MSE   3.0946 | val normalized MSE   3.0846, | val MAE   9.9452 | val MSE 308.4599\n"
     ]
    },
    {
     "name": "stderr",
     "output_type": "stream",
     "text": [
      "                                                                     \r"
     ]
    },
    {
     "name": "stdout",
     "output_type": "stream",
     "text": [
      "Epoch 012 | Learning rate 0.000500 | train normalized MSE   4.7135 | val normalized MSE   3.0846, | val MAE   9.9435 | val MSE 308.4570\n"
     ]
    },
    {
     "name": "stderr",
     "output_type": "stream",
     "text": [
      "                                                                     \r"
     ]
    },
    {
     "name": "stdout",
     "output_type": "stream",
     "text": [
      "Epoch 013 | Learning rate 0.000500 | train normalized MSE   3.1205 | val normalized MSE   3.0846, | val MAE   9.9436 | val MSE 308.4577\n"
     ]
    },
    {
     "name": "stderr",
     "output_type": "stream",
     "text": [
      "                                                                     \r"
     ]
    },
    {
     "name": "stdout",
     "output_type": "stream",
     "text": [
      "Epoch 014 | Learning rate 0.000500 | train normalized MSE   3.0959 | val normalized MSE   3.0845, | val MAE   9.9430 | val MSE 308.4529\n"
     ]
    },
    {
     "name": "stderr",
     "output_type": "stream",
     "text": [
      "                                                                     \r"
     ]
    },
    {
     "name": "stdout",
     "output_type": "stream",
     "text": [
      "Epoch 015 | Learning rate 0.000500 | train normalized MSE   3.2840 | val normalized MSE   3.0845, | val MAE   9.9417 | val MSE 308.4490\n"
     ]
    },
    {
     "name": "stderr",
     "output_type": "stream",
     "text": [
      "                                                                     \r"
     ]
    },
    {
     "name": "stdout",
     "output_type": "stream",
     "text": [
      "Epoch 016 | Learning rate 0.000500 | train normalized MSE   3.1483 | val normalized MSE   3.0845, | val MAE   9.9417 | val MSE 308.4473\n"
     ]
    },
    {
     "name": "stderr",
     "output_type": "stream",
     "text": [
      "                                                                     \r"
     ]
    },
    {
     "name": "stdout",
     "output_type": "stream",
     "text": [
      "Epoch 017 | Learning rate 0.000500 | train normalized MSE   3.0977 | val normalized MSE   3.0844, | val MAE   9.9400 | val MSE 308.4376\n"
     ]
    },
    {
     "name": "stderr",
     "output_type": "stream",
     "text": [
      "                                                                     \r"
     ]
    },
    {
     "name": "stdout",
     "output_type": "stream",
     "text": [
      "Epoch 018 | Learning rate 0.000250 | train normalized MSE   3.0956 | val normalized MSE   3.0843, | val MAE   9.9390 | val MSE 308.4347\n"
     ]
    },
    {
     "name": "stderr",
     "output_type": "stream",
     "text": [
      "                                                                     \r"
     ]
    },
    {
     "name": "stdout",
     "output_type": "stream",
     "text": [
      "Epoch 019 | Learning rate 0.000250 | train normalized MSE   3.0965 | val normalized MSE   3.0843, | val MAE   9.9382 | val MSE 308.4328\n"
     ]
    },
    {
     "name": "stderr",
     "output_type": "stream",
     "text": [
      "                                                                     \r"
     ]
    },
    {
     "name": "stdout",
     "output_type": "stream",
     "text": [
      "Epoch 020 | Learning rate 0.000250 | train normalized MSE   3.0940 | val normalized MSE   3.0843, | val MAE   9.9381 | val MSE 308.4315\n"
     ]
    },
    {
     "name": "stderr",
     "output_type": "stream",
     "text": [
      "                                                                     \r"
     ]
    },
    {
     "name": "stdout",
     "output_type": "stream",
     "text": [
      "Epoch 021 | Learning rate 0.000250 | train normalized MSE   3.0978 | val normalized MSE   3.0843, | val MAE   9.9383 | val MSE 308.4339\n"
     ]
    },
    {
     "name": "stderr",
     "output_type": "stream",
     "text": [
      "                                                                     \r"
     ]
    },
    {
     "name": "stdout",
     "output_type": "stream",
     "text": [
      "Epoch 022 | Learning rate 0.000250 | train normalized MSE   3.0953 | val normalized MSE   3.0843, | val MAE   9.9365 | val MSE 308.4299\n"
     ]
    },
    {
     "name": "stderr",
     "output_type": "stream",
     "text": [
      "                                                                     \r"
     ]
    },
    {
     "name": "stdout",
     "output_type": "stream",
     "text": [
      "Epoch 023 | Learning rate 0.000250 | train normalized MSE   3.0944 | val normalized MSE   3.0843, | val MAE   9.9353 | val MSE 308.4288\n"
     ]
    },
    {
     "name": "stderr",
     "output_type": "stream",
     "text": [
      "                                                                     \r"
     ]
    },
    {
     "name": "stdout",
     "output_type": "stream",
     "text": [
      "Epoch 024 | Learning rate 0.000250 | train normalized MSE   3.0934 | val normalized MSE   3.0843, | val MAE   9.9356 | val MSE 308.4298\n"
     ]
    },
    {
     "name": "stderr",
     "output_type": "stream",
     "text": [
      "                                                                     \r"
     ]
    },
    {
     "name": "stdout",
     "output_type": "stream",
     "text": [
      "Epoch 025 | Learning rate 0.000250 | train normalized MSE   3.0988 | val normalized MSE   3.0843, | val MAE   9.9355 | val MSE 308.4334\n"
     ]
    },
    {
     "name": "stderr",
     "output_type": "stream",
     "text": [
      "                                                                     \r"
     ]
    },
    {
     "name": "stdout",
     "output_type": "stream",
     "text": [
      "Epoch 026 | Learning rate 0.000250 | train normalized MSE   3.0947 | val normalized MSE   3.0843, | val MAE   9.9344 | val MSE 308.4321\n"
     ]
    },
    {
     "name": "stderr",
     "output_type": "stream",
     "text": [
      "                                                                     \r"
     ]
    },
    {
     "name": "stdout",
     "output_type": "stream",
     "text": [
      "Epoch 027 | Learning rate 0.000250 | train normalized MSE   3.0945 | val normalized MSE   3.0843, | val MAE   9.9338 | val MSE 308.4290\n"
     ]
    },
    {
     "name": "stderr",
     "output_type": "stream",
     "text": [
      "                                                                     \r"
     ]
    },
    {
     "name": "stdout",
     "output_type": "stream",
     "text": [
      "Epoch 028 | Learning rate 0.000250 | train normalized MSE   3.0943 | val normalized MSE   3.0843, | val MAE   9.9330 | val MSE 308.4277\n"
     ]
    },
    {
     "name": "stderr",
     "output_type": "stream",
     "text": [
      "                                                                     \r"
     ]
    },
    {
     "name": "stdout",
     "output_type": "stream",
     "text": [
      "Epoch 029 | Learning rate 0.000250 | train normalized MSE   3.0934 | val normalized MSE   3.0843, | val MAE   9.9329 | val MSE 308.4303\n"
     ]
    },
    {
     "name": "stderr",
     "output_type": "stream",
     "text": [
      "                                                                     \r"
     ]
    },
    {
     "name": "stdout",
     "output_type": "stream",
     "text": [
      "Epoch 030 | Learning rate 0.000125 | train normalized MSE   3.0938 | val normalized MSE   3.0843, | val MAE   9.9330 | val MSE 308.4300\n"
     ]
    },
    {
     "name": "stderr",
     "output_type": "stream",
     "text": [
      "                                                                     \r"
     ]
    },
    {
     "name": "stdout",
     "output_type": "stream",
     "text": [
      "Epoch 031 | Learning rate 0.000125 | train normalized MSE   3.0945 | val normalized MSE   3.0843, | val MAE   9.9324 | val MSE 308.4283\n"
     ]
    },
    {
     "name": "stderr",
     "output_type": "stream",
     "text": [
      "                                                                     \r"
     ]
    },
    {
     "name": "stdout",
     "output_type": "stream",
     "text": [
      "Epoch 032 | Learning rate 0.000125 | train normalized MSE   3.0955 | val normalized MSE   3.0843, | val MAE   9.9321 | val MSE 308.4271\n"
     ]
    },
    {
     "name": "stderr",
     "output_type": "stream",
     "text": [
      "                                                                     \r"
     ]
    },
    {
     "name": "stdout",
     "output_type": "stream",
     "text": [
      "Epoch 033 | Learning rate 0.000125 | train normalized MSE   3.1594 | val normalized MSE   3.0843, | val MAE   9.9318 | val MSE 308.4253\n"
     ]
    },
    {
     "name": "stderr",
     "output_type": "stream",
     "text": [
      "                                                                     \r"
     ]
    },
    {
     "name": "stdout",
     "output_type": "stream",
     "text": [
      "Epoch 034 | Learning rate 0.000125 | train normalized MSE   3.0946 | val normalized MSE   3.0842, | val MAE   9.9310 | val MSE 308.4228\n"
     ]
    },
    {
     "name": "stderr",
     "output_type": "stream",
     "text": [
      "                                                                     \r"
     ]
    },
    {
     "name": "stdout",
     "output_type": "stream",
     "text": [
      "Epoch 035 | Learning rate 0.000125 | train normalized MSE   3.0943 | val normalized MSE   3.0842, | val MAE   9.9301 | val MSE 308.4192\n"
     ]
    },
    {
     "name": "stderr",
     "output_type": "stream",
     "text": [
      "                                                                     \r"
     ]
    },
    {
     "name": "stdout",
     "output_type": "stream",
     "text": [
      "Epoch 036 | Learning rate 0.000063 | train normalized MSE   3.0937 | val normalized MSE   3.0842, | val MAE   9.9302 | val MSE 308.4192\n"
     ]
    },
    {
     "name": "stderr",
     "output_type": "stream",
     "text": [
      "                                                                     \r"
     ]
    },
    {
     "name": "stdout",
     "output_type": "stream",
     "text": [
      "Epoch 037 | Learning rate 0.000063 | train normalized MSE   3.0932 | val normalized MSE   3.0842, | val MAE   9.9302 | val MSE 308.4189\n"
     ]
    },
    {
     "name": "stderr",
     "output_type": "stream",
     "text": [
      "                                                                     \r"
     ]
    },
    {
     "name": "stdout",
     "output_type": "stream",
     "text": [
      "Epoch 038 | Learning rate 0.000063 | train normalized MSE   3.0941 | val normalized MSE   3.0842, | val MAE   9.9302 | val MSE 308.4184\n"
     ]
    },
    {
     "name": "stderr",
     "output_type": "stream",
     "text": [
      "                                                                     \r"
     ]
    },
    {
     "name": "stdout",
     "output_type": "stream",
     "text": [
      "Epoch 039 | Learning rate 0.000063 | train normalized MSE   3.0939 | val normalized MSE   3.0842, | val MAE   9.9300 | val MSE 308.4176\n"
     ]
    },
    {
     "name": "stderr",
     "output_type": "stream",
     "text": [
      "                                                                     \r"
     ]
    },
    {
     "name": "stdout",
     "output_type": "stream",
     "text": [
      "Epoch 040 | Learning rate 0.000063 | train normalized MSE   3.0943 | val normalized MSE   3.0842, | val MAE   9.9298 | val MSE 308.4169\n"
     ]
    },
    {
     "name": "stderr",
     "output_type": "stream",
     "text": [
      "                                                                     \r"
     ]
    },
    {
     "name": "stdout",
     "output_type": "stream",
     "text": [
      "Epoch 041 | Learning rate 0.000063 | train normalized MSE   3.0934 | val normalized MSE   3.0842, | val MAE   9.9295 | val MSE 308.4167\n"
     ]
    },
    {
     "name": "stderr",
     "output_type": "stream",
     "text": [
      "                                                                     \r"
     ]
    },
    {
     "name": "stdout",
     "output_type": "stream",
     "text": [
      "Epoch 042 | Learning rate 0.000031 | train normalized MSE   3.1020 | val normalized MSE   3.0842, | val MAE   9.9291 | val MSE 308.4156\n"
     ]
    },
    {
     "name": "stderr",
     "output_type": "stream",
     "text": [
      "                                                                     \r"
     ]
    },
    {
     "name": "stdout",
     "output_type": "stream",
     "text": [
      "Epoch 043 | Learning rate 0.000031 | train normalized MSE   3.0938 | val normalized MSE   3.0842, | val MAE   9.9291 | val MSE 308.4154\n"
     ]
    },
    {
     "name": "stderr",
     "output_type": "stream",
     "text": [
      "                                                                     \r"
     ]
    },
    {
     "name": "stdout",
     "output_type": "stream",
     "text": [
      "Epoch 044 | Learning rate 0.000031 | train normalized MSE   3.0998 | val normalized MSE   3.0841, | val MAE   9.9290 | val MSE 308.4148\n"
     ]
    },
    {
     "name": "stderr",
     "output_type": "stream",
     "text": [
      "                                                                     \r"
     ]
    },
    {
     "name": "stdout",
     "output_type": "stream",
     "text": [
      "Epoch 045 | Learning rate 0.000031 | train normalized MSE   3.0941 | val normalized MSE   3.0841, | val MAE   9.9289 | val MSE 308.4142\n"
     ]
    },
    {
     "name": "stderr",
     "output_type": "stream",
     "text": [
      "                                                                     \r"
     ]
    },
    {
     "name": "stdout",
     "output_type": "stream",
     "text": [
      "Epoch 046 | Learning rate 0.000031 | train normalized MSE   3.0942 | val normalized MSE   3.0841, | val MAE   9.9286 | val MSE 308.4138\n"
     ]
    },
    {
     "name": "stderr",
     "output_type": "stream",
     "text": [
      "                                                                     \r"
     ]
    },
    {
     "name": "stdout",
     "output_type": "stream",
     "text": [
      "Epoch 047 | Learning rate 0.000031 | train normalized MSE   3.0942 | val normalized MSE   3.0841, | val MAE   9.9286 | val MSE 308.4134\n"
     ]
    },
    {
     "name": "stderr",
     "output_type": "stream",
     "text": [
      "                                                                     \r"
     ]
    },
    {
     "name": "stdout",
     "output_type": "stream",
     "text": [
      "Epoch 048 | Learning rate 0.000016 | train normalized MSE   3.0933 | val normalized MSE   3.0841, | val MAE   9.9286 | val MSE 308.4134\n"
     ]
    },
    {
     "name": "stderr",
     "output_type": "stream",
     "text": [
      "                                                                     \r"
     ]
    },
    {
     "name": "stdout",
     "output_type": "stream",
     "text": [
      "Epoch 049 | Learning rate 0.000016 | train normalized MSE   3.0930 | val normalized MSE   3.0841, | val MAE   9.9286 | val MSE 308.4136\n"
     ]
    },
    {
     "name": "stderr",
     "output_type": "stream",
     "text": [
      "                                                                     \r"
     ]
    },
    {
     "name": "stdout",
     "output_type": "stream",
     "text": [
      "Epoch 050 | Learning rate 0.000016 | train normalized MSE   3.0943 | val normalized MSE   3.0841, | val MAE   9.9286 | val MSE 308.4132\n"
     ]
    },
    {
     "name": "stderr",
     "output_type": "stream",
     "text": [
      "                                                                     \r"
     ]
    },
    {
     "name": "stdout",
     "output_type": "stream",
     "text": [
      "Epoch 051 | Learning rate 0.000016 | train normalized MSE   3.0932 | val normalized MSE   3.0841, | val MAE   9.9286 | val MSE 308.4127\n"
     ]
    },
    {
     "name": "stderr",
     "output_type": "stream",
     "text": [
      "                                                                     \r"
     ]
    },
    {
     "name": "stdout",
     "output_type": "stream",
     "text": [
      "Epoch 052 | Learning rate 0.000016 | train normalized MSE   3.0934 | val normalized MSE   3.0841, | val MAE   9.9286 | val MSE 308.4130\n"
     ]
    },
    {
     "name": "stderr",
     "output_type": "stream",
     "text": [
      "                                                                     \r"
     ]
    },
    {
     "name": "stdout",
     "output_type": "stream",
     "text": [
      "Epoch 053 | Learning rate 0.000016 | train normalized MSE   3.0936 | val normalized MSE   3.0841, | val MAE   9.9287 | val MSE 308.4129\n"
     ]
    },
    {
     "name": "stderr",
     "output_type": "stream",
     "text": [
      "                                                                     \r"
     ]
    },
    {
     "name": "stdout",
     "output_type": "stream",
     "text": [
      "Epoch 054 | Learning rate 0.000008 | train normalized MSE   3.0934 | val normalized MSE   3.0841, | val MAE   9.9287 | val MSE 308.4128\n"
     ]
    },
    {
     "name": "stderr",
     "output_type": "stream",
     "text": [
      "                                                                     \r"
     ]
    },
    {
     "name": "stdout",
     "output_type": "stream",
     "text": [
      "Epoch 055 | Learning rate 0.000008 | train normalized MSE   3.0942 | val normalized MSE   3.0841, | val MAE   9.9286 | val MSE 308.4127\n"
     ]
    },
    {
     "name": "stderr",
     "output_type": "stream",
     "text": [
      "                                                                     \r"
     ]
    },
    {
     "name": "stdout",
     "output_type": "stream",
     "text": [
      "Epoch 056 | Learning rate 0.000008 | train normalized MSE   3.0940 | val normalized MSE   3.0841, | val MAE   9.9286 | val MSE 308.4127\n"
     ]
    },
    {
     "name": "stderr",
     "output_type": "stream",
     "text": [
      "                                                                     \r"
     ]
    },
    {
     "name": "stdout",
     "output_type": "stream",
     "text": [
      "Epoch 057 | Learning rate 0.000008 | train normalized MSE   3.1033 | val normalized MSE   3.0841, | val MAE   9.9286 | val MSE 308.4127\n"
     ]
    },
    {
     "name": "stderr",
     "output_type": "stream",
     "text": [
      "                                                                     \r"
     ]
    },
    {
     "name": "stdout",
     "output_type": "stream",
     "text": [
      "Epoch 058 | Learning rate 0.000008 | train normalized MSE   3.0937 | val normalized MSE   3.0841, | val MAE   9.9285 | val MSE 308.4126\n"
     ]
    },
    {
     "name": "stderr",
     "output_type": "stream",
     "text": [
      "                                                                     \r"
     ]
    },
    {
     "name": "stdout",
     "output_type": "stream",
     "text": [
      "Epoch 059 | Learning rate 0.000008 | train normalized MSE   3.1008 | val normalized MSE   3.0841, | val MAE   9.9285 | val MSE 308.4125\n"
     ]
    },
    {
     "name": "stderr",
     "output_type": "stream",
     "text": [
      "                                                                     \r"
     ]
    },
    {
     "name": "stdout",
     "output_type": "stream",
     "text": [
      "Epoch 060 | Learning rate 0.000004 | train normalized MSE   3.1555 | val normalized MSE   3.0841, | val MAE   9.9285 | val MSE 308.4125\n"
     ]
    },
    {
     "name": "stderr",
     "output_type": "stream",
     "text": [
      "                                                                     \r"
     ]
    },
    {
     "name": "stdout",
     "output_type": "stream",
     "text": [
      "Epoch 061 | Learning rate 0.000004 | train normalized MSE   3.0941 | val normalized MSE   3.0841, | val MAE   9.9285 | val MSE 308.4126\n"
     ]
    },
    {
     "name": "stderr",
     "output_type": "stream",
     "text": [
      "                                                                     \r"
     ]
    },
    {
     "name": "stdout",
     "output_type": "stream",
     "text": [
      "Epoch 062 | Learning rate 0.000004 | train normalized MSE   3.0943 | val normalized MSE   3.0841, | val MAE   9.9285 | val MSE 308.4126\n"
     ]
    },
    {
     "name": "stderr",
     "output_type": "stream",
     "text": [
      "                                                                     \r"
     ]
    },
    {
     "name": "stdout",
     "output_type": "stream",
     "text": [
      "Epoch 063 | Learning rate 0.000004 | train normalized MSE   3.0936 | val normalized MSE   3.0841, | val MAE   9.9285 | val MSE 308.4127\n"
     ]
    },
    {
     "name": "stderr",
     "output_type": "stream",
     "text": [
      "                                                                     \r"
     ]
    },
    {
     "name": "stdout",
     "output_type": "stream",
     "text": [
      "Epoch 064 | Learning rate 0.000004 | train normalized MSE   3.0943 | val normalized MSE   3.0841, | val MAE   9.9284 | val MSE 308.4126\n"
     ]
    },
    {
     "name": "stderr",
     "output_type": "stream",
     "text": [
      "                                                                     \r"
     ]
    },
    {
     "name": "stdout",
     "output_type": "stream",
     "text": [
      "Epoch 065 | Learning rate 0.000004 | train normalized MSE   3.0940 | val normalized MSE   3.0841, | val MAE   9.9284 | val MSE 308.4125\n"
     ]
    },
    {
     "name": "stderr",
     "output_type": "stream",
     "text": [
      "                                                                     \r"
     ]
    },
    {
     "name": "stdout",
     "output_type": "stream",
     "text": [
      "Epoch 066 | Learning rate 0.000002 | train normalized MSE   3.0936 | val normalized MSE   3.0841, | val MAE   9.9284 | val MSE 308.4125\n"
     ]
    },
    {
     "name": "stderr",
     "output_type": "stream",
     "text": [
      "                                                                     \r"
     ]
    },
    {
     "name": "stdout",
     "output_type": "stream",
     "text": [
      "Epoch 067 | Learning rate 0.000002 | train normalized MSE   3.1200 | val normalized MSE   3.0841, | val MAE   9.9284 | val MSE 308.4125\n"
     ]
    },
    {
     "name": "stderr",
     "output_type": "stream",
     "text": [
      "                                                                     \r"
     ]
    },
    {
     "name": "stdout",
     "output_type": "stream",
     "text": [
      "Epoch 068 | Learning rate 0.000002 | train normalized MSE   3.0936 | val normalized MSE   3.0841, | val MAE   9.9284 | val MSE 308.4125\n"
     ]
    },
    {
     "name": "stderr",
     "output_type": "stream",
     "text": [
      "                                                                     \r"
     ]
    },
    {
     "name": "stdout",
     "output_type": "stream",
     "text": [
      "Epoch 069 | Learning rate 0.000002 | train normalized MSE   3.0934 | val normalized MSE   3.0841, | val MAE   9.9284 | val MSE 308.4125\n"
     ]
    },
    {
     "name": "stderr",
     "output_type": "stream",
     "text": [
      "                                                                     \r"
     ]
    },
    {
     "name": "stdout",
     "output_type": "stream",
     "text": [
      "Epoch 070 | Learning rate 0.000002 | train normalized MSE   3.0948 | val normalized MSE   3.0841, | val MAE   9.9284 | val MSE 308.4125\n"
     ]
    },
    {
     "name": "stderr",
     "output_type": "stream",
     "text": [
      "                                                                     \r"
     ]
    },
    {
     "name": "stdout",
     "output_type": "stream",
     "text": [
      "Epoch 071 | Learning rate 0.000002 | train normalized MSE   3.0940 | val normalized MSE   3.0841, | val MAE   9.9284 | val MSE 308.4125\n"
     ]
    },
    {
     "name": "stderr",
     "output_type": "stream",
     "text": [
      "                                                                     \r"
     ]
    },
    {
     "name": "stdout",
     "output_type": "stream",
     "text": [
      "Epoch 072 | Learning rate 0.000001 | train normalized MSE   3.0934 | val normalized MSE   3.0841, | val MAE   9.9284 | val MSE 308.4125\n"
     ]
    },
    {
     "name": "stderr",
     "output_type": "stream",
     "text": [
      "                                                                     \r"
     ]
    },
    {
     "name": "stdout",
     "output_type": "stream",
     "text": [
      "Epoch 073 | Learning rate 0.000001 | train normalized MSE   3.0938 | val normalized MSE   3.0841, | val MAE   9.9284 | val MSE 308.4124\n"
     ]
    },
    {
     "name": "stderr",
     "output_type": "stream",
     "text": [
      "                                                                     \r"
     ]
    },
    {
     "name": "stdout",
     "output_type": "stream",
     "text": [
      "Epoch 074 | Learning rate 0.000001 | train normalized MSE   3.0941 | val normalized MSE   3.0841, | val MAE   9.9284 | val MSE 308.4124\n"
     ]
    },
    {
     "name": "stderr",
     "output_type": "stream",
     "text": [
      "                                                                     \r"
     ]
    },
    {
     "name": "stdout",
     "output_type": "stream",
     "text": [
      "Epoch 075 | Learning rate 0.000001 | train normalized MSE   3.0934 | val normalized MSE   3.0841, | val MAE   9.9284 | val MSE 308.4124\n"
     ]
    },
    {
     "name": "stderr",
     "output_type": "stream",
     "text": [
      "                                                                     \r"
     ]
    },
    {
     "name": "stdout",
     "output_type": "stream",
     "text": [
      "Epoch 076 | Learning rate 0.000001 | train normalized MSE   3.0936 | val normalized MSE   3.0841, | val MAE   9.9284 | val MSE 308.4124\n"
     ]
    },
    {
     "name": "stderr",
     "output_type": "stream",
     "text": [
      "                                                                     \r"
     ]
    },
    {
     "name": "stdout",
     "output_type": "stream",
     "text": [
      "Epoch 077 | Learning rate 0.000001 | train normalized MSE   3.1237 | val normalized MSE   3.0841, | val MAE   9.9284 | val MSE 308.4124\n"
     ]
    },
    {
     "name": "stderr",
     "output_type": "stream",
     "text": [
      "                                                                     \r"
     ]
    },
    {
     "name": "stdout",
     "output_type": "stream",
     "text": [
      "Epoch 078 | Learning rate 0.000000 | train normalized MSE   3.0937 | val normalized MSE   3.0841, | val MAE   9.9284 | val MSE 308.4124\n"
     ]
    },
    {
     "name": "stderr",
     "output_type": "stream",
     "text": [
      "                                                                     \r"
     ]
    },
    {
     "name": "stdout",
     "output_type": "stream",
     "text": [
      "Epoch 079 | Learning rate 0.000000 | train normalized MSE   3.0939 | val normalized MSE   3.0841, | val MAE   9.9284 | val MSE 308.4124\n"
     ]
    },
    {
     "name": "stderr",
     "output_type": "stream",
     "text": [
      "                                                                     \r"
     ]
    },
    {
     "name": "stdout",
     "output_type": "stream",
     "text": [
      "Epoch 080 | Learning rate 0.000000 | train normalized MSE   3.0938 | val normalized MSE   3.0841, | val MAE   9.9284 | val MSE 308.4124\n"
     ]
    },
    {
     "name": "stderr",
     "output_type": "stream",
     "text": [
      "                                                                     \r"
     ]
    },
    {
     "name": "stdout",
     "output_type": "stream",
     "text": [
      "Epoch 081 | Learning rate 0.000000 | train normalized MSE   3.2711 | val normalized MSE   3.0841, | val MAE   9.9284 | val MSE 308.4124\n"
     ]
    },
    {
     "name": "stderr",
     "output_type": "stream",
     "text": [
      "                                                                     \r"
     ]
    },
    {
     "name": "stdout",
     "output_type": "stream",
     "text": [
      "Epoch 082 | Learning rate 0.000000 | train normalized MSE   3.0945 | val normalized MSE   3.0841, | val MAE   9.9284 | val MSE 308.4124\n"
     ]
    },
    {
     "name": "stderr",
     "output_type": "stream",
     "text": [
      "                                                                     \r"
     ]
    },
    {
     "name": "stdout",
     "output_type": "stream",
     "text": [
      "Epoch 083 | Learning rate 0.000000 | train normalized MSE   3.0934 | val normalized MSE   3.0841, | val MAE   9.9283 | val MSE 308.4124\n"
     ]
    },
    {
     "name": "stderr",
     "output_type": "stream",
     "text": [
      "                                                                     \r"
     ]
    },
    {
     "name": "stdout",
     "output_type": "stream",
     "text": [
      "Epoch 084 | Learning rate 0.000000 | train normalized MSE   3.0935 | val normalized MSE   3.0841, | val MAE   9.9283 | val MSE 308.4124\n"
     ]
    },
    {
     "name": "stderr",
     "output_type": "stream",
     "text": [
      "                                                                     \r"
     ]
    },
    {
     "name": "stdout",
     "output_type": "stream",
     "text": [
      "Epoch 085 | Learning rate 0.000000 | train normalized MSE   3.0939 | val normalized MSE   3.0841, | val MAE   9.9283 | val MSE 308.4124\n"
     ]
    },
    {
     "name": "stderr",
     "output_type": "stream",
     "text": [
      "                                                                     \r"
     ]
    },
    {
     "name": "stdout",
     "output_type": "stream",
     "text": [
      "Epoch 086 | Learning rate 0.000000 | train normalized MSE   3.0934 | val normalized MSE   3.0841, | val MAE   9.9283 | val MSE 308.4124\n"
     ]
    },
    {
     "name": "stderr",
     "output_type": "stream",
     "text": [
      "                                                                     \r"
     ]
    },
    {
     "name": "stdout",
     "output_type": "stream",
     "text": [
      "Epoch 087 | Learning rate 0.000000 | train normalized MSE   3.0947 | val normalized MSE   3.0841, | val MAE   9.9283 | val MSE 308.4124\n"
     ]
    },
    {
     "name": "stderr",
     "output_type": "stream",
     "text": [
      "                                                                     \r"
     ]
    },
    {
     "name": "stdout",
     "output_type": "stream",
     "text": [
      "Epoch 088 | Learning rate 0.000000 | train normalized MSE   3.0941 | val normalized MSE   3.0841, | val MAE   9.9283 | val MSE 308.4124\n"
     ]
    },
    {
     "name": "stderr",
     "output_type": "stream",
     "text": [
      "                                                                     \r"
     ]
    },
    {
     "name": "stdout",
     "output_type": "stream",
     "text": [
      "Epoch 089 | Learning rate 0.000000 | train normalized MSE   3.0935 | val normalized MSE   3.0841, | val MAE   9.9283 | val MSE 308.4124\n"
     ]
    },
    {
     "name": "stderr",
     "output_type": "stream",
     "text": [
      "                                                                     \r"
     ]
    },
    {
     "name": "stdout",
     "output_type": "stream",
     "text": [
      "Epoch 090 | Learning rate 0.000000 | train normalized MSE   3.0940 | val normalized MSE   3.0841, | val MAE   9.9283 | val MSE 308.4124\n"
     ]
    },
    {
     "name": "stderr",
     "output_type": "stream",
     "text": [
      "                                                                     \r"
     ]
    },
    {
     "name": "stdout",
     "output_type": "stream",
     "text": [
      "Epoch 091 | Learning rate 0.000000 | train normalized MSE   3.0938 | val normalized MSE   3.0841, | val MAE   9.9283 | val MSE 308.4124\n"
     ]
    },
    {
     "name": "stderr",
     "output_type": "stream",
     "text": [
      "                                                                     \r"
     ]
    },
    {
     "name": "stdout",
     "output_type": "stream",
     "text": [
      "Epoch 092 | Learning rate 0.000000 | train normalized MSE   3.0942 | val normalized MSE   3.0841, | val MAE   9.9283 | val MSE 308.4124\n"
     ]
    },
    {
     "name": "stderr",
     "output_type": "stream",
     "text": [
      "                                                                     \r"
     ]
    },
    {
     "name": "stdout",
     "output_type": "stream",
     "text": [
      "Epoch 093 | Learning rate 0.000000 | train normalized MSE   3.1125 | val normalized MSE   3.0841, | val MAE   9.9283 | val MSE 308.4124\n"
     ]
    },
    {
     "name": "stderr",
     "output_type": "stream",
     "text": [
      "                                                                     \r"
     ]
    },
    {
     "name": "stdout",
     "output_type": "stream",
     "text": [
      "Epoch 094 | Learning rate 0.000000 | train normalized MSE   3.0935 | val normalized MSE   3.0841, | val MAE   9.9283 | val MSE 308.4124\n"
     ]
    },
    {
     "name": "stderr",
     "output_type": "stream",
     "text": [
      "                                                                     \r"
     ]
    },
    {
     "name": "stdout",
     "output_type": "stream",
     "text": [
      "Epoch 095 | Learning rate 0.000000 | train normalized MSE   3.0943 | val normalized MSE   3.0841, | val MAE   9.9283 | val MSE 308.4124\n"
     ]
    },
    {
     "name": "stderr",
     "output_type": "stream",
     "text": [
      "                                                                     \r"
     ]
    },
    {
     "name": "stdout",
     "output_type": "stream",
     "text": [
      "Epoch 096 | Learning rate 0.000000 | train normalized MSE   3.0938 | val normalized MSE   3.0841, | val MAE   9.9283 | val MSE 308.4124\n"
     ]
    },
    {
     "name": "stderr",
     "output_type": "stream",
     "text": [
      "                                                                     \r"
     ]
    },
    {
     "name": "stdout",
     "output_type": "stream",
     "text": [
      "Epoch 097 | Learning rate 0.000000 | train normalized MSE   3.0935 | val normalized MSE   3.0841, | val MAE   9.9283 | val MSE 308.4124\n"
     ]
    },
    {
     "name": "stderr",
     "output_type": "stream",
     "text": [
      "                                                                     \r"
     ]
    },
    {
     "name": "stdout",
     "output_type": "stream",
     "text": [
      "Epoch 098 | Learning rate 0.000000 | train normalized MSE   3.0942 | val normalized MSE   3.0841, | val MAE   9.9283 | val MSE 308.4124\n"
     ]
    },
    {
     "name": "stderr",
     "output_type": "stream",
     "text": [
      "                                                                      \r"
     ]
    },
    {
     "name": "stdout",
     "output_type": "stream",
     "text": [
      "Epoch 099 | Learning rate 0.000000 | train normalized MSE   3.0943 | val normalized MSE   3.0841, | val MAE   9.9283 | val MSE 308.4124\n"
     ]
    },
    {
     "data": {
      "image/png": "[encoded data removed]",
      "text/plain": [
       "<Figure size 1200x800 with 3 Axes>"
      ]
     },
     "metadata": {},
     "output_type": "display_data"
    },
    {
     "name": "stderr",
     "output_type": "stream",
     "text": [
      "Testing: 100%|██████████| 66/66 [00:00<00:00, 139.42it/s]\n"
     ]
    }
   ],
   "source": [
    "def train_model(model, train_dataloader, val_dataloader, device, num_epochs=100, early_stopping_patience=15):\n",
    "    model = model.to(device)\n",
    "    criterion = nn.MSELoss()\n",
    "    optimizer = optim.Adam(model.parameters(), lr=1e-3)\n",
    "    scheduler = ReduceLROnPlateau(optimizer, mode='min', factor=0.5, patience=5)\n",
    "    \n",
    "    # for storing metrics\n",
    "    train_losses = []\n",
    "    val_losses = []\n",
    "    val_maes = []\n",
    "    val_mses = []\n",
    "    \n",
    "    best_val_loss = float('inf')\n",
    "    best_model_state = None\n",
    "    patience_counter = 0\n",
    "    \n",
    "    # Training loop ----------------\n",
    "    for epoch in range(num_epochs):\n",
    "        model.train()\n",
    "        train_loss = 0.0\n",
    "        \n",
    "        for batch in tqdm.tqdm(train_dataloader, desc=f\"Epoch {epoch+1}/{num_epochs} [Train]\", leave=False):\n",
    "            batch_x = None #[3200, 50, 6] --> input features, 3200 total sequences each length 50 with 6 features\n",
    "            batch_y = None #[3840, 2] --> target features associated with input data \n",
    "\n",
    "            if isinstance(batch, tuple) or isinstance(batch, list):\n",
    "                batch_x, batch_y = batch\n",
    "                batch_y = batch_y.view(-1, 60, 2)\n",
    "            else:\n",
    "                batch = batch.to(device)\n",
    "                batch_x = batch.x \n",
    "                batch_y = batch.y.view(batch.num_graphs, 60, 2) \n",
    "            \n",
    "            optimizer.zero_grad()\n",
    "            \n",
    "            # Forward pass\n",
    "            outputs = model(batch_x)\n",
    "            targets = batch.y.to(device)\n",
    "            loss = criterion(outputs, batch_y)\n",
    "            \n",
    "            # Backward pass \n",
    "            loss.backward()\n",
    "            optimizer.step()\n",
    "            train_loss += loss.item() * batch.num_graphs\n",
    "        \n",
    "        train_loss /= len(train_dataloader.dataset)\n",
    "        train_losses.append(train_loss)\n",
    "        \n",
    "        # Validation ----------------\n",
    "        model.eval()\n",
    "        val_loss = 0.0\n",
    "        val_mae = 0.0\n",
    "        val_mse = 0.0\n",
    "        num_val_samples = 0\n",
    "        \n",
    "        with torch.no_grad():\n",
    "            for batch in tqdm.tqdm(val_dataloader, desc=f\"Epoch {epoch+1}/{num_epochs} [Val]\", leave=False):\n",
    "                batch_x = None\n",
    "                batch_y = None\n",
    "                if isinstance(batch, tuple) or isinstance(batch, list):\n",
    "                    batch_x, batch_y = batch\n",
    "                    batch_y = batch_y.view(-1, 60, 2)\n",
    "                else:\n",
    "                    batch = batch.to(device)\n",
    "                    batch_x = batch.x\n",
    "                    batch_y = batch.y.view(batch.num_graphs, 60, 2)\n",
    "\n",
    "                batch_size = batch.num_graphs\n",
    "                num_val_samples += batch_size\n",
    "                \n",
    "                # Forward pass\n",
    "                outputs = model(batch_x)\n",
    "                targets = batch.y.to(device)\n",
    "                loss = criterion(outputs, batch_y)\n",
    "                val_loss += loss.item() * batch_size\n",
    "            \n",
    "                scale_factor = batch.scale.view(-1, 1, 1).to(device)\n",
    "                pred_unnormalized = outputs * scale_factor\n",
    "                targets_unnormalized = targets.view(outputs.shape) * scale_factor\n",
    "\n",
    "                mae = torch.abs(pred_unnormalized - targets_unnormalized).mean().item()\n",
    "                mse = ((pred_unnormalized - targets_unnormalized) ** 2).mean().item()\n",
    "                val_mae += mae * batch_size\n",
    "                val_mse += mse * batch_size\n",
    "        \n",
    "        # do metric stuff\n",
    "        val_loss /= num_val_samples\n",
    "        val_mae /= num_val_samples\n",
    "        val_mse /= num_val_samples\n",
    "        \n",
    "        val_losses.append(val_loss)\n",
    "        val_maes.append(val_mae)\n",
    "        val_mses.append(val_mse)\n",
    "        tqdm.tqdm.write(f\"Epoch {epoch:03d} | Learning rate {optimizer.param_groups[0]['lr']:.6f} | train normalized MSE {train_loss:8.4f} | val normalized MSE {val_loss:8.4f}, | val MAE {val_mae:8.4f} | val MSE {val_mse:8.4f}\")\n",
    "        \n",
    "        scheduler.step(val_loss)\n",
    "        \n",
    "        if val_loss < best_val_loss:\n",
    "            best_val_loss = val_loss\n",
    "            best_model_state = model.state_dict().copy()\n",
    "            patience_counter = 0\n",
    "        else:\n",
    "            patience_counter += 1\n",
    "            if patience_counter >= early_stopping_patience:\n",
    "                tqdm.tqdm.write(f\"Early stopping at epoch {epoch}\")\n",
    "                break\n",
    "    \n",
    "    # Load best model\n",
    "    model.load_state_dict(best_model_state)\n",
    "    \n",
    "    return model, train_losses, val_losses, val_maes, val_mses\n",
    "\n",
    "# Create and train the MLP model\n",
    "input_features = 50 * 50 * 6  # our data dimensions\n",
    "output_features = 60 * 2      # 60 timestamps and 2 coordinates (x, y)\n",
    "\n",
    "model = MLP(input_features, output_features)\n",
    "model, train_losses, val_losses, val_maes, val_mses = train_model(\n",
    "    model, \n",
    "    train_dataloader, \n",
    "    val_dataloader, \n",
    "    device,\n",
    "    num_epochs=100,\n",
    "    early_stopping_patience=15\n",
    ")\n",
    "\n",
    "# Plot the results\n",
    "plt.figure(figsize=(12, 8))\n",
    "\n",
    "plt.subplot(2, 2, 1)\n",
    "plt.plot(train_losses, label='Train Loss')\n",
    "plt.plot(val_losses, label='Validation Loss')\n",
    "plt.xlabel('Epoch')\n",
    "plt.ylabel('Normalized MSE')\n",
    "plt.title('Training and Validation Loss')\n",
    "plt.legend()\n",
    "\n",
    "plt.subplot(2, 2, 2)\n",
    "plt.plot(val_maes)\n",
    "plt.xlabel('Epoch')\n",
    "plt.ylabel('MAE')\n",
    "plt.title('Validation MAE')\n",
    "\n",
    "plt.subplot(2, 2, 3)\n",
    "plt.plot(val_mses)\n",
    "plt.xlabel('Epoch')\n",
    "plt.ylabel('MSE')\n",
    "plt.title('Validation MSE')\n",
    "\n",
    "plt.tight_layout()\n",
    "plt.show()\n",
    "\n",
    "# Save the model\n",
    "torch.save(model.state_dict(), 'mlp_model.pth')\n",
    "\n",
    "# For testing on test data\n",
    "def test_model(model, test_dataloader, device):\n",
    "    model.eval()\n",
    "    predictions = []\n",
    "    \n",
    "    with torch.no_grad():\n",
    "        for batch in tqdm.tqdm(test_dataloader, desc=\"Testing\"):\n",
    "            batch = batch.to(device)\n",
    "            outputs = model(batch.x)\n",
    "            \n",
    "            # Unnormalize predictions\n",
    "            scale_factor = batch.scale.view(-1, 1, 1).to(device)\n",
    "            pred_unnormalized = outputs * scale_factor\n",
    "            origin = batch.origin.to(device)  \n",
    "            pred_unnormalized = pred_unnormalized + origin.view(-1, 1, 2)\n",
    "            \n",
    "            # Append to predictions list\n",
    "            predictions.append(pred_unnormalized.cpu().numpy())\n",
    "    \n",
    "    all_predictions = np.concatenate(predictions, axis=0)\n",
    "    return all_predictions\n",
    "\n",
    "# run tests now \n",
    "test_dataset = TrajectoryDatasetTest(test_data, scale=scale)\n",
    "test_dataloader = DataLoader(test_dataset, batch_size=32, shuffle=False, collate_fn=lambda x: Batch.from_data_list(x))\n",
    "\n",
    "test_predictions = test_model(model, test_dataloader, device)"
   ]
  },
  {
   "cell_type": "markdown",
   "id": "e0fb5441",
   "metadata": {},
   "source": [
    "Can see that MLP has much lower val MAE than linear regression (in the 9.9-10 range)! \n",
    "\n",
    "Alas, now we test the LSTM model."
   ]
  },
  {
   "cell_type": "code",
   "execution_count": 23,
   "id": "7add30ac",
   "metadata": {},
   "outputs": [
    {
     "name": "stderr",
     "output_type": "stream",
     "text": [
      "Epoch:   0%|          | 0/50 [00:00<?, ?epoch/s]/var/folders/k0/0k4d4ymn0d7_g9v6fws_l0j80000gn/T/ipykernel_257/1780213679.py:68: DeprecationWarning: __array_wrap__ must accept context and return_scalar arguments (positionally) in the future. (Deprecated NumPy 2.0)\n",
      "  future = future - origin\n",
      "/var/folders/k0/0k4d4ymn0d7_g9v6fws_l0j80000gn/T/ipykernel_257/1780213679.py:59: DeprecationWarning: __array_wrap__ must accept context and return_scalar arguments (positionally) in the future. (Deprecated NumPy 2.0)\n",
      "  future = future @ R\n",
      "Epoch:   2%|▏         | 1/50 [00:06<05:05,  6.23s/epoch]"
     ]
    },
    {
     "name": "stdout",
     "output_type": "stream",
     "text": [
      "Epoch 000 | Learning rate 0.005000 | train normalized MSE   0.8825 | val normalized MSE   0.4166, | val MAE   2.4641 | val MSE  20.4139\n"
     ]
    },
    {
     "name": "stderr",
     "output_type": "stream",
     "text": [
      "Epoch:   4%|▍         | 2/50 [00:10<04:16,  5.34s/epoch]"
     ]
    },
    {
     "name": "stdout",
     "output_type": "stream",
     "text": [
      "Epoch 001 | Learning rate 0.005000 | train normalized MSE   0.3915 | val normalized MSE   0.3979, | val MAE   2.3917 | val MSE  19.4976\n"
     ]
    },
    {
     "name": "stderr",
     "output_type": "stream",
     "text": [
      "Epoch:   6%|▌         | 3/50 [00:15<03:52,  4.94s/epoch]"
     ]
    },
    {
     "name": "stdout",
     "output_type": "stream",
     "text": [
      "Epoch 002 | Learning rate 0.005000 | train normalized MSE   0.3497 | val normalized MSE   0.3200, | val MAE   2.1203 | val MSE  15.6807\n"
     ]
    },
    {
     "name": "stderr",
     "output_type": "stream",
     "text": [
      "Epoch:   8%|▊         | 4/50 [00:19<03:39,  4.78s/epoch]"
     ]
    },
    {
     "name": "stdout",
     "output_type": "stream",
     "text": [
      "Epoch 003 | Learning rate 0.005000 | train normalized MSE   0.3183 | val normalized MSE   0.2758, | val MAE   1.9326 | val MSE  13.5122\n"
     ]
    },
    {
     "name": "stderr",
     "output_type": "stream",
     "text": [
      "Epoch:  10%|█         | 5/50 [00:24<03:32,  4.72s/epoch]"
     ]
    },
    {
     "name": "stdout",
     "output_type": "stream",
     "text": [
      "Epoch 004 | Learning rate 0.005000 | train normalized MSE   0.2971 | val normalized MSE   0.2718, | val MAE   1.8995 | val MSE  13.3183\n"
     ]
    },
    {
     "name": "stderr",
     "output_type": "stream",
     "text": [
      "Epoch:  12%|█▏        | 6/50 [00:29<03:27,  4.71s/epoch]"
     ]
    },
    {
     "name": "stdout",
     "output_type": "stream",
     "text": [
      "Epoch 005 | Learning rate 0.005000 | train normalized MSE   0.2712 | val normalized MSE   0.2416, | val MAE   1.7790 | val MSE  11.8382\n"
     ]
    },
    {
     "name": "stderr",
     "output_type": "stream",
     "text": [
      "Epoch:  14%|█▍        | 7/50 [00:33<03:22,  4.70s/epoch]"
     ]
    },
    {
     "name": "stdout",
     "output_type": "stream",
     "text": [
      "Epoch 006 | Learning rate 0.005000 | train normalized MSE   0.2551 | val normalized MSE   0.2448, | val MAE   1.8591 | val MSE  11.9964\n"
     ]
    },
    {
     "name": "stderr",
     "output_type": "stream",
     "text": [
      "Epoch:  16%|█▌        | 8/50 [00:38<03:19,  4.74s/epoch]"
     ]
    },
    {
     "name": "stdout",
     "output_type": "stream",
     "text": [
      "Epoch 007 | Learning rate 0.005000 | train normalized MSE   0.2471 | val normalized MSE   0.2244, | val MAE   1.7467 | val MSE  10.9936\n"
     ]
    },
    {
     "name": "stderr",
     "output_type": "stream",
     "text": [
      "Epoch:  18%|█▊        | 9/50 [00:43<03:14,  4.75s/epoch]"
     ]
    },
    {
     "name": "stdout",
     "output_type": "stream",
     "text": [
      "Epoch 008 | Learning rate 0.005000 | train normalized MSE   0.2356 | val normalized MSE   0.2133, | val MAE   1.6523 | val MSE  10.4537\n"
     ]
    },
    {
     "name": "stderr",
     "output_type": "stream",
     "text": [
      "Epoch:  20%|██        | 10/50 [00:48<03:09,  4.74s/epoch]"
     ]
    },
    {
     "name": "stdout",
     "output_type": "stream",
     "text": [
      "Epoch 009 | Learning rate 0.002500 | train normalized MSE   0.2689 | val normalized MSE   0.2358, | val MAE   1.8523 | val MSE  11.5523\n"
     ]
    },
    {
     "name": "stderr",
     "output_type": "stream",
     "text": [
      "Epoch:  22%|██▏       | 11/50 [00:52<03:03,  4.72s/epoch]"
     ]
    },
    {
     "name": "stdout",
     "output_type": "stream",
     "text": [
      "Epoch 010 | Learning rate 0.002500 | train normalized MSE   0.2161 | val normalized MSE   0.2059, | val MAE   1.5263 | val MSE  10.0883\n"
     ]
    },
    {
     "name": "stderr",
     "output_type": "stream",
     "text": [
      "Epoch:  24%|██▍       | 12/50 [00:57<02:57,  4.68s/epoch]"
     ]
    },
    {
     "name": "stdout",
     "output_type": "stream",
     "text": [
      "Epoch 011 | Learning rate 0.002500 | train normalized MSE   0.2074 | val normalized MSE   0.2019, | val MAE   1.5572 | val MSE   9.8921\n"
     ]
    },
    {
     "name": "stderr",
     "output_type": "stream",
     "text": [
      "Epoch:  26%|██▌       | 13/50 [01:02<02:53,  4.68s/epoch]"
     ]
    },
    {
     "name": "stdout",
     "output_type": "stream",
     "text": [
      "Epoch 012 | Learning rate 0.002500 | train normalized MSE   0.2032 | val normalized MSE   0.1953, | val MAE   1.4866 | val MSE   9.5694\n"
     ]
    },
    {
     "name": "stderr",
     "output_type": "stream",
     "text": [
      "Epoch:  28%|██▊       | 14/50 [01:06<02:48,  4.67s/epoch]"
     ]
    },
    {
     "name": "stdout",
     "output_type": "stream",
     "text": [
      "Epoch 013 | Learning rate 0.002500 | train normalized MSE   0.2019 | val normalized MSE   0.1921, | val MAE   1.5037 | val MSE   9.4127\n"
     ]
    },
    {
     "name": "stderr",
     "output_type": "stream",
     "text": [
      "Epoch:  30%|███       | 15/50 [01:11<02:44,  4.69s/epoch]"
     ]
    },
    {
     "name": "stdout",
     "output_type": "stream",
     "text": [
      "Epoch 014 | Learning rate 0.002500 | train normalized MSE   0.1995 | val normalized MSE   0.1902, | val MAE   1.4642 | val MSE   9.3218\n"
     ]
    },
    {
     "name": "stderr",
     "output_type": "stream",
     "text": [
      "Epoch:  32%|███▏      | 16/50 [01:16<02:40,  4.73s/epoch]"
     ]
    },
    {
     "name": "stdout",
     "output_type": "stream",
     "text": [
      "Epoch 015 | Learning rate 0.002500 | train normalized MSE   0.1998 | val normalized MSE   0.1981, | val MAE   1.5966 | val MSE   9.7084\n"
     ]
    },
    {
     "name": "stderr",
     "output_type": "stream",
     "text": [
      "Epoch:  34%|███▍      | 17/50 [01:21<02:35,  4.71s/epoch]"
     ]
    },
    {
     "name": "stdout",
     "output_type": "stream",
     "text": [
      "Epoch 016 | Learning rate 0.002500 | train normalized MSE   0.1965 | val normalized MSE   0.1896, | val MAE   1.4800 | val MSE   9.2923\n"
     ]
    },
    {
     "name": "stderr",
     "output_type": "stream",
     "text": [
      "Epoch:  36%|███▌      | 18/50 [01:25<02:29,  4.67s/epoch]"
     ]
    },
    {
     "name": "stdout",
     "output_type": "stream",
     "text": [
      "Epoch 017 | Learning rate 0.002500 | train normalized MSE   0.1947 | val normalized MSE   0.1912, | val MAE   1.5272 | val MSE   9.3664\n"
     ]
    },
    {
     "name": "stderr",
     "output_type": "stream",
     "text": [
      "Epoch:  38%|███▊      | 19/50 [01:30<02:25,  4.68s/epoch]"
     ]
    },
    {
     "name": "stdout",
     "output_type": "stream",
     "text": [
      "Epoch 018 | Learning rate 0.002500 | train normalized MSE   0.1949 | val normalized MSE   0.1968, | val MAE   1.5331 | val MSE   9.6456\n"
     ]
    },
    {
     "name": "stderr",
     "output_type": "stream",
     "text": [
      "Epoch:  40%|████      | 20/50 [01:35<02:20,  4.68s/epoch]"
     ]
    },
    {
     "name": "stdout",
     "output_type": "stream",
     "text": [
      "Epoch 019 | Learning rate 0.001250 | train normalized MSE   0.1970 | val normalized MSE   0.1846, | val MAE   1.4772 | val MSE   9.0444\n"
     ]
    },
    {
     "name": "stderr",
     "output_type": "stream",
     "text": [
      "Epoch:  42%|████▏     | 21/50 [01:39<02:15,  4.68s/epoch]"
     ]
    },
    {
     "name": "stdout",
     "output_type": "stream",
     "text": [
      "Epoch 020 | Learning rate 0.001250 | train normalized MSE   0.1830 | val normalized MSE   0.1752, | val MAE   1.4007 | val MSE   8.5824\n"
     ]
    },
    {
     "name": "stderr",
     "output_type": "stream",
     "text": [
      "Epoch:  44%|████▍     | 22/50 [01:44<02:14,  4.80s/epoch]"
     ]
    },
    {
     "name": "stdout",
     "output_type": "stream",
     "text": [
      "Epoch 021 | Learning rate 0.001250 | train normalized MSE   0.1817 | val normalized MSE   0.1814, | val MAE   1.4576 | val MSE   8.8865\n"
     ]
    },
    {
     "name": "stderr",
     "output_type": "stream",
     "text": [
      "Epoch:  46%|████▌     | 23/50 [01:49<02:08,  4.76s/epoch]"
     ]
    },
    {
     "name": "stdout",
     "output_type": "stream",
     "text": [
      "Epoch 022 | Learning rate 0.001250 | train normalized MSE   0.1800 | val normalized MSE   0.1787, | val MAE   1.3890 | val MSE   8.7565\n"
     ]
    },
    {
     "name": "stderr",
     "output_type": "stream",
     "text": [
      "Epoch:  48%|████▊     | 24/50 [01:54<02:03,  4.74s/epoch]"
     ]
    },
    {
     "name": "stdout",
     "output_type": "stream",
     "text": [
      "Epoch 023 | Learning rate 0.001250 | train normalized MSE   0.1787 | val normalized MSE   0.1815, | val MAE   1.4392 | val MSE   8.8914\n"
     ]
    },
    {
     "name": "stderr",
     "output_type": "stream",
     "text": [
      "Epoch:  50%|█████     | 25/50 [01:58<01:59,  4.76s/epoch]"
     ]
    },
    {
     "name": "stdout",
     "output_type": "stream",
     "text": [
      "Epoch 024 | Learning rate 0.001250 | train normalized MSE   0.1794 | val normalized MSE   0.1788, | val MAE   1.4009 | val MSE   8.7628\n"
     ]
    },
    {
     "name": "stderr",
     "output_type": "stream",
     "text": [
      "Epoch:  52%|█████▏    | 26/50 [02:03<01:52,  4.71s/epoch]"
     ]
    },
    {
     "name": "stdout",
     "output_type": "stream",
     "text": [
      "Epoch 025 | Learning rate 0.001250 | train normalized MSE   0.1789 | val normalized MSE   0.1753, | val MAE   1.4199 | val MSE   8.5893\n"
     ]
    },
    {
     "name": "stderr",
     "output_type": "stream",
     "text": [
      "Epoch:  54%|█████▍    | 27/50 [02:08<01:47,  4.67s/epoch]"
     ]
    },
    {
     "name": "stdout",
     "output_type": "stream",
     "text": [
      "Epoch 026 | Learning rate 0.001250 | train normalized MSE   0.1764 | val normalized MSE   0.1771, | val MAE   1.4428 | val MSE   8.6783\n"
     ]
    },
    {
     "name": "stderr",
     "output_type": "stream",
     "text": [
      "Epoch:  56%|█████▌    | 28/50 [02:12<01:42,  4.68s/epoch]"
     ]
    },
    {
     "name": "stdout",
     "output_type": "stream",
     "text": [
      "Epoch 027 | Learning rate 0.001250 | train normalized MSE   0.1768 | val normalized MSE   0.1724, | val MAE   1.3996 | val MSE   8.4498\n"
     ]
    },
    {
     "name": "stderr",
     "output_type": "stream",
     "text": [
      "Epoch:  58%|█████▊    | 29/50 [02:17<01:37,  4.66s/epoch]"
     ]
    },
    {
     "name": "stdout",
     "output_type": "stream",
     "text": [
      "Epoch 028 | Learning rate 0.001250 | train normalized MSE   0.1782 | val normalized MSE   0.1750, | val MAE   1.3896 | val MSE   8.5759\n"
     ]
    },
    {
     "name": "stderr",
     "output_type": "stream",
     "text": [
      "Epoch:  60%|██████    | 30/50 [02:22<01:32,  4.65s/epoch]"
     ]
    },
    {
     "name": "stdout",
     "output_type": "stream",
     "text": [
      "Epoch 029 | Learning rate 0.000625 | train normalized MSE   0.1776 | val normalized MSE   0.1781, | val MAE   1.4039 | val MSE   8.7272\n"
     ]
    },
    {
     "name": "stderr",
     "output_type": "stream",
     "text": [
      "Epoch:  62%|██████▏   | 31/50 [02:26<01:28,  4.67s/epoch]"
     ]
    },
    {
     "name": "stdout",
     "output_type": "stream",
     "text": [
      "Epoch 030 | Learning rate 0.000625 | train normalized MSE   0.1725 | val normalized MSE   0.1717, | val MAE   1.3830 | val MSE   8.4151\n"
     ]
    },
    {
     "name": "stderr",
     "output_type": "stream",
     "text": [
      "Epoch:  64%|██████▍   | 32/50 [02:31<01:23,  4.66s/epoch]"
     ]
    },
    {
     "name": "stdout",
     "output_type": "stream",
     "text": [
      "Epoch 031 | Learning rate 0.000625 | train normalized MSE   0.1708 | val normalized MSE   0.1673, | val MAE   1.3545 | val MSE   8.1996\n"
     ]
    },
    {
     "name": "stderr",
     "output_type": "stream",
     "text": [
      "Epoch:  66%|██████▌   | 33/50 [02:36<01:19,  4.65s/epoch]"
     ]
    },
    {
     "name": "stdout",
     "output_type": "stream",
     "text": [
      "Epoch 032 | Learning rate 0.000625 | train normalized MSE   0.1695 | val normalized MSE   0.1688, | val MAE   1.3442 | val MSE   8.2703\n"
     ]
    },
    {
     "name": "stderr",
     "output_type": "stream",
     "text": [
      "Epoch:  68%|██████▊   | 34/50 [02:40<01:14,  4.65s/epoch]"
     ]
    },
    {
     "name": "stdout",
     "output_type": "stream",
     "text": [
      "Epoch 033 | Learning rate 0.000625 | train normalized MSE   0.1694 | val normalized MSE   0.1770, | val MAE   1.3630 | val MSE   8.6732\n"
     ]
    },
    {
     "name": "stderr",
     "output_type": "stream",
     "text": [
      "Epoch:  70%|███████   | 35/50 [02:45<01:11,  4.75s/epoch]"
     ]
    },
    {
     "name": "stdout",
     "output_type": "stream",
     "text": [
      "Epoch 034 | Learning rate 0.000625 | train normalized MSE   0.1689 | val normalized MSE   0.1726, | val MAE   1.3622 | val MSE   8.4556\n"
     ]
    },
    {
     "name": "stderr",
     "output_type": "stream",
     "text": [
      "Epoch:  72%|███████▏  | 36/50 [02:50<01:06,  4.73s/epoch]"
     ]
    },
    {
     "name": "stdout",
     "output_type": "stream",
     "text": [
      "Epoch 035 | Learning rate 0.000625 | train normalized MSE   0.1685 | val normalized MSE   0.1709, | val MAE   1.3654 | val MSE   8.3739\n"
     ]
    },
    {
     "name": "stderr",
     "output_type": "stream",
     "text": [
      "Epoch:  74%|███████▍  | 37/50 [02:55<01:01,  4.73s/epoch]"
     ]
    },
    {
     "name": "stdout",
     "output_type": "stream",
     "text": [
      "Epoch 036 | Learning rate 0.000625 | train normalized MSE   0.1680 | val normalized MSE   0.1690, | val MAE   1.3323 | val MSE   8.2814\n"
     ]
    },
    {
     "name": "stderr",
     "output_type": "stream",
     "text": [
      "Epoch:  76%|███████▌  | 38/50 [02:59<00:56,  4.71s/epoch]"
     ]
    },
    {
     "name": "stdout",
     "output_type": "stream",
     "text": [
      "Epoch 037 | Learning rate 0.000625 | train normalized MSE   0.1672 | val normalized MSE   0.1701, | val MAE   1.3563 | val MSE   8.3351\n"
     ]
    },
    {
     "name": "stderr",
     "output_type": "stream",
     "text": [
      "Epoch:  78%|███████▊  | 39/50 [03:04<00:51,  4.67s/epoch]"
     ]
    },
    {
     "name": "stdout",
     "output_type": "stream",
     "text": [
      "Epoch 038 | Learning rate 0.000625 | train normalized MSE   0.1676 | val normalized MSE   0.1684, | val MAE   1.3265 | val MSE   8.2496\n"
     ]
    },
    {
     "name": "stderr",
     "output_type": "stream",
     "text": [
      "Epoch:  80%|████████  | 40/50 [03:09<00:46,  4.67s/epoch]"
     ]
    },
    {
     "name": "stdout",
     "output_type": "stream",
     "text": [
      "Epoch 039 | Learning rate 0.000313 | train normalized MSE   0.1682 | val normalized MSE   0.1710, | val MAE   1.3575 | val MSE   8.3786\n"
     ]
    },
    {
     "name": "stderr",
     "output_type": "stream",
     "text": [
      "Epoch:  82%|████████▏ | 41/50 [03:13<00:42,  4.71s/epoch]"
     ]
    },
    {
     "name": "stdout",
     "output_type": "stream",
     "text": [
      "Epoch 040 | Learning rate 0.000313 | train normalized MSE   0.1660 | val normalized MSE   0.1659, | val MAE   1.3296 | val MSE   8.1304\n"
     ]
    },
    {
     "name": "stderr",
     "output_type": "stream",
     "text": [
      "Epoch:  84%|████████▍ | 42/50 [03:18<00:37,  4.68s/epoch]"
     ]
    },
    {
     "name": "stdout",
     "output_type": "stream",
     "text": [
      "Epoch 041 | Learning rate 0.000313 | train normalized MSE   0.1636 | val normalized MSE   0.1685, | val MAE   1.3175 | val MSE   8.2556\n"
     ]
    },
    {
     "name": "stderr",
     "output_type": "stream",
     "text": [
      "Epoch:  86%|████████▌ | 43/50 [03:23<00:33,  4.72s/epoch]"
     ]
    },
    {
     "name": "stdout",
     "output_type": "stream",
     "text": [
      "Epoch 042 | Learning rate 0.000313 | train normalized MSE   0.1634 | val normalized MSE   0.1687, | val MAE   1.3850 | val MSE   8.2645\n"
     ]
    },
    {
     "name": "stderr",
     "output_type": "stream",
     "text": [
      "Epoch:  88%|████████▊ | 44/50 [03:28<00:28,  4.75s/epoch]"
     ]
    },
    {
     "name": "stdout",
     "output_type": "stream",
     "text": [
      "Epoch 043 | Learning rate 0.000313 | train normalized MSE   0.1626 | val normalized MSE   0.1674, | val MAE   1.3394 | val MSE   8.2050\n"
     ]
    },
    {
     "name": "stderr",
     "output_type": "stream",
     "text": [
      "Epoch:  90%|█████████ | 45/50 [03:32<00:23,  4.72s/epoch]"
     ]
    },
    {
     "name": "stdout",
     "output_type": "stream",
     "text": [
      "Epoch 044 | Learning rate 0.000313 | train normalized MSE   0.1633 | val normalized MSE   0.1690, | val MAE   1.3458 | val MSE   8.2825\n"
     ]
    },
    {
     "name": "stderr",
     "output_type": "stream",
     "text": [
      "Epoch:  92%|█████████▏| 46/50 [03:37<00:18,  4.71s/epoch]"
     ]
    },
    {
     "name": "stdout",
     "output_type": "stream",
     "text": [
      "Epoch 045 | Learning rate 0.000313 | train normalized MSE   0.1620 | val normalized MSE   0.1675, | val MAE   1.3322 | val MSE   8.2062\n"
     ]
    },
    {
     "name": "stderr",
     "output_type": "stream",
     "text": [
      "Epoch:  94%|█████████▍| 47/50 [03:42<00:14,  4.73s/epoch]"
     ]
    },
    {
     "name": "stdout",
     "output_type": "stream",
     "text": [
      "Epoch 046 | Learning rate 0.000313 | train normalized MSE   0.1624 | val normalized MSE   0.1678, | val MAE   1.3541 | val MSE   8.2226\n"
     ]
    },
    {
     "name": "stderr",
     "output_type": "stream",
     "text": [
      "Epoch:  96%|█████████▌| 48/50 [03:46<00:09,  4.74s/epoch]"
     ]
    },
    {
     "name": "stdout",
     "output_type": "stream",
     "text": [
      "Epoch 047 | Learning rate 0.000313 | train normalized MSE   0.1628 | val normalized MSE   0.1663, | val MAE   1.3277 | val MSE   8.1493\n"
     ]
    },
    {
     "name": "stderr",
     "output_type": "stream",
     "text": [
      "Epoch:  98%|█████████▊| 49/50 [03:51<00:04,  4.71s/epoch]"
     ]
    },
    {
     "name": "stdout",
     "output_type": "stream",
     "text": [
      "Epoch 048 | Learning rate 0.000313 | train normalized MSE   0.1616 | val normalized MSE   0.1700, | val MAE   1.3681 | val MSE   8.3280\n"
     ]
    },
    {
     "name": "stderr",
     "output_type": "stream",
     "text": [
      "Epoch: 100%|██████████| 50/50 [03:56<00:00,  4.72s/epoch]"
     ]
    },
    {
     "name": "stdout",
     "output_type": "stream",
     "text": [
      "Epoch 049 | Learning rate 0.000156 | train normalized MSE   0.1616 | val normalized MSE   0.1682, | val MAE   1.3362 | val MSE   8.2403\n"
     ]
    },
    {
     "name": "stderr",
     "output_type": "stream",
     "text": [
      "\n"
     ]
    }
   ],
   "source": [
    "# running the LSTM model\n",
    "model = LSTM().to(device) \n",
    "\n",
    "\n",
    "# setting Adam with the parameters from Part A (ran with best parameters)\n",
    "optimizer = optim.Adam(model.parameters(), lr=0.005, weight_decay=0)\n",
    "scheduler = optim.lr_scheduler.StepLR(optimizer, step_size=10, gamma=0.5) # You can try different schedulers\n",
    "\n",
    "run_model_with_adam(model, optimizer, scheduler)\n",
    "\n"
   ]
  },
  {
   "cell_type": "markdown",
   "id": "b15f0a44",
   "metadata": {},
   "source": [
    "LSTM with Adam optimizer got val MAE  down lowest out of the 3 models (in the 1.3 range) and the val MSE is also the lowest (8.2 range). "
   ]
  },
  {
   "cell_type": "code",
   "execution_count": 83,
   "id": "aef9bcc5",
   "metadata": {},
   "outputs": [
    {
     "name": "stderr",
     "output_type": "stream",
     "text": [
      "Epoch:   0%|          | 0/50 [00:00<?, ?epoch/s]/var/folders/k0/0k4d4ymn0d7_g9v6fws_l0j80000gn/T/ipykernel_257/2808079002.py:71: DeprecationWarning: __array_wrap__ must accept context and return_scalar arguments (positionally) in the future. (Deprecated NumPy 2.0)\n",
      "  future = future - origin\n",
      "/var/folders/k0/0k4d4ymn0d7_g9v6fws_l0j80000gn/T/ipykernel_257/2808079002.py:62: DeprecationWarning: __array_wrap__ must accept context and return_scalar arguments (positionally) in the future. (Deprecated NumPy 2.0)\n",
      "  future = future @ R\n",
      "Epoch:   2%|▏         | 1/50 [00:02<01:38,  2.02s/epoch]"
     ]
    },
    {
     "name": "stdout",
     "output_type": "stream",
     "text": [
      "Epoch 000 | Learning rate 0.001000 | train normalized MSE   2.4924 | val normalized MSE   1.4101, | val MAE   7.1328 | val MSE 141.0084\n"
     ]
    },
    {
     "name": "stderr",
     "output_type": "stream",
     "text": [
      "Epoch:   4%|▍         | 2/50 [00:03<01:28,  1.85s/epoch]"
     ]
    },
    {
     "name": "stdout",
     "output_type": "stream",
     "text": [
      "Epoch 001 | Learning rate 0.001000 | train normalized MSE   1.0932 | val normalized MSE   0.7870, | val MAE   5.3799 | val MSE  78.6953\n"
     ]
    },
    {
     "name": "stderr",
     "output_type": "stream",
     "text": [
      "Epoch:   6%|▌         | 3/50 [00:05<01:24,  1.80s/epoch]"
     ]
    },
    {
     "name": "stdout",
     "output_type": "stream",
     "text": [
      "Epoch 002 | Learning rate 0.001000 | train normalized MSE   0.6250 | val normalized MSE   0.4409, | val MAE   3.7792 | val MSE  44.0908\n"
     ]
    },
    {
     "name": "stderr",
     "output_type": "stream",
     "text": [
      "Epoch:   8%|▊         | 4/50 [00:07<01:23,  1.81s/epoch]"
     ]
    },
    {
     "name": "stdout",
     "output_type": "stream",
     "text": [
      "Epoch 003 | Learning rate 0.001000 | train normalized MSE   0.3863 | val normalized MSE   0.3318, | val MAE   3.2726 | val MSE  33.1819\n"
     ]
    },
    {
     "name": "stderr",
     "output_type": "stream",
     "text": [
      "Epoch:  10%|█         | 5/50 [00:09<01:21,  1.82s/epoch]"
     ]
    },
    {
     "name": "stdout",
     "output_type": "stream",
     "text": [
      "Epoch 004 | Learning rate 0.001000 | train normalized MSE   0.2947 | val normalized MSE   0.2992, | val MAE   3.0995 | val MSE  29.9240\n"
     ]
    },
    {
     "name": "stderr",
     "output_type": "stream",
     "text": [
      "Epoch:  12%|█▏        | 6/50 [00:11<01:21,  1.86s/epoch]"
     ]
    },
    {
     "name": "stdout",
     "output_type": "stream",
     "text": [
      "Epoch 005 | Learning rate 0.001000 | train normalized MSE   0.2741 | val normalized MSE   0.2693, | val MAE   2.9807 | val MSE  26.9334\n"
     ]
    },
    {
     "name": "stderr",
     "output_type": "stream",
     "text": [
      "Epoch:  14%|█▍        | 7/50 [00:12<01:19,  1.85s/epoch]"
     ]
    },
    {
     "name": "stdout",
     "output_type": "stream",
     "text": [
      "Epoch 006 | Learning rate 0.001000 | train normalized MSE   0.2573 | val normalized MSE   0.2342, | val MAE   2.6024 | val MSE  23.4162\n"
     ]
    },
    {
     "name": "stderr",
     "output_type": "stream",
     "text": [
      "Epoch:  16%|█▌        | 8/50 [00:14<01:18,  1.86s/epoch]"
     ]
    },
    {
     "name": "stdout",
     "output_type": "stream",
     "text": [
      "Epoch 007 | Learning rate 0.001000 | train normalized MSE   0.2403 | val normalized MSE   0.2282, | val MAE   2.6923 | val MSE  22.8225\n"
     ]
    },
    {
     "name": "stderr",
     "output_type": "stream",
     "text": [
      "Epoch:  18%|█▊        | 9/50 [00:16<01:15,  1.83s/epoch]"
     ]
    },
    {
     "name": "stdout",
     "output_type": "stream",
     "text": [
      "Epoch 008 | Learning rate 0.001000 | train normalized MSE   0.2283 | val normalized MSE   0.2083, | val MAE   2.4731 | val MSE  20.8276\n"
     ]
    },
    {
     "name": "stderr",
     "output_type": "stream",
     "text": [
      "Epoch:  20%|██        | 10/50 [00:18<01:11,  1.79s/epoch]"
     ]
    },
    {
     "name": "stdout",
     "output_type": "stream",
     "text": [
      "Epoch 009 | Learning rate 0.000100 | train normalized MSE   0.2151 | val normalized MSE   0.2141, | val MAE   2.7046 | val MSE  21.4127\n"
     ]
    },
    {
     "name": "stderr",
     "output_type": "stream",
     "text": [
      "Epoch:  22%|██▏       | 11/50 [00:20<01:10,  1.80s/epoch]"
     ]
    },
    {
     "name": "stdout",
     "output_type": "stream",
     "text": [
      "Epoch 010 | Learning rate 0.000100 | train normalized MSE   0.1943 | val normalized MSE   0.1820, | val MAE   2.1960 | val MSE  18.2005\n"
     ]
    },
    {
     "name": "stderr",
     "output_type": "stream",
     "text": [
      "Epoch:  24%|██▍       | 12/50 [00:21<01:08,  1.80s/epoch]"
     ]
    },
    {
     "name": "stdout",
     "output_type": "stream",
     "text": [
      "Epoch 011 | Learning rate 0.000100 | train normalized MSE   0.1827 | val normalized MSE   0.1812, | val MAE   2.2297 | val MSE  18.1185\n"
     ]
    },
    {
     "name": "stderr",
     "output_type": "stream",
     "text": [
      "Epoch:  26%|██▌       | 13/50 [00:23<01:06,  1.79s/epoch]"
     ]
    },
    {
     "name": "stdout",
     "output_type": "stream",
     "text": [
      "Epoch 012 | Learning rate 0.000100 | train normalized MSE   0.1899 | val normalized MSE   0.1783, | val MAE   2.1908 | val MSE  17.8343\n"
     ]
    },
    {
     "name": "stderr",
     "output_type": "stream",
     "text": [
      "Epoch:  28%|██▊       | 14/50 [00:25<01:03,  1.78s/epoch]"
     ]
    },
    {
     "name": "stdout",
     "output_type": "stream",
     "text": [
      "Epoch 013 | Learning rate 0.000100 | train normalized MSE   0.1856 | val normalized MSE   0.1750, | val MAE   2.2164 | val MSE  17.4963\n"
     ]
    },
    {
     "name": "stderr",
     "output_type": "stream",
     "text": [
      "Epoch:  30%|███       | 15/50 [00:27<01:01,  1.76s/epoch]"
     ]
    },
    {
     "name": "stdout",
     "output_type": "stream",
     "text": [
      "Epoch 014 | Learning rate 0.000100 | train normalized MSE   0.1840 | val normalized MSE   0.1741, | val MAE   2.1970 | val MSE  17.4109\n"
     ]
    },
    {
     "name": "stderr",
     "output_type": "stream",
     "text": [
      "Epoch:  32%|███▏      | 16/50 [00:28<00:59,  1.76s/epoch]"
     ]
    },
    {
     "name": "stdout",
     "output_type": "stream",
     "text": [
      "Epoch 015 | Learning rate 0.000100 | train normalized MSE   0.1816 | val normalized MSE   0.1743, | val MAE   2.2100 | val MSE  17.4331\n"
     ]
    },
    {
     "name": "stderr",
     "output_type": "stream",
     "text": [
      "Epoch:  34%|███▍      | 17/50 [00:30<00:58,  1.77s/epoch]"
     ]
    },
    {
     "name": "stdout",
     "output_type": "stream",
     "text": [
      "Epoch 016 | Learning rate 0.000100 | train normalized MSE   0.1738 | val normalized MSE   0.1702, | val MAE   2.1649 | val MSE  17.0198\n"
     ]
    },
    {
     "name": "stderr",
     "output_type": "stream",
     "text": [
      "Epoch:  36%|███▌      | 18/50 [00:32<00:56,  1.77s/epoch]"
     ]
    },
    {
     "name": "stdout",
     "output_type": "stream",
     "text": [
      "Epoch 017 | Learning rate 0.000100 | train normalized MSE   0.1792 | val normalized MSE   0.1686, | val MAE   2.1793 | val MSE  16.8618\n"
     ]
    },
    {
     "name": "stderr",
     "output_type": "stream",
     "text": [
      "Epoch:  38%|███▊      | 19/50 [00:34<00:54,  1.75s/epoch]"
     ]
    },
    {
     "name": "stdout",
     "output_type": "stream",
     "text": [
      "Epoch 018 | Learning rate 0.000100 | train normalized MSE   0.1711 | val normalized MSE   0.1648, | val MAE   2.0887 | val MSE  16.4751\n"
     ]
    },
    {
     "name": "stderr",
     "output_type": "stream",
     "text": [
      "Epoch:  40%|████      | 20/50 [00:36<00:53,  1.79s/epoch]"
     ]
    },
    {
     "name": "stdout",
     "output_type": "stream",
     "text": [
      "Epoch 019 | Learning rate 0.000010 | train normalized MSE   0.1701 | val normalized MSE   0.1652, | val MAE   2.1061 | val MSE  16.5177\n"
     ]
    },
    {
     "name": "stderr",
     "output_type": "stream",
     "text": [
      "Epoch:  42%|████▏     | 21/50 [00:37<00:52,  1.82s/epoch]"
     ]
    },
    {
     "name": "stdout",
     "output_type": "stream",
     "text": [
      "Epoch 020 | Learning rate 0.000010 | train normalized MSE   0.1665 | val normalized MSE   0.1635, | val MAE   2.0729 | val MSE  16.3489\n"
     ]
    },
    {
     "name": "stderr",
     "output_type": "stream",
     "text": [
      "Epoch:  44%|████▍     | 22/50 [00:39<00:50,  1.81s/epoch]"
     ]
    },
    {
     "name": "stdout",
     "output_type": "stream",
     "text": [
      "Epoch 021 | Learning rate 0.000010 | train normalized MSE   0.1635 | val normalized MSE   0.1630, | val MAE   2.0753 | val MSE  16.3050\n"
     ]
    },
    {
     "name": "stderr",
     "output_type": "stream",
     "text": [
      "Epoch:  46%|████▌     | 23/50 [00:41<00:48,  1.78s/epoch]"
     ]
    },
    {
     "name": "stdout",
     "output_type": "stream",
     "text": [
      "Epoch 022 | Learning rate 0.000010 | train normalized MSE   0.1651 | val normalized MSE   0.1625, | val MAE   2.0662 | val MSE  16.2524\n"
     ]
    },
    {
     "name": "stderr",
     "output_type": "stream",
     "text": [
      "Epoch:  48%|████▊     | 24/50 [00:43<00:46,  1.77s/epoch]"
     ]
    },
    {
     "name": "stdout",
     "output_type": "stream",
     "text": [
      "Epoch 023 | Learning rate 0.000010 | train normalized MSE   0.1659 | val normalized MSE   0.1627, | val MAE   2.0714 | val MSE  16.2708\n"
     ]
    },
    {
     "name": "stderr",
     "output_type": "stream",
     "text": [
      "Epoch:  50%|█████     | 25/50 [00:44<00:44,  1.78s/epoch]"
     ]
    },
    {
     "name": "stdout",
     "output_type": "stream",
     "text": [
      "Epoch 024 | Learning rate 0.000010 | train normalized MSE   0.1637 | val normalized MSE   0.1628, | val MAE   2.0693 | val MSE  16.2787\n"
     ]
    },
    {
     "name": "stderr",
     "output_type": "stream",
     "text": [
      "Epoch:  52%|█████▏    | 26/50 [00:46<00:43,  1.80s/epoch]"
     ]
    },
    {
     "name": "stdout",
     "output_type": "stream",
     "text": [
      "Epoch 025 | Learning rate 0.000010 | train normalized MSE   0.1644 | val normalized MSE   0.1623, | val MAE   2.0688 | val MSE  16.2265\n"
     ]
    },
    {
     "name": "stderr",
     "output_type": "stream",
     "text": [
      "Epoch:  54%|█████▍    | 27/50 [00:48<00:41,  1.80s/epoch]"
     ]
    },
    {
     "name": "stdout",
     "output_type": "stream",
     "text": [
      "Epoch 026 | Learning rate 0.000010 | train normalized MSE   0.1676 | val normalized MSE   0.1617, | val MAE   2.0704 | val MSE  16.1691\n"
     ]
    },
    {
     "name": "stderr",
     "output_type": "stream",
     "text": [
      "Epoch:  56%|█████▌    | 28/50 [00:50<00:39,  1.78s/epoch]"
     ]
    },
    {
     "name": "stdout",
     "output_type": "stream",
     "text": [
      "Epoch 027 | Learning rate 0.000010 | train normalized MSE   0.1691 | val normalized MSE   0.1625, | val MAE   2.0760 | val MSE  16.2547\n"
     ]
    },
    {
     "name": "stderr",
     "output_type": "stream",
     "text": [
      "Epoch:  58%|█████▊    | 29/50 [00:52<00:36,  1.76s/epoch]"
     ]
    },
    {
     "name": "stdout",
     "output_type": "stream",
     "text": [
      "Epoch 028 | Learning rate 0.000010 | train normalized MSE   0.1636 | val normalized MSE   0.1622, | val MAE   2.0852 | val MSE  16.2237\n"
     ]
    },
    {
     "name": "stderr",
     "output_type": "stream",
     "text": [
      "Epoch:  60%|██████    | 30/50 [00:53<00:35,  1.77s/epoch]"
     ]
    },
    {
     "name": "stdout",
     "output_type": "stream",
     "text": [
      "Epoch 029 | Learning rate 0.000001 | train normalized MSE   0.1673 | val normalized MSE   0.1620, | val MAE   2.0665 | val MSE  16.1993\n"
     ]
    },
    {
     "name": "stderr",
     "output_type": "stream",
     "text": [
      "Epoch:  62%|██████▏   | 31/50 [00:55<00:34,  1.79s/epoch]"
     ]
    },
    {
     "name": "stdout",
     "output_type": "stream",
     "text": [
      "Epoch 030 | Learning rate 0.000001 | train normalized MSE   0.1649 | val normalized MSE   0.1619, | val MAE   2.0650 | val MSE  16.1935\n"
     ]
    },
    {
     "name": "stderr",
     "output_type": "stream",
     "text": [
      "Epoch:  64%|██████▍   | 32/50 [00:57<00:32,  1.80s/epoch]"
     ]
    },
    {
     "name": "stdout",
     "output_type": "stream",
     "text": [
      "Epoch 031 | Learning rate 0.000001 | train normalized MSE   0.1673 | val normalized MSE   0.1618, | val MAE   2.0657 | val MSE  16.1829\n"
     ]
    },
    {
     "name": "stderr",
     "output_type": "stream",
     "text": [
      "Epoch:  66%|██████▌   | 33/50 [00:59<00:30,  1.78s/epoch]"
     ]
    },
    {
     "name": "stdout",
     "output_type": "stream",
     "text": [
      "Epoch 032 | Learning rate 0.000001 | train normalized MSE   0.1676 | val normalized MSE   0.1618, | val MAE   2.0663 | val MSE  16.1760\n"
     ]
    },
    {
     "name": "stderr",
     "output_type": "stream",
     "text": [
      "Epoch:  68%|██████▊   | 34/50 [01:01<00:28,  1.78s/epoch]"
     ]
    },
    {
     "name": "stdout",
     "output_type": "stream",
     "text": [
      "Epoch 033 | Learning rate 0.000001 | train normalized MSE   0.1633 | val normalized MSE   0.1617, | val MAE   2.0670 | val MSE  16.1738\n"
     ]
    },
    {
     "name": "stderr",
     "output_type": "stream",
     "text": [
      "Epoch:  70%|███████   | 35/50 [01:02<00:26,  1.78s/epoch]"
     ]
    },
    {
     "name": "stdout",
     "output_type": "stream",
     "text": [
      "Epoch 034 | Learning rate 0.000001 | train normalized MSE   0.1646 | val normalized MSE   0.1616, | val MAE   2.0669 | val MSE  16.1583\n"
     ]
    },
    {
     "name": "stderr",
     "output_type": "stream",
     "text": [
      "Epoch:  70%|███████   | 35/50 [01:04<00:27,  1.85s/epoch]"
     ]
    },
    {
     "name": "stdout",
     "output_type": "stream",
     "text": [
      "Epoch 035 | Learning rate 0.000001 | train normalized MSE   0.1636 | val normalized MSE   0.1614, | val MAE   2.0655 | val MSE  16.1394\n",
      "Early stop!\n"
     ]
    },
    {
     "name": "stderr",
     "output_type": "stream",
     "text": [
      "\n"
     ]
    }
   ],
   "source": [
    "# running the LSTM model\n",
    "model = LSTM().to(device) \n",
    "\n",
    "\n",
    "# setting Adam with the parameters from Part A (ran with best average parameters)\n",
    "optimizer = optim.Adam(model.parameters(), lr=0.001, weight_decay=1e-5)\n",
    "scheduler = optim.lr_scheduler.StepLR(optimizer, step_size=10, gamma=0.1) # You can try different schedulers\n",
    "\n",
    "run_model_with_adam(model, optimizer, scheduler)\n",
    "\n"
   ]
  },
  {
   "cell_type": "code",
   "execution_count": null,
   "id": "5dd9d2d2",
   "metadata": {},
   "outputs": [],
   "source": []
  }
 ],
 "metadata": {
  "kernelspec": {
   "display_name": "milestone",
   "language": "python",
   "name": "python3"
  },
  "language_info": {
   "codemirror_mode": {
    "name": "ipython",
    "version": 3
   },
   "file_extension": ".py",
   "mimetype": "text/x-python",
   "name": "python",
   "nbconvert_exporter": "python",
   "pygments_lexer": "ipython3",
   "version": "3.13.2"
  }
 },
 "nbformat": 4,
 "nbformat_minor": 5
}
