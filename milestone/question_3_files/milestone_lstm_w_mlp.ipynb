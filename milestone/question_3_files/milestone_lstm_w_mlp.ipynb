{
 "cells": [
  {
   "cell_type": "code",
   "execution_count": 1,
   "metadata": {},
   "outputs": [],
   "source": [
    "import os\n",
    "import sys\n",
    "from tqdm import tqdm\n",
    "from datetime import datetime\n",
    "import random\n",
    "\n",
    "import numpy as np\n",
    "import pandas as pd\n",
    "import matplotlib.pyplot as plt\n",
    "import matplotlib.animation as animation\n",
    "from sklearn.model_selection import TimeSeriesSplit\n",
    "\n",
    "import torch\n",
    "import torch.nn as nn\n",
    "import torch.optim as optim\n",
    "import torch.optim.lr_scheduler as lr_scheduler\n",
    "from torch.utils.data import Dataset, DataLoader, TensorDataset\n",
    "from torch_geometric.data import Data, Batch"
   ]
  },
  {
   "cell_type": "code",
   "execution_count": 2,
   "metadata": {},
   "outputs": [
    {
     "name": "stdout",
     "output_type": "stream",
     "text": [
      "train_data's shape: (10000, 50, 110, 6)\n",
      "test_data's shape: (2100, 50, 50, 6)\n"
     ]
    }
   ],
   "source": [
    "# Create submission folder if it doesn't exist\n",
    "submission_dir = './submission'\n",
    "os.makedirs(submission_dir, exist_ok=True)\n",
    "\n",
    "# Uncomment the following block ONLY if you wish to inspect file paths in a Kaggle-like directory structure.\n",
    "# On your local system, you likely have the files in your local folder so this is not needed.\n",
    "# for dirname, _, filenames in os.walk('/kaggle/input'):\n",
    "#     for filename in filenames:\n",
    "#         print(os.path.join(dirname, filename))\n",
    "\n",
    "\n",
    "# Data Loading for Local Environment\n",
    "# Files are assumed to be in:\n",
    "# ./cse-251-b-2025/train.npz\n",
    "# ./cse-251-b-2025/test_input.npz\n",
    "\n",
    "train_file = np.load(\"./cse-251-b-2025/train.npz\")\n",
    "train_data = train_file['data']\n",
    "print(\"train_data's shape:\", train_data.shape)  # Expected shape: (10000, 50, 110, 6)\n",
    "\n",
    "test_file = np.load(\"./cse-251-b-2025/test_input.npz\")\n",
    "test_data = test_file['data']\n",
    "print(\"test_data's shape:\", test_data.shape)    # Expected shape: (2100, 50, 50, 6)"
   ]
  },
  {
   "cell_type": "markdown",
   "metadata": {},
   "source": [
    "# Visualization: "
   ]
  },
  {
   "cell_type": "code",
   "execution_count": 3,
   "metadata": {},
   "outputs": [],
   "source": [
    "# Run visualizations?\n",
    "run_visualizations: bool = False\n",
    "\n",
    "# From data loading notebook\n",
    "def plot_one_training_scene(idx: int = 0):\n",
    "    # Plot trajectories from one training scene (static plot)\n",
    "    data_matrix = train_data[idx]\n",
    "\n",
    "    plt.figure(figsize=(8, 8))\n",
    "    for agent in range(data_matrix.shape[idx]):\n",
    "        xs = data_matrix[agent, :, 0]\n",
    "        ys = data_matrix[agent, :, 1]\n",
    "        # Remove zeros (padding)\n",
    "        xs = xs[xs != 0]\n",
    "        ys = ys[ys != 0]\n",
    "        plt.plot(xs, ys, alpha=0.7)\n",
    "    plt.title(\"Trajectories from one training scene\")\n",
    "    plt.xlabel(\"x-coordinate\")\n",
    "    plt.ylabel(\"y-coordinate\")\n",
    "    plt.show()\n",
    "\n",
    "# Create an animated gif for one training scene (exact code provided on kaggle)\n",
    "def make_gif(data_matrix, name='example'):\n",
    "    cmap = None\n",
    "    if sys.version_info.minor <= 7:\n",
    "        cmap = plt.cm.get_cmap(\"viridis\", 50)\n",
    "    else:\n",
    "        cmap = plt.get_cmap(\"viridis\", 50)\n",
    "\n",
    "    fig, ax = plt.subplots(figsize=(10, 10))\n",
    "    # Function to update plot for each frame\n",
    "    def update(frame):\n",
    "        ax.clear()\n",
    "        # Get data for current timestep\n",
    "        for i in range(1, data_matrix.shape[0]):\n",
    "            x = data_matrix[i, frame, 0]\n",
    "            y = data_matrix[i, frame, 1]\n",
    "            if x != 0 and y != 0:\n",
    "                xs = data_matrix[i, :frame+1, 0]  # Include current frame\n",
    "                ys = data_matrix[i, :frame+1, 1]  # Include current frame\n",
    "                # trim all zeros\n",
    "                mask = (xs != 0) & (ys != 0)  # Only keep points where both x and y are non-zero\n",
    "                xs = xs[mask]\n",
    "                ys = ys[mask]\n",
    "                # Only plot if we have points to plot\n",
    "                if len(xs) > 0 and len(ys) > 0:\n",
    "                    color = cmap(i)\n",
    "                    ax.plot(xs, ys, alpha=0.9, color=color)\n",
    "                    ax.scatter(x, y, s=80, color=color)\n",
    "        ax.plot(data_matrix[0, :frame, 0], data_matrix[0, :frame, 1],\n",
    "                color='tab:orange', label='Ego Vehicle')\n",
    "        ax.scatter(data_matrix[0, frame, 0], data_matrix[0, frame, 1],\n",
    "                   s=80, color='tab:orange')\n",
    "        # Set title with timestep\n",
    "        ax.set_title(f'Timestep {frame}')\n",
    "        # Set consistent axis limits\n",
    "        ax.set_xlim(data_matrix[:,:,0][data_matrix[:,:,0] != 0].min() - 10, \n",
    "                    data_matrix[:,:,0][data_matrix[:,:,0] != 0].max() + 10)\n",
    "        ax.set_ylim(data_matrix[:,:,1][data_matrix[:,:,1] != 0].min() - 10, \n",
    "                    data_matrix[:,:,1][data_matrix[:,:,1] != 0].max() + 10)\n",
    "        ax.legend()\n",
    "        return ax.collections + ax.lines\n",
    "\n",
    "    # Create animation\n",
    "    anim = animation.FuncAnimation(fig, update, frames=list(range(0, data_matrix.shape[1], 3)),\n",
    "                                   interval=100, blit=True)\n",
    "    # Save as GIF\n",
    "    anim.save(f'trajectory_visualization_{name}.gif', writer='pillow')\n",
    "    plt.close()\n",
    "\n",
    "if run_visualizations:\n",
    "    plot_one_training_scene(0)\n",
    "    make_gif(train_data[0], 'index0')"
   ]
  },
  {
   "cell_type": "markdown",
   "metadata": {},
   "source": [
    "# Constant velocity from test set\n",
    "Untouched from original data loading notebook."
   ]
  },
  {
   "cell_type": "code",
   "execution_count": 4,
   "metadata": {},
   "outputs": [],
   "source": [
    "# Run constant velocity model (Kaggle score of ~50)?\n",
    "run_constant_velocity_model: bool = False\n",
    "\n",
    "if run_constant_velocity_model:\n",
    "    # Compute the velocity differences for the ego vehicle (agent index 0)\n",
    "    velocity_diff = test_data[..., 1:, :2] - test_data[..., :-1, :2]\n",
    "    print(\"Velocity difference shape:\", velocity_diff.shape)\n",
    "\n",
    "    # Compute average velocity for the ego vehicle (index 0) in each scene\n",
    "    constant_vel = np.mean(velocity_diff[:, 0, :, :], axis=1)\n",
    "    print(\"Constant velocity shape:\", constant_vel.shape)\n",
    "\n",
    "    # Generate predictions for 60 future time steps based on constant velocity\n",
    "    pred_y_const = np.zeros((test_data.shape[0], 60, 2))\n",
    "    starting_point = test_data[:, 0, -1, :2]  # Last observed position of ego vehicle\n",
    "\n",
    "    for t in range(60):\n",
    "        pred_y_const[:, t, :] = starting_point + (t + 1) * constant_vel\n",
    "\n",
    "    # Reshape predictions to submission format: (2100, 60, 2) -> (12600, 2)\n",
    "    pred_output_const = pred_y_const.reshape(-1, 2)\n",
    "    output_df_const = pd.DataFrame(pred_output_const, columns=['x', 'y'])\n",
    "    output_df_const.index.name = 'index'\n",
    "    # Save output in the submission folder\n",
    "    constant_vel_path = os.path.join(submission_dir, 'constant_vel_submission.csv')\n",
    "    output_df_const.to_csv(constant_vel_path)\n",
    "    print(f\"Constant velocity submission saved locally as '{constant_vel_path}'.\")"
   ]
  },
  {
   "cell_type": "markdown",
   "metadata": {},
   "source": [
    "# Our Work"
   ]
  },
  {
   "cell_type": "code",
   "execution_count": 5,
   "metadata": {},
   "outputs": [],
   "source": [
    "# MLP model with residual blocks: ineffective for TimeSeries data\n",
    "class BasicMLP(nn.Module):\n",
    "    def __init__(self, input_features, output_features):\n",
    "        super().__init__()\n",
    "\n",
    "        # Lazy layers infer the input size instead of having to explicitly pass it in\n",
    "        # Backbone: linear -> BatchNorm -> PReLU -> Dropout\n",
    "        self.net = nn.Sequential(\n",
    "            nn.Linear(input_features, 1024),\n",
    "            nn.BatchNorm1d(1024),\n",
    "            nn.PReLU(),\n",
    "            nn.Dropout(0.2),\n",
    "\n",
    "            nn.Linear(1024, 512),\n",
    "            nn.BatchNorm1d(512),\n",
    "            nn.PReLU(),\n",
    "            nn.Dropout(0.2),\n",
    "\n",
    "            nn.Linear(512, 256),\n",
    "            nn.BatchNorm1d(256),\n",
    "            nn.PReLU(),\n",
    "            nn.Dropout(0.2),\n",
    "        ) # Note: residual width must match the last width of the net\n",
    "\n",
    "        # Residual block added to avoid vanishing gradient issue\n",
    "        self.residual = nn.Sequential(\n",
    "            nn.LazyLinear(256),\n",
    "            nn.ReLU(),\n",
    "            nn.LazyLinear(256),\n",
    "        )\n",
    "\n",
    "        # Infer last input shape, then do final projection (60*2)\n",
    "        self.head = nn.LazyLinear(output_features)\n",
    "\n",
    "    def forward(self, x):\n",
    "        # Original forward loop\n",
    "        # # (batch, 50, 50, 6) or flattened already\n",
    "        # x = x.view(x.size(0), -1)\n",
    "        # h = self.net(x) #(batch, 256)\n",
    "        # h = h + self.residual(h)  # residual skip\n",
    "        # return self.head(h) #(batch, 120)\n",
    "\n",
    "        # Taken from milestone notebook (tensor format)\n",
    "        # In case you passed in a DataBatch\n",
    "        if not isinstance(x, torch.Tensor):\n",
    "            x = x.x\n",
    "\n",
    "        # x = x[:, :, :, :2] # (batch, 50, 50, 2)\n",
    "        x = x.reshape(-1, 50 * 50 * 6)\n",
    "        x = self.net(x)\n",
    "        x = x + self.residual(x)\n",
    "        x = self.head(x)\n",
    "        return x.view(-1, 60, 2)"
   ]
  },
  {
   "cell_type": "code",
   "execution_count": 6,
   "metadata": {},
   "outputs": [],
   "source": [
    "# Base LSTM given to us in the milestone notebook\n",
    "class BaseLSTM(nn.Module):\n",
    "    def __init__(self, input_dim:int =6, hidden_dim:int =128, output_dim:int =60 * 2, dropout:float = 0):\n",
    "        super(BaseLSTM, self).__init__()\n",
    "        self.lstm = nn.LSTM(input_dim, hidden_dim, batch_first=True, dropout=dropout)\n",
    "        self.fc = nn.Linear(hidden_dim, output_dim)\n",
    "\n",
    "    def forward(self, x):\n",
    "        # In case you passed in a DataBatch\n",
    "        if not isinstance(x, torch.Tensor):\n",
    "            x = x.x\n",
    "\n",
    "        x= x.reshape(-1, 50, 50, 6)  # (batch_size, num_agents, seq_len, input_dim)\n",
    "        x = x[:, 0, :, :] # Only Consider ego agent index 0\n",
    "\n",
    "        lstm_out, _ = self.lstm(x)\n",
    "        # lstm_out is of shape (batch_size, seq_len, hidden_dim) and we want the last time step output\n",
    "        out = self.fc(lstm_out[:, -1, :])\n",
    "        return out.view(-1, 60, 2)"
   ]
  },
  {
   "cell_type": "code",
   "execution_count": 7,
   "metadata": {},
   "outputs": [],
   "source": [
    "# Multi agent scene context model\n",
    "class SceneContextModel(nn.Module):\n",
    "    def __init__(self, hidden_dim=128):\n",
    "        super().__init__()\n",
    "        self.agent_encoder = nn.Sequential(\n",
    "            nn.Linear(50 * 6, hidden_dim),\n",
    "            nn.ReLU()\n",
    "        )\n",
    "        self.ego_encoder = nn.Sequential(\n",
    "            nn.Linear(50 * 6, hidden_dim),\n",
    "            nn.ReLU()\n",
    "        )\n",
    "        self.decoder = nn.Sequential(\n",
    "            nn.Linear(2 * hidden_dim, hidden_dim),\n",
    "            nn.ReLU(),\n",
    "            nn.Linear(hidden_dim, 60 * 2)\n",
    "        )\n",
    "\n",
    "    def forward(self, x_flat):\n",
    "        # x = data.x\n",
    "        # x = x[:, :, :, :2] # (batch, 50, 50, 2)\n",
    "        # x = x.reshape(-1, 50 * 50 * 6)\n",
    "        # x = self.mlp(x)\n",
    "        # return x.view(-1, 60, 2)\n",
    "        # In case you passed in a DataBatch\n",
    "        if not isinstance(x_flat, torch.Tensor):\n",
    "            x_flat = x_flat.x\n",
    "\n",
    "        B = x_flat.size(0)\n",
    "        x = x_flat.view(B, 50, 50, 6) #(B, agents, timesteps, features)\n",
    "        x_agents = x.view(B, 50, -1)  #(B, 50, 300)\n",
    "        agent_feats = self.agent_encoder(x_agents) #(B, 50, hidden_dim)\n",
    "        scene_context = agent_feats.mean(dim=1) #(B, hidden_dim)\n",
    "\n",
    "        ego_input = x[:, 0, :, :].reshape(B, -1) #(B, 300)\n",
    "        ego_feat = self.ego_encoder(ego_input) #(B, hidden_dim)\n",
    "\n",
    "        combined = torch.cat([ego_feat, scene_context], dim=1)\n",
    "\n",
    "        out = self.decoder(combined) #(B, 120)\n",
    "        return out.view(-1, 60, 2)"
   ]
  },
  {
   "cell_type": "code",
   "execution_count": 8,
   "metadata": {},
   "outputs": [],
   "source": [
    "# Extended from the base LSTM model\n",
    "class LSTMWithMLP(nn.Module):\n",
    "    def __init__(self, input_dim:int =6, hidden_dim:int =128, output_dim:int =60 * 2, dropout:float = 0):\n",
    "        super(LSTMWithMLP, self).__init__()\n",
    "        self.lstm = nn.LSTM(input_dim, hidden_dim, batch_first=True, dropout=dropout)\n",
    "        self.net = nn.Sequential(\n",
    "            nn.Linear(hidden_dim, 128),\n",
    "            nn.BatchNorm1d(128),\n",
    "            nn.LeakyReLU(),\n",
    "\n",
    "            nn.Linear(128, 64),\n",
    "            nn.BatchNorm1d(64),\n",
    "            nn.LeakyReLU(),\n",
    "        )\n",
    "        self.fc = nn.Linear(64, output_dim)\n",
    "\n",
    "    def forward(self, x):\n",
    "        # In case you passed in a DataBatch\n",
    "        if not isinstance(x, torch.Tensor):\n",
    "            x = x.x\n",
    "\n",
    "        x= x.reshape(-1, 50, 50, 6)  # (batch_size, num_agents, seq_len, input_dim)\n",
    "        x = x[:, 0, :, :] # Only Consider ego agent index 0\n",
    "\n",
    "        lstm_out, _ = self.lstm(x)\n",
    "        # lstm_out is of shape (batch_size, seq_len, hidden_dim) and we want the last time step output\n",
    "        x = self.net(lstm_out[:, -1, :])\n",
    "        x = self.fc(x)\n",
    "        return x.view(-1, 60, 2)"
   ]
  },
  {
   "cell_type": "markdown",
   "metadata": {},
   "source": [
    "# Preparing data\n",
    "\n",
    "`TrajectoryDataset*` are taken from the milestone notebook."
   ]
  },
  {
   "cell_type": "code",
   "execution_count": 9,
   "metadata": {},
   "outputs": [],
   "source": [
    "class TrajectoryDatasetTrain(Dataset):\n",
    "    def __init__(self, data, scale=10.0, augment=True):\n",
    "        \"\"\"\n",
    "        data: Shape (N, 50, 110, 6) Training data\n",
    "        scale: Scale for normalization (suggested to use 10.0 for Argoverse 2 data)\n",
    "        augment: Whether to apply data augmentation (only for training)\n",
    "        \"\"\"\n",
    "        self.data = data\n",
    "        self.scale = scale\n",
    "        self.augment = augment\n",
    "\n",
    "    def __len__(self):\n",
    "        return len(self.data)\n",
    "\n",
    "    def __getitem__(self, idx):\n",
    "        scene = self.data[idx]\n",
    "        # Getting 50 historical timestamps and 60 future timestamps\n",
    "        hist = scene[:, :50, :].copy()    # (agents=50, time_seq=50, 6)\n",
    "        future = torch.tensor(scene[0, 50:, :2].copy(), dtype=torch.float32)  # (60, 2)\n",
    "        \n",
    "        # Data augmentation(only for training)\n",
    "        if self.augment:\n",
    "            if np.random.rand() < 0.5:\n",
    "                theta = np.random.uniform(-np.pi, np.pi)\n",
    "                R = np.array([[np.cos(theta), -np.sin(theta)],\n",
    "                              [np.sin(theta),  np.cos(theta)]], dtype=np.float32)\n",
    "                # Rotate the historical trajectory and future trajectory\n",
    "                hist[..., :2] = hist[..., :2] @ R\n",
    "                hist[..., 2:4] = hist[..., 2:4] @ R\n",
    "                # future = future @ R gives DeprecationWarning: future a torch.Tensor\n",
    "                future = torch.from_numpy(np.dot(future.numpy(), R)) \n",
    "            if np.random.rand() < 0.5:\n",
    "                hist[..., 0] *= -1\n",
    "                hist[..., 2] *= -1\n",
    "                future[:, 0] *= -1\n",
    "\n",
    "        # Use the last timeframe of the historical trajectory as the origin\n",
    "        origin = hist[0, 49, :2].copy()  # (2,)\n",
    "        hist[..., :2] = hist[..., :2] - origin\n",
    "        # future = future - origin -> same DeprecationWarning\n",
    "        future = torch.from_numpy(future.numpy() - origin)\n",
    "\n",
    "        # Normalize the historical trajectory and future trajectory\n",
    "        hist[..., :4] = hist[..., :4] / self.scale\n",
    "        future = future / self.scale\n",
    "\n",
    "        data_item = Data(\n",
    "            x=torch.tensor(hist, dtype=torch.float32),\n",
    "            y=future.type(torch.float32),\n",
    "            origin=torch.tensor(origin, dtype=torch.float32).unsqueeze(0),\n",
    "            scale=torch.tensor(self.scale, dtype=torch.float32),\n",
    "        )\n",
    "\n",
    "        return data_item\n",
    "    \n",
    "\n",
    "class TrajectoryDatasetTest(Dataset):\n",
    "    def __init__(self, data, scale=10.0):\n",
    "        \"\"\"\n",
    "        data: Shape (N, 50, 110, 6) Testing data\n",
    "        scale: Scale for normalization (suggested to use 10.0 for Argoverse 2 data)\n",
    "        \"\"\"\n",
    "        self.data = data\n",
    "        self.scale = scale\n",
    "\n",
    "    def __len__(self):\n",
    "        return len(self.data)\n",
    "\n",
    "    def __getitem__(self, idx):\n",
    "        # Testing data only contains historical trajectory\n",
    "        scene = self.data[idx]  # (50, 50, 6)\n",
    "        hist = scene.copy()\n",
    "        \n",
    "        origin = hist[0, 49, :2].copy()\n",
    "        hist[..., :2] = hist[..., :2] - origin\n",
    "        hist[..., :4] = hist[..., :4] / self.scale\n",
    "\n",
    "        data_item = Data(\n",
    "            x=torch.tensor(hist, dtype=torch.float32),\n",
    "            origin=torch.tensor(origin, dtype=torch.float32).unsqueeze(0),\n",
    "            scale=torch.tensor(self.scale, dtype=torch.float32),\n",
    "        )\n",
    "        return data_item"
   ]
  },
  {
   "cell_type": "markdown",
   "metadata": {},
   "source": [
    "# Training loop\n",
    "\n",
    "Change which model is used at the `model = ...(input_features, output_features)` line.\n",
    "\n",
    "Change which optimizer is used at the `optimizer = optim...` line.\n",
    "\n",
    "Do **NOT** change the `criterion`, as MSE is stated in the Data tab of the competition."
   ]
  },
  {
   "cell_type": "code",
   "execution_count": 10,
   "metadata": {},
   "outputs": [
    {
     "name": "stdout",
     "output_type": "stream",
     "text": [
      "Using CPU\n"
     ]
    }
   ],
   "source": [
    "# Taken from milestone notebook\n",
    "# Set device for training speedup\n",
    "if torch.backends.mps.is_available():\n",
    "    device = torch.device('mps')\n",
    "    print(\"Using Apple Silicon GPU\")\n",
    "elif torch.cuda.is_available():\n",
    "    device = torch.device('cuda')\n",
    "    print(\"Using CUDA GPU\")\n",
    "else:\n",
    "    device = torch.device('cpu')\n",
    "    print(\"Using CPU\")"
   ]
  },
  {
   "cell_type": "code",
   "execution_count": 11,
   "metadata": {},
   "outputs": [],
   "source": [
    "# Functions to save and load the model (should correspond to what was trained!)\n",
    "def save_model(model, path=\"our_model.pth\"):\n",
    "    torch.save(model.state_dict(), path)\n",
    "    print(f\"Model saved to {path}\")\n",
    "\n",
    "\n",
    "def load_model(model_instance, path=\"our_model.pth\"):\n",
    "    loaded_model = model_instance\n",
    "    loaded_model.load_state_dict(torch.load(path))\n",
    "    loaded_model.eval()\n",
    "    return loaded_model\n",
    "\n",
    "\n",
    "# Example usage:\n",
    "# save_model(trained_model)\n",
    "# model = load_model()"
   ]
  },
  {
   "cell_type": "code",
   "execution_count": 12,
   "metadata": {},
   "outputs": [],
   "source": [
    "def get_timestamp() -> str:\n",
    "    return datetime.now().strftime(\"%Y-%m-%d_%I-%M%p\")"
   ]
  },
  {
   "cell_type": "code",
   "execution_count": 13,
   "metadata": {},
   "outputs": [
    {
     "name": "stdout",
     "output_type": "stream",
     "text": [
      "\n",
      "FOLD 1/4 ==================================\n"
     ]
    },
    {
     "name": "stderr",
     "output_type": "stream",
     "text": [
      "Epoch:   2%|▏         | 5/250 [00:15<12:17,  3.01s/epoch]"
     ]
    },
    {
     "name": "stdout",
     "output_type": "stream",
     "text": [
      "Epoch 005 | Learning rate 0.009794 | train normalized MSE   0.5750 | val normalized MSE   0.3920, | val MAE   2.3824 | val MSE  19.2069\n"
     ]
    },
    {
     "name": "stderr",
     "output_type": "stream",
     "text": [
      "Epoch:   4%|▍         | 10/250 [00:29<11:29,  2.87s/epoch]"
     ]
    },
    {
     "name": "stdout",
     "output_type": "stream",
     "text": [
      "Epoch 010 | Learning rate 0.009521 | train normalized MSE   0.5584 | val normalized MSE   0.4404, | val MAE   2.6983 | val MSE  21.5797\n"
     ]
    },
    {
     "name": "stderr",
     "output_type": "stream",
     "text": [
      "Epoch:   6%|▌         | 15/250 [00:43<11:13,  2.86s/epoch]"
     ]
    },
    {
     "name": "stdout",
     "output_type": "stream",
     "text": [
      "Epoch 015 | Learning rate 0.009234 | train normalized MSE   0.5273 | val normalized MSE   0.4179, | val MAE   2.5615 | val MSE  20.4755\n"
     ]
    },
    {
     "name": "stderr",
     "output_type": "stream",
     "text": [
      "Epoch:   8%|▊         | 20/250 [00:58<11:17,  2.94s/epoch]"
     ]
    },
    {
     "name": "stdout",
     "output_type": "stream",
     "text": [
      "Epoch 020 | Learning rate 0.008933 | train normalized MSE   0.4303 | val normalized MSE   0.4475, | val MAE   2.7078 | val MSE  21.9292\n"
     ]
    },
    {
     "name": "stderr",
     "output_type": "stream",
     "text": [
      "Epoch:  10%|█         | 25/250 [01:13<11:04,  2.95s/epoch]"
     ]
    },
    {
     "name": "stdout",
     "output_type": "stream",
     "text": [
      "Epoch 025 | Learning rate 0.008620 | train normalized MSE   0.3606 | val normalized MSE   0.2685, | val MAE   1.9951 | val MSE  13.1560\n"
     ]
    },
    {
     "name": "stderr",
     "output_type": "stream",
     "text": [
      "Epoch:  12%|█▏        | 30/250 [01:27<10:41,  2.92s/epoch]"
     ]
    },
    {
     "name": "stdout",
     "output_type": "stream",
     "text": [
      "Epoch 030 | Learning rate 0.006223 | train normalized MSE   0.3487 | val normalized MSE   0.2219, | val MAE   1.6534 | val MSE  10.8737\n"
     ]
    },
    {
     "name": "stderr",
     "output_type": "stream",
     "text": [
      "Epoch:  14%|█▍        | 35/250 [01:42<10:32,  2.94s/epoch]"
     ]
    },
    {
     "name": "stdout",
     "output_type": "stream",
     "text": [
      "Epoch 035 | Learning rate 0.005976 | train normalized MSE   0.3192 | val normalized MSE   0.2454, | val MAE   1.9116 | val MSE  12.0266\n"
     ]
    },
    {
     "name": "stderr",
     "output_type": "stream",
     "text": [
      "Epoch:  16%|█▌        | 40/250 [01:56<10:00,  2.86s/epoch]"
     ]
    },
    {
     "name": "stdout",
     "output_type": "stream",
     "text": [
      "Epoch 040 | Learning rate 0.005723 | train normalized MSE   0.3487 | val normalized MSE   0.2338, | val MAE   1.6874 | val MSE  11.4570\n"
     ]
    },
    {
     "name": "stderr",
     "output_type": "stream",
     "text": [
      "Epoch:  18%|█▊        | 45/250 [02:11<09:50,  2.88s/epoch]"
     ]
    },
    {
     "name": "stdout",
     "output_type": "stream",
     "text": [
      "Epoch 045 | Learning rate 0.005466 | train normalized MSE   0.3251 | val normalized MSE   0.2704, | val MAE   2.0272 | val MSE  13.2503\n"
     ]
    },
    {
     "name": "stderr",
     "output_type": "stream",
     "text": [
      "Epoch:  20%|██        | 50/250 [02:25<09:36,  2.88s/epoch]"
     ]
    },
    {
     "name": "stdout",
     "output_type": "stream",
     "text": [
      "Epoch 050 | Learning rate 0.005208 | train normalized MSE   0.3058 | val normalized MSE   0.2344, | val MAE   1.8030 | val MSE  11.4864\n"
     ]
    },
    {
     "name": "stderr",
     "output_type": "stream",
     "text": [
      "Epoch:  22%|██▏       | 55/250 [02:39<09:12,  2.83s/epoch]"
     ]
    },
    {
     "name": "stdout",
     "output_type": "stream",
     "text": [
      "Epoch 055 | Learning rate 0.003711 | train normalized MSE   0.2899 | val normalized MSE   0.2172, | val MAE   1.6382 | val MSE  10.6421\n"
     ]
    },
    {
     "name": "stderr",
     "output_type": "stream",
     "text": [
      "Epoch:  24%|██▍       | 60/250 [02:53<08:58,  2.84s/epoch]"
     ]
    },
    {
     "name": "stdout",
     "output_type": "stream",
     "text": [
      "Epoch 060 | Learning rate 0.003515 | train normalized MSE   0.2824 | val normalized MSE   0.2225, | val MAE   1.7484 | val MSE  10.9049\n"
     ]
    },
    {
     "name": "stderr",
     "output_type": "stream",
     "text": [
      "Epoch:  26%|██▌       | 65/250 [03:08<08:52,  2.88s/epoch]"
     ]
    },
    {
     "name": "stdout",
     "output_type": "stream",
     "text": [
      "Epoch 065 | Learning rate 0.003321 | train normalized MSE   0.2646 | val normalized MSE   0.1992, | val MAE   1.5665 | val MSE   9.7617\n"
     ]
    },
    {
     "name": "stderr",
     "output_type": "stream",
     "text": [
      "Epoch:  28%|██▊       | 70/250 [03:22<08:42,  2.90s/epoch]"
     ]
    },
    {
     "name": "stdout",
     "output_type": "stream",
     "text": [
      "Epoch 070 | Learning rate 0.003128 | train normalized MSE   0.2929 | val normalized MSE   0.2226, | val MAE   1.6888 | val MSE  10.9082\n"
     ]
    },
    {
     "name": "stderr",
     "output_type": "stream",
     "text": [
      "Epoch:  30%|███       | 75/250 [03:37<08:28,  2.90s/epoch]"
     ]
    },
    {
     "name": "stdout",
     "output_type": "stream",
     "text": [
      "Epoch 075 | Learning rate 0.002937 | train normalized MSE   0.2768 | val normalized MSE   0.2156, | val MAE   1.6559 | val MSE  10.5640\n"
     ]
    },
    {
     "name": "stderr",
     "output_type": "stream",
     "text": [
      "Epoch:  32%|███▏      | 80/250 [03:51<08:08,  2.87s/epoch]"
     ]
    },
    {
     "name": "stdout",
     "output_type": "stream",
     "text": [
      "Epoch 080 | Learning rate 0.002061 | train normalized MSE   0.2520 | val normalized MSE   0.2107, | val MAE   1.5912 | val MSE  10.3249\n"
     ]
    },
    {
     "name": "stderr",
     "output_type": "stream",
     "text": [
      "Epoch:  34%|███▍      | 85/250 [04:05<07:51,  2.86s/epoch]"
     ]
    },
    {
     "name": "stdout",
     "output_type": "stream",
     "text": [
      "Epoch 085 | Learning rate 0.001923 | train normalized MSE   0.2637 | val normalized MSE   0.2119, | val MAE   1.6176 | val MSE  10.3852\n"
     ]
    },
    {
     "name": "stderr",
     "output_type": "stream",
     "text": [
      "Epoch:  36%|███▌      | 90/250 [04:20<07:41,  2.88s/epoch]"
     ]
    },
    {
     "name": "stdout",
     "output_type": "stream",
     "text": [
      "Epoch 090 | Learning rate 0.001788 | train normalized MSE   0.2407 | val normalized MSE   0.2032, | val MAE   1.5667 | val MSE   9.9561\n"
     ]
    },
    {
     "name": "stderr",
     "output_type": "stream",
     "text": [
      "Epoch:  38%|███▊      | 95/250 [04:34<07:22,  2.85s/epoch]"
     ]
    },
    {
     "name": "stdout",
     "output_type": "stream",
     "text": [
      "Epoch 095 | Learning rate 0.001656 | train normalized MSE   0.2582 | val normalized MSE   0.2030, | val MAE   1.5746 | val MSE   9.9491\n"
     ]
    },
    {
     "name": "stderr",
     "output_type": "stream",
     "text": [
      "Epoch:  40%|████      | 100/250 [04:48<07:05,  2.83s/epoch]"
     ]
    },
    {
     "name": "stdout",
     "output_type": "stream",
     "text": [
      "Epoch 100 | Learning rate 0.001528 | train normalized MSE   0.2209 | val normalized MSE   0.1969, | val MAE   1.5414 | val MSE   9.6496\n"
     ]
    },
    {
     "name": "stderr",
     "output_type": "stream",
     "text": [
      "Epoch:  42%|████▏     | 105/250 [05:02<06:54,  2.86s/epoch]"
     ]
    },
    {
     "name": "stdout",
     "output_type": "stream",
     "text": [
      "Epoch 105 | Learning rate 0.001053 | train normalized MSE   0.2161 | val normalized MSE   0.1948, | val MAE   1.4762 | val MSE   9.5461\n"
     ]
    },
    {
     "name": "stderr",
     "output_type": "stream",
     "text": [
      "Epoch:  44%|████▍     | 110/250 [05:17<06:43,  2.88s/epoch]"
     ]
    },
    {
     "name": "stdout",
     "output_type": "stream",
     "text": [
      "Epoch 110 | Learning rate 0.000964 | train normalized MSE   0.2741 | val normalized MSE   0.2032, | val MAE   1.5593 | val MSE   9.9561\n"
     ]
    },
    {
     "name": "stderr",
     "output_type": "stream",
     "text": [
      "Epoch:  46%|████▌     | 115/250 [05:31<06:28,  2.88s/epoch]"
     ]
    },
    {
     "name": "stdout",
     "output_type": "stream",
     "text": [
      "Epoch 115 | Learning rate 0.000878 | train normalized MSE   0.2297 | val normalized MSE   0.2122, | val MAE   1.6084 | val MSE  10.4001\n"
     ]
    },
    {
     "name": "stderr",
     "output_type": "stream",
     "text": [
      "Epoch:  48%|████▊     | 120/250 [05:45<06:11,  2.86s/epoch]"
     ]
    },
    {
     "name": "stdout",
     "output_type": "stream",
     "text": [
      "Epoch 120 | Learning rate 0.000796 | train normalized MSE   0.2443 | val normalized MSE   0.1890, | val MAE   1.4586 | val MSE   9.2634\n"
     ]
    },
    {
     "name": "stderr",
     "output_type": "stream",
     "text": [
      "Epoch:  50%|█████     | 125/250 [06:00<05:53,  2.83s/epoch]"
     ]
    },
    {
     "name": "stdout",
     "output_type": "stream",
     "text": [
      "Epoch 125 | Learning rate 0.000718 | train normalized MSE   0.2300 | val normalized MSE   0.1928, | val MAE   1.5047 | val MSE   9.4460\n"
     ]
    },
    {
     "name": "stderr",
     "output_type": "stream",
     "text": [
      "Epoch:  52%|█████▏    | 130/250 [06:14<05:46,  2.89s/epoch]"
     ]
    },
    {
     "name": "stdout",
     "output_type": "stream",
     "text": [
      "Epoch 130 | Learning rate 0.000483 | train normalized MSE   0.2243 | val normalized MSE   0.1909, | val MAE   1.4930 | val MSE   9.3558\n"
     ]
    },
    {
     "name": "stderr",
     "output_type": "stream",
     "text": [
      "Epoch:  54%|█████▍    | 135/250 [06:29<05:34,  2.91s/epoch]"
     ]
    },
    {
     "name": "stdout",
     "output_type": "stream",
     "text": [
      "Epoch 135 | Learning rate 0.000431 | train normalized MSE   0.2329 | val normalized MSE   0.1846, | val MAE   1.4240 | val MSE   9.0467\n"
     ]
    },
    {
     "name": "stderr",
     "output_type": "stream",
     "text": [
      "Epoch:  56%|█████▌    | 140/250 [06:43<05:15,  2.87s/epoch]"
     ]
    },
    {
     "name": "stdout",
     "output_type": "stream",
     "text": [
      "Epoch 140 | Learning rate 0.000382 | train normalized MSE   0.2209 | val normalized MSE   0.1916, | val MAE   1.4902 | val MSE   9.3901\n"
     ]
    },
    {
     "name": "stderr",
     "output_type": "stream",
     "text": [
      "Epoch:  58%|█████▊    | 145/250 [06:57<05:00,  2.86s/epoch]"
     ]
    },
    {
     "name": "stdout",
     "output_type": "stream",
     "text": [
      "Epoch 145 | Learning rate 0.000336 | train normalized MSE   0.2162 | val normalized MSE   0.1970, | val MAE   1.5457 | val MSE   9.6552\n"
     ]
    },
    {
     "name": "stderr",
     "output_type": "stream",
     "text": [
      "Epoch:  60%|██████    | 150/250 [07:11<04:46,  2.86s/epoch]"
     ]
    },
    {
     "name": "stdout",
     "output_type": "stream",
     "text": [
      "Epoch 150 | Learning rate 0.000293 | train normalized MSE   0.2100 | val normalized MSE   0.1911, | val MAE   1.4708 | val MSE   9.3655\n"
     ]
    },
    {
     "name": "stderr",
     "output_type": "stream",
     "text": [
      "Epoch:  62%|██████▏   | 155/250 [07:26<04:39,  2.94s/epoch]"
     ]
    },
    {
     "name": "stdout",
     "output_type": "stream",
     "text": [
      "Epoch 155 | Learning rate 0.000191 | train normalized MSE   0.2127 | val normalized MSE   0.1986, | val MAE   1.5247 | val MSE   9.7304\n"
     ]
    },
    {
     "name": "stderr",
     "output_type": "stream",
     "text": [
      "Epoch:  64%|██████▍   | 160/250 [07:41<04:21,  2.91s/epoch]"
     ]
    },
    {
     "name": "stdout",
     "output_type": "stream",
     "text": [
      "Epoch 160 | Learning rate 0.000164 | train normalized MSE   0.2044 | val normalized MSE   0.1839, | val MAE   1.3947 | val MSE   9.0087\n"
     ]
    },
    {
     "name": "stderr",
     "output_type": "stream",
     "text": [
      "Epoch:  66%|██████▌   | 165/250 [07:55<04:05,  2.89s/epoch]"
     ]
    },
    {
     "name": "stdout",
     "output_type": "stream",
     "text": [
      "Epoch 165 | Learning rate 0.000139 | train normalized MSE   0.2333 | val normalized MSE   0.1963, | val MAE   1.5158 | val MSE   9.6171\n"
     ]
    },
    {
     "name": "stderr",
     "output_type": "stream",
     "text": [
      "Epoch:  68%|██████▊   | 170/250 [08:10<03:51,  2.89s/epoch]"
     ]
    },
    {
     "name": "stdout",
     "output_type": "stream",
     "text": [
      "Epoch 170 | Learning rate 0.000117 | train normalized MSE   0.2228 | val normalized MSE   0.1939, | val MAE   1.4956 | val MSE   9.5023\n"
     ]
    },
    {
     "name": "stderr",
     "output_type": "stream",
     "text": [
      "Epoch:  70%|███████   | 175/250 [08:24<03:36,  2.89s/epoch]"
     ]
    },
    {
     "name": "stdout",
     "output_type": "stream",
     "text": [
      "Epoch 175 | Learning rate 0.000097 | train normalized MSE   0.2148 | val normalized MSE   0.1921, | val MAE   1.4815 | val MSE   9.4134\n"
     ]
    },
    {
     "name": "stderr",
     "output_type": "stream",
     "text": [
      "Epoch:  72%|███████▏  | 180/250 [08:39<03:21,  2.87s/epoch]"
     ]
    },
    {
     "name": "stdout",
     "output_type": "stream",
     "text": [
      "Epoch 180 | Learning rate 0.000060 | train normalized MSE   0.2210 | val normalized MSE   0.1988, | val MAE   1.5252 | val MSE   9.7420\n"
     ]
    },
    {
     "name": "stderr",
     "output_type": "stream",
     "text": [
      "Epoch:  74%|███████▍  | 185/250 [08:53<03:06,  2.86s/epoch]"
     ]
    },
    {
     "name": "stdout",
     "output_type": "stream",
     "text": [
      "Epoch 185 | Learning rate 0.000049 | train normalized MSE   0.2249 | val normalized MSE   0.1889, | val MAE   1.4518 | val MSE   9.2556\n"
     ]
    },
    {
     "name": "stderr",
     "output_type": "stream",
     "text": [
      "Epoch:  76%|███████▌  | 189/250 [09:07<02:56,  2.90s/epoch]\n"
     ]
    },
    {
     "name": "stdout",
     "output_type": "stream",
     "text": [
      "Epoch 190 | Learning rate 0.000039 | train normalized MSE   0.2051 | val normalized MSE   0.1889, | val MAE   1.4745 | val MSE   9.2572\n",
      "==== EARLY STOP at epoch 190\n",
      "\n",
      "FOLD 2/4 ==================================\n"
     ]
    },
    {
     "name": "stderr",
     "output_type": "stream",
     "text": [
      "Epoch:   2%|▏         | 5/250 [00:24<20:15,  4.96s/epoch]"
     ]
    },
    {
     "name": "stdout",
     "output_type": "stream",
     "text": [
      "Epoch 005 | Learning rate 0.009794 | train normalized MSE   0.5633 | val normalized MSE   0.5297, | val MAE   2.8463 | val MSE  25.9575\n"
     ]
    },
    {
     "name": "stderr",
     "output_type": "stream",
     "text": [
      "Epoch:   4%|▍         | 10/250 [00:49<19:49,  4.96s/epoch]"
     ]
    },
    {
     "name": "stdout",
     "output_type": "stream",
     "text": [
      "Epoch 010 | Learning rate 0.009521 | train normalized MSE   0.4206 | val normalized MSE   0.3367, | val MAE   2.2328 | val MSE  16.4974\n"
     ]
    },
    {
     "name": "stderr",
     "output_type": "stream",
     "text": [
      "Epoch:   6%|▌         | 15/250 [01:13<19:06,  4.88s/epoch]"
     ]
    },
    {
     "name": "stdout",
     "output_type": "stream",
     "text": [
      "Epoch 015 | Learning rate 0.009234 | train normalized MSE   0.3334 | val normalized MSE   0.2379, | val MAE   1.7454 | val MSE  11.6585\n"
     ]
    },
    {
     "name": "stderr",
     "output_type": "stream",
     "text": [
      "Epoch:   8%|▊         | 20/250 [01:38<18:35,  4.85s/epoch]"
     ]
    },
    {
     "name": "stdout",
     "output_type": "stream",
     "text": [
      "Epoch 020 | Learning rate 0.008933 | train normalized MSE   0.3304 | val normalized MSE   0.2576, | val MAE   1.8860 | val MSE  12.6207\n"
     ]
    },
    {
     "name": "stderr",
     "output_type": "stream",
     "text": [
      "Epoch:  10%|█         | 25/250 [02:02<18:08,  4.84s/epoch]"
     ]
    },
    {
     "name": "stdout",
     "output_type": "stream",
     "text": [
      "Epoch 025 | Learning rate 0.008620 | train normalized MSE   0.3179 | val normalized MSE   0.2286, | val MAE   1.7159 | val MSE  11.2030\n"
     ]
    },
    {
     "name": "stderr",
     "output_type": "stream",
     "text": [
      "Epoch:  12%|█▏        | 30/250 [02:26<17:49,  4.86s/epoch]"
     ]
    },
    {
     "name": "stdout",
     "output_type": "stream",
     "text": [
      "Epoch 030 | Learning rate 0.006223 | train normalized MSE   0.3023 | val normalized MSE   0.2247, | val MAE   1.6528 | val MSE  11.0093\n"
     ]
    },
    {
     "name": "stderr",
     "output_type": "stream",
     "text": [
      "Epoch:  14%|█▍        | 35/250 [02:51<17:36,  4.92s/epoch]"
     ]
    },
    {
     "name": "stdout",
     "output_type": "stream",
     "text": [
      "Epoch 035 | Learning rate 0.005976 | train normalized MSE   0.3252 | val normalized MSE   0.2427, | val MAE   1.7832 | val MSE  11.8936\n"
     ]
    },
    {
     "name": "stderr",
     "output_type": "stream",
     "text": [
      "Epoch:  16%|█▌        | 40/250 [03:15<17:14,  4.93s/epoch]"
     ]
    },
    {
     "name": "stdout",
     "output_type": "stream",
     "text": [
      "Epoch 040 | Learning rate 0.005723 | train normalized MSE   0.2648 | val normalized MSE   0.2122, | val MAE   1.6111 | val MSE  10.4000\n"
     ]
    },
    {
     "name": "stderr",
     "output_type": "stream",
     "text": [
      "Epoch:  18%|█▊        | 45/250 [03:39<16:36,  4.86s/epoch]"
     ]
    },
    {
     "name": "stdout",
     "output_type": "stream",
     "text": [
      "Epoch 045 | Learning rate 0.005466 | train normalized MSE   0.2786 | val normalized MSE   0.2121, | val MAE   1.6349 | val MSE  10.3941\n"
     ]
    },
    {
     "name": "stderr",
     "output_type": "stream",
     "text": [
      "Epoch:  20%|██        | 50/250 [04:04<16:08,  4.84s/epoch]"
     ]
    },
    {
     "name": "stdout",
     "output_type": "stream",
     "text": [
      "Epoch 050 | Learning rate 0.005208 | train normalized MSE   0.2759 | val normalized MSE   0.2990, | val MAE   2.0832 | val MSE  14.6494\n"
     ]
    },
    {
     "name": "stderr",
     "output_type": "stream",
     "text": [
      "Epoch:  22%|██▏       | 55/250 [04:28<16:06,  4.95s/epoch]"
     ]
    },
    {
     "name": "stdout",
     "output_type": "stream",
     "text": [
      "Epoch 055 | Learning rate 0.003711 | train normalized MSE   0.2591 | val normalized MSE   0.2230, | val MAE   1.7218 | val MSE  10.9282\n"
     ]
    },
    {
     "name": "stderr",
     "output_type": "stream",
     "text": [
      "Epoch:  24%|██▍       | 60/250 [04:53<15:37,  4.94s/epoch]"
     ]
    },
    {
     "name": "stdout",
     "output_type": "stream",
     "text": [
      "Epoch 060 | Learning rate 0.003515 | train normalized MSE   0.2518 | val normalized MSE   0.2126, | val MAE   1.6030 | val MSE  10.4155\n"
     ]
    },
    {
     "name": "stderr",
     "output_type": "stream",
     "text": [
      "Epoch:  26%|██▌       | 65/250 [05:18<15:17,  4.96s/epoch]"
     ]
    },
    {
     "name": "stdout",
     "output_type": "stream",
     "text": [
      "Epoch 065 | Learning rate 0.003321 | train normalized MSE   0.2538 | val normalized MSE   0.2090, | val MAE   1.6228 | val MSE  10.2412\n"
     ]
    },
    {
     "name": "stderr",
     "output_type": "stream",
     "text": [
      "Epoch:  28%|██▊       | 70/250 [05:42<14:42,  4.90s/epoch]"
     ]
    },
    {
     "name": "stdout",
     "output_type": "stream",
     "text": [
      "Epoch 070 | Learning rate 0.003128 | train normalized MSE   0.2428 | val normalized MSE   0.2104, | val MAE   1.5921 | val MSE  10.3082\n"
     ]
    },
    {
     "name": "stderr",
     "output_type": "stream",
     "text": [
      "Epoch:  30%|███       | 75/250 [06:07<14:15,  4.89s/epoch]"
     ]
    },
    {
     "name": "stdout",
     "output_type": "stream",
     "text": [
      "Epoch 075 | Learning rate 0.002937 | train normalized MSE   0.2302 | val normalized MSE   0.2079, | val MAE   1.5628 | val MSE  10.1889\n"
     ]
    },
    {
     "name": "stderr",
     "output_type": "stream",
     "text": [
      "Epoch:  32%|███▏      | 80/250 [06:32<13:58,  4.93s/epoch]"
     ]
    },
    {
     "name": "stdout",
     "output_type": "stream",
     "text": [
      "Epoch 080 | Learning rate 0.002061 | train normalized MSE   0.2298 | val normalized MSE   0.1985, | val MAE   1.5048 | val MSE   9.7263\n"
     ]
    },
    {
     "name": "stderr",
     "output_type": "stream",
     "text": [
      "Epoch:  34%|███▍      | 85/250 [06:56<13:25,  4.88s/epoch]"
     ]
    },
    {
     "name": "stdout",
     "output_type": "stream",
     "text": [
      "Epoch 085 | Learning rate 0.001923 | train normalized MSE   0.2201 | val normalized MSE   0.2186, | val MAE   1.6526 | val MSE  10.7098\n"
     ]
    },
    {
     "name": "stderr",
     "output_type": "stream",
     "text": [
      "Epoch:  36%|███▌      | 90/250 [07:20<13:04,  4.90s/epoch]"
     ]
    },
    {
     "name": "stdout",
     "output_type": "stream",
     "text": [
      "Epoch 090 | Learning rate 0.001788 | train normalized MSE   0.2087 | val normalized MSE   0.2072, | val MAE   1.5422 | val MSE  10.1515\n"
     ]
    },
    {
     "name": "stderr",
     "output_type": "stream",
     "text": [
      "Epoch:  38%|███▊      | 95/250 [07:45<12:33,  4.86s/epoch]"
     ]
    },
    {
     "name": "stdout",
     "output_type": "stream",
     "text": [
      "Epoch 095 | Learning rate 0.001656 | train normalized MSE   0.2058 | val normalized MSE   0.1988, | val MAE   1.5204 | val MSE   9.7406\n"
     ]
    },
    {
     "name": "stderr",
     "output_type": "stream",
     "text": [
      "Epoch:  40%|████      | 100/250 [08:09<12:03,  4.83s/epoch]"
     ]
    },
    {
     "name": "stdout",
     "output_type": "stream",
     "text": [
      "Epoch 100 | Learning rate 0.001528 | train normalized MSE   0.2041 | val normalized MSE   0.2039, | val MAE   1.5494 | val MSE   9.9933\n"
     ]
    },
    {
     "name": "stderr",
     "output_type": "stream",
     "text": [
      "Epoch:  42%|████▏     | 105/250 [08:34<11:52,  4.91s/epoch]"
     ]
    },
    {
     "name": "stdout",
     "output_type": "stream",
     "text": [
      "Epoch 105 | Learning rate 0.001053 | train normalized MSE   0.1950 | val normalized MSE   0.1939, | val MAE   1.4954 | val MSE   9.5008\n"
     ]
    },
    {
     "name": "stderr",
     "output_type": "stream",
     "text": [
      "Epoch:  44%|████▍     | 110/250 [08:58<11:22,  4.88s/epoch]"
     ]
    },
    {
     "name": "stdout",
     "output_type": "stream",
     "text": [
      "Epoch 110 | Learning rate 0.000964 | train normalized MSE   0.2002 | val normalized MSE   0.2097, | val MAE   1.6036 | val MSE  10.2749\n"
     ]
    },
    {
     "name": "stderr",
     "output_type": "stream",
     "text": [
      "Epoch:  46%|████▌     | 115/250 [09:22<11:02,  4.91s/epoch]"
     ]
    },
    {
     "name": "stdout",
     "output_type": "stream",
     "text": [
      "Epoch 115 | Learning rate 0.000878 | train normalized MSE   0.1898 | val normalized MSE   0.1973, | val MAE   1.5145 | val MSE   9.6679\n"
     ]
    },
    {
     "name": "stderr",
     "output_type": "stream",
     "text": [
      "Epoch:  48%|████▊     | 120/250 [09:46<10:25,  4.81s/epoch]"
     ]
    },
    {
     "name": "stdout",
     "output_type": "stream",
     "text": [
      "Epoch 120 | Learning rate 0.000796 | train normalized MSE   0.1859 | val normalized MSE   0.2071, | val MAE   1.5930 | val MSE  10.1488\n"
     ]
    },
    {
     "name": "stderr",
     "output_type": "stream",
     "text": [
      "Epoch:  49%|████▉     | 122/250 [10:01<10:31,  4.93s/epoch]"
     ]
    },
    {
     "name": "stdout",
     "output_type": "stream",
     "text": [
      "==== EARLY STOP at epoch 123\n",
      "\n",
      "FOLD 3/4 ==================================\n"
     ]
    },
    {
     "name": "stderr",
     "output_type": "stream",
     "text": [
      "\n",
      "Epoch:   2%|▏         | 5/250 [00:34<28:17,  6.93s/epoch]"
     ]
    },
    {
     "name": "stdout",
     "output_type": "stream",
     "text": [
      "Epoch 005 | Learning rate 0.009794 | train normalized MSE   0.4918 | val normalized MSE   0.3967, | val MAE   2.4258 | val MSE  19.4372\n"
     ]
    },
    {
     "name": "stderr",
     "output_type": "stream",
     "text": [
      "Epoch:   4%|▍         | 10/250 [01:08<27:29,  6.87s/epoch]"
     ]
    },
    {
     "name": "stdout",
     "output_type": "stream",
     "text": [
      "Epoch 010 | Learning rate 0.009521 | train normalized MSE   0.4036 | val normalized MSE   0.4048, | val MAE   2.4688 | val MSE  19.8346\n"
     ]
    },
    {
     "name": "stderr",
     "output_type": "stream",
     "text": [
      "Epoch:   6%|▌         | 15/250 [01:43<27:01,  6.90s/epoch]"
     ]
    },
    {
     "name": "stdout",
     "output_type": "stream",
     "text": [
      "Epoch 015 | Learning rate 0.009234 | train normalized MSE   0.3675 | val normalized MSE   0.2695, | val MAE   1.9250 | val MSE  13.2059\n"
     ]
    },
    {
     "name": "stderr",
     "output_type": "stream",
     "text": [
      "Epoch:   8%|▊         | 20/250 [02:17<26:20,  6.87s/epoch]"
     ]
    },
    {
     "name": "stdout",
     "output_type": "stream",
     "text": [
      "Epoch 020 | Learning rate 0.008933 | train normalized MSE   0.3337 | val normalized MSE   0.2381, | val MAE   1.7525 | val MSE  11.6693\n"
     ]
    },
    {
     "name": "stderr",
     "output_type": "stream",
     "text": [
      "Epoch:  10%|█         | 25/250 [02:52<25:45,  6.87s/epoch]"
     ]
    },
    {
     "name": "stdout",
     "output_type": "stream",
     "text": [
      "Epoch 025 | Learning rate 0.008620 | train normalized MSE   0.2857 | val normalized MSE   0.2516, | val MAE   1.8079 | val MSE  12.3280\n"
     ]
    },
    {
     "name": "stderr",
     "output_type": "stream",
     "text": [
      "Epoch:  12%|█▏        | 30/250 [03:26<25:20,  6.91s/epoch]"
     ]
    },
    {
     "name": "stdout",
     "output_type": "stream",
     "text": [
      "Epoch 030 | Learning rate 0.006223 | train normalized MSE   0.2787 | val normalized MSE   0.2477, | val MAE   1.7863 | val MSE  12.1354\n"
     ]
    },
    {
     "name": "stderr",
     "output_type": "stream",
     "text": [
      "Epoch:  14%|█▍        | 35/250 [04:00<24:26,  6.82s/epoch]"
     ]
    },
    {
     "name": "stdout",
     "output_type": "stream",
     "text": [
      "Epoch 035 | Learning rate 0.005976 | train normalized MSE   0.2836 | val normalized MSE   0.2048, | val MAE   1.5546 | val MSE  10.0343\n"
     ]
    },
    {
     "name": "stderr",
     "output_type": "stream",
     "text": [
      "Epoch:  16%|█▌        | 40/250 [04:35<24:08,  6.90s/epoch]"
     ]
    },
    {
     "name": "stdout",
     "output_type": "stream",
     "text": [
      "Epoch 040 | Learning rate 0.005723 | train normalized MSE   0.2598 | val normalized MSE   0.2248, | val MAE   1.7090 | val MSE  11.0141\n"
     ]
    },
    {
     "name": "stderr",
     "output_type": "stream",
     "text": [
      "Epoch:  18%|█▊        | 45/250 [05:09<23:21,  6.84s/epoch]"
     ]
    },
    {
     "name": "stdout",
     "output_type": "stream",
     "text": [
      "Epoch 045 | Learning rate 0.005466 | train normalized MSE   0.2436 | val normalized MSE   0.2207, | val MAE   1.6995 | val MSE  10.8164\n"
     ]
    },
    {
     "name": "stderr",
     "output_type": "stream",
     "text": [
      "Epoch:  20%|██        | 50/250 [05:43<22:52,  6.86s/epoch]"
     ]
    },
    {
     "name": "stdout",
     "output_type": "stream",
     "text": [
      "Epoch 050 | Learning rate 0.005208 | train normalized MSE   0.2409 | val normalized MSE   0.2172, | val MAE   1.6370 | val MSE  10.6409\n"
     ]
    },
    {
     "name": "stderr",
     "output_type": "stream",
     "text": [
      "Epoch:  22%|██▏       | 55/250 [06:18<22:21,  6.88s/epoch]"
     ]
    },
    {
     "name": "stdout",
     "output_type": "stream",
     "text": [
      "Epoch 055 | Learning rate 0.003711 | train normalized MSE   0.2312 | val normalized MSE   0.1994, | val MAE   1.5320 | val MSE   9.7730\n"
     ]
    },
    {
     "name": "stderr",
     "output_type": "stream",
     "text": [
      "Epoch:  24%|██▍       | 60/250 [06:52<21:41,  6.85s/epoch]"
     ]
    },
    {
     "name": "stdout",
     "output_type": "stream",
     "text": [
      "Epoch 060 | Learning rate 0.003515 | train normalized MSE   0.2172 | val normalized MSE   0.2150, | val MAE   1.6627 | val MSE  10.5360\n"
     ]
    },
    {
     "name": "stderr",
     "output_type": "stream",
     "text": [
      "Epoch:  26%|██▌       | 65/250 [07:26<21:18,  6.91s/epoch]"
     ]
    },
    {
     "name": "stdout",
     "output_type": "stream",
     "text": [
      "Epoch 065 | Learning rate 0.003321 | train normalized MSE   0.2117 | val normalized MSE   0.2045, | val MAE   1.5646 | val MSE  10.0189\n"
     ]
    },
    {
     "name": "stderr",
     "output_type": "stream",
     "text": [
      "Epoch:  28%|██▊       | 70/250 [08:01<20:31,  6.84s/epoch]"
     ]
    },
    {
     "name": "stdout",
     "output_type": "stream",
     "text": [
      "Epoch 070 | Learning rate 0.003128 | train normalized MSE   0.2138 | val normalized MSE   0.2014, | val MAE   1.5647 | val MSE   9.8691\n"
     ]
    },
    {
     "name": "stderr",
     "output_type": "stream",
     "text": [
      "Epoch:  30%|███       | 75/250 [08:35<20:10,  6.92s/epoch]"
     ]
    },
    {
     "name": "stdout",
     "output_type": "stream",
     "text": [
      "Epoch 075 | Learning rate 0.002937 | train normalized MSE   0.2162 | val normalized MSE   0.2104, | val MAE   1.6408 | val MSE  10.3099\n"
     ]
    },
    {
     "name": "stderr",
     "output_type": "stream",
     "text": [
      "Epoch:  32%|███▏      | 80/250 [09:09<19:30,  6.89s/epoch]"
     ]
    },
    {
     "name": "stdout",
     "output_type": "stream",
     "text": [
      "Epoch 080 | Learning rate 0.002061 | train normalized MSE   0.2049 | val normalized MSE   0.2011, | val MAE   1.5576 | val MSE   9.8557\n"
     ]
    },
    {
     "name": "stderr",
     "output_type": "stream",
     "text": [
      "Epoch:  34%|███▍      | 85/250 [09:44<18:48,  6.84s/epoch]"
     ]
    },
    {
     "name": "stdout",
     "output_type": "stream",
     "text": [
      "Epoch 085 | Learning rate 0.001923 | train normalized MSE   0.2011 | val normalized MSE   0.1923, | val MAE   1.4702 | val MSE   9.4248\n"
     ]
    },
    {
     "name": "stderr",
     "output_type": "stream",
     "text": [
      "Epoch:  36%|███▌      | 90/250 [10:18<18:26,  6.92s/epoch]"
     ]
    },
    {
     "name": "stdout",
     "output_type": "stream",
     "text": [
      "Epoch 090 | Learning rate 0.001788 | train normalized MSE   0.1913 | val normalized MSE   0.1913, | val MAE   1.4832 | val MSE   9.3730\n"
     ]
    },
    {
     "name": "stderr",
     "output_type": "stream",
     "text": [
      "Epoch:  38%|███▊      | 95/250 [10:53<17:53,  6.93s/epoch]"
     ]
    },
    {
     "name": "stdout",
     "output_type": "stream",
     "text": [
      "Epoch 095 | Learning rate 0.001656 | train normalized MSE   0.1982 | val normalized MSE   0.1983, | val MAE   1.5341 | val MSE   9.7159\n"
     ]
    },
    {
     "name": "stderr",
     "output_type": "stream",
     "text": [
      "Epoch:  40%|████      | 100/250 [11:27<17:14,  6.90s/epoch]"
     ]
    },
    {
     "name": "stdout",
     "output_type": "stream",
     "text": [
      "Epoch 100 | Learning rate 0.001528 | train normalized MSE   0.1915 | val normalized MSE   0.2069, | val MAE   1.6026 | val MSE  10.1380\n"
     ]
    },
    {
     "name": "stderr",
     "output_type": "stream",
     "text": [
      "Epoch:  42%|████▏     | 105/250 [12:02<16:43,  6.92s/epoch]"
     ]
    },
    {
     "name": "stdout",
     "output_type": "stream",
     "text": [
      "Epoch 105 | Learning rate 0.001053 | train normalized MSE   0.1869 | val normalized MSE   0.1903, | val MAE   1.4842 | val MSE   9.3270\n"
     ]
    },
    {
     "name": "stderr",
     "output_type": "stream",
     "text": [
      "Epoch:  44%|████▍     | 110/250 [12:36<16:02,  6.88s/epoch]"
     ]
    },
    {
     "name": "stdout",
     "output_type": "stream",
     "text": [
      "Epoch 110 | Learning rate 0.000964 | train normalized MSE   0.1893 | val normalized MSE   0.1907, | val MAE   1.4672 | val MSE   9.3421\n"
     ]
    },
    {
     "name": "stderr",
     "output_type": "stream",
     "text": [
      "Epoch:  46%|████▌     | 115/250 [13:11<15:28,  6.88s/epoch]"
     ]
    },
    {
     "name": "stdout",
     "output_type": "stream",
     "text": [
      "Epoch 115 | Learning rate 0.000878 | train normalized MSE   0.1851 | val normalized MSE   0.1889, | val MAE   1.4720 | val MSE   9.2559\n"
     ]
    },
    {
     "name": "stderr",
     "output_type": "stream",
     "text": [
      "Epoch:  48%|████▊     | 120/250 [13:46<15:07,  6.98s/epoch]"
     ]
    },
    {
     "name": "stdout",
     "output_type": "stream",
     "text": [
      "Epoch 120 | Learning rate 0.000796 | train normalized MSE   0.1867 | val normalized MSE   0.1855, | val MAE   1.4530 | val MSE   9.0899\n"
     ]
    },
    {
     "name": "stderr",
     "output_type": "stream",
     "text": [
      "Epoch:  50%|█████     | 125/250 [14:20<14:21,  6.90s/epoch]"
     ]
    },
    {
     "name": "stdout",
     "output_type": "stream",
     "text": [
      "Epoch 125 | Learning rate 0.000718 | train normalized MSE   0.1862 | val normalized MSE   0.1878, | val MAE   1.4879 | val MSE   9.1999\n"
     ]
    },
    {
     "name": "stderr",
     "output_type": "stream",
     "text": [
      "Epoch:  52%|█████▏    | 130/250 [14:55<13:48,  6.91s/epoch]"
     ]
    },
    {
     "name": "stdout",
     "output_type": "stream",
     "text": [
      "Epoch 130 | Learning rate 0.000483 | train normalized MSE   0.1782 | val normalized MSE   0.1841, | val MAE   1.4515 | val MSE   9.0192\n"
     ]
    },
    {
     "name": "stderr",
     "output_type": "stream",
     "text": [
      "Epoch:  54%|█████▍    | 135/250 [15:29<13:16,  6.92s/epoch]"
     ]
    },
    {
     "name": "stdout",
     "output_type": "stream",
     "text": [
      "Epoch 135 | Learning rate 0.000431 | train normalized MSE   0.1780 | val normalized MSE   0.1911, | val MAE   1.5096 | val MSE   9.3617\n"
     ]
    },
    {
     "name": "stderr",
     "output_type": "stream",
     "text": [
      "Epoch:  56%|█████▌    | 140/250 [16:04<12:40,  6.91s/epoch]"
     ]
    },
    {
     "name": "stdout",
     "output_type": "stream",
     "text": [
      "Epoch 140 | Learning rate 0.000382 | train normalized MSE   0.1782 | val normalized MSE   0.1823, | val MAE   1.4443 | val MSE   8.9341\n"
     ]
    },
    {
     "name": "stderr",
     "output_type": "stream",
     "text": [
      "Epoch:  58%|█████▊    | 145/250 [16:38<12:04,  6.90s/epoch]"
     ]
    },
    {
     "name": "stdout",
     "output_type": "stream",
     "text": [
      "Epoch 145 | Learning rate 0.000336 | train normalized MSE   0.1785 | val normalized MSE   0.1828, | val MAE   1.4432 | val MSE   8.9584\n"
     ]
    },
    {
     "name": "stderr",
     "output_type": "stream",
     "text": [
      "Epoch:  60%|██████    | 150/250 [17:12<11:26,  6.86s/epoch]"
     ]
    },
    {
     "name": "stdout",
     "output_type": "stream",
     "text": [
      "Epoch 150 | Learning rate 0.000293 | train normalized MSE   0.1777 | val normalized MSE   0.1844, | val MAE   1.4482 | val MSE   9.0376\n"
     ]
    },
    {
     "name": "stderr",
     "output_type": "stream",
     "text": [
      "Epoch:  62%|██████▏   | 155/250 [17:47<10:56,  6.91s/epoch]"
     ]
    },
    {
     "name": "stdout",
     "output_type": "stream",
     "text": [
      "Epoch 155 | Learning rate 0.000191 | train normalized MSE   0.1728 | val normalized MSE   0.1911, | val MAE   1.5115 | val MSE   9.3631\n"
     ]
    },
    {
     "name": "stderr",
     "output_type": "stream",
     "text": [
      "Epoch:  64%|██████▍   | 160/250 [18:21<10:17,  6.86s/epoch]"
     ]
    },
    {
     "name": "stdout",
     "output_type": "stream",
     "text": [
      "Epoch 160 | Learning rate 0.000164 | train normalized MSE   0.1700 | val normalized MSE   0.1839, | val MAE   1.4565 | val MSE   9.0124\n"
     ]
    },
    {
     "name": "stderr",
     "output_type": "stream",
     "text": [
      "Epoch:  66%|██████▌   | 165/250 [18:56<09:49,  6.93s/epoch]"
     ]
    },
    {
     "name": "stdout",
     "output_type": "stream",
     "text": [
      "Epoch 165 | Learning rate 0.000139 | train normalized MSE   0.1737 | val normalized MSE   0.1832, | val MAE   1.4314 | val MSE   8.9768\n"
     ]
    },
    {
     "name": "stderr",
     "output_type": "stream",
     "text": [
      "Epoch:  68%|██████▊   | 170/250 [19:31<09:14,  6.93s/epoch]"
     ]
    },
    {
     "name": "stdout",
     "output_type": "stream",
     "text": [
      "Epoch 170 | Learning rate 0.000117 | train normalized MSE   0.1749 | val normalized MSE   0.1805, | val MAE   1.4271 | val MSE   8.8447\n"
     ]
    },
    {
     "name": "stderr",
     "output_type": "stream",
     "text": [
      "Epoch:  70%|███████   | 175/250 [20:05<08:37,  6.90s/epoch]"
     ]
    },
    {
     "name": "stdout",
     "output_type": "stream",
     "text": [
      "Epoch 175 | Learning rate 0.000097 | train normalized MSE   0.1729 | val normalized MSE   0.1822, | val MAE   1.4415 | val MSE   8.9296\n"
     ]
    },
    {
     "name": "stderr",
     "output_type": "stream",
     "text": [
      "Epoch:  72%|███████▏  | 180/250 [20:40<08:06,  6.95s/epoch]"
     ]
    },
    {
     "name": "stdout",
     "output_type": "stream",
     "text": [
      "Epoch 180 | Learning rate 0.000060 | train normalized MSE   0.1764 | val normalized MSE   0.1861, | val MAE   1.4837 | val MSE   9.1197\n"
     ]
    },
    {
     "name": "stderr",
     "output_type": "stream",
     "text": [
      "Epoch:  72%|███████▏  | 180/250 [20:47<08:05,  6.93s/epoch]"
     ]
    },
    {
     "name": "stdout",
     "output_type": "stream",
     "text": [
      "==== EARLY STOP at epoch 181\n",
      "\n",
      "FOLD 4/4 ==================================\n"
     ]
    },
    {
     "name": "stderr",
     "output_type": "stream",
     "text": [
      "\n",
      "Epoch:   2%|▏         | 5/250 [00:44<36:19,  8.90s/epoch]"
     ]
    },
    {
     "name": "stdout",
     "output_type": "stream",
     "text": [
      "Epoch 005 | Learning rate 0.009794 | train normalized MSE   0.4846 | val normalized MSE   0.4241, | val MAE   2.6169 | val MSE  20.7795\n"
     ]
    },
    {
     "name": "stderr",
     "output_type": "stream",
     "text": [
      "Epoch:   4%|▍         | 10/250 [01:28<35:12,  8.80s/epoch]"
     ]
    },
    {
     "name": "stdout",
     "output_type": "stream",
     "text": [
      "Epoch 010 | Learning rate 0.009521 | train normalized MSE   0.3614 | val normalized MSE   0.3101, | val MAE   2.1670 | val MSE  15.1929\n"
     ]
    },
    {
     "name": "stderr",
     "output_type": "stream",
     "text": [
      "Epoch:   6%|▌         | 15/250 [02:12<34:27,  8.80s/epoch]"
     ]
    },
    {
     "name": "stdout",
     "output_type": "stream",
     "text": [
      "Epoch 015 | Learning rate 0.009234 | train normalized MSE   0.3484 | val normalized MSE   0.2597, | val MAE   1.9460 | val MSE  12.7277\n"
     ]
    },
    {
     "name": "stderr",
     "output_type": "stream",
     "text": [
      "Epoch:   8%|▊         | 20/250 [02:56<33:54,  8.84s/epoch]"
     ]
    },
    {
     "name": "stdout",
     "output_type": "stream",
     "text": [
      "Epoch 020 | Learning rate 0.008933 | train normalized MSE   0.3230 | val normalized MSE   0.3632, | val MAE   2.3456 | val MSE  17.7964\n"
     ]
    },
    {
     "name": "stderr",
     "output_type": "stream",
     "text": [
      "Epoch:  10%|█         | 25/250 [03:40<33:08,  8.84s/epoch]"
     ]
    },
    {
     "name": "stdout",
     "output_type": "stream",
     "text": [
      "Epoch 025 | Learning rate 0.008620 | train normalized MSE   0.2874 | val normalized MSE   0.2173, | val MAE   1.6269 | val MSE  10.6483\n"
     ]
    },
    {
     "name": "stderr",
     "output_type": "stream",
     "text": [
      "Epoch:  12%|█▏        | 30/250 [04:25<32:53,  8.97s/epoch]"
     ]
    },
    {
     "name": "stdout",
     "output_type": "stream",
     "text": [
      "Epoch 030 | Learning rate 0.006223 | train normalized MSE   0.2747 | val normalized MSE   0.2351, | val MAE   1.7908 | val MSE  11.5222\n"
     ]
    },
    {
     "name": "stderr",
     "output_type": "stream",
     "text": [
      "Epoch:  14%|█▍        | 35/250 [05:09<31:30,  8.80s/epoch]"
     ]
    },
    {
     "name": "stdout",
     "output_type": "stream",
     "text": [
      "Epoch 035 | Learning rate 0.005976 | train normalized MSE   0.2619 | val normalized MSE   0.2103, | val MAE   1.6034 | val MSE  10.3040\n"
     ]
    },
    {
     "name": "stderr",
     "output_type": "stream",
     "text": [
      "Epoch:  16%|█▌        | 40/250 [05:53<30:58,  8.85s/epoch]"
     ]
    },
    {
     "name": "stdout",
     "output_type": "stream",
     "text": [
      "Epoch 040 | Learning rate 0.005723 | train normalized MSE   0.2517 | val normalized MSE   0.2291, | val MAE   1.8026 | val MSE  11.2246\n"
     ]
    },
    {
     "name": "stderr",
     "output_type": "stream",
     "text": [
      "Epoch:  18%|█▊        | 45/250 [06:37<30:01,  8.79s/epoch]"
     ]
    },
    {
     "name": "stdout",
     "output_type": "stream",
     "text": [
      "Epoch 045 | Learning rate 0.005466 | train normalized MSE   0.2395 | val normalized MSE   0.2272, | val MAE   1.7448 | val MSE  11.1327\n"
     ]
    },
    {
     "name": "stderr",
     "output_type": "stream",
     "text": [
      "Epoch:  20%|██        | 50/250 [07:22<29:37,  8.89s/epoch]"
     ]
    },
    {
     "name": "stdout",
     "output_type": "stream",
     "text": [
      "Epoch 050 | Learning rate 0.005208 | train normalized MSE   0.2237 | val normalized MSE   0.2092, | val MAE   1.6391 | val MSE  10.2525\n"
     ]
    },
    {
     "name": "stderr",
     "output_type": "stream",
     "text": [
      "Epoch:  22%|██▏       | 55/250 [08:06<28:48,  8.87s/epoch]"
     ]
    },
    {
     "name": "stdout",
     "output_type": "stream",
     "text": [
      "Epoch 055 | Learning rate 0.003711 | train normalized MSE   0.2169 | val normalized MSE   0.1962, | val MAE   1.5029 | val MSE   9.6141\n"
     ]
    },
    {
     "name": "stderr",
     "output_type": "stream",
     "text": [
      "Epoch:  24%|██▍       | 60/250 [08:50<28:02,  8.85s/epoch]"
     ]
    },
    {
     "name": "stdout",
     "output_type": "stream",
     "text": [
      "Epoch 060 | Learning rate 0.003515 | train normalized MSE   0.2060 | val normalized MSE   0.1960, | val MAE   1.5036 | val MSE   9.6039\n"
     ]
    },
    {
     "name": "stderr",
     "output_type": "stream",
     "text": [
      "Epoch:  26%|██▌       | 65/250 [09:34<27:07,  8.80s/epoch]"
     ]
    },
    {
     "name": "stdout",
     "output_type": "stream",
     "text": [
      "Epoch 065 | Learning rate 0.003321 | train normalized MSE   0.2075 | val normalized MSE   0.1938, | val MAE   1.5173 | val MSE   9.4982\n"
     ]
    },
    {
     "name": "stderr",
     "output_type": "stream",
     "text": [
      "Epoch:  28%|██▊       | 70/250 [10:18<26:30,  8.83s/epoch]"
     ]
    },
    {
     "name": "stdout",
     "output_type": "stream",
     "text": [
      "Epoch 070 | Learning rate 0.003128 | train normalized MSE   0.2025 | val normalized MSE   0.1916, | val MAE   1.5341 | val MSE   9.3885\n"
     ]
    },
    {
     "name": "stderr",
     "output_type": "stream",
     "text": [
      "Epoch:  30%|███       | 75/250 [11:02<25:52,  8.87s/epoch]"
     ]
    },
    {
     "name": "stdout",
     "output_type": "stream",
     "text": [
      "Epoch 075 | Learning rate 0.002937 | train normalized MSE   0.2043 | val normalized MSE   0.1861, | val MAE   1.4335 | val MSE   9.1206\n"
     ]
    },
    {
     "name": "stderr",
     "output_type": "stream",
     "text": [
      "Epoch:  32%|███▏      | 80/250 [11:46<24:54,  8.79s/epoch]"
     ]
    },
    {
     "name": "stdout",
     "output_type": "stream",
     "text": [
      "Epoch 080 | Learning rate 0.002061 | train normalized MSE   0.1913 | val normalized MSE   0.1905, | val MAE   1.4929 | val MSE   9.3349\n"
     ]
    },
    {
     "name": "stderr",
     "output_type": "stream",
     "text": [
      "Epoch:  34%|███▍      | 85/250 [12:30<24:11,  8.80s/epoch]"
     ]
    },
    {
     "name": "stdout",
     "output_type": "stream",
     "text": [
      "Epoch 085 | Learning rate 0.001923 | train normalized MSE   0.1915 | val normalized MSE   0.1877, | val MAE   1.4740 | val MSE   9.1959\n"
     ]
    },
    {
     "name": "stderr",
     "output_type": "stream",
     "text": [
      "Epoch:  36%|███▌      | 90/250 [13:14<23:30,  8.82s/epoch]"
     ]
    },
    {
     "name": "stdout",
     "output_type": "stream",
     "text": [
      "Epoch 090 | Learning rate 0.001788 | train normalized MSE   0.1937 | val normalized MSE   0.2003, | val MAE   1.5770 | val MSE   9.8154\n"
     ]
    },
    {
     "name": "stderr",
     "output_type": "stream",
     "text": [
      "Epoch:  38%|███▊      | 95/250 [13:58<22:48,  8.83s/epoch]"
     ]
    },
    {
     "name": "stdout",
     "output_type": "stream",
     "text": [
      "Epoch 095 | Learning rate 0.001656 | train normalized MSE   0.1899 | val normalized MSE   0.1923, | val MAE   1.5403 | val MSE   9.4216\n"
     ]
    },
    {
     "name": "stderr",
     "output_type": "stream",
     "text": [
      "Epoch:  40%|████      | 100/250 [14:42<22:02,  8.81s/epoch]"
     ]
    },
    {
     "name": "stdout",
     "output_type": "stream",
     "text": [
      "Epoch 100 | Learning rate 0.001528 | train normalized MSE   0.1872 | val normalized MSE   0.1839, | val MAE   1.4673 | val MSE   9.0096\n"
     ]
    },
    {
     "name": "stderr",
     "output_type": "stream",
     "text": [
      "Epoch:  42%|████▏     | 105/250 [15:27<21:16,  8.80s/epoch]"
     ]
    },
    {
     "name": "stdout",
     "output_type": "stream",
     "text": [
      "Epoch 105 | Learning rate 0.001053 | train normalized MSE   0.1787 | val normalized MSE   0.1864, | val MAE   1.4895 | val MSE   9.1319\n"
     ]
    },
    {
     "name": "stderr",
     "output_type": "stream",
     "text": [
      "Epoch:  42%|████▏     | 106/250 [15:44<21:23,  8.91s/epoch]"
     ]
    },
    {
     "name": "stdout",
     "output_type": "stream",
     "text": [
      "==== EARLY STOP at epoch 107\n"
     ]
    },
    {
     "name": "stderr",
     "output_type": "stream",
     "text": [
      "\n"
     ]
    },
    {
     "name": "stdout",
     "output_type": "stream",
     "text": [
      "Submission saved locally as: './submission\\submission-2025-05-12_12-35PM.csv'.\n"
     ]
    }
   ],
   "source": [
    "# Calculate number of input features after flattening and number of output features\n",
    "# Note: LSTM models take features in different dimensions\n",
    "input_features:int = 50 * 50 * 6   # 50 agents, 50 time steps, 6 dimensions each (15000 input features)\n",
    "output_features:int = 60 * 2       # 60 future time steps, 2 dimensions (x, y) (120 output features)\n",
    "\n",
    "# Hyperparameters\n",
    "batch_size: int = 64\n",
    "num_folds: int = 4\n",
    "early_stopping_patience: int = 30\n",
    "early_stopping_threshold: float = 1e-4\n",
    "epochs: int = 250\n",
    "starting_lr: float = 1e-2\n",
    "scale: float = 7.0\n",
    "weight_decay: float = 1e-2\n",
    "\n",
    "lstm_hidden_dim: int = 256\n",
    "\n",
    "# IMPORTANT! To change which model is used: comment/uncomment below\n",
    "# Easily swap models by changing what is returned (called in training and test to avoid conflicts)\n",
    "def get_model():\n",
    "    # return BasicMLP(input_features, output_features).to(device)\n",
    "    # return BaseLSTM(input_dim=6, hidden_dim=lstm_hidden_dim, output_dim=output_features).to(device)\n",
    "    # return SceneContextModel(hidden_dim=864).to(device)\n",
    "    return LSTMWithMLP(input_dim=6, hidden_dim=lstm_hidden_dim, output_dim=output_features).to(device)\n",
    "\n",
    "SEED: int = 42\n",
    "torch.manual_seed(SEED)\n",
    "np.random.seed(SEED)\n",
    "\n",
    "def train_model(full_training_data: np.ndarray, \n",
    "                batch_size:int = 64, epochs:int = 10, num_folds:int = 5,\n",
    "                early_stopping_patience:int = 5, early_stopping_threshold:float = 1e-3):\n",
    "    global starting_lr, gamma, scale, lstm_hidden_dim, output_features, weight_decay\n",
    "\n",
    "    # Time series data needs to keep its data in relative order, so no shuffling can occur\n",
    "    #   like in regular KFold cross validation\n",
    "    splitter = TimeSeriesSplit(n_splits=num_folds)\n",
    "\n",
    "    # Perform cross-validation, the best model will be saved as \"best_model.pt\" to be loaded in later\n",
    "    overall_best_val_loss = float(\"inf\")\n",
    "\n",
    "    # Resources used:\n",
    "    # Project milestone notebook\n",
    "    # https://github.com/christianversloot/machine-learning-articles/blob/main/how-to-use-k-fold-cross-validation-with-pytorch.md\n",
    "    # https://www.geeksforgeeks.org/time-series-cross-validation/\n",
    "    for fold_i, (train_idx, val_idx) in enumerate(splitter.split(full_training_data)):\n",
    "        print(f\"\\nFOLD {fold_i + 1}/{num_folds} ==================================\")\n",
    "\n",
    "        # Create the model, loss criterion, and optimizer (reset per fold, to find the best model)\n",
    "        # If you change the model here, ensure its the same in the test loop!\n",
    "        # DO NOT CHANGE CRITERION\n",
    "        criterion = nn.MSELoss()\n",
    "\n",
    "        model = get_model()\n",
    "        optimizer = optim.AdamW(model.parameters(), lr=starting_lr, weight_decay=weight_decay)\n",
    "        schedulers: list[lr_scheduler.LRScheduler] =[\n",
    "            lr_scheduler.ExponentialLR(optimizer, gamma=0.995),\n",
    "            lr_scheduler.MultiStepLR(\n",
    "                optimizer,\n",
    "                milestones= list(range(25, epochs, 25)),\n",
    "                gamma=0.75,\n",
    "            ),\n",
    "            # lr_scheduler.MultiStepLR(\n",
    "            #     optimizer,\n",
    "            #     milestones= list(range(100, epochs, 100)),\n",
    "            #     gamma=0.5,\n",
    "            # ),\n",
    "            lr_scheduler.CosineAnnealingLR(\n",
    "                optimizer, \n",
    "                T_max= int(epochs * 0.9),\n",
    "                eta_min=1e-5\n",
    "            ),\n",
    "        ]\n",
    "\n",
    "        # Prepare data from this fold\n",
    "        train_fold: np.ndarray = full_training_data[train_idx]\n",
    "        val_fold: np.ndarray = full_training_data[val_idx]\n",
    "        collate_func = None     # Optional for DataLoader, taken from milestone notebook\n",
    "        if not isinstance(model, SceneContextModel):\n",
    "            # LSTM can handle the timeseries data directly\n",
    "            # TrajectoryDataset expects numpy arrays\n",
    "            collate_func = lambda x: Batch.from_data_list(x)\n",
    "            train_dataset = TrajectoryDatasetTrain(train_fold, scale=scale, augment=True)\n",
    "            val_dataset = TrajectoryDatasetTrain(val_fold, scale=scale, augment=False)\n",
    "        else:\n",
    "            train_x: np.ndarray = train_fold[..., :50, :]\n",
    "            train_y: np.ndarray = train_fold[:, 0, 50:, :2]\n",
    "            X_train_tensor = torch.FloatTensor(train_x).reshape((-1, input_features))\n",
    "            y_train_tensor = torch.FloatTensor(train_y).reshape((-1, output_features))\n",
    "            train_dataset = TensorDataset(X_train_tensor, y_train_tensor)\n",
    "\n",
    "            val_x: np.ndarray = val_fold[..., :50, :]\n",
    "            val_y: np.ndarray = val_fold[:, 0, 50:, :2]\n",
    "            X_val_tensor = torch.FloatTensor(val_x).reshape((-1, input_features))\n",
    "            y_val_tensor = torch.FloatTensor(val_y).reshape((-1, output_features))\n",
    "            val_dataset = TensorDataset(X_val_tensor, y_val_tensor)\n",
    "\n",
    "        train_dataloader = DataLoader(train_dataset, batch_size=batch_size, shuffle=True, collate_fn=collate_func)\n",
    "        val_dataloader = DataLoader(val_dataset, batch_size=batch_size, shuffle=False, collate_fn=collate_func)\n",
    "\n",
    "        best_val_loss: float = float(\"inf\")\n",
    "        no_improvement: int = 0\n",
    "\n",
    "        # Training and validation loops are taken from the milestone notebook,\n",
    "        #   with modifications to allow for different data loading shapes      \n",
    "        for epoch in tqdm(range(epochs), desc=\"Epoch\", unit=\"epoch\"):\n",
    "            # Training loop\n",
    "            model.train()\n",
    "            train_loss = 0\n",
    "            for batch in train_dataloader:\n",
    "                batch_x = None\n",
    "                batch_y = None\n",
    "                if isinstance(batch, tuple) or isinstance(batch, list):\n",
    "                    batch_x, batch_y = batch\n",
    "                    batch_y = batch_y.view(-1, 60, 2)\n",
    "                else: # DataBatch type\n",
    "                    batch = batch.to(device)\n",
    "                    batch_x = batch.x\n",
    "                    batch_y = batch.y.view(batch.num_graphs, 60, 2)\n",
    "\n",
    "                optimizer.zero_grad()\n",
    "                outputs = model(batch_x)\n",
    "                loss = criterion(outputs, batch_y)\n",
    "                loss.backward()\n",
    "                torch.nn.utils.clip_grad_norm_(model.parameters(), max_norm=2.0)\n",
    "                optimizer.step()\n",
    "                train_loss += loss.item()\n",
    "\n",
    "            # Validation loop\n",
    "            model.eval()\n",
    "            val_loss = 0\n",
    "            val_mae = 0\n",
    "            val_mse = 0\n",
    "            with torch.no_grad():\n",
    "                for batch in val_dataloader:\n",
    "                    batch_x = None\n",
    "                    batch_y = None\n",
    "                    if isinstance(batch, tuple) or isinstance(batch, list):\n",
    "                        batch_x, batch_y = batch\n",
    "                        batch_y = batch_y.view(-1, 60, 2)\n",
    "                    else: # DataBatch type\n",
    "                        batch = batch.to(device)\n",
    "                        batch_x = batch.x\n",
    "                        batch_y = batch.y.view(batch.num_graphs, 60, 2)\n",
    "\n",
    "                    pred = model(batch_x)\n",
    "                    val_loss += criterion(pred, batch_y).item()\n",
    "\n",
    "                    # show MAE and MSE with unnormalized data\n",
    "                    y = None\n",
    "                    if isinstance(batch, tuple) or isinstance(batch, list):\n",
    "                        y = batch_y.view(-1, 60, 2)\n",
    "                    else: # DataBatch type\n",
    "                        pred = pred * batch.scale.view(-1, 1, 1) + batch.origin.unsqueeze(1)\n",
    "                        y = batch_y * batch.scale.view(-1, 1, 1) + batch.origin.unsqueeze(1)\n",
    "                    val_mae += nn.L1Loss()(pred, y).item()\n",
    "                    val_mse += nn.MSELoss()(pred, y).item()\n",
    "\n",
    "            train_loss /= len(train_dataloader)\n",
    "            val_loss /= len(val_dataloader)\n",
    "            val_mae /= len(val_dataloader)\n",
    "            val_mse /= len(val_dataloader)\n",
    "\n",
    "            if (epoch + 1) % 5 == 0:\n",
    "                tqdm.write(f\"Epoch {(epoch + 1):03d} | Learning rate {optimizer.param_groups[0]['lr']:.6f} | train normalized MSE {train_loss:8.4f} | val normalized MSE {val_loss:8.4f}, | val MAE {val_mae:8.4f} | val MSE {val_mse:8.4f}\")\n",
    "\n",
    "            if val_loss < best_val_loss - early_stopping_threshold:\n",
    "                best_val_loss = val_loss\n",
    "                no_improvement = 0\n",
    "\n",
    "                # Better than the overall seen so far?\n",
    "                if best_val_loss < overall_best_val_loss:\n",
    "                    overall_best_val_loss = best_val_loss\n",
    "                    torch.save(model.state_dict(), \"best_model.pt\")\n",
    "            else:\n",
    "                no_improvement += 1\n",
    "                if no_improvement >= early_stopping_patience:\n",
    "                    print(f\"==== EARLY STOP at epoch {(epoch + 1):03d}\")\n",
    "                    break\n",
    "\n",
    "            for sched in schedulers:\n",
    "                sched.step()\n",
    "\n",
    "\n",
    "# Load in the model saved during testing to use on X_test\n",
    "# Mostly taken from milestone notebook\n",
    "def predict(X_test: np.ndarray, best_model_path: str = \"best_model.pt\"):\n",
    "    global scale, batch_size, lstm_hidden_dim, output_features\n",
    "\n",
    "    # Ensure this aligns with the trained model!\n",
    "    best_model = torch.load(best_model_path)\n",
    "    model = get_model()\n",
    "    model.load_state_dict(best_model)\n",
    "    model.eval()\n",
    "\n",
    "    pred_list = []\n",
    "    with torch.no_grad():\n",
    "        if not isinstance(model, SceneContextModel): # Using DataBatch type from a DataLoader\n",
    "            collate_func = lambda x: Batch.from_data_list(x)\n",
    "            test_dataset = TrajectoryDatasetTest(X_test, scale=scale)\n",
    "            test_loader = DataLoader(test_dataset, batch_size=batch_size, shuffle=False, collate_fn=collate_func)\n",
    "\n",
    "            for batch in test_loader:\n",
    "                batch = batch.to(device)\n",
    "                pred_norm = model(batch.x)\n",
    "\n",
    "                # Reshape the prediction to (N, 60, 2)\n",
    "                pred = pred_norm * batch.scale.view(-1,1,1) + batch.origin.unsqueeze(1)\n",
    "                pred_list.append(pred.cpu().numpy())\n",
    "        else:\n",
    "            X_test_tensor = torch.FloatTensor(X_test).reshape((-1, input_features)).to(device)\n",
    "            pred = model(X_test_tensor).cpu().reshape((-1, 60, 2))\n",
    "            pred_list.append(pred.numpy())\n",
    "\n",
    "    # Reshape predictions to match submission format: (2100, 60, 2) -> (12600, 2)\n",
    "    pred_list = np.concatenate(pred_list, axis=0)  # (N,60,2)\n",
    "    pred_output = pred_list.reshape(-1, 2)  # (N*60, 2)\n",
    "    output_df = pd.DataFrame(pred_output, columns=['x', 'y'])\n",
    "    output_df.index.name = 'index'\n",
    "    return output_df\n",
    "\n",
    "# Train the model (tweak batch_size and epochs as needed at top of this block)\n",
    "# Saved as \"best_model.pt\" to be loaded in during testing\n",
    "train_model(train_data, batch_size=batch_size, epochs=epochs, num_folds=num_folds,\n",
    "            early_stopping_patience=early_stopping_patience,\n",
    "            early_stopping_threshold=early_stopping_threshold)\n",
    "\n",
    "# Make predictions on the test set\n",
    "model_predictions_df = predict(test_data)\n",
    "assert len(model_predictions_df) == 126000, f\"Incorrect number of rows in output, expected 126000, got {len(model_predictions_df)}\"\n",
    "\n",
    "# Save output in the submission foldder, timestamped!\n",
    "submission_path = os.path.join(submission_dir, f\"submission-{get_timestamp()}.csv\")\n",
    "model_predictions_df.to_csv(submission_path)\n",
    "print(f\"Submission saved locally as: '{submission_path}'.\")"
   ]
  },
  {
   "cell_type": "markdown",
   "metadata": {},
   "source": [
    "# Visualize predictions\n",
    "\n",
    "These functions are taken from the milestone notebook, with minor additions"
   ]
  },
  {
   "cell_type": "code",
   "execution_count": 14,
   "metadata": {},
   "outputs": [],
   "source": [
    "def plot_trajectory(ax, pred, gt, title=None):\n",
    "    ax.cla()\n",
    "    # Plot the predicted future trajectory\n",
    "    ax.plot(pred[0,:60,0], pred[0,:60,1], color='palevioletred', label='Predicted Future Trajectory')\n",
    "    \n",
    "    # Plot the ground truth future trajectory\n",
    "    ax.plot(gt[0,:60,0], gt[0,:60,1], color='navy', label='Ground Truth Future Trajectory')\n",
    "    \n",
    "    # Optionally set axis limits, labels, and title.\n",
    "    x_max = max(pred[..., 0].max(), gt[..., 0].max())\n",
    "    x_min = min(pred[..., 0].min(), gt[..., 0].min())\n",
    "    y_max = max(pred[..., 1].max(), gt[..., 1].max())\n",
    "    y_min = min(pred[..., 1].min(), gt[..., 1].min())\n",
    "    \n",
    "    ax.set_xlim(x_min, x_max)\n",
    "    ax.set_ylim(y_min, y_max)\n",
    "    ax.set_xlabel('X-axis')\n",
    "    ax.set_ylabel('Y-axis')\n",
    "    \n",
    "    if title:\n",
    "        ax.set_title(title)\n",
    "    \n",
    "    ax.legend()\n",
    "    ax.grid(True, linestyle='--', alpha=0.7)"
   ]
  },
  {
   "cell_type": "code",
   "execution_count": 15,
   "metadata": {},
   "outputs": [],
   "source": [
    "def visualize_predictions(model, val_dataset, graph_save_path: str = f\"{get_timestamp()}_graph.png\"):\n",
    "    model.load_state_dict(torch.load(\"best_model.pt\"))\n",
    "    model.eval()\n",
    "\n",
    "    # randomly select 4 samples from the validation set\n",
    "    random_indices = random.sample(range(len(val_dataset)), 4)\n",
    "    fig, axes = plt.subplots(2, 2, figsize=(10, 10))\n",
    "    axes = axes.flatten()  # Flatten the array to iterate single axes objects\n",
    "\n",
    "    for i, idx in enumerate(random_indices):\n",
    "        batch = val_dataset[idx]\n",
    "        batch_x, batch_y = None, None\n",
    "        if isinstance(batch, tuple) or isinstance(batch, list):\n",
    "            batch_x, batch_y = batch\n",
    "            X_val_tensor = torch.FloatTensor(batch_x).reshape((-1, input_features)).to(device)\n",
    "            y_val_tensor = torch.FloatTensor(batch_y.view(-1, 60, 2))\n",
    "\n",
    "            pred = model(X_val_tensor).cpu().reshape((-1, 60, 2))\n",
    "            gt = torch.stack(torch.split(y_val_tensor, 60, dim=0), dim=0).squeeze(dim=0) # getting a phantom dimension\n",
    "        else:\n",
    "            batch = batch.to(device)\n",
    "            batch_x = batch.x\n",
    "            batch_y = batch.y\n",
    "        \n",
    "            pred = model(batch_x)\n",
    "            gt = torch.stack(torch.split(batch_y, 60, dim=0), dim=0)\n",
    "\n",
    "            pred = pred * batch.scale.view(-1, 1, 1) + batch.origin.unsqueeze(1)\n",
    "            gt = torch.stack(torch.split(batch_y, 60, dim=0), dim=0) * batch.scale.view(-1, 1, 1) + batch.origin.unsqueeze(1)\n",
    "\n",
    "        pred = pred.detach().cpu().numpy()\n",
    "        gt = gt.detach().cpu().numpy()\n",
    "\n",
    "        # Plot the trajectory using the i-th axis\n",
    "        plot_trajectory(axes[i], pred, gt, title=f\"Sample {idx}\")\n",
    "\n",
    "    plt.savefig(fname=graph_save_path)\n",
    "    plt.show()"
   ]
  },
  {
   "cell_type": "code",
   "execution_count": 16,
   "metadata": {},
   "outputs": [
    {
     "data": {
      "image/png": "[encoded data removed]",
      "text/plain": [
       "<Figure size 1000x1000 with 4 Axes>"
      ]
     },
     "metadata": {},
     "output_type": "display_data"
    }
   ],
   "source": [
    "model = get_model()\n",
    "if not isinstance(model, SceneContextModel):\n",
    "    # LSTM can handle the timeseries data directly\n",
    "    # TrajectoryDataset expects numpy arrays\n",
    "    collate_func = lambda x: Batch.from_data_list(x)\n",
    "    train_dataset = TrajectoryDatasetTrain(train_data, scale=scale, augment=True)\n",
    "else:\n",
    "    train_x: np.ndarray = train_data[..., :50, :]\n",
    "    train_y: np.ndarray = train_data[:, 0, 50:, :2]\n",
    "    X_train_tensor = torch.FloatTensor(train_x).reshape((-1, input_features))\n",
    "    y_train_tensor = torch.FloatTensor(train_y).reshape((-1, output_features))\n",
    "    train_dataset = TensorDataset(X_train_tensor, y_train_tensor)\n",
    "\n",
    "visualize_predictions(model, train_dataset)"
   ]
  }
 ],
 "metadata": {
  "kernelspec": {
   "display_name": ".venv",
   "language": "python",
   "name": "python3"
  },
  "language_info": {
   "codemirror_mode": {
    "name": "ipython",
    "version": 3
   },
   "file_extension": ".py",
   "mimetype": "text/x-python",
   "name": "python",
   "nbconvert_exporter": "python",
   "pygments_lexer": "ipython3",
   "version": "3.13.3"
  }
 },
 "nbformat": 4,
 "nbformat_minor": 2
}
