{
 "cells": [
  {
   "cell_type": "code",
   "execution_count": 1,
   "metadata": {},
   "outputs": [],
   "source": [
    "import os\n",
    "import sys\n",
    "from tqdm import tqdm\n",
    "from datetime import datetime\n",
    "import random\n",
    "\n",
    "import numpy as np\n",
    "import pandas as pd\n",
    "import matplotlib.pyplot as plt\n",
    "import matplotlib.animation as animation\n",
    "from sklearn.model_selection import TimeSeriesSplit\n",
    "\n",
    "import torch\n",
    "import torch.nn as nn\n",
    "import torch.optim as optim\n",
    "import torch.optim.lr_scheduler as lr_scheduler\n",
    "from torch.utils.data import Dataset, DataLoader, TensorDataset\n",
    "from torch_geometric.data import Data, Batch"
   ]
  },
  {
   "cell_type": "code",
   "execution_count": 2,
   "metadata": {},
   "outputs": [
    {
     "name": "stdout",
     "output_type": "stream",
     "text": [
      "train_data's shape: (10000, 50, 110, 6)\n",
      "test_data's shape: (2100, 50, 50, 6)\n"
     ]
    }
   ],
   "source": [
    "# Create submission folder if it doesn't exist\n",
    "submission_dir = './submission'\n",
    "os.makedirs(submission_dir, exist_ok=True)\n",
    "\n",
    "# Uncomment the following block ONLY if you wish to inspect file paths in a Kaggle-like directory structure.\n",
    "# On your local system, you likely have the files in your local folder so this is not needed.\n",
    "# for dirname, _, filenames in os.walk('/kaggle/input'):\n",
    "#     for filename in filenames:\n",
    "#         print(os.path.join(dirname, filename))\n",
    "\n",
    "\n",
    "# Data Loading for Local Environment\n",
    "# Files are assumed to be in:\n",
    "# ./cse-251-b-2025/train.npz\n",
    "# ./cse-251-b-2025/test_input.npz\n",
    "\n",
    "train_file = np.load(\"./cse-251-b-2025/train.npz\")\n",
    "train_data = train_file['data']\n",
    "print(\"train_data's shape:\", train_data.shape)  # Expected shape: (10000, 50, 110, 6)\n",
    "\n",
    "test_file = np.load(\"./cse-251-b-2025/test_input.npz\")\n",
    "test_data = test_file['data']\n",
    "print(\"test_data's shape:\", test_data.shape)    # Expected shape: (2100, 50, 50, 6)"
   ]
  },
  {
   "cell_type": "markdown",
   "metadata": {},
   "source": [
    "# Visualization: "
   ]
  },
  {
   "cell_type": "code",
   "execution_count": 3,
   "metadata": {},
   "outputs": [],
   "source": [
    "# Run visualizations?\n",
    "run_visualizations: bool = False\n",
    "\n",
    "# From data loading notebook\n",
    "def plot_one_training_scene(idx: int = 0):\n",
    "    # Plot trajectories from one training scene (static plot)\n",
    "    data_matrix = train_data[idx]\n",
    "\n",
    "    plt.figure(figsize=(8, 8))\n",
    "    for agent in range(data_matrix.shape[idx]):\n",
    "        xs = data_matrix[agent, :, 0]\n",
    "        ys = data_matrix[agent, :, 1]\n",
    "        # Remove zeros (padding)\n",
    "        xs = xs[xs != 0]\n",
    "        ys = ys[ys != 0]\n",
    "        plt.plot(xs, ys, alpha=0.7)\n",
    "    plt.title(\"Trajectories from one training scene\")\n",
    "    plt.xlabel(\"x-coordinate\")\n",
    "    plt.ylabel(\"y-coordinate\")\n",
    "    plt.show()\n",
    "\n",
    "# Create an animated gif for one training scene (exact code provided on kaggle)\n",
    "def make_gif(data_matrix, name='example'):\n",
    "    cmap = None\n",
    "    if sys.version_info.minor <= 7:\n",
    "        cmap = plt.cm.get_cmap(\"viridis\", 50)\n",
    "    else:\n",
    "        cmap = plt.get_cmap(\"viridis\", 50)\n",
    "\n",
    "    fig, ax = plt.subplots(figsize=(10, 10))\n",
    "    # Function to update plot for each frame\n",
    "    def update(frame):\n",
    "        ax.clear()\n",
    "        # Get data for current timestep\n",
    "        for i in range(1, data_matrix.shape[0]):\n",
    "            x = data_matrix[i, frame, 0]\n",
    "            y = data_matrix[i, frame, 1]\n",
    "            if x != 0 and y != 0:\n",
    "                xs = data_matrix[i, :frame+1, 0]  # Include current frame\n",
    "                ys = data_matrix[i, :frame+1, 1]  # Include current frame\n",
    "                # trim all zeros\n",
    "                mask = (xs != 0) & (ys != 0)  # Only keep points where both x and y are non-zero\n",
    "                xs = xs[mask]\n",
    "                ys = ys[mask]\n",
    "                # Only plot if we have points to plot\n",
    "                if len(xs) > 0 and len(ys) > 0:\n",
    "                    color = cmap(i)\n",
    "                    ax.plot(xs, ys, alpha=0.9, color=color)\n",
    "                    ax.scatter(x, y, s=80, color=color)\n",
    "        ax.plot(data_matrix[0, :frame, 0], data_matrix[0, :frame, 1],\n",
    "                color='tab:orange', label='Ego Vehicle')\n",
    "        ax.scatter(data_matrix[0, frame, 0], data_matrix[0, frame, 1],\n",
    "                   s=80, color='tab:orange')\n",
    "        # Set title with timestep\n",
    "        ax.set_title(f'Timestep {frame}')\n",
    "        # Set consistent axis limits\n",
    "        ax.set_xlim(data_matrix[:,:,0][data_matrix[:,:,0] != 0].min() - 10, \n",
    "                    data_matrix[:,:,0][data_matrix[:,:,0] != 0].max() + 10)\n",
    "        ax.set_ylim(data_matrix[:,:,1][data_matrix[:,:,1] != 0].min() - 10, \n",
    "                    data_matrix[:,:,1][data_matrix[:,:,1] != 0].max() + 10)\n",
    "        ax.legend()\n",
    "        return ax.collections + ax.lines\n",
    "\n",
    "    # Create animation\n",
    "    anim = animation.FuncAnimation(fig, update, frames=list(range(0, data_matrix.shape[1], 3)),\n",
    "                                   interval=100, blit=True)\n",
    "    # Save as GIF\n",
    "    anim.save(f'trajectory_visualization_{name}.gif', writer='pillow')\n",
    "    plt.close()\n",
    "\n",
    "if run_visualizations:\n",
    "    plot_one_training_scene(0)\n",
    "    make_gif(train_data[0], 'index0')"
   ]
  },
  {
   "cell_type": "markdown",
   "metadata": {},
   "source": [
    "# Constant velocity from test set\n",
    "Untouched from original data loading notebook."
   ]
  },
  {
   "cell_type": "code",
   "execution_count": 4,
   "metadata": {},
   "outputs": [],
   "source": [
    "# Run constant velocity model (Kaggle score of ~50)?\n",
    "run_constant_velocity_model: bool = False\n",
    "\n",
    "if run_constant_velocity_model:\n",
    "    # Compute the velocity differences for the ego vehicle (agent index 0)\n",
    "    velocity_diff = test_data[..., 1:, :2] - test_data[..., :-1, :2]\n",
    "    print(\"Velocity difference shape:\", velocity_diff.shape)\n",
    "\n",
    "    # Compute average velocity for the ego vehicle (index 0) in each scene\n",
    "    constant_vel = np.mean(velocity_diff[:, 0, :, :], axis=1)\n",
    "    print(\"Constant velocity shape:\", constant_vel.shape)\n",
    "\n",
    "    # Generate predictions for 60 future time steps based on constant velocity\n",
    "    pred_y_const = np.zeros((test_data.shape[0], 60, 2))\n",
    "    starting_point = test_data[:, 0, -1, :2]  # Last observed position of ego vehicle\n",
    "\n",
    "    for t in range(60):\n",
    "        pred_y_const[:, t, :] = starting_point + (t + 1) * constant_vel\n",
    "\n",
    "    # Reshape predictions to submission format: (2100, 60, 2) -> (12600, 2)\n",
    "    pred_output_const = pred_y_const.reshape(-1, 2)\n",
    "    output_df_const = pd.DataFrame(pred_output_const, columns=['x', 'y'])\n",
    "    output_df_const.index.name = 'index'\n",
    "    # Save output in the submission folder\n",
    "    constant_vel_path = os.path.join(submission_dir, 'constant_vel_submission.csv')\n",
    "    output_df_const.to_csv(constant_vel_path)\n",
    "    print(f\"Constant velocity submission saved locally as '{constant_vel_path}'.\")"
   ]
  },
  {
   "cell_type": "markdown",
   "metadata": {},
   "source": [
    "# Our Work"
   ]
  },
  {
   "cell_type": "code",
   "execution_count": 5,
   "metadata": {},
   "outputs": [],
   "source": [
    "# MLP model with residual blocks: ineffective for TimeSeries data\n",
    "class BasicMLP(nn.Module):\n",
    "    def __init__(self, input_features, output_features):\n",
    "        super().__init__()\n",
    "\n",
    "        # Lazy layers infer the input size instead of having to explicitly pass it in\n",
    "        # Backbone: linear -> BatchNorm -> PReLU -> Dropout\n",
    "        self.net = nn.Sequential(\n",
    "            nn.Linear(input_features, 1024),\n",
    "            nn.BatchNorm1d(1024),\n",
    "            nn.PReLU(),\n",
    "            nn.Dropout(0.2),\n",
    "\n",
    "            nn.Linear(1024, 512),\n",
    "            nn.BatchNorm1d(512),\n",
    "            nn.PReLU(),\n",
    "            nn.Dropout(0.2),\n",
    "\n",
    "            nn.Linear(512, 256),\n",
    "            nn.BatchNorm1d(256),\n",
    "            nn.PReLU(),\n",
    "            nn.Dropout(0.2),\n",
    "        ) # Note: residual width must match the last width of the net\n",
    "\n",
    "        # Residual block added to avoid vanishing gradient issue\n",
    "        self.residual = nn.Sequential(\n",
    "            nn.LazyLinear(256),\n",
    "            nn.ReLU(),\n",
    "            nn.LazyLinear(256),\n",
    "        )\n",
    "\n",
    "        # Infer last input shape, then do final projection (60*2)\n",
    "        self.head = nn.LazyLinear(output_features)\n",
    "\n",
    "    def forward(self, x):\n",
    "        # Original forward loop\n",
    "        # # (batch, 50, 50, 6) or flattened already\n",
    "        # x = x.view(x.size(0), -1)\n",
    "        # h = self.net(x) #(batch, 256)\n",
    "        # h = h + self.residual(h)  # residual skip\n",
    "        # return self.head(h) #(batch, 120)\n",
    "\n",
    "        # Taken from milestone notebook (tensor format)\n",
    "        # In case you passed in a DataBatch\n",
    "        if not isinstance(x, torch.Tensor):\n",
    "            x = x.x\n",
    "\n",
    "        # x = x[:, :, :, :2] # (batch, 50, 50, 2)\n",
    "        x = x.reshape(-1, 50 * 50 * 6)\n",
    "        x = self.net(x)\n",
    "        x = x + self.residual(x)\n",
    "        x = self.head(x)\n",
    "        return x.view(-1, 60, 2)"
   ]
  },
  {
   "cell_type": "code",
   "execution_count": 6,
   "metadata": {},
   "outputs": [],
   "source": [
    "# Base LSTM given to us in the milestone notebook\n",
    "class BaseLSTM(nn.Module):\n",
    "    def __init__(self, input_dim:int =6, hidden_dim:int =128, output_dim:int =60 * 2, dropout:float = 0):\n",
    "        super(BaseLSTM, self).__init__()\n",
    "        self.lstm = nn.LSTM(input_dim, hidden_dim, batch_first=True, dropout=dropout)\n",
    "        self.fc = nn.Linear(hidden_dim, output_dim)\n",
    "\n",
    "    def forward(self, x):\n",
    "        # In case you passed in a DataBatch\n",
    "        if not isinstance(x, torch.Tensor):\n",
    "            x = x.x\n",
    "\n",
    "        x= x.reshape(-1, 50, 50, 6)  # (batch_size, num_agents, seq_len, input_dim)\n",
    "        x = x[:, 0, :, :] # Only Consider ego agent index 0\n",
    "\n",
    "        lstm_out, _ = self.lstm(x)\n",
    "        # lstm_out is of shape (batch_size, seq_len, hidden_dim) and we want the last time step output\n",
    "        out = self.fc(lstm_out[:, -1, :])\n",
    "        return out.view(-1, 60, 2)"
   ]
  },
  {
   "cell_type": "code",
   "execution_count": 7,
   "metadata": {},
   "outputs": [],
   "source": [
    "# Multi agent scene context model\n",
    "class SceneContextModel(nn.Module):\n",
    "    def __init__(self, hidden_dim=128):\n",
    "        super().__init__()\n",
    "        self.agent_encoder = nn.Sequential(\n",
    "            nn.Linear(50 * 6, hidden_dim),\n",
    "            nn.ReLU()\n",
    "        )\n",
    "        self.ego_encoder = nn.Sequential(\n",
    "            nn.Linear(50 * 6, hidden_dim),\n",
    "            nn.ReLU()\n",
    "        )\n",
    "        self.decoder = nn.Sequential(\n",
    "            nn.Linear(2 * hidden_dim, hidden_dim),\n",
    "            nn.ReLU(),\n",
    "            nn.Linear(hidden_dim, 60 * 2)\n",
    "        )\n",
    "\n",
    "    def forward(self, x_flat):\n",
    "        # x = data.x\n",
    "        # x = x[:, :, :, :2] # (batch, 50, 50, 2)\n",
    "        # x = x.reshape(-1, 50 * 50 * 6)\n",
    "        # x = self.mlp(x)\n",
    "        # return x.view(-1, 60, 2)\n",
    "        # In case you passed in a DataBatch\n",
    "        if not isinstance(x_flat, torch.Tensor):\n",
    "            x_flat = x_flat.x\n",
    "\n",
    "        B = x_flat.size(0)\n",
    "        x = x_flat.view(B, 50, 50, 6) #(B, agents, timesteps, features)\n",
    "        x_agents = x.view(B, 50, -1)  #(B, 50, 300)\n",
    "        agent_feats = self.agent_encoder(x_agents) #(B, 50, hidden_dim)\n",
    "        scene_context = agent_feats.mean(dim=1) #(B, hidden_dim)\n",
    "\n",
    "        ego_input = x[:, 0, :, :].reshape(B, -1) #(B, 300)\n",
    "        ego_feat = self.ego_encoder(ego_input) #(B, hidden_dim)\n",
    "\n",
    "        combined = torch.cat([ego_feat, scene_context], dim=1)\n",
    "\n",
    "        out = self.decoder(combined) #(B, 120)\n",
    "        return out.view(-1, 60, 2)"
   ]
  },
  {
   "cell_type": "code",
   "execution_count": 8,
   "metadata": {},
   "outputs": [],
   "source": [
    "# Extended from the base LSTM model\n",
    "class LSTMWithMLP(nn.Module):\n",
    "    def __init__(self, input_dim:int =6, hidden_dim:int =128, output_dim:int =60 * 2, dropout:float = 0):\n",
    "        super(LSTMWithMLP, self).__init__()\n",
    "        self.lstm = nn.LSTM(input_dim, hidden_dim, batch_first=True, dropout=dropout)\n",
    "        self.net = nn.Sequential(\n",
    "            nn.Linear(hidden_dim, 128),\n",
    "            nn.BatchNorm1d(128),\n",
    "            nn.LeakyReLU(),\n",
    "        )\n",
    "        self.fc = nn.Linear(128, output_dim)\n",
    "\n",
    "    def forward(self, x):\n",
    "        # In case you passed in a DataBatch\n",
    "        if not isinstance(x, torch.Tensor):\n",
    "            x = x.x\n",
    "\n",
    "        x= x.reshape(-1, 50, 50, 6)  # (batch_size, num_agents, seq_len, input_dim)\n",
    "        x = x[:, 0, :, :] # Only Consider ego agent index 0\n",
    "\n",
    "        lstm_out, _ = self.lstm(x)\n",
    "        # lstm_out is of shape (batch_size, seq_len, hidden_dim) and we want the last time step output\n",
    "        x = self.net(lstm_out[:, -1, :])\n",
    "        x = self.fc(x)\n",
    "        return x.view(-1, 60, 2)"
   ]
  },
  {
   "cell_type": "markdown",
   "metadata": {},
   "source": [
    "# Preparing data\n",
    "\n",
    "`TrajectoryDataset*` are taken from the milestone notebook."
   ]
  },
  {
   "cell_type": "code",
   "execution_count": 9,
   "metadata": {},
   "outputs": [],
   "source": [
    "class TrajectoryDatasetTrain(Dataset):\n",
    "    def __init__(self, data, scale=10.0, augment=True):\n",
    "        \"\"\"\n",
    "        data: Shape (N, 50, 110, 6) Training data\n",
    "        scale: Scale for normalization (suggested to use 10.0 for Argoverse 2 data)\n",
    "        augment: Whether to apply data augmentation (only for training)\n",
    "        \"\"\"\n",
    "        self.data = data\n",
    "        self.scale = scale\n",
    "        self.augment = augment\n",
    "\n",
    "    def __len__(self):\n",
    "        return len(self.data)\n",
    "\n",
    "    def __getitem__(self, idx):\n",
    "        scene = self.data[idx]\n",
    "        # Getting 50 historical timestamps and 60 future timestamps\n",
    "        hist = scene[:, :50, :].copy()    # (agents=50, time_seq=50, 6)\n",
    "        future = torch.tensor(scene[0, 50:, :2].copy(), dtype=torch.float32)  # (60, 2)\n",
    "        \n",
    "        # Data augmentation(only for training)\n",
    "        if self.augment:\n",
    "            if np.random.rand() < 0.5:\n",
    "                theta = np.random.uniform(-np.pi, np.pi)\n",
    "                R = np.array([[np.cos(theta), -np.sin(theta)],\n",
    "                              [np.sin(theta),  np.cos(theta)]], dtype=np.float32)\n",
    "                # Rotate the historical trajectory and future trajectory\n",
    "                hist[..., :2] = hist[..., :2] @ R\n",
    "                hist[..., 2:4] = hist[..., 2:4] @ R\n",
    "                # future = future @ R gives DeprecationWarning: future a torch.Tensor\n",
    "                future = torch.from_numpy(np.dot(future.numpy(), R)) \n",
    "            if np.random.rand() < 0.5:\n",
    "                hist[..., 0] *= -1\n",
    "                hist[..., 2] *= -1\n",
    "                future[:, 0] *= -1\n",
    "\n",
    "        # Use the last timeframe of the historical trajectory as the origin\n",
    "        origin = hist[0, 49, :2].copy()  # (2,)\n",
    "        hist[..., :2] = hist[..., :2] - origin\n",
    "        # future = future - origin -> same DeprecationWarning\n",
    "        future = torch.from_numpy(future.numpy() - origin)\n",
    "\n",
    "        # Normalize the historical trajectory and future trajectory\n",
    "        hist[..., :4] = hist[..., :4] / self.scale\n",
    "        future = future / self.scale\n",
    "\n",
    "        data_item = Data(\n",
    "            x=torch.tensor(hist, dtype=torch.float32),\n",
    "            y=future.type(torch.float32),\n",
    "            origin=torch.tensor(origin, dtype=torch.float32).unsqueeze(0),\n",
    "            scale=torch.tensor(self.scale, dtype=torch.float32),\n",
    "        )\n",
    "\n",
    "        return data_item\n",
    "    \n",
    "\n",
    "class TrajectoryDatasetTest(Dataset):\n",
    "    def __init__(self, data, scale=10.0):\n",
    "        \"\"\"\n",
    "        data: Shape (N, 50, 110, 6) Testing data\n",
    "        scale: Scale for normalization (suggested to use 10.0 for Argoverse 2 data)\n",
    "        \"\"\"\n",
    "        self.data = data\n",
    "        self.scale = scale\n",
    "\n",
    "    def __len__(self):\n",
    "        return len(self.data)\n",
    "\n",
    "    def __getitem__(self, idx):\n",
    "        # Testing data only contains historical trajectory\n",
    "        scene = self.data[idx]  # (50, 50, 6)\n",
    "        hist = scene.copy()\n",
    "        \n",
    "        origin = hist[0, 49, :2].copy()\n",
    "        hist[..., :2] = hist[..., :2] - origin\n",
    "        hist[..., :4] = hist[..., :4] / self.scale\n",
    "\n",
    "        data_item = Data(\n",
    "            x=torch.tensor(hist, dtype=torch.float32),\n",
    "            origin=torch.tensor(origin, dtype=torch.float32).unsqueeze(0),\n",
    "            scale=torch.tensor(self.scale, dtype=torch.float32),\n",
    "        )\n",
    "        return data_item"
   ]
  },
  {
   "cell_type": "markdown",
   "metadata": {},
   "source": [
    "# Training loop\n",
    "\n",
    "Change which model is used at the `model = ...(input_features, output_features)` line.\n",
    "\n",
    "Change which optimizer is used at the `optimizer = optim...` line.\n",
    "\n",
    "Do **NOT** change the `criterion`, as MSE is stated in the Data tab of the competition."
   ]
  },
  {
   "cell_type": "code",
   "execution_count": 10,
   "metadata": {},
   "outputs": [
    {
     "name": "stdout",
     "output_type": "stream",
     "text": [
      "Using CPU\n"
     ]
    }
   ],
   "source": [
    "# Taken from milestone notebook\n",
    "# Set device for training speedup\n",
    "if torch.backends.mps.is_available():\n",
    "    device = torch.device('mps')\n",
    "    print(\"Using Apple Silicon GPU\")\n",
    "elif torch.cuda.is_available():\n",
    "    device = torch.device('cuda')\n",
    "    print(\"Using CUDA GPU\")\n",
    "else:\n",
    "    device = torch.device('cpu')\n",
    "    print(\"Using CPU\")"
   ]
  },
  {
   "cell_type": "code",
   "execution_count": 11,
   "metadata": {},
   "outputs": [],
   "source": [
    "# Functions to save and load the model (should correspond to what was trained!)\n",
    "def save_model(model, path=\"our_model.pth\"):\n",
    "    torch.save(model.state_dict(), path)\n",
    "    print(f\"Model saved to {path}\")\n",
    "\n",
    "\n",
    "def load_model(model_instance, path=\"our_model.pth\"):\n",
    "    loaded_model = model_instance\n",
    "    loaded_model.load_state_dict(torch.load(path))\n",
    "    loaded_model.eval()\n",
    "    return loaded_model\n",
    "\n",
    "\n",
    "# Example usage:\n",
    "# save_model(trained_model)\n",
    "# model = load_model()"
   ]
  },
  {
   "cell_type": "code",
   "execution_count": 12,
   "metadata": {},
   "outputs": [],
   "source": [
    "def get_timestamp() -> str:\n",
    "    return datetime.now().strftime(\"%Y-%m-%d_%I-%M%p\")"
   ]
  },
  {
   "cell_type": "code",
   "execution_count": 51,
   "metadata": {},
   "outputs": [
    {
     "name": "stdout",
     "output_type": "stream",
     "text": [
      "\n",
      "FOLD 1/4 ==================================\n"
     ]
    },
    {
     "name": "stderr",
     "output_type": "stream",
     "text": [
      "Epoch:   2%|▏         | 5/250 [00:04<03:46,  1.08epoch/s]"
     ]
    },
    {
     "name": "stdout",
     "output_type": "stream",
     "text": [
      "Epoch 005 | Learning rate 0.009794 | train normalized MSE 340011.1879 | val normalized MSE 176126.2485, | val MAE 276.0763 | val MSE 176126.2485\n"
     ]
    },
    {
     "name": "stderr",
     "output_type": "stream",
     "text": [
      "Epoch:   4%|▍         | 10/250 [00:09<03:35,  1.11epoch/s]"
     ]
    },
    {
     "name": "stdout",
     "output_type": "stream",
     "text": [
      "Epoch 010 | Learning rate 0.009521 | train normalized MSE 139414.3148 | val normalized MSE 43653.5620, | val MAE 130.6873 | val MSE 43653.5620\n"
     ]
    },
    {
     "name": "stderr",
     "output_type": "stream",
     "text": [
      "Epoch:   6%|▌         | 15/250 [00:21<08:44,  2.23s/epoch]"
     ]
    },
    {
     "name": "stdout",
     "output_type": "stream",
     "text": [
      "Epoch 015 | Learning rate 0.009234 | train normalized MSE 71564.2681 | val normalized MSE 28848.8943, | val MAE  75.7169 | val MSE 28848.8943\n"
     ]
    },
    {
     "name": "stderr",
     "output_type": "stream",
     "text": [
      "Epoch:   8%|▊         | 20/250 [00:29<06:17,  1.64s/epoch]"
     ]
    },
    {
     "name": "stdout",
     "output_type": "stream",
     "text": [
      "Epoch 020 | Learning rate 0.008933 | train normalized MSE 120353.3507 | val normalized MSE 149197.7125, | val MAE 216.1493 | val MSE 149197.7125\n"
     ]
    },
    {
     "name": "stderr",
     "output_type": "stream",
     "text": [
      "Epoch:  10%|█         | 25/250 [00:35<04:40,  1.25s/epoch]"
     ]
    },
    {
     "name": "stdout",
     "output_type": "stream",
     "text": [
      "Epoch 025 | Learning rate 0.008620 | train normalized MSE 55660.7871 | val normalized MSE 39276.6014, | val MAE 120.6527 | val MSE 39276.6014\n"
     ]
    },
    {
     "name": "stderr",
     "output_type": "stream",
     "text": [
      "Epoch:  12%|█▏        | 30/250 [00:41<04:17,  1.17s/epoch]"
     ]
    },
    {
     "name": "stdout",
     "output_type": "stream",
     "text": [
      "Epoch 030 | Learning rate 0.006223 | train normalized MSE 27739.2745 | val normalized MSE 36851.9702, | val MAE 126.4626 | val MSE 36851.9702\n"
     ]
    },
    {
     "name": "stderr",
     "output_type": "stream",
     "text": [
      "Epoch:  14%|█▍        | 35/250 [00:46<04:06,  1.15s/epoch]"
     ]
    },
    {
     "name": "stdout",
     "output_type": "stream",
     "text": [
      "Epoch 035 | Learning rate 0.005976 | train normalized MSE 32424.0556 | val normalized MSE 15469.8858, | val MAE  54.4267 | val MSE 15469.8858\n"
     ]
    },
    {
     "name": "stderr",
     "output_type": "stream",
     "text": [
      "Epoch:  16%|█▌        | 40/250 [00:52<04:00,  1.14s/epoch]"
     ]
    },
    {
     "name": "stdout",
     "output_type": "stream",
     "text": [
      "Epoch 040 | Learning rate 0.005723 | train normalized MSE 9078.2557 | val normalized MSE 15428.8523, | val MAE  87.9407 | val MSE 15428.8523\n"
     ]
    },
    {
     "name": "stderr",
     "output_type": "stream",
     "text": [
      "Epoch:  18%|█▊        | 45/250 [00:58<03:49,  1.12s/epoch]"
     ]
    },
    {
     "name": "stdout",
     "output_type": "stream",
     "text": [
      "Epoch 045 | Learning rate 0.005466 | train normalized MSE 9940.9377 | val normalized MSE 7212.7513, | val MAE  54.6090 | val MSE 7212.7513\n"
     ]
    },
    {
     "name": "stderr",
     "output_type": "stream",
     "text": [
      "Epoch:  20%|██        | 50/250 [01:03<03:42,  1.11s/epoch]"
     ]
    },
    {
     "name": "stdout",
     "output_type": "stream",
     "text": [
      "Epoch 050 | Learning rate 0.005208 | train normalized MSE 17134.7840 | val normalized MSE 8820.7477, | val MAE  62.3247 | val MSE 8820.7477\n"
     ]
    },
    {
     "name": "stderr",
     "output_type": "stream",
     "text": [
      "Epoch:  22%|██▏       | 55/250 [01:09<03:41,  1.14s/epoch]"
     ]
    },
    {
     "name": "stdout",
     "output_type": "stream",
     "text": [
      "Epoch 055 | Learning rate 0.003711 | train normalized MSE 11728.8087 | val normalized MSE 17146.7799, | val MAE  83.9284 | val MSE 17146.7799\n"
     ]
    },
    {
     "name": "stderr",
     "output_type": "stream",
     "text": [
      "Epoch:  24%|██▍       | 60/250 [01:15<03:37,  1.15s/epoch]"
     ]
    },
    {
     "name": "stdout",
     "output_type": "stream",
     "text": [
      "Epoch 060 | Learning rate 0.003515 | train normalized MSE 3229.0701 | val normalized MSE 2467.3437, | val MAE  34.9593 | val MSE 2467.3437\n"
     ]
    },
    {
     "name": "stderr",
     "output_type": "stream",
     "text": [
      "Epoch:  26%|██▌       | 65/250 [01:20<03:26,  1.11s/epoch]"
     ]
    },
    {
     "name": "stdout",
     "output_type": "stream",
     "text": [
      "Epoch 065 | Learning rate 0.003321 | train normalized MSE 6353.1087 | val normalized MSE 5503.8351, | val MAE  48.8601 | val MSE 5503.8351\n"
     ]
    },
    {
     "name": "stderr",
     "output_type": "stream",
     "text": [
      "Epoch:  28%|██▊       | 70/250 [01:26<03:20,  1.11s/epoch]"
     ]
    },
    {
     "name": "stdout",
     "output_type": "stream",
     "text": [
      "Epoch 070 | Learning rate 0.003128 | train normalized MSE 3480.1471 | val normalized MSE 2657.4520, | val MAE  39.1663 | val MSE 2657.4520\n"
     ]
    },
    {
     "name": "stderr",
     "output_type": "stream",
     "text": [
      "Epoch:  30%|███       | 75/250 [01:31<03:16,  1.12s/epoch]"
     ]
    },
    {
     "name": "stdout",
     "output_type": "stream",
     "text": [
      "Epoch 075 | Learning rate 0.002937 | train normalized MSE 3086.3985 | val normalized MSE 1791.8820, | val MAE  22.4297 | val MSE 1791.8820\n"
     ]
    },
    {
     "name": "stderr",
     "output_type": "stream",
     "text": [
      "Epoch:  32%|███▏      | 80/250 [01:37<03:16,  1.16s/epoch]"
     ]
    },
    {
     "name": "stdout",
     "output_type": "stream",
     "text": [
      "Epoch 080 | Learning rate 0.002061 | train normalized MSE 1813.8493 | val normalized MSE 2843.9059, | val MAE  34.4962 | val MSE 2843.9059\n"
     ]
    },
    {
     "name": "stderr",
     "output_type": "stream",
     "text": [
      "Epoch:  34%|███▍      | 85/250 [01:43<03:08,  1.14s/epoch]"
     ]
    },
    {
     "name": "stdout",
     "output_type": "stream",
     "text": [
      "Epoch 085 | Learning rate 0.001923 | train normalized MSE 1708.1149 | val normalized MSE 996.4278, | val MAE  19.9849 | val MSE 996.4278\n"
     ]
    },
    {
     "name": "stderr",
     "output_type": "stream",
     "text": [
      "Epoch:  36%|███▌      | 90/250 [01:49<03:03,  1.14s/epoch]"
     ]
    },
    {
     "name": "stdout",
     "output_type": "stream",
     "text": [
      "Epoch 090 | Learning rate 0.001788 | train normalized MSE 737.8540 | val normalized MSE 1628.2282, | val MAE  20.8107 | val MSE 1628.2282\n"
     ]
    },
    {
     "name": "stderr",
     "output_type": "stream",
     "text": [
      "Epoch:  38%|███▊      | 95/250 [01:54<02:57,  1.14s/epoch]"
     ]
    },
    {
     "name": "stdout",
     "output_type": "stream",
     "text": [
      "Epoch 095 | Learning rate 0.001656 | train normalized MSE 753.0199 | val normalized MSE 974.8122, | val MAE  23.2013 | val MSE 974.8122\n"
     ]
    },
    {
     "name": "stderr",
     "output_type": "stream",
     "text": [
      "Epoch:  40%|████      | 100/250 [02:00<02:49,  1.13s/epoch]"
     ]
    },
    {
     "name": "stdout",
     "output_type": "stream",
     "text": [
      "Epoch 100 | Learning rate 0.001528 | train normalized MSE 1122.7255 | val normalized MSE 756.1954, | val MAE  17.4979 | val MSE 756.1954\n"
     ]
    },
    {
     "name": "stderr",
     "output_type": "stream",
     "text": [
      "Epoch:  42%|████▏     | 105/250 [02:06<02:45,  1.14s/epoch]"
     ]
    },
    {
     "name": "stdout",
     "output_type": "stream",
     "text": [
      "Epoch 105 | Learning rate 0.001053 | train normalized MSE 843.8843 | val normalized MSE 634.0867, | val MAE  18.5454 | val MSE 634.0867\n"
     ]
    },
    {
     "name": "stderr",
     "output_type": "stream",
     "text": [
      "Epoch:  44%|████▍     | 110/250 [02:11<02:39,  1.14s/epoch]"
     ]
    },
    {
     "name": "stdout",
     "output_type": "stream",
     "text": [
      "Epoch 110 | Learning rate 0.000964 | train normalized MSE 377.2361 | val normalized MSE 373.5695, | val MAE  15.1322 | val MSE 373.5695\n"
     ]
    },
    {
     "name": "stderr",
     "output_type": "stream",
     "text": [
      "Epoch:  46%|████▌     | 115/250 [02:17<02:35,  1.15s/epoch]"
     ]
    },
    {
     "name": "stdout",
     "output_type": "stream",
     "text": [
      "Epoch 115 | Learning rate 0.000878 | train normalized MSE 407.3099 | val normalized MSE 336.5883, | val MAE  13.5010 | val MSE 336.5883\n"
     ]
    },
    {
     "name": "stderr",
     "output_type": "stream",
     "text": [
      "Epoch:  48%|████▊     | 120/250 [02:23<02:26,  1.13s/epoch]"
     ]
    },
    {
     "name": "stdout",
     "output_type": "stream",
     "text": [
      "Epoch 120 | Learning rate 0.000796 | train normalized MSE 272.7364 | val normalized MSE 209.4631, | val MAE  10.7011 | val MSE 209.4631\n"
     ]
    },
    {
     "name": "stderr",
     "output_type": "stream",
     "text": [
      "Epoch:  50%|█████     | 125/250 [02:28<02:21,  1.13s/epoch]"
     ]
    },
    {
     "name": "stdout",
     "output_type": "stream",
     "text": [
      "Epoch 125 | Learning rate 0.000718 | train normalized MSE 312.7867 | val normalized MSE 160.5913, | val MAE   9.2505 | val MSE 160.5913\n"
     ]
    },
    {
     "name": "stderr",
     "output_type": "stream",
     "text": [
      "Epoch:  52%|█████▏    | 130/250 [02:34<02:16,  1.14s/epoch]"
     ]
    },
    {
     "name": "stdout",
     "output_type": "stream",
     "text": [
      "Epoch 130 | Learning rate 0.000483 | train normalized MSE 180.4841 | val normalized MSE 141.2397, | val MAE   8.0594 | val MSE 141.2397\n"
     ]
    },
    {
     "name": "stderr",
     "output_type": "stream",
     "text": [
      "Epoch:  54%|█████▍    | 135/250 [02:40<02:11,  1.14s/epoch]"
     ]
    },
    {
     "name": "stdout",
     "output_type": "stream",
     "text": [
      "Epoch 135 | Learning rate 0.000431 | train normalized MSE 137.4091 | val normalized MSE 155.7596, | val MAE   8.8759 | val MSE 155.7596\n"
     ]
    },
    {
     "name": "stderr",
     "output_type": "stream",
     "text": [
      "Epoch:  56%|█████▌    | 140/250 [02:45<02:06,  1.15s/epoch]"
     ]
    },
    {
     "name": "stdout",
     "output_type": "stream",
     "text": [
      "Epoch 140 | Learning rate 0.000382 | train normalized MSE 171.4406 | val normalized MSE 127.6734, | val MAE   8.0433 | val MSE 127.6734\n"
     ]
    },
    {
     "name": "stderr",
     "output_type": "stream",
     "text": [
      "Epoch:  58%|█████▊    | 145/250 [02:51<02:01,  1.16s/epoch]"
     ]
    },
    {
     "name": "stdout",
     "output_type": "stream",
     "text": [
      "Epoch 145 | Learning rate 0.000336 | train normalized MSE 118.0002 | val normalized MSE 128.0972, | val MAE   8.1500 | val MSE 128.0972\n"
     ]
    },
    {
     "name": "stderr",
     "output_type": "stream",
     "text": [
      "Epoch:  60%|██████    | 150/250 [02:57<01:56,  1.16s/epoch]"
     ]
    },
    {
     "name": "stdout",
     "output_type": "stream",
     "text": [
      "Epoch 150 | Learning rate 0.000293 | train normalized MSE 102.8991 | val normalized MSE  89.3384, | val MAE   6.3092 | val MSE  89.3384\n"
     ]
    },
    {
     "name": "stderr",
     "output_type": "stream",
     "text": [
      "Epoch:  62%|██████▏   | 155/250 [03:03<01:50,  1.16s/epoch]"
     ]
    },
    {
     "name": "stdout",
     "output_type": "stream",
     "text": [
      "Epoch 155 | Learning rate 0.000191 | train normalized MSE  90.9531 | val normalized MSE 101.8607, | val MAE   7.0475 | val MSE 101.8607\n"
     ]
    },
    {
     "name": "stderr",
     "output_type": "stream",
     "text": [
      "Epoch:  64%|██████▍   | 160/250 [03:09<01:43,  1.15s/epoch]"
     ]
    },
    {
     "name": "stdout",
     "output_type": "stream",
     "text": [
      "Epoch 160 | Learning rate 0.000164 | train normalized MSE  85.6448 | val normalized MSE  89.0495, | val MAE   6.5117 | val MSE  89.0495\n"
     ]
    },
    {
     "name": "stderr",
     "output_type": "stream",
     "text": [
      "Epoch:  66%|██████▌   | 165/250 [03:14<01:38,  1.15s/epoch]"
     ]
    },
    {
     "name": "stdout",
     "output_type": "stream",
     "text": [
      "Epoch 165 | Learning rate 0.000139 | train normalized MSE  72.5812 | val normalized MSE  79.3390, | val MAE   5.7903 | val MSE  79.3390\n"
     ]
    },
    {
     "name": "stderr",
     "output_type": "stream",
     "text": [
      "Epoch:  68%|██████▊   | 170/250 [03:20<01:32,  1.15s/epoch]"
     ]
    },
    {
     "name": "stdout",
     "output_type": "stream",
     "text": [
      "Epoch 170 | Learning rate 0.000117 | train normalized MSE  73.1589 | val normalized MSE  76.2738, | val MAE   5.7130 | val MSE  76.2738\n"
     ]
    },
    {
     "name": "stderr",
     "output_type": "stream",
     "text": [
      "Epoch:  70%|███████   | 175/250 [03:26<01:25,  1.15s/epoch]"
     ]
    },
    {
     "name": "stdout",
     "output_type": "stream",
     "text": [
      "Epoch 175 | Learning rate 0.000097 | train normalized MSE  70.1858 | val normalized MSE  75.2157, | val MAE   5.8496 | val MSE  75.2157\n"
     ]
    },
    {
     "name": "stderr",
     "output_type": "stream",
     "text": [
      "Epoch:  72%|███████▏  | 180/250 [03:32<01:21,  1.17s/epoch]"
     ]
    },
    {
     "name": "stdout",
     "output_type": "stream",
     "text": [
      "Epoch 180 | Learning rate 0.000060 | train normalized MSE  63.6390 | val normalized MSE  69.1499, | val MAE   5.4264 | val MSE  69.1499\n"
     ]
    },
    {
     "name": "stderr",
     "output_type": "stream",
     "text": [
      "Epoch:  74%|███████▍  | 185/250 [03:37<01:15,  1.16s/epoch]"
     ]
    },
    {
     "name": "stdout",
     "output_type": "stream",
     "text": [
      "Epoch 185 | Learning rate 0.000049 | train normalized MSE  61.1438 | val normalized MSE  69.5232, | val MAE   5.4672 | val MSE  69.5232\n"
     ]
    },
    {
     "name": "stderr",
     "output_type": "stream",
     "text": [
      "Epoch:  76%|███████▌  | 190/250 [03:43<01:10,  1.17s/epoch]"
     ]
    },
    {
     "name": "stdout",
     "output_type": "stream",
     "text": [
      "Epoch 190 | Learning rate 0.000039 | train normalized MSE  59.8573 | val normalized MSE  64.7313, | val MAE   5.1273 | val MSE  64.7313\n"
     ]
    },
    {
     "name": "stderr",
     "output_type": "stream",
     "text": [
      "Epoch:  78%|███████▊  | 195/250 [03:49<01:04,  1.16s/epoch]"
     ]
    },
    {
     "name": "stdout",
     "output_type": "stream",
     "text": [
      "Epoch 195 | Learning rate 0.000031 | train normalized MSE  58.8917 | val normalized MSE  66.1552, | val MAE   5.3275 | val MSE  66.1552\n"
     ]
    },
    {
     "name": "stderr",
     "output_type": "stream",
     "text": [
      "Epoch:  80%|████████  | 200/250 [03:55<00:58,  1.18s/epoch]"
     ]
    },
    {
     "name": "stdout",
     "output_type": "stream",
     "text": [
      "Epoch 200 | Learning rate 0.000024 | train normalized MSE  56.7547 | val normalized MSE  64.0506, | val MAE   5.0795 | val MSE  64.0506\n"
     ]
    },
    {
     "name": "stderr",
     "output_type": "stream",
     "text": [
      "Epoch:  82%|████████▏ | 205/250 [04:01<00:52,  1.17s/epoch]"
     ]
    },
    {
     "name": "stdout",
     "output_type": "stream",
     "text": [
      "Epoch 205 | Learning rate 0.000015 | train normalized MSE  55.8701 | val normalized MSE  62.6951, | val MAE   4.9774 | val MSE  62.6951\n"
     ]
    },
    {
     "name": "stderr",
     "output_type": "stream",
     "text": [
      "Epoch:  84%|████████▍ | 210/250 [04:07<00:46,  1.16s/epoch]"
     ]
    },
    {
     "name": "stdout",
     "output_type": "stream",
     "text": [
      "Epoch 210 | Learning rate 0.000013 | train normalized MSE  55.9967 | val normalized MSE  63.4049, | val MAE   5.0245 | val MSE  63.4049\n"
     ]
    },
    {
     "name": "stderr",
     "output_type": "stream",
     "text": [
      "Epoch:  86%|████████▌ | 215/250 [04:12<00:40,  1.14s/epoch]"
     ]
    },
    {
     "name": "stdout",
     "output_type": "stream",
     "text": [
      "Epoch 215 | Learning rate 0.000011 | train normalized MSE  54.8130 | val normalized MSE  63.6109, | val MAE   5.0153 | val MSE  63.6109\n"
     ]
    },
    {
     "name": "stderr",
     "output_type": "stream",
     "text": [
      "Epoch:  88%|████████▊ | 220/250 [04:18<00:34,  1.15s/epoch]"
     ]
    },
    {
     "name": "stdout",
     "output_type": "stream",
     "text": [
      "Epoch 220 | Learning rate 0.000010 | train normalized MSE  55.0444 | val normalized MSE  62.5067, | val MAE   4.9453 | val MSE  62.5067\n"
     ]
    },
    {
     "name": "stderr",
     "output_type": "stream",
     "text": [
      "Epoch:  90%|█████████ | 225/250 [04:24<00:28,  1.16s/epoch]"
     ]
    },
    {
     "name": "stdout",
     "output_type": "stream",
     "text": [
      "Epoch 225 | Learning rate 0.000010 | train normalized MSE  54.5697 | val normalized MSE  62.6765, | val MAE   4.9545 | val MSE  62.6765\n"
     ]
    },
    {
     "name": "stderr",
     "output_type": "stream",
     "text": [
      "Epoch:  92%|█████████▏| 230/250 [04:30<00:22,  1.14s/epoch]"
     ]
    },
    {
     "name": "stdout",
     "output_type": "stream",
     "text": [
      "Epoch 230 | Learning rate 0.000016 | train normalized MSE  55.1041 | val normalized MSE  63.2324, | val MAE   5.0108 | val MSE  63.2324\n"
     ]
    },
    {
     "name": "stderr",
     "output_type": "stream",
     "text": [
      "Epoch:  94%|█████████▍| 235/250 [04:35<00:17,  1.16s/epoch]"
     ]
    },
    {
     "name": "stdout",
     "output_type": "stream",
     "text": [
      "Epoch 235 | Learning rate 0.000038 | train normalized MSE  56.5685 | val normalized MSE  66.8062, | val MAE   5.3832 | val MSE  66.8062\n"
     ]
    },
    {
     "name": "stderr",
     "output_type": "stream",
     "text": [
      "Epoch:  95%|█████████▍| 237/250 [04:39<00:15,  1.18s/epoch]"
     ]
    },
    {
     "name": "stdout",
     "output_type": "stream",
     "text": [
      "==== EARLY STOP at epoch 238\n",
      "\n",
      "FOLD 2/4 ==================================\n"
     ]
    },
    {
     "name": "stderr",
     "output_type": "stream",
     "text": [
      "\n",
      "Epoch:   2%|▏         | 5/250 [00:09<07:14,  1.77s/epoch]"
     ]
    },
    {
     "name": "stdout",
     "output_type": "stream",
     "text": [
      "Epoch 005 | Learning rate 0.009794 | train normalized MSE 176715.1409 | val normalized MSE 938868.0225, | val MAE 341.6348 | val MSE 938868.0225\n"
     ]
    },
    {
     "name": "stderr",
     "output_type": "stream",
     "text": [
      "Epoch:   4%|▍         | 10/250 [00:17<06:52,  1.72s/epoch]"
     ]
    },
    {
     "name": "stdout",
     "output_type": "stream",
     "text": [
      "Epoch 010 | Learning rate 0.009521 | train normalized MSE 112977.5027 | val normalized MSE 240259.7649, | val MAE 284.3338 | val MSE 240259.7649\n"
     ]
    },
    {
     "name": "stderr",
     "output_type": "stream",
     "text": [
      "Epoch:   6%|▌         | 15/250 [00:28<08:02,  2.05s/epoch]"
     ]
    },
    {
     "name": "stdout",
     "output_type": "stream",
     "text": [
      "Epoch 015 | Learning rate 0.009234 | train normalized MSE 65674.2041 | val normalized MSE 144890.6702, | val MAE 202.3011 | val MSE 144890.6702\n"
     ]
    },
    {
     "name": "stderr",
     "output_type": "stream",
     "text": [
      "Epoch:   8%|▊         | 20/250 [00:50<18:29,  4.82s/epoch]"
     ]
    },
    {
     "name": "stdout",
     "output_type": "stream",
     "text": [
      "Epoch 020 | Learning rate 0.008933 | train normalized MSE 118329.4197 | val normalized MSE 94998.8466, | val MAE 198.0835 | val MSE 94998.8466\n"
     ]
    },
    {
     "name": "stderr",
     "output_type": "stream",
     "text": [
      "Epoch:  10%|█         | 25/250 [01:09<12:20,  3.29s/epoch]"
     ]
    },
    {
     "name": "stdout",
     "output_type": "stream",
     "text": [
      "Epoch 025 | Learning rate 0.008620 | train normalized MSE 70344.1239 | val normalized MSE 100282.9934, | val MAE 171.1498 | val MSE 100282.9934\n"
     ]
    },
    {
     "name": "stderr",
     "output_type": "stream",
     "text": [
      "Epoch:  12%|█▏        | 30/250 [01:19<08:04,  2.20s/epoch]"
     ]
    },
    {
     "name": "stdout",
     "output_type": "stream",
     "text": [
      "Epoch 030 | Learning rate 0.006223 | train normalized MSE 21059.0361 | val normalized MSE 37258.5933, | val MAE 141.4628 | val MSE 37258.5933\n"
     ]
    },
    {
     "name": "stderr",
     "output_type": "stream",
     "text": [
      "Epoch:  14%|█▍        | 35/250 [01:29<07:09,  2.00s/epoch]"
     ]
    },
    {
     "name": "stdout",
     "output_type": "stream",
     "text": [
      "Epoch 035 | Learning rate 0.005976 | train normalized MSE 23957.4182 | val normalized MSE 22176.9446, | val MAE 106.3933 | val MSE 22176.9446\n"
     ]
    },
    {
     "name": "stderr",
     "output_type": "stream",
     "text": [
      "Epoch:  16%|█▌        | 40/250 [01:39<06:57,  1.99s/epoch]"
     ]
    },
    {
     "name": "stdout",
     "output_type": "stream",
     "text": [
      "Epoch 040 | Learning rate 0.005723 | train normalized MSE 37774.7906 | val normalized MSE 52258.1442, | val MAE  67.1586 | val MSE 52258.1442\n"
     ]
    },
    {
     "name": "stderr",
     "output_type": "stream",
     "text": [
      "Epoch:  18%|█▊        | 45/250 [01:49<06:50,  2.00s/epoch]"
     ]
    },
    {
     "name": "stdout",
     "output_type": "stream",
     "text": [
      "Epoch 045 | Learning rate 0.005466 | train normalized MSE 49275.5736 | val normalized MSE 50028.0719, | val MAE 101.6837 | val MSE 50028.0719\n"
     ]
    },
    {
     "name": "stderr",
     "output_type": "stream",
     "text": [
      "Epoch:  20%|██        | 50/250 [01:59<06:38,  1.99s/epoch]"
     ]
    },
    {
     "name": "stdout",
     "output_type": "stream",
     "text": [
      "Epoch 050 | Learning rate 0.005208 | train normalized MSE 16232.9950 | val normalized MSE 58638.1773, | val MAE 134.8609 | val MSE 58638.1773\n"
     ]
    },
    {
     "name": "stderr",
     "output_type": "stream",
     "text": [
      "Epoch:  22%|██▏       | 55/250 [02:09<06:44,  2.07s/epoch]"
     ]
    },
    {
     "name": "stdout",
     "output_type": "stream",
     "text": [
      "Epoch 055 | Learning rate 0.003711 | train normalized MSE 4957.9580 | val normalized MSE 4247.4859, | val MAE  41.8571 | val MSE 4247.4859\n"
     ]
    },
    {
     "name": "stderr",
     "output_type": "stream",
     "text": [
      "Epoch:  24%|██▍       | 60/250 [02:19<06:30,  2.06s/epoch]"
     ]
    },
    {
     "name": "stdout",
     "output_type": "stream",
     "text": [
      "Epoch 060 | Learning rate 0.003515 | train normalized MSE 4051.4145 | val normalized MSE 9739.7993, | val MAE  67.0968 | val MSE 9739.7993\n"
     ]
    },
    {
     "name": "stderr",
     "output_type": "stream",
     "text": [
      "Epoch:  26%|██▌       | 65/250 [02:30<06:16,  2.03s/epoch]"
     ]
    },
    {
     "name": "stdout",
     "output_type": "stream",
     "text": [
      "Epoch 065 | Learning rate 0.003321 | train normalized MSE 4700.4170 | val normalized MSE 4521.2156, | val MAE  40.6382 | val MSE 4521.2156\n"
     ]
    },
    {
     "name": "stderr",
     "output_type": "stream",
     "text": [
      "Epoch:  28%|██▊       | 70/250 [02:40<06:06,  2.03s/epoch]"
     ]
    },
    {
     "name": "stdout",
     "output_type": "stream",
     "text": [
      "Epoch 070 | Learning rate 0.003128 | train normalized MSE 6838.1237 | val normalized MSE 19456.3370, | val MAE  64.8007 | val MSE 19456.3370\n"
     ]
    },
    {
     "name": "stderr",
     "output_type": "stream",
     "text": [
      "Epoch:  30%|███       | 75/250 [02:50<05:57,  2.04s/epoch]"
     ]
    },
    {
     "name": "stdout",
     "output_type": "stream",
     "text": [
      "Epoch 075 | Learning rate 0.002937 | train normalized MSE 1498.0398 | val normalized MSE 922.5652, | val MAE  21.9412 | val MSE 922.5652\n"
     ]
    },
    {
     "name": "stderr",
     "output_type": "stream",
     "text": [
      "Epoch:  32%|███▏      | 80/250 [03:00<05:44,  2.03s/epoch]"
     ]
    },
    {
     "name": "stdout",
     "output_type": "stream",
     "text": [
      "Epoch 080 | Learning rate 0.002061 | train normalized MSE 1353.0958 | val normalized MSE 2574.4282, | val MAE  23.3163 | val MSE 2574.4282\n"
     ]
    },
    {
     "name": "stderr",
     "output_type": "stream",
     "text": [
      "Epoch:  34%|███▍      | 85/250 [03:10<05:36,  2.04s/epoch]"
     ]
    },
    {
     "name": "stdout",
     "output_type": "stream",
     "text": [
      "Epoch 085 | Learning rate 0.001923 | train normalized MSE 911.6814 | val normalized MSE 773.7240, | val MAE  15.2253 | val MSE 773.7240\n"
     ]
    },
    {
     "name": "stderr",
     "output_type": "stream",
     "text": [
      "Epoch:  36%|███▌      | 90/250 [03:21<05:28,  2.05s/epoch]"
     ]
    },
    {
     "name": "stdout",
     "output_type": "stream",
     "text": [
      "Epoch 090 | Learning rate 0.001788 | train normalized MSE 966.6309 | val normalized MSE 893.8869, | val MAE  18.0377 | val MSE 893.8869\n"
     ]
    },
    {
     "name": "stderr",
     "output_type": "stream",
     "text": [
      "Epoch:  38%|███▊      | 95/250 [03:31<05:14,  2.03s/epoch]"
     ]
    },
    {
     "name": "stdout",
     "output_type": "stream",
     "text": [
      "Epoch 095 | Learning rate 0.001656 | train normalized MSE 1253.6416 | val normalized MSE 525.9115, | val MAE  15.6531 | val MSE 525.9115\n"
     ]
    },
    {
     "name": "stderr",
     "output_type": "stream",
     "text": [
      "Epoch:  40%|████      | 100/250 [03:41<05:03,  2.02s/epoch]"
     ]
    },
    {
     "name": "stdout",
     "output_type": "stream",
     "text": [
      "Epoch 100 | Learning rate 0.001528 | train normalized MSE 517.4445 | val normalized MSE 440.7365, | val MAE  14.7278 | val MSE 440.7365\n"
     ]
    },
    {
     "name": "stderr",
     "output_type": "stream",
     "text": [
      "Epoch:  42%|████▏     | 105/250 [03:51<04:59,  2.07s/epoch]"
     ]
    },
    {
     "name": "stdout",
     "output_type": "stream",
     "text": [
      "Epoch 105 | Learning rate 0.001053 | train normalized MSE 365.8547 | val normalized MSE 385.0849, | val MAE  13.6006 | val MSE 385.0849\n"
     ]
    },
    {
     "name": "stderr",
     "output_type": "stream",
     "text": [
      "Epoch:  44%|████▍     | 110/250 [04:02<04:43,  2.03s/epoch]"
     ]
    },
    {
     "name": "stdout",
     "output_type": "stream",
     "text": [
      "Epoch 110 | Learning rate 0.000964 | train normalized MSE 362.0415 | val normalized MSE 441.2371, | val MAE  14.3695 | val MSE 441.2371\n"
     ]
    },
    {
     "name": "stderr",
     "output_type": "stream",
     "text": [
      "Epoch:  46%|████▌     | 115/250 [04:12<04:38,  2.06s/epoch]"
     ]
    },
    {
     "name": "stdout",
     "output_type": "stream",
     "text": [
      "Epoch 115 | Learning rate 0.000878 | train normalized MSE 308.2509 | val normalized MSE 446.3979, | val MAE  14.2390 | val MSE 446.3979\n"
     ]
    },
    {
     "name": "stderr",
     "output_type": "stream",
     "text": [
      "Epoch:  48%|████▊     | 120/250 [04:22<04:24,  2.03s/epoch]"
     ]
    },
    {
     "name": "stdout",
     "output_type": "stream",
     "text": [
      "Epoch 120 | Learning rate 0.000796 | train normalized MSE 278.7026 | val normalized MSE 367.9926, | val MAE  14.6494 | val MSE 367.9926\n"
     ]
    },
    {
     "name": "stderr",
     "output_type": "stream",
     "text": [
      "Epoch:  50%|█████     | 125/250 [04:32<04:15,  2.04s/epoch]"
     ]
    },
    {
     "name": "stdout",
     "output_type": "stream",
     "text": [
      "Epoch 125 | Learning rate 0.000718 | train normalized MSE 185.4043 | val normalized MSE 209.9631, | val MAE   9.5002 | val MSE 209.9631\n"
     ]
    },
    {
     "name": "stderr",
     "output_type": "stream",
     "text": [
      "Epoch:  52%|█████▏    | 130/250 [04:42<04:04,  2.04s/epoch]"
     ]
    },
    {
     "name": "stdout",
     "output_type": "stream",
     "text": [
      "Epoch 130 | Learning rate 0.000483 | train normalized MSE 158.9573 | val normalized MSE 180.5489, | val MAE   8.7300 | val MSE 180.5489\n"
     ]
    },
    {
     "name": "stderr",
     "output_type": "stream",
     "text": [
      "Epoch:  54%|█████▍    | 135/250 [04:53<03:56,  2.05s/epoch]"
     ]
    },
    {
     "name": "stdout",
     "output_type": "stream",
     "text": [
      "Epoch 135 | Learning rate 0.000431 | train normalized MSE 142.6032 | val normalized MSE 183.8777, | val MAE   8.5359 | val MSE 183.8777\n"
     ]
    },
    {
     "name": "stderr",
     "output_type": "stream",
     "text": [
      "Epoch:  56%|█████▌    | 140/250 [05:03<03:44,  2.05s/epoch]"
     ]
    },
    {
     "name": "stdout",
     "output_type": "stream",
     "text": [
      "Epoch 140 | Learning rate 0.000382 | train normalized MSE 122.4655 | val normalized MSE 123.9927, | val MAE   7.6031 | val MSE 123.9927\n"
     ]
    },
    {
     "name": "stderr",
     "output_type": "stream",
     "text": [
      "Epoch:  58%|█████▊    | 145/250 [05:13<03:34,  2.04s/epoch]"
     ]
    },
    {
     "name": "stdout",
     "output_type": "stream",
     "text": [
      "Epoch 145 | Learning rate 0.000336 | train normalized MSE 130.7937 | val normalized MSE 110.4902, | val MAE   7.0840 | val MSE 110.4902\n"
     ]
    },
    {
     "name": "stderr",
     "output_type": "stream",
     "text": [
      "Epoch:  60%|██████    | 150/250 [05:23<03:23,  2.03s/epoch]"
     ]
    },
    {
     "name": "stdout",
     "output_type": "stream",
     "text": [
      "Epoch 150 | Learning rate 0.000293 | train normalized MSE 106.8931 | val normalized MSE 127.8108, | val MAE   7.5398 | val MSE 127.8108\n"
     ]
    },
    {
     "name": "stderr",
     "output_type": "stream",
     "text": [
      "Epoch:  62%|██████▏   | 155/250 [05:34<03:13,  2.03s/epoch]"
     ]
    },
    {
     "name": "stdout",
     "output_type": "stream",
     "text": [
      "Epoch 155 | Learning rate 0.000191 | train normalized MSE  84.0096 | val normalized MSE  85.1748, | val MAE   6.1942 | val MSE  85.1748\n"
     ]
    },
    {
     "name": "stderr",
     "output_type": "stream",
     "text": [
      "Epoch:  64%|██████▍   | 160/250 [05:44<03:02,  2.03s/epoch]"
     ]
    },
    {
     "name": "stdout",
     "output_type": "stream",
     "text": [
      "Epoch 160 | Learning rate 0.000164 | train normalized MSE  73.2461 | val normalized MSE  81.4781, | val MAE   6.1219 | val MSE  81.4781\n"
     ]
    },
    {
     "name": "stderr",
     "output_type": "stream",
     "text": [
      "Epoch:  66%|██████▌   | 165/250 [05:54<02:52,  2.03s/epoch]"
     ]
    },
    {
     "name": "stdout",
     "output_type": "stream",
     "text": [
      "Epoch 165 | Learning rate 0.000139 | train normalized MSE  70.3472 | val normalized MSE  82.9813, | val MAE   6.3338 | val MSE  82.9813\n"
     ]
    },
    {
     "name": "stderr",
     "output_type": "stream",
     "text": [
      "Epoch:  68%|██████▊   | 170/250 [06:04<02:43,  2.04s/epoch]"
     ]
    },
    {
     "name": "stdout",
     "output_type": "stream",
     "text": [
      "Epoch 170 | Learning rate 0.000117 | train normalized MSE  65.6337 | val normalized MSE  72.3461, | val MAE   5.6745 | val MSE  72.3461\n"
     ]
    },
    {
     "name": "stderr",
     "output_type": "stream",
     "text": [
      "Epoch:  70%|███████   | 175/250 [06:14<02:32,  2.03s/epoch]"
     ]
    },
    {
     "name": "stdout",
     "output_type": "stream",
     "text": [
      "Epoch 175 | Learning rate 0.000097 | train normalized MSE  64.6961 | val normalized MSE  75.5016, | val MAE   5.8825 | val MSE  75.5016\n"
     ]
    },
    {
     "name": "stderr",
     "output_type": "stream",
     "text": [
      "Epoch:  72%|███████▏  | 180/250 [06:25<02:23,  2.05s/epoch]"
     ]
    },
    {
     "name": "stdout",
     "output_type": "stream",
     "text": [
      "Epoch 180 | Learning rate 0.000060 | train normalized MSE  59.4095 | val normalized MSE  70.7569, | val MAE   5.6103 | val MSE  70.7569\n"
     ]
    },
    {
     "name": "stderr",
     "output_type": "stream",
     "text": [
      "Epoch:  74%|███████▍  | 185/250 [06:35<02:14,  2.07s/epoch]"
     ]
    },
    {
     "name": "stdout",
     "output_type": "stream",
     "text": [
      "Epoch 185 | Learning rate 0.000049 | train normalized MSE  58.2393 | val normalized MSE  63.3262, | val MAE   5.1034 | val MSE  63.3262\n"
     ]
    },
    {
     "name": "stderr",
     "output_type": "stream",
     "text": [
      "Epoch:  76%|███████▌  | 190/250 [06:45<02:04,  2.07s/epoch]"
     ]
    },
    {
     "name": "stdout",
     "output_type": "stream",
     "text": [
      "Epoch 190 | Learning rate 0.000039 | train normalized MSE  57.4659 | val normalized MSE  62.0351, | val MAE   4.9756 | val MSE  62.0351\n"
     ]
    },
    {
     "name": "stderr",
     "output_type": "stream",
     "text": [
      "Epoch:  78%|███████▊  | 195/250 [06:56<01:52,  2.04s/epoch]"
     ]
    },
    {
     "name": "stdout",
     "output_type": "stream",
     "text": [
      "Epoch 195 | Learning rate 0.000031 | train normalized MSE  56.0841 | val normalized MSE  64.3937, | val MAE   5.1357 | val MSE  64.3937\n"
     ]
    },
    {
     "name": "stderr",
     "output_type": "stream",
     "text": [
      "Epoch:  80%|████████  | 200/250 [07:06<01:43,  2.06s/epoch]"
     ]
    },
    {
     "name": "stdout",
     "output_type": "stream",
     "text": [
      "Epoch 200 | Learning rate 0.000024 | train normalized MSE  55.9042 | val normalized MSE  61.6733, | val MAE   4.9484 | val MSE  61.6733\n"
     ]
    },
    {
     "name": "stderr",
     "output_type": "stream",
     "text": [
      "Epoch:  82%|████████▏ | 205/250 [07:16<01:32,  2.05s/epoch]"
     ]
    },
    {
     "name": "stdout",
     "output_type": "stream",
     "text": [
      "Epoch 205 | Learning rate 0.000015 | train normalized MSE  55.0062 | val normalized MSE  61.0148, | val MAE   4.9125 | val MSE  61.0148\n"
     ]
    },
    {
     "name": "stderr",
     "output_type": "stream",
     "text": [
      "Epoch:  84%|████████▍ | 210/250 [07:26<01:22,  2.06s/epoch]"
     ]
    },
    {
     "name": "stdout",
     "output_type": "stream",
     "text": [
      "Epoch 210 | Learning rate 0.000013 | train normalized MSE  54.6606 | val normalized MSE  61.5641, | val MAE   4.9658 | val MSE  61.5641\n"
     ]
    },
    {
     "name": "stderr",
     "output_type": "stream",
     "text": [
      "Epoch:  86%|████████▌ | 215/250 [07:37<01:12,  2.06s/epoch]"
     ]
    },
    {
     "name": "stdout",
     "output_type": "stream",
     "text": [
      "Epoch 215 | Learning rate 0.000011 | train normalized MSE  54.5726 | val normalized MSE  61.9374, | val MAE   4.9597 | val MSE  61.9374\n"
     ]
    },
    {
     "name": "stderr",
     "output_type": "stream",
     "text": [
      "Epoch:  88%|████████▊ | 220/250 [07:47<01:02,  2.07s/epoch]"
     ]
    },
    {
     "name": "stdout",
     "output_type": "stream",
     "text": [
      "Epoch 220 | Learning rate 0.000010 | train normalized MSE  53.9271 | val normalized MSE  60.7654, | val MAE   4.8865 | val MSE  60.7654\n"
     ]
    },
    {
     "name": "stderr",
     "output_type": "stream",
     "text": [
      "Epoch:  90%|█████████ | 225/250 [07:57<00:50,  2.03s/epoch]"
     ]
    },
    {
     "name": "stdout",
     "output_type": "stream",
     "text": [
      "Epoch 225 | Learning rate 0.000010 | train normalized MSE  54.0911 | val normalized MSE  60.6707, | val MAE   4.8983 | val MSE  60.6707\n"
     ]
    },
    {
     "name": "stderr",
     "output_type": "stream",
     "text": [
      "Epoch:  92%|█████████▏| 230/250 [08:08<00:41,  2.07s/epoch]"
     ]
    },
    {
     "name": "stdout",
     "output_type": "stream",
     "text": [
      "Epoch 230 | Learning rate 0.000016 | train normalized MSE  54.2334 | val normalized MSE  62.4513, | val MAE   5.0150 | val MSE  62.4513\n"
     ]
    },
    {
     "name": "stderr",
     "output_type": "stream",
     "text": [
      "Epoch:  94%|█████████▍| 235/250 [08:18<00:30,  2.03s/epoch]"
     ]
    },
    {
     "name": "stdout",
     "output_type": "stream",
     "text": [
      "Epoch 235 | Learning rate 0.000038 | train normalized MSE  55.8280 | val normalized MSE  64.9894, | val MAE   5.3254 | val MSE  64.9894\n"
     ]
    },
    {
     "name": "stderr",
     "output_type": "stream",
     "text": [
      "Epoch:  96%|█████████▌| 240/250 [08:28<00:20,  2.05s/epoch]"
     ]
    },
    {
     "name": "stdout",
     "output_type": "stream",
     "text": [
      "Epoch 240 | Learning rate 0.000075 | train normalized MSE  60.6795 | val normalized MSE  63.6711, | val MAE   5.0996 | val MSE  63.6711\n"
     ]
    },
    {
     "name": "stderr",
     "output_type": "stream",
     "text": [
      "Epoch:  98%|█████████▊| 245/250 [08:38<00:10,  2.05s/epoch]"
     ]
    },
    {
     "name": "stdout",
     "output_type": "stream",
     "text": [
      "Epoch 245 | Learning rate 0.000127 | train normalized MSE  60.9871 | val normalized MSE  63.5668, | val MAE   5.1831 | val MSE  63.5668\n"
     ]
    },
    {
     "name": "stderr",
     "output_type": "stream",
     "text": [
      "Epoch: 100%|██████████| 250/250 [08:49<00:00,  2.12s/epoch]\n"
     ]
    },
    {
     "name": "stdout",
     "output_type": "stream",
     "text": [
      "Epoch 250 | Learning rate 0.000191 | train normalized MSE  68.0051 | val normalized MSE  75.4013, | val MAE   6.0665 | val MSE  75.4013\n",
      "\n",
      "FOLD 3/4 ==================================\n"
     ]
    },
    {
     "name": "stderr",
     "output_type": "stream",
     "text": [
      "Epoch:   2%|▏         | 5/250 [00:11<09:45,  2.39s/epoch]"
     ]
    },
    {
     "name": "stdout",
     "output_type": "stream",
     "text": [
      "Epoch 005 | Learning rate 0.009794 | train normalized MSE 61689.6745 | val normalized MSE 94279.3359, | val MAE 182.7606 | val MSE 94279.3359\n"
     ]
    },
    {
     "name": "stderr",
     "output_type": "stream",
     "text": [
      "Epoch:   4%|▍         | 10/250 [00:26<11:26,  2.86s/epoch]"
     ]
    },
    {
     "name": "stdout",
     "output_type": "stream",
     "text": [
      "Epoch 010 | Learning rate 0.009521 | train normalized MSE 38487.9377 | val normalized MSE 34115.7196, | val MAE 143.1988 | val MSE 34115.7196\n"
     ]
    },
    {
     "name": "stderr",
     "output_type": "stream",
     "text": [
      "Epoch:   6%|▌         | 15/250 [00:41<11:35,  2.96s/epoch]"
     ]
    },
    {
     "name": "stdout",
     "output_type": "stream",
     "text": [
      "Epoch 015 | Learning rate 0.009234 | train normalized MSE 64209.3369 | val normalized MSE 33365.0462, | val MAE  81.4691 | val MSE 33365.0462\n"
     ]
    },
    {
     "name": "stderr",
     "output_type": "stream",
     "text": [
      "Epoch:   8%|▊         | 20/250 [00:55<11:11,  2.92s/epoch]"
     ]
    },
    {
     "name": "stdout",
     "output_type": "stream",
     "text": [
      "Epoch 020 | Learning rate 0.008933 | train normalized MSE 23372.9825 | val normalized MSE 16523.8026, | val MAE  95.4888 | val MSE 16523.8026\n"
     ]
    },
    {
     "name": "stderr",
     "output_type": "stream",
     "text": [
      "Epoch:  10%|█         | 25/250 [01:10<10:55,  2.91s/epoch]"
     ]
    },
    {
     "name": "stdout",
     "output_type": "stream",
     "text": [
      "Epoch 025 | Learning rate 0.008620 | train normalized MSE 22294.1015 | val normalized MSE 9455.7733, | val MAE  64.3737 | val MSE 9455.7733\n"
     ]
    },
    {
     "name": "stderr",
     "output_type": "stream",
     "text": [
      "Epoch:  12%|█▏        | 30/250 [01:24<10:47,  2.94s/epoch]"
     ]
    },
    {
     "name": "stdout",
     "output_type": "stream",
     "text": [
      "Epoch 030 | Learning rate 0.006223 | train normalized MSE 9299.7651 | val normalized MSE 9190.0009, | val MAE  61.2672 | val MSE 9190.0009\n"
     ]
    },
    {
     "name": "stderr",
     "output_type": "stream",
     "text": [
      "Epoch:  14%|█▍        | 35/250 [01:39<10:26,  2.91s/epoch]"
     ]
    },
    {
     "name": "stdout",
     "output_type": "stream",
     "text": [
      "Epoch 035 | Learning rate 0.005976 | train normalized MSE 20120.2624 | val normalized MSE 11548.2808, | val MAE  57.8885 | val MSE 11548.2808\n"
     ]
    },
    {
     "name": "stderr",
     "output_type": "stream",
     "text": [
      "Epoch:  16%|█▌        | 40/250 [01:54<10:14,  2.92s/epoch]"
     ]
    },
    {
     "name": "stdout",
     "output_type": "stream",
     "text": [
      "Epoch 040 | Learning rate 0.005723 | train normalized MSE 9431.9211 | val normalized MSE 7003.9639, | val MAE  59.1011 | val MSE 7003.9639\n"
     ]
    },
    {
     "name": "stderr",
     "output_type": "stream",
     "text": [
      "Epoch:  18%|█▊        | 45/250 [02:08<10:02,  2.94s/epoch]"
     ]
    },
    {
     "name": "stdout",
     "output_type": "stream",
     "text": [
      "Epoch 045 | Learning rate 0.005466 | train normalized MSE 6241.0456 | val normalized MSE 3704.9682, | val MAE  44.0681 | val MSE 3704.9682\n"
     ]
    },
    {
     "name": "stderr",
     "output_type": "stream",
     "text": [
      "Epoch:  20%|██        | 50/250 [02:23<09:55,  2.98s/epoch]"
     ]
    },
    {
     "name": "stdout",
     "output_type": "stream",
     "text": [
      "Epoch 050 | Learning rate 0.005208 | train normalized MSE 15899.6155 | val normalized MSE 5329.7790, | val MAE  45.3297 | val MSE 5329.7790\n"
     ]
    },
    {
     "name": "stderr",
     "output_type": "stream",
     "text": [
      "Epoch:  22%|██▏       | 55/250 [02:38<09:28,  2.91s/epoch]"
     ]
    },
    {
     "name": "stdout",
     "output_type": "stream",
     "text": [
      "Epoch 055 | Learning rate 0.003711 | train normalized MSE 3000.9265 | val normalized MSE 1793.4946, | val MAE  28.4537 | val MSE 1793.4946\n"
     ]
    },
    {
     "name": "stderr",
     "output_type": "stream",
     "text": [
      "Epoch:  24%|██▍       | 60/250 [02:52<09:15,  2.92s/epoch]"
     ]
    },
    {
     "name": "stdout",
     "output_type": "stream",
     "text": [
      "Epoch 060 | Learning rate 0.003515 | train normalized MSE 3409.4097 | val normalized MSE 1703.0347, | val MAE  30.6706 | val MSE 1703.0347\n"
     ]
    },
    {
     "name": "stderr",
     "output_type": "stream",
     "text": [
      "Epoch:  26%|██▌       | 65/250 [03:07<09:08,  2.96s/epoch]"
     ]
    },
    {
     "name": "stdout",
     "output_type": "stream",
     "text": [
      "Epoch 065 | Learning rate 0.003321 | train normalized MSE 2656.6200 | val normalized MSE 1961.3647, | val MAE  29.5874 | val MSE 1961.3647\n"
     ]
    },
    {
     "name": "stderr",
     "output_type": "stream",
     "text": [
      "Epoch:  28%|██▊       | 70/250 [03:22<08:47,  2.93s/epoch]"
     ]
    },
    {
     "name": "stdout",
     "output_type": "stream",
     "text": [
      "Epoch 070 | Learning rate 0.003128 | train normalized MSE 2910.5561 | val normalized MSE 3275.2989, | val MAE  34.4217 | val MSE 3275.2989\n"
     ]
    },
    {
     "name": "stderr",
     "output_type": "stream",
     "text": [
      "Epoch:  30%|███       | 75/250 [03:36<08:28,  2.91s/epoch]"
     ]
    },
    {
     "name": "stdout",
     "output_type": "stream",
     "text": [
      "Epoch 075 | Learning rate 0.002937 | train normalized MSE 1978.2453 | val normalized MSE 1080.1588, | val MAE  24.0143 | val MSE 1080.1588\n"
     ]
    },
    {
     "name": "stderr",
     "output_type": "stream",
     "text": [
      "Epoch:  32%|███▏      | 80/250 [03:51<08:16,  2.92s/epoch]"
     ]
    },
    {
     "name": "stdout",
     "output_type": "stream",
     "text": [
      "Epoch 080 | Learning rate 0.002061 | train normalized MSE 929.3571 | val normalized MSE 1697.3640, | val MAE  26.7286 | val MSE 1697.3640\n"
     ]
    },
    {
     "name": "stderr",
     "output_type": "stream",
     "text": [
      "Epoch:  34%|███▍      | 85/250 [04:05<08:02,  2.92s/epoch]"
     ]
    },
    {
     "name": "stdout",
     "output_type": "stream",
     "text": [
      "Epoch 085 | Learning rate 0.001923 | train normalized MSE 383.7309 | val normalized MSE 504.3690, | val MAE  16.2428 | val MSE 504.3690\n"
     ]
    },
    {
     "name": "stderr",
     "output_type": "stream",
     "text": [
      "Epoch:  36%|███▌      | 90/250 [04:20<07:49,  2.94s/epoch]"
     ]
    },
    {
     "name": "stdout",
     "output_type": "stream",
     "text": [
      "Epoch 090 | Learning rate 0.001788 | train normalized MSE 548.8862 | val normalized MSE 908.0825, | val MAE  21.4496 | val MSE 908.0825\n"
     ]
    },
    {
     "name": "stderr",
     "output_type": "stream",
     "text": [
      "Epoch:  38%|███▊      | 95/250 [04:35<07:35,  2.94s/epoch]"
     ]
    },
    {
     "name": "stdout",
     "output_type": "stream",
     "text": [
      "Epoch 095 | Learning rate 0.001656 | train normalized MSE 364.0321 | val normalized MSE 1264.8199, | val MAE  21.3127 | val MSE 1264.8199\n"
     ]
    },
    {
     "name": "stderr",
     "output_type": "stream",
     "text": [
      "Epoch:  40%|████      | 100/250 [04:49<07:20,  2.94s/epoch]"
     ]
    },
    {
     "name": "stdout",
     "output_type": "stream",
     "text": [
      "Epoch 100 | Learning rate 0.001528 | train normalized MSE 336.0627 | val normalized MSE 254.2185, | val MAE  11.0318 | val MSE 254.2185\n"
     ]
    },
    {
     "name": "stderr",
     "output_type": "stream",
     "text": [
      "Epoch:  42%|████▏     | 105/250 [05:04<07:05,  2.93s/epoch]"
     ]
    },
    {
     "name": "stdout",
     "output_type": "stream",
     "text": [
      "Epoch 105 | Learning rate 0.001053 | train normalized MSE 199.9449 | val normalized MSE 294.5310, | val MAE  11.1151 | val MSE 294.5310\n"
     ]
    },
    {
     "name": "stderr",
     "output_type": "stream",
     "text": [
      "Epoch:  44%|████▍     | 110/250 [05:19<06:48,  2.92s/epoch]"
     ]
    },
    {
     "name": "stdout",
     "output_type": "stream",
     "text": [
      "Epoch 110 | Learning rate 0.000964 | train normalized MSE 204.6657 | val normalized MSE 284.5544, | val MAE  11.5212 | val MSE 284.5544\n"
     ]
    },
    {
     "name": "stderr",
     "output_type": "stream",
     "text": [
      "Epoch:  46%|████▌     | 115/250 [05:33<06:35,  2.93s/epoch]"
     ]
    },
    {
     "name": "stdout",
     "output_type": "stream",
     "text": [
      "Epoch 115 | Learning rate 0.000878 | train normalized MSE 185.9577 | val normalized MSE 463.3869, | val MAE  15.3482 | val MSE 463.3869\n"
     ]
    },
    {
     "name": "stderr",
     "output_type": "stream",
     "text": [
      "Epoch:  48%|████▊     | 120/250 [05:48<06:18,  2.91s/epoch]"
     ]
    },
    {
     "name": "stdout",
     "output_type": "stream",
     "text": [
      "Epoch 120 | Learning rate 0.000796 | train normalized MSE 169.2036 | val normalized MSE 157.7767, | val MAE   9.1475 | val MSE 157.7767\n"
     ]
    },
    {
     "name": "stderr",
     "output_type": "stream",
     "text": [
      "Epoch:  50%|█████     | 125/250 [06:02<06:03,  2.91s/epoch]"
     ]
    },
    {
     "name": "stdout",
     "output_type": "stream",
     "text": [
      "Epoch 125 | Learning rate 0.000718 | train normalized MSE 158.7519 | val normalized MSE 164.7967, | val MAE   9.4691 | val MSE 164.7967\n"
     ]
    },
    {
     "name": "stderr",
     "output_type": "stream",
     "text": [
      "Epoch:  52%|█████▏    | 130/250 [06:17<05:53,  2.94s/epoch]"
     ]
    },
    {
     "name": "stdout",
     "output_type": "stream",
     "text": [
      "Epoch 130 | Learning rate 0.000483 | train normalized MSE 138.1660 | val normalized MSE 123.9493, | val MAE   7.8096 | val MSE 123.9493\n"
     ]
    },
    {
     "name": "stderr",
     "output_type": "stream",
     "text": [
      "Epoch:  54%|█████▍    | 135/250 [06:32<05:33,  2.90s/epoch]"
     ]
    },
    {
     "name": "stdout",
     "output_type": "stream",
     "text": [
      "Epoch 135 | Learning rate 0.000431 | train normalized MSE 119.6229 | val normalized MSE 128.1318, | val MAE   7.7048 | val MSE 128.1318\n"
     ]
    },
    {
     "name": "stderr",
     "output_type": "stream",
     "text": [
      "Epoch:  56%|█████▌    | 140/250 [06:46<05:21,  2.92s/epoch]"
     ]
    },
    {
     "name": "stdout",
     "output_type": "stream",
     "text": [
      "Epoch 140 | Learning rate 0.000382 | train normalized MSE 124.4313 | val normalized MSE 117.6243, | val MAE   7.6370 | val MSE 117.6243\n"
     ]
    },
    {
     "name": "stderr",
     "output_type": "stream",
     "text": [
      "Epoch:  58%|█████▊    | 145/250 [07:01<05:08,  2.94s/epoch]"
     ]
    },
    {
     "name": "stdout",
     "output_type": "stream",
     "text": [
      "Epoch 145 | Learning rate 0.000336 | train normalized MSE 113.4425 | val normalized MSE 119.4811, | val MAE   7.3355 | val MSE 119.4811\n"
     ]
    },
    {
     "name": "stderr",
     "output_type": "stream",
     "text": [
      "Epoch:  60%|██████    | 150/250 [07:16<04:59,  2.99s/epoch]"
     ]
    },
    {
     "name": "stdout",
     "output_type": "stream",
     "text": [
      "Epoch 150 | Learning rate 0.000293 | train normalized MSE 109.2790 | val normalized MSE 108.8379, | val MAE   6.8812 | val MSE 108.8379\n"
     ]
    },
    {
     "name": "stderr",
     "output_type": "stream",
     "text": [
      "Epoch:  62%|██████▏   | 155/250 [07:31<04:41,  2.96s/epoch]"
     ]
    },
    {
     "name": "stdout",
     "output_type": "stream",
     "text": [
      "Epoch 155 | Learning rate 0.000191 | train normalized MSE 101.0217 | val normalized MSE 108.5040, | val MAE   7.1082 | val MSE 108.5040\n"
     ]
    },
    {
     "name": "stderr",
     "output_type": "stream",
     "text": [
      "Epoch:  64%|██████▍   | 160/250 [07:45<04:23,  2.93s/epoch]"
     ]
    },
    {
     "name": "stdout",
     "output_type": "stream",
     "text": [
      "Epoch 160 | Learning rate 0.000164 | train normalized MSE  96.7489 | val normalized MSE  98.4245, | val MAE   6.4992 | val MSE  98.4245\n"
     ]
    },
    {
     "name": "stderr",
     "output_type": "stream",
     "text": [
      "Epoch:  66%|██████▌   | 165/250 [08:00<04:06,  2.90s/epoch]"
     ]
    },
    {
     "name": "stdout",
     "output_type": "stream",
     "text": [
      "Epoch 165 | Learning rate 0.000139 | train normalized MSE  96.6704 | val normalized MSE  99.7468, | val MAE   6.5540 | val MSE  99.7468\n"
     ]
    },
    {
     "name": "stderr",
     "output_type": "stream",
     "text": [
      "Epoch:  68%|██████▊   | 170/250 [08:15<03:53,  2.92s/epoch]"
     ]
    },
    {
     "name": "stdout",
     "output_type": "stream",
     "text": [
      "Epoch 170 | Learning rate 0.000117 | train normalized MSE  94.3853 | val normalized MSE 102.1622, | val MAE   6.7020 | val MSE 102.1622\n"
     ]
    },
    {
     "name": "stderr",
     "output_type": "stream",
     "text": [
      "Epoch:  70%|███████   | 175/250 [08:29<03:39,  2.93s/epoch]"
     ]
    },
    {
     "name": "stdout",
     "output_type": "stream",
     "text": [
      "Epoch 175 | Learning rate 0.000097 | train normalized MSE  93.1948 | val normalized MSE  93.6569, | val MAE   6.1779 | val MSE  93.6569\n"
     ]
    },
    {
     "name": "stderr",
     "output_type": "stream",
     "text": [
      "Epoch:  72%|███████▏  | 180/250 [08:44<03:31,  3.01s/epoch]"
     ]
    },
    {
     "name": "stdout",
     "output_type": "stream",
     "text": [
      "Epoch 180 | Learning rate 0.000060 | train normalized MSE  90.9236 | val normalized MSE  94.0840, | val MAE   6.2294 | val MSE  94.0840\n"
     ]
    },
    {
     "name": "stderr",
     "output_type": "stream",
     "text": [
      "Epoch:  74%|███████▍  | 185/250 [08:59<03:10,  2.94s/epoch]"
     ]
    },
    {
     "name": "stdout",
     "output_type": "stream",
     "text": [
      "Epoch 185 | Learning rate 0.000049 | train normalized MSE  90.3888 | val normalized MSE  93.4766, | val MAE   6.1288 | val MSE  93.4766\n"
     ]
    },
    {
     "name": "stderr",
     "output_type": "stream",
     "text": [
      "Epoch:  76%|███████▌  | 190/250 [09:14<02:56,  2.94s/epoch]"
     ]
    },
    {
     "name": "stdout",
     "output_type": "stream",
     "text": [
      "Epoch 190 | Learning rate 0.000039 | train normalized MSE  89.8042 | val normalized MSE  93.8790, | val MAE   6.2505 | val MSE  93.8790\n"
     ]
    },
    {
     "name": "stderr",
     "output_type": "stream",
     "text": [
      "Epoch:  78%|███████▊  | 195/250 [09:29<02:42,  2.96s/epoch]"
     ]
    },
    {
     "name": "stdout",
     "output_type": "stream",
     "text": [
      "Epoch 195 | Learning rate 0.000031 | train normalized MSE  89.3966 | val normalized MSE  92.1051, | val MAE   6.0009 | val MSE  92.1051\n"
     ]
    },
    {
     "name": "stderr",
     "output_type": "stream",
     "text": [
      "Epoch:  80%|████████  | 200/250 [09:43<02:27,  2.95s/epoch]"
     ]
    },
    {
     "name": "stdout",
     "output_type": "stream",
     "text": [
      "Epoch 200 | Learning rate 0.000024 | train normalized MSE  88.8911 | val normalized MSE  91.1551, | val MAE   6.0101 | val MSE  91.1551\n"
     ]
    },
    {
     "name": "stderr",
     "output_type": "stream",
     "text": [
      "Epoch:  82%|████████▏ | 205/250 [09:58<02:12,  2.95s/epoch]"
     ]
    },
    {
     "name": "stdout",
     "output_type": "stream",
     "text": [
      "Epoch 205 | Learning rate 0.000015 | train normalized MSE  88.4299 | val normalized MSE  90.6916, | val MAE   5.8906 | val MSE  90.6916\n"
     ]
    },
    {
     "name": "stderr",
     "output_type": "stream",
     "text": [
      "Epoch:  84%|████████▍ | 210/250 [10:13<01:58,  2.96s/epoch]"
     ]
    },
    {
     "name": "stdout",
     "output_type": "stream",
     "text": [
      "Epoch 210 | Learning rate 0.000013 | train normalized MSE  88.1530 | val normalized MSE  90.2680, | val MAE   5.8553 | val MSE  90.2680\n"
     ]
    },
    {
     "name": "stderr",
     "output_type": "stream",
     "text": [
      "Epoch:  86%|████████▌ | 215/250 [10:28<01:43,  2.96s/epoch]"
     ]
    },
    {
     "name": "stdout",
     "output_type": "stream",
     "text": [
      "Epoch 215 | Learning rate 0.000011 | train normalized MSE  88.0125 | val normalized MSE  90.7133, | val MAE   5.8851 | val MSE  90.7133\n"
     ]
    },
    {
     "name": "stderr",
     "output_type": "stream",
     "text": [
      "Epoch:  88%|████████▊ | 220/250 [10:43<01:29,  2.97s/epoch]"
     ]
    },
    {
     "name": "stdout",
     "output_type": "stream",
     "text": [
      "Epoch 220 | Learning rate 0.000010 | train normalized MSE  87.6247 | val normalized MSE  90.1148, | val MAE   5.8638 | val MSE  90.1148\n"
     ]
    },
    {
     "name": "stderr",
     "output_type": "stream",
     "text": [
      "Epoch:  90%|█████████ | 225/250 [10:57<01:13,  2.95s/epoch]"
     ]
    },
    {
     "name": "stdout",
     "output_type": "stream",
     "text": [
      "Epoch 225 | Learning rate 0.000010 | train normalized MSE  87.7133 | val normalized MSE  90.1606, | val MAE   5.8481 | val MSE  90.1606\n"
     ]
    },
    {
     "name": "stderr",
     "output_type": "stream",
     "text": [
      "Epoch:  92%|█████████▏| 230/250 [11:12<00:58,  2.94s/epoch]"
     ]
    },
    {
     "name": "stdout",
     "output_type": "stream",
     "text": [
      "Epoch 230 | Learning rate 0.000016 | train normalized MSE  88.1215 | val normalized MSE  90.1769, | val MAE   5.8641 | val MSE  90.1769\n"
     ]
    },
    {
     "name": "stderr",
     "output_type": "stream",
     "text": [
      "Epoch:  94%|█████████▍| 235/250 [11:27<00:44,  2.96s/epoch]"
     ]
    },
    {
     "name": "stdout",
     "output_type": "stream",
     "text": [
      "Epoch 235 | Learning rate 0.000038 | train normalized MSE  89.2603 | val normalized MSE  91.8944, | val MAE   6.0343 | val MSE  91.8944\n"
     ]
    },
    {
     "name": "stderr",
     "output_type": "stream",
     "text": [
      "Epoch:  96%|█████████▌| 240/250 [11:42<00:29,  2.94s/epoch]"
     ]
    },
    {
     "name": "stdout",
     "output_type": "stream",
     "text": [
      "Epoch 240 | Learning rate 0.000075 | train normalized MSE  91.0140 | val normalized MSE  92.9258, | val MAE   6.0991 | val MSE  92.9258\n"
     ]
    },
    {
     "name": "stderr",
     "output_type": "stream",
     "text": [
      "Epoch:  98%|█████████▊| 245/250 [11:57<00:14,  2.98s/epoch]"
     ]
    },
    {
     "name": "stdout",
     "output_type": "stream",
     "text": [
      "Epoch 245 | Learning rate 0.000127 | train normalized MSE  94.8530 | val normalized MSE  94.1006, | val MAE   6.2319 | val MSE  94.1006\n"
     ]
    },
    {
     "name": "stderr",
     "output_type": "stream",
     "text": [
      "Epoch: 100%|██████████| 250/250 [12:11<00:00,  2.93s/epoch]\n"
     ]
    },
    {
     "name": "stdout",
     "output_type": "stream",
     "text": [
      "Epoch 250 | Learning rate 0.000191 | train normalized MSE  96.1282 | val normalized MSE 104.6771, | val MAE   6.6580 | val MSE 104.6771\n",
      "\n",
      "FOLD 4/4 ==================================\n"
     ]
    },
    {
     "name": "stderr",
     "output_type": "stream",
     "text": [
      "Epoch:   2%|▏         | 5/250 [00:15<12:50,  3.15s/epoch]"
     ]
    },
    {
     "name": "stdout",
     "output_type": "stream",
     "text": [
      "Epoch 005 | Learning rate 0.009794 | train normalized MSE 84105.3436 | val normalized MSE 60952.9418, | val MAE 152.8177 | val MSE 60952.9418\n"
     ]
    },
    {
     "name": "stderr",
     "output_type": "stream",
     "text": [
      "Epoch:   4%|▍         | 10/250 [00:35<15:03,  3.76s/epoch]"
     ]
    },
    {
     "name": "stdout",
     "output_type": "stream",
     "text": [
      "Epoch 010 | Learning rate 0.009521 | train normalized MSE 65795.1006 | val normalized MSE 15225.9227, | val MAE  72.2712 | val MSE 15225.9227\n"
     ]
    },
    {
     "name": "stderr",
     "output_type": "stream",
     "text": [
      "Epoch:   6%|▌         | 15/250 [00:54<14:54,  3.81s/epoch]"
     ]
    },
    {
     "name": "stdout",
     "output_type": "stream",
     "text": [
      "Epoch 015 | Learning rate 0.009234 | train normalized MSE 146603.4204 | val normalized MSE 47300.1019, | val MAE 151.8634 | val MSE 47300.1019\n"
     ]
    },
    {
     "name": "stderr",
     "output_type": "stream",
     "text": [
      "Epoch:   8%|▊         | 20/250 [01:13<14:40,  3.83s/epoch]"
     ]
    },
    {
     "name": "stdout",
     "output_type": "stream",
     "text": [
      "Epoch 020 | Learning rate 0.008933 | train normalized MSE 60256.9268 | val normalized MSE 19046.6241, | val MAE  65.5307 | val MSE 19046.6241\n"
     ]
    },
    {
     "name": "stderr",
     "output_type": "stream",
     "text": [
      "Epoch:  10%|█         | 25/250 [01:32<14:27,  3.85s/epoch]"
     ]
    },
    {
     "name": "stdout",
     "output_type": "stream",
     "text": [
      "Epoch 025 | Learning rate 0.008620 | train normalized MSE 138976.4274 | val normalized MSE 89553.6384, | val MAE 191.3692 | val MSE 89553.6384\n"
     ]
    },
    {
     "name": "stderr",
     "output_type": "stream",
     "text": [
      "Epoch:  12%|█▏        | 30/250 [01:51<14:03,  3.84s/epoch]"
     ]
    },
    {
     "name": "stdout",
     "output_type": "stream",
     "text": [
      "Epoch 030 | Learning rate 0.006223 | train normalized MSE 12889.1698 | val normalized MSE 9984.9967, | val MAE  63.2175 | val MSE 9984.9967\n"
     ]
    },
    {
     "name": "stderr",
     "output_type": "stream",
     "text": [
      "Epoch:  14%|█▍        | 35/250 [02:10<13:33,  3.79s/epoch]"
     ]
    },
    {
     "name": "stdout",
     "output_type": "stream",
     "text": [
      "Epoch 035 | Learning rate 0.005976 | train normalized MSE 20385.6063 | val normalized MSE 2368.4988, | val MAE  30.2735 | val MSE 2368.4988\n"
     ]
    },
    {
     "name": "stderr",
     "output_type": "stream",
     "text": [
      "Epoch:  16%|█▌        | 40/250 [02:29<13:19,  3.81s/epoch]"
     ]
    },
    {
     "name": "stdout",
     "output_type": "stream",
     "text": [
      "Epoch 040 | Learning rate 0.005723 | train normalized MSE 73620.9795 | val normalized MSE 68774.8495, | val MAE 194.9739 | val MSE 68774.8495\n"
     ]
    },
    {
     "name": "stderr",
     "output_type": "stream",
     "text": [
      "Epoch:  18%|█▊        | 45/250 [02:48<12:56,  3.79s/epoch]"
     ]
    },
    {
     "name": "stdout",
     "output_type": "stream",
     "text": [
      "Epoch 045 | Learning rate 0.005466 | train normalized MSE 20149.2029 | val normalized MSE 9285.1829, | val MAE  75.5725 | val MSE 9285.1829\n"
     ]
    },
    {
     "name": "stderr",
     "output_type": "stream",
     "text": [
      "Epoch:  20%|██        | 50/250 [03:08<12:44,  3.82s/epoch]"
     ]
    },
    {
     "name": "stdout",
     "output_type": "stream",
     "text": [
      "Epoch 050 | Learning rate 0.005208 | train normalized MSE 7941.7496 | val normalized MSE 4122.0519, | val MAE  33.8607 | val MSE 4122.0519\n"
     ]
    },
    {
     "name": "stderr",
     "output_type": "stream",
     "text": [
      "Epoch:  22%|██▏       | 55/250 [03:27<12:29,  3.84s/epoch]"
     ]
    },
    {
     "name": "stdout",
     "output_type": "stream",
     "text": [
      "Epoch 055 | Learning rate 0.003711 | train normalized MSE 2071.0139 | val normalized MSE 1431.3587, | val MAE  26.3312 | val MSE 1431.3587\n"
     ]
    },
    {
     "name": "stderr",
     "output_type": "stream",
     "text": [
      "Epoch:  24%|██▍       | 60/250 [03:46<12:01,  3.80s/epoch]"
     ]
    },
    {
     "name": "stdout",
     "output_type": "stream",
     "text": [
      "Epoch 060 | Learning rate 0.003515 | train normalized MSE 4303.5343 | val normalized MSE 1739.6646, | val MAE  28.9486 | val MSE 1739.6646\n"
     ]
    },
    {
     "name": "stderr",
     "output_type": "stream",
     "text": [
      "Epoch:  26%|██▌       | 65/250 [04:05<11:42,  3.80s/epoch]"
     ]
    },
    {
     "name": "stdout",
     "output_type": "stream",
     "text": [
      "Epoch 065 | Learning rate 0.003321 | train normalized MSE 4165.0029 | val normalized MSE 2490.5863, | val MAE  35.7875 | val MSE 2490.5863\n"
     ]
    },
    {
     "name": "stderr",
     "output_type": "stream",
     "text": [
      "Epoch:  28%|██▊       | 70/250 [04:24<11:32,  3.84s/epoch]"
     ]
    },
    {
     "name": "stdout",
     "output_type": "stream",
     "text": [
      "Epoch 070 | Learning rate 0.003128 | train normalized MSE 3101.0753 | val normalized MSE 2014.6377, | val MAE  25.9028 | val MSE 2014.6377\n"
     ]
    },
    {
     "name": "stderr",
     "output_type": "stream",
     "text": [
      "Epoch:  30%|███       | 75/250 [04:43<11:10,  3.83s/epoch]"
     ]
    },
    {
     "name": "stdout",
     "output_type": "stream",
     "text": [
      "Epoch 075 | Learning rate 0.002937 | train normalized MSE 2170.9037 | val normalized MSE 1742.8790, | val MAE  22.6615 | val MSE 1742.8790\n"
     ]
    },
    {
     "name": "stderr",
     "output_type": "stream",
     "text": [
      "Epoch:  32%|███▏      | 80/250 [05:02<10:49,  3.82s/epoch]"
     ]
    },
    {
     "name": "stdout",
     "output_type": "stream",
     "text": [
      "Epoch 080 | Learning rate 0.002061 | train normalized MSE 421.2368 | val normalized MSE 429.8202, | val MAE  15.4867 | val MSE 429.8202\n"
     ]
    },
    {
     "name": "stderr",
     "output_type": "stream",
     "text": [
      "Epoch:  34%|███▍      | 85/250 [05:22<10:34,  3.85s/epoch]"
     ]
    },
    {
     "name": "stdout",
     "output_type": "stream",
     "text": [
      "Epoch 085 | Learning rate 0.001923 | train normalized MSE 658.4330 | val normalized MSE 1140.4788, | val MAE  23.1520 | val MSE 1140.4788\n"
     ]
    },
    {
     "name": "stderr",
     "output_type": "stream",
     "text": [
      "Epoch:  36%|███▌      | 90/250 [05:41<10:17,  3.86s/epoch]"
     ]
    },
    {
     "name": "stdout",
     "output_type": "stream",
     "text": [
      "Epoch 090 | Learning rate 0.001788 | train normalized MSE 350.8423 | val normalized MSE 658.3140, | val MAE  19.6451 | val MSE 658.3140\n"
     ]
    },
    {
     "name": "stderr",
     "output_type": "stream",
     "text": [
      "Epoch:  38%|███▊      | 95/250 [06:00<09:52,  3.82s/epoch]"
     ]
    },
    {
     "name": "stdout",
     "output_type": "stream",
     "text": [
      "Epoch 095 | Learning rate 0.001656 | train normalized MSE 628.2196 | val normalized MSE 886.4031, | val MAE  18.9079 | val MSE 886.4031\n"
     ]
    },
    {
     "name": "stderr",
     "output_type": "stream",
     "text": [
      "Epoch:  40%|████      | 100/250 [06:19<09:34,  3.83s/epoch]"
     ]
    },
    {
     "name": "stdout",
     "output_type": "stream",
     "text": [
      "Epoch 100 | Learning rate 0.001528 | train normalized MSE 647.0736 | val normalized MSE 478.9100, | val MAE  14.1466 | val MSE 478.9100\n"
     ]
    },
    {
     "name": "stderr",
     "output_type": "stream",
     "text": [
      "Epoch:  42%|████▏     | 105/250 [06:38<09:15,  3.83s/epoch]"
     ]
    },
    {
     "name": "stdout",
     "output_type": "stream",
     "text": [
      "Epoch 105 | Learning rate 0.001053 | train normalized MSE 161.1202 | val normalized MSE 195.2535, | val MAE  10.0649 | val MSE 195.2535\n"
     ]
    },
    {
     "name": "stderr",
     "output_type": "stream",
     "text": [
      "Epoch:  44%|████▍     | 110/250 [06:58<08:55,  3.82s/epoch]"
     ]
    },
    {
     "name": "stdout",
     "output_type": "stream",
     "text": [
      "Epoch 110 | Learning rate 0.000964 | train normalized MSE 174.2291 | val normalized MSE 139.4235, | val MAE   8.9537 | val MSE 139.4235\n"
     ]
    },
    {
     "name": "stderr",
     "output_type": "stream",
     "text": [
      "Epoch:  46%|████▌     | 115/250 [07:17<08:37,  3.83s/epoch]"
     ]
    },
    {
     "name": "stdout",
     "output_type": "stream",
     "text": [
      "Epoch 115 | Learning rate 0.000878 | train normalized MSE 147.1907 | val normalized MSE 105.5831, | val MAE   7.5438 | val MSE 105.5831\n"
     ]
    },
    {
     "name": "stderr",
     "output_type": "stream",
     "text": [
      "Epoch:  48%|████▊     | 120/250 [07:36<08:27,  3.90s/epoch]"
     ]
    },
    {
     "name": "stdout",
     "output_type": "stream",
     "text": [
      "Epoch 120 | Learning rate 0.000796 | train normalized MSE 198.3751 | val normalized MSE 133.4996, | val MAE   8.2335 | val MSE 133.4996\n"
     ]
    },
    {
     "name": "stderr",
     "output_type": "stream",
     "text": [
      "Epoch:  50%|█████     | 125/250 [07:56<08:06,  3.89s/epoch]"
     ]
    },
    {
     "name": "stdout",
     "output_type": "stream",
     "text": [
      "Epoch 125 | Learning rate 0.000718 | train normalized MSE 106.5090 | val normalized MSE  97.9040, | val MAE   7.0585 | val MSE  97.9040\n"
     ]
    },
    {
     "name": "stderr",
     "output_type": "stream",
     "text": [
      "Epoch:  52%|█████▏    | 130/250 [08:15<07:41,  3.85s/epoch]"
     ]
    },
    {
     "name": "stdout",
     "output_type": "stream",
     "text": [
      "Epoch 130 | Learning rate 0.000483 | train normalized MSE  95.0468 | val normalized MSE  69.7399, | val MAE   5.7637 | val MSE  69.7399\n"
     ]
    },
    {
     "name": "stderr",
     "output_type": "stream",
     "text": [
      "Epoch:  54%|█████▍    | 135/250 [08:34<07:22,  3.85s/epoch]"
     ]
    },
    {
     "name": "stdout",
     "output_type": "stream",
     "text": [
      "Epoch 135 | Learning rate 0.000431 | train normalized MSE  85.4043 | val normalized MSE  82.5838, | val MAE   6.5967 | val MSE  82.5838\n"
     ]
    },
    {
     "name": "stderr",
     "output_type": "stream",
     "text": [
      "Epoch:  56%|█████▌    | 140/250 [08:53<07:00,  3.82s/epoch]"
     ]
    },
    {
     "name": "stdout",
     "output_type": "stream",
     "text": [
      "Epoch 140 | Learning rate 0.000382 | train normalized MSE  73.5295 | val normalized MSE  74.8607, | val MAE   6.0128 | val MSE  74.8607\n"
     ]
    },
    {
     "name": "stderr",
     "output_type": "stream",
     "text": [
      "Epoch:  58%|█████▊    | 145/250 [09:13<06:52,  3.93s/epoch]"
     ]
    },
    {
     "name": "stdout",
     "output_type": "stream",
     "text": [
      "Epoch 145 | Learning rate 0.000336 | train normalized MSE  74.8868 | val normalized MSE  70.4988, | val MAE   5.8425 | val MSE  70.4988\n"
     ]
    },
    {
     "name": "stderr",
     "output_type": "stream",
     "text": [
      "Epoch:  60%|██████    | 150/250 [09:32<06:23,  3.83s/epoch]"
     ]
    },
    {
     "name": "stdout",
     "output_type": "stream",
     "text": [
      "Epoch 150 | Learning rate 0.000293 | train normalized MSE  68.4049 | val normalized MSE  64.2360, | val MAE   5.4949 | val MSE  64.2360\n"
     ]
    },
    {
     "name": "stderr",
     "output_type": "stream",
     "text": [
      "Epoch:  62%|██████▏   | 155/250 [09:51<06:07,  3.87s/epoch]"
     ]
    },
    {
     "name": "stdout",
     "output_type": "stream",
     "text": [
      "Epoch 155 | Learning rate 0.000191 | train normalized MSE  63.8185 | val normalized MSE  61.4102, | val MAE   5.1958 | val MSE  61.4102\n"
     ]
    },
    {
     "name": "stderr",
     "output_type": "stream",
     "text": [
      "Epoch:  64%|██████▍   | 160/250 [10:11<05:45,  3.83s/epoch]"
     ]
    },
    {
     "name": "stdout",
     "output_type": "stream",
     "text": [
      "Epoch 160 | Learning rate 0.000164 | train normalized MSE  60.0880 | val normalized MSE  56.6462, | val MAE   4.9271 | val MSE  56.6462\n"
     ]
    },
    {
     "name": "stderr",
     "output_type": "stream",
     "text": [
      "Epoch:  66%|██████▌   | 165/250 [10:30<05:26,  3.84s/epoch]"
     ]
    },
    {
     "name": "stdout",
     "output_type": "stream",
     "text": [
      "Epoch 165 | Learning rate 0.000139 | train normalized MSE  59.6869 | val normalized MSE  56.5926, | val MAE   4.9084 | val MSE  56.5926\n"
     ]
    },
    {
     "name": "stderr",
     "output_type": "stream",
     "text": [
      "Epoch:  68%|██████▊   | 170/250 [10:49<05:07,  3.84s/epoch]"
     ]
    },
    {
     "name": "stdout",
     "output_type": "stream",
     "text": [
      "Epoch 170 | Learning rate 0.000117 | train normalized MSE  58.0638 | val normalized MSE  56.3905, | val MAE   4.9460 | val MSE  56.3905\n"
     ]
    },
    {
     "name": "stderr",
     "output_type": "stream",
     "text": [
      "Epoch:  70%|███████   | 175/250 [11:08<04:49,  3.86s/epoch]"
     ]
    },
    {
     "name": "stdout",
     "output_type": "stream",
     "text": [
      "Epoch 175 | Learning rate 0.000097 | train normalized MSE  56.7661 | val normalized MSE  56.2269, | val MAE   5.0544 | val MSE  56.2269\n"
     ]
    },
    {
     "name": "stderr",
     "output_type": "stream",
     "text": [
      "Epoch:  72%|███████▏  | 180/250 [11:27<04:28,  3.84s/epoch]"
     ]
    },
    {
     "name": "stdout",
     "output_type": "stream",
     "text": [
      "Epoch 180 | Learning rate 0.000060 | train normalized MSE  54.1557 | val normalized MSE  52.0679, | val MAE   4.5882 | val MSE  52.0679\n"
     ]
    },
    {
     "name": "stderr",
     "output_type": "stream",
     "text": [
      "Epoch:  74%|███████▍  | 185/250 [11:47<04:08,  3.82s/epoch]"
     ]
    },
    {
     "name": "stdout",
     "output_type": "stream",
     "text": [
      "Epoch 185 | Learning rate 0.000049 | train normalized MSE  53.8996 | val normalized MSE  50.7670, | val MAE   4.4471 | val MSE  50.7670\n"
     ]
    },
    {
     "name": "stderr",
     "output_type": "stream",
     "text": [
      "Epoch:  76%|███████▌  | 190/250 [12:06<03:50,  3.84s/epoch]"
     ]
    },
    {
     "name": "stdout",
     "output_type": "stream",
     "text": [
      "Epoch 190 | Learning rate 0.000039 | train normalized MSE  52.7715 | val normalized MSE  51.4093, | val MAE   4.5243 | val MSE  51.4093\n"
     ]
    },
    {
     "name": "stderr",
     "output_type": "stream",
     "text": [
      "Epoch:  78%|███████▊  | 195/250 [12:25<03:31,  3.84s/epoch]"
     ]
    },
    {
     "name": "stdout",
     "output_type": "stream",
     "text": [
      "Epoch 195 | Learning rate 0.000031 | train normalized MSE  52.2509 | val normalized MSE  50.7668, | val MAE   4.4941 | val MSE  50.7668\n"
     ]
    },
    {
     "name": "stderr",
     "output_type": "stream",
     "text": [
      "Epoch:  80%|████████  | 200/250 [12:44<03:11,  3.83s/epoch]"
     ]
    },
    {
     "name": "stdout",
     "output_type": "stream",
     "text": [
      "Epoch 200 | Learning rate 0.000024 | train normalized MSE  51.9542 | val normalized MSE  49.3802, | val MAE   4.3223 | val MSE  49.3802\n"
     ]
    },
    {
     "name": "stderr",
     "output_type": "stream",
     "text": [
      "Epoch:  82%|████████▏ | 205/250 [13:03<02:52,  3.84s/epoch]"
     ]
    },
    {
     "name": "stdout",
     "output_type": "stream",
     "text": [
      "Epoch 205 | Learning rate 0.000015 | train normalized MSE  51.0707 | val normalized MSE  49.5793, | val MAE   4.3873 | val MSE  49.5793\n"
     ]
    },
    {
     "name": "stderr",
     "output_type": "stream",
     "text": [
      "Epoch:  84%|████████▍ | 210/250 [13:23<02:32,  3.82s/epoch]"
     ]
    },
    {
     "name": "stdout",
     "output_type": "stream",
     "text": [
      "Epoch 210 | Learning rate 0.000013 | train normalized MSE  51.0618 | val normalized MSE  49.1066, | val MAE   4.3004 | val MSE  49.1066\n"
     ]
    },
    {
     "name": "stderr",
     "output_type": "stream",
     "text": [
      "Epoch:  86%|████████▌ | 215/250 [13:42<02:14,  3.85s/epoch]"
     ]
    },
    {
     "name": "stdout",
     "output_type": "stream",
     "text": [
      "Epoch 215 | Learning rate 0.000011 | train normalized MSE  50.8819 | val normalized MSE  48.8079, | val MAE   4.2582 | val MSE  48.8079\n"
     ]
    },
    {
     "name": "stderr",
     "output_type": "stream",
     "text": [
      "Epoch:  88%|████████▊ | 220/250 [14:01<01:54,  3.83s/epoch]"
     ]
    },
    {
     "name": "stdout",
     "output_type": "stream",
     "text": [
      "Epoch 220 | Learning rate 0.000010 | train normalized MSE  50.7911 | val normalized MSE  48.5893, | val MAE   4.2344 | val MSE  48.5893\n"
     ]
    },
    {
     "name": "stderr",
     "output_type": "stream",
     "text": [
      "Epoch:  90%|█████████ | 225/250 [14:20<01:35,  3.82s/epoch]"
     ]
    },
    {
     "name": "stdout",
     "output_type": "stream",
     "text": [
      "Epoch 225 | Learning rate 0.000010 | train normalized MSE  50.8063 | val normalized MSE  48.7905, | val MAE   4.2626 | val MSE  48.7905\n"
     ]
    },
    {
     "name": "stderr",
     "output_type": "stream",
     "text": [
      "Epoch:  92%|█████████▏| 230/250 [14:39<01:16,  3.82s/epoch]"
     ]
    },
    {
     "name": "stdout",
     "output_type": "stream",
     "text": [
      "Epoch 230 | Learning rate 0.000016 | train normalized MSE  50.9836 | val normalized MSE  48.9649, | val MAE   4.3332 | val MSE  48.9649\n"
     ]
    },
    {
     "name": "stderr",
     "output_type": "stream",
     "text": [
      "Epoch:  94%|█████████▍| 235/250 [14:58<00:57,  3.82s/epoch]"
     ]
    },
    {
     "name": "stdout",
     "output_type": "stream",
     "text": [
      "Epoch 235 | Learning rate 0.000038 | train normalized MSE  52.1651 | val normalized MSE  50.2754, | val MAE   4.4469 | val MSE  50.2754\n"
     ]
    },
    {
     "name": "stderr",
     "output_type": "stream",
     "text": [
      "Epoch:  96%|█████████▌| 240/250 [15:18<00:38,  3.85s/epoch]"
     ]
    },
    {
     "name": "stdout",
     "output_type": "stream",
     "text": [
      "Epoch 240 | Learning rate 0.000075 | train normalized MSE  54.2468 | val normalized MSE  52.4045, | val MAE   4.6549 | val MSE  52.4045\n"
     ]
    },
    {
     "name": "stderr",
     "output_type": "stream",
     "text": [
      "Epoch:  98%|█████████▊| 245/250 [15:37<00:19,  3.82s/epoch]"
     ]
    },
    {
     "name": "stdout",
     "output_type": "stream",
     "text": [
      "Epoch 245 | Learning rate 0.000127 | train normalized MSE  57.1288 | val normalized MSE  53.4120, | val MAE   4.6893 | val MSE  53.4120\n"
     ]
    },
    {
     "name": "stderr",
     "output_type": "stream",
     "text": [
      "Epoch: 100%|█████████▉| 249/250 [15:56<00:03,  3.84s/epoch]\n"
     ]
    },
    {
     "name": "stdout",
     "output_type": "stream",
     "text": [
      "Epoch 250 | Learning rate 0.000191 | train normalized MSE  62.9174 | val normalized MSE  61.6109, | val MAE   5.4429 | val MSE  61.6109\n",
      "==== EARLY STOP at epoch 250\n",
      "Submission saved locally as: './submission\\submission-2025-05-12_11-14AM.csv'.\n"
     ]
    }
   ],
   "source": [
    "# Calculate number of input features after flattening and number of output features\n",
    "# Note: LSTM models take features in different dimensions\n",
    "input_features:int = 50 * 50 * 6   # 50 agents, 50 time steps, 6 dimensions each (15000 input features)\n",
    "output_features:int = 60 * 2       # 60 future time steps, 2 dimensions (x, y) (120 output features)\n",
    "\n",
    "# Hyperparameters\n",
    "batch_size: int = 64\n",
    "num_folds: int = 4\n",
    "early_stopping_patience: int = 30\n",
    "early_stopping_threshold: float = 1e-4\n",
    "epochs: int = 250\n",
    "starting_lr: float = 1e-2\n",
    "scale: float = 7.0\n",
    "weight_decay: float = 1e-2\n",
    "\n",
    "lstm_hidden_dim: int = 256\n",
    "\n",
    "# IMPORTANT! To change which model is used: comment/uncomment below\n",
    "# Easily swap models by changing what is returned (called in training and test to avoid conflicts)\n",
    "def get_model():\n",
    "    # return BasicMLP(input_features, output_features).to(device)\n",
    "    # return BaseLSTM(input_dim=6, hidden_dim=lstm_hidden_dim, output_dim=output_features).to(device)\n",
    "    return SceneContextModel(hidden_dim=864).to(device)\n",
    "    # return LSTMWithMLP(input_dim=6, hidden_dim=lstm_hidden_dim, output_dim=output_features).to(device)\n",
    "\n",
    "SEED: int = 42\n",
    "torch.manual_seed(SEED)\n",
    "np.random.seed(SEED)\n",
    "\n",
    "def train_model(full_training_data: np.ndarray, \n",
    "                batch_size:int = 64, epochs:int = 10, num_folds:int = 5,\n",
    "                early_stopping_patience:int = 5, early_stopping_threshold:float = 1e-3):\n",
    "    global starting_lr, gamma, scale, lstm_hidden_dim, output_features, weight_decay\n",
    "\n",
    "    # Time series data needs to keep its data in relative order, so no shuffling can occur\n",
    "    #   like in regular KFold cross validation\n",
    "    splitter = TimeSeriesSplit(n_splits=num_folds)\n",
    "\n",
    "    # Perform cross-validation, the best model will be saved as \"best_model.pt\" to be loaded in later\n",
    "    overall_best_val_loss = float(\"inf\")\n",
    "\n",
    "    # Resources used:\n",
    "    # Project milestone notebook\n",
    "    # https://github.com/christianversloot/machine-learning-articles/blob/main/how-to-use-k-fold-cross-validation-with-pytorch.md\n",
    "    # https://www.geeksforgeeks.org/time-series-cross-validation/\n",
    "    for fold_i, (train_idx, val_idx) in enumerate(splitter.split(full_training_data)):\n",
    "        print(f\"\\nFOLD {fold_i + 1}/{num_folds} ==================================\")\n",
    "\n",
    "        # Create the model, loss criterion, and optimizer (reset per fold, to find the best model)\n",
    "        # If you change the model here, ensure its the same in the test loop!\n",
    "        # DO NOT CHANGE CRITERION\n",
    "        criterion = nn.MSELoss()\n",
    "\n",
    "        model = get_model()\n",
    "        optimizer = optim.AdamW(model.parameters(), lr=starting_lr, weight_decay=weight_decay)\n",
    "        schedulers: list[lr_scheduler.LRScheduler] =[\n",
    "            lr_scheduler.ExponentialLR(optimizer, gamma=0.995),\n",
    "            lr_scheduler.MultiStepLR(\n",
    "                optimizer,\n",
    "                milestones= list(range(25, epochs, 25)),\n",
    "                gamma=0.75,\n",
    "            ),\n",
    "            # lr_scheduler.MultiStepLR(\n",
    "            #     optimizer,\n",
    "            #     milestones= list(range(100, epochs, 100)),\n",
    "            #     gamma=0.5,\n",
    "            # ),\n",
    "            lr_scheduler.CosineAnnealingLR(\n",
    "                optimizer, \n",
    "                T_max= int(epochs * 0.9),\n",
    "                eta_min=1e-5\n",
    "            ),\n",
    "        ]\n",
    "\n",
    "        # Prepare data from this fold\n",
    "        train_fold: np.ndarray = full_training_data[train_idx]\n",
    "        val_fold: np.ndarray = full_training_data[val_idx]\n",
    "        collate_func = None     # Optional for DataLoader, taken from milestone notebook\n",
    "        if not isinstance(model, SceneContextModel):\n",
    "            # LSTM can handle the timeseries data directly\n",
    "            # TrajectoryDataset expects numpy arrays\n",
    "            collate_func = lambda x: Batch.from_data_list(x)\n",
    "            train_dataset = TrajectoryDatasetTrain(train_fold, scale=scale, augment=True)\n",
    "            val_dataset = TrajectoryDatasetTrain(val_fold, scale=scale, augment=False)\n",
    "        else:\n",
    "            train_x: np.ndarray = train_fold[..., :50, :]\n",
    "            train_y: np.ndarray = train_fold[:, 0, 50:, :2]\n",
    "            X_train_tensor = torch.FloatTensor(train_x).reshape((-1, input_features))\n",
    "            y_train_tensor = torch.FloatTensor(train_y).reshape((-1, output_features))\n",
    "            train_dataset = TensorDataset(X_train_tensor, y_train_tensor)\n",
    "\n",
    "            val_x: np.ndarray = val_fold[..., :50, :]\n",
    "            val_y: np.ndarray = val_fold[:, 0, 50:, :2]\n",
    "            X_val_tensor = torch.FloatTensor(val_x).reshape((-1, input_features))\n",
    "            y_val_tensor = torch.FloatTensor(val_y).reshape((-1, output_features))\n",
    "            val_dataset = TensorDataset(X_val_tensor, y_val_tensor)\n",
    "\n",
    "        train_dataloader = DataLoader(train_dataset, batch_size=batch_size, shuffle=True, collate_fn=collate_func)\n",
    "        val_dataloader = DataLoader(val_dataset, batch_size=batch_size, shuffle=False, collate_fn=collate_func)\n",
    "\n",
    "        best_val_loss: float = float(\"inf\")\n",
    "        no_improvement: int = 0\n",
    "\n",
    "        # Training and validation loops are taken from the milestone notebook,\n",
    "        #   with modifications to allow for different data loading shapes      \n",
    "        for epoch in tqdm(range(epochs), desc=\"Epoch\", unit=\"epoch\"):\n",
    "            # Training loop\n",
    "            model.train()\n",
    "            train_loss = 0\n",
    "            for batch in train_dataloader:\n",
    "                batch_x = None\n",
    "                batch_y = None\n",
    "                if isinstance(batch, tuple) or isinstance(batch, list):\n",
    "                    batch_x, batch_y = batch\n",
    "                    batch_y = batch_y.view(-1, 60, 2)\n",
    "                else: # DataBatch type\n",
    "                    batch = batch.to(device)\n",
    "                    batch_x = batch.x\n",
    "                    batch_y = batch.y.view(batch.num_graphs, 60, 2)\n",
    "\n",
    "                optimizer.zero_grad()\n",
    "                outputs = model(batch_x)\n",
    "                loss = criterion(outputs, batch_y)\n",
    "                loss.backward()\n",
    "                torch.nn.utils.clip_grad_norm_(model.parameters(), max_norm=2.0)\n",
    "                optimizer.step()\n",
    "                train_loss += loss.item()\n",
    "\n",
    "            # Validation loop\n",
    "            model.eval()\n",
    "            val_loss = 0\n",
    "            val_mae = 0\n",
    "            val_mse = 0\n",
    "            with torch.no_grad():\n",
    "                for batch in val_dataloader:\n",
    "                    batch_x = None\n",
    "                    batch_y = None\n",
    "                    if isinstance(batch, tuple) or isinstance(batch, list):\n",
    "                        batch_x, batch_y = batch\n",
    "                        batch_y = batch_y.view(-1, 60, 2)\n",
    "                    else: # DataBatch type\n",
    "                        batch = batch.to(device)\n",
    "                        batch_x = batch.x\n",
    "                        batch_y = batch.y.view(batch.num_graphs, 60, 2)\n",
    "\n",
    "                    pred = model(batch_x)\n",
    "                    val_loss += criterion(pred, batch_y).item()\n",
    "\n",
    "                    # show MAE and MSE with unnormalized data\n",
    "                    y = None\n",
    "                    if isinstance(batch, tuple) or isinstance(batch, list):\n",
    "                        y = batch_y.view(-1, 60, 2)\n",
    "                    else: # DataBatch type\n",
    "                        pred = pred * batch.scale.view(-1, 1, 1) + batch.origin.unsqueeze(1)\n",
    "                        y = batch_y * batch.scale.view(-1, 1, 1) + batch.origin.unsqueeze(1)\n",
    "                    val_mae += nn.L1Loss()(pred, y).item()\n",
    "                    val_mse += nn.MSELoss()(pred, y).item()\n",
    "\n",
    "            train_loss /= len(train_dataloader)\n",
    "            val_loss /= len(val_dataloader)\n",
    "            val_mae /= len(val_dataloader)\n",
    "            val_mse /= len(val_dataloader)\n",
    "\n",
    "            if (epoch + 1) % 5 == 0:\n",
    "                tqdm.write(f\"Epoch {(epoch + 1):03d} | Learning rate {optimizer.param_groups[0]['lr']:.6f} | train normalized MSE {train_loss:8.4f} | val normalized MSE {val_loss:8.4f}, | val MAE {val_mae:8.4f} | val MSE {val_mse:8.4f}\")\n",
    "\n",
    "            if val_loss < best_val_loss - early_stopping_threshold:\n",
    "                best_val_loss = val_loss\n",
    "                no_improvement = 0\n",
    "\n",
    "                # Better than the overall seen so far?\n",
    "                if best_val_loss < overall_best_val_loss:\n",
    "                    overall_best_val_loss = best_val_loss\n",
    "                    torch.save(model.state_dict(), \"best_model.pt\")\n",
    "            else:\n",
    "                no_improvement += 1\n",
    "                if no_improvement >= early_stopping_patience:\n",
    "                    print(f\"==== EARLY STOP at epoch {(epoch + 1):03d}\")\n",
    "                    break\n",
    "\n",
    "            for sched in schedulers:\n",
    "                sched.step()\n",
    "\n",
    "\n",
    "# Load in the model saved during testing to use on X_test\n",
    "# Mostly taken from milestone notebook\n",
    "def predict(X_test: np.ndarray, best_model_path: str = \"best_model.pt\"):\n",
    "    global scale, batch_size, lstm_hidden_dim, output_features\n",
    "\n",
    "    # Ensure this aligns with the trained model!\n",
    "    best_model = torch.load(best_model_path)\n",
    "    model = get_model()\n",
    "    model.load_state_dict(best_model)\n",
    "    model.eval()\n",
    "\n",
    "    pred_list = []\n",
    "    with torch.no_grad():\n",
    "        if not isinstance(model, SceneContextModel): # Using DataBatch type from a DataLoader\n",
    "            collate_func = lambda x: Batch.from_data_list(x)\n",
    "            test_dataset = TrajectoryDatasetTest(X_test, scale=scale)\n",
    "            test_loader = DataLoader(test_dataset, batch_size=batch_size, shuffle=False, collate_fn=collate_func)\n",
    "\n",
    "            for batch in test_loader:\n",
    "                batch = batch.to(device)\n",
    "                pred_norm = model(batch.x)\n",
    "\n",
    "                # Reshape the prediction to (N, 60, 2)\n",
    "                pred = pred_norm * batch.scale.view(-1,1,1) + batch.origin.unsqueeze(1)\n",
    "                pred_list.append(pred.cpu().numpy())\n",
    "        else:\n",
    "            X_test_tensor = torch.FloatTensor(X_test).reshape((-1, input_features)).to(device)\n",
    "            pred = model(X_test_tensor).cpu().reshape((-1, 60, 2))\n",
    "            pred_list.append(pred.numpy())\n",
    "\n",
    "    # Reshape predictions to match submission format: (2100, 60, 2) -> (12600, 2)\n",
    "    pred_list = np.concatenate(pred_list, axis=0)  # (N,60,2)\n",
    "    pred_output = pred_list.reshape(-1, 2)  # (N*60, 2)\n",
    "    output_df = pd.DataFrame(pred_output, columns=['x', 'y'])\n",
    "    output_df.index.name = 'index'\n",
    "    return output_df\n",
    "\n",
    "# Train the model (tweak batch_size and epochs as needed at top of this block)\n",
    "# Saved as \"best_model.pt\" to be loaded in during testing\n",
    "train_model(train_data, batch_size=batch_size, epochs=epochs, num_folds=num_folds,\n",
    "            early_stopping_patience=early_stopping_patience,\n",
    "            early_stopping_threshold=early_stopping_threshold)\n",
    "\n",
    "# Make predictions on the test set\n",
    "model_predictions_df = predict(test_data)\n",
    "assert len(model_predictions_df) == 126000, f\"Incorrect number of rows in output, expected 126000, got {len(model_predictions_df)}\"\n",
    "\n",
    "# Save output in the submission foldder, timestamped!\n",
    "submission_path = os.path.join(submission_dir, f\"submission-{get_timestamp()}.csv\")\n",
    "model_predictions_df.to_csv(submission_path)\n",
    "print(f\"Submission saved locally as: '{submission_path}'.\")"
   ]
  },
  {
   "cell_type": "markdown",
   "metadata": {},
   "source": [
    "# Visualize predictions\n",
    "\n",
    "These functions are taken from the milestone notebook, with minor additions"
   ]
  },
  {
   "cell_type": "code",
   "execution_count": 55,
   "metadata": {},
   "outputs": [],
   "source": [
    "def plot_trajectory(ax, pred, gt, title=None):\n",
    "    ax.cla()\n",
    "    # Plot the predicted future trajectory\n",
    "    ax.plot(pred[0,:60,0], pred[0,:60,1], color='palevioletred', label='Predicted Future Trajectory')\n",
    "    \n",
    "    # Plot the ground truth future trajectory\n",
    "    ax.plot(gt[0,:60,0], gt[0,:60,1], color='navy', label='Ground Truth Future Trajectory')\n",
    "    \n",
    "    # Optionally set axis limits, labels, and title.\n",
    "    x_max = max(pred[..., 0].max(), gt[..., 0].max())\n",
    "    x_min = min(pred[..., 0].min(), gt[..., 0].min())\n",
    "    y_max = max(pred[..., 1].max(), gt[..., 1].max())\n",
    "    y_min = min(pred[..., 1].min(), gt[..., 1].min())\n",
    "    \n",
    "    ax.set_xlim(x_min, x_max)\n",
    "    ax.set_ylim(y_min, y_max)\n",
    "    ax.set_xlabel('X-axis')\n",
    "    ax.set_ylabel('Y-axis')\n",
    "    \n",
    "    if title:\n",
    "        ax.set_title(title)\n",
    "    \n",
    "    ax.legend()\n",
    "    ax.grid(True, linestyle='--', alpha=0.7)"
   ]
  },
  {
   "cell_type": "code",
   "execution_count": 56,
   "metadata": {},
   "outputs": [],
   "source": [
    "def visualize_predictions(model, val_dataset, graph_save_path: str = f\"{get_timestamp()}_graph.png\"):\n",
    "    model.load_state_dict(torch.load(\"best_model.pt\"))\n",
    "    model.eval()\n",
    "\n",
    "    # randomly select 4 samples from the validation set\n",
    "    random_indices = random.sample(range(len(val_dataset)), 4)\n",
    "    fig, axes = plt.subplots(2, 2, figsize=(10, 10))\n",
    "    axes = axes.flatten()  # Flatten the array to iterate single axes objects\n",
    "\n",
    "    for i, idx in enumerate(random_indices):\n",
    "        batch = val_dataset[idx]\n",
    "        batch_x, batch_y = None, None\n",
    "        if isinstance(batch, tuple) or isinstance(batch, list):\n",
    "            batch_x, batch_y = batch\n",
    "            X_val_tensor = torch.FloatTensor(batch_x).reshape((-1, input_features)).to(device)\n",
    "            y_val_tensor = torch.FloatTensor(batch_y.view(-1, 60, 2))\n",
    "\n",
    "            pred = model(X_val_tensor).cpu().reshape((-1, 60, 2))\n",
    "            gt = torch.stack(torch.split(y_val_tensor, 60, dim=0), dim=0).squeeze(dim=0) # getting a phantom dimension\n",
    "        else:\n",
    "            batch = batch.to(device)\n",
    "            batch_x = batch.x\n",
    "            batch_y = batch.y\n",
    "        \n",
    "            pred = model(batch_x)\n",
    "            gt = torch.stack(torch.split(batch_y, 60, dim=0), dim=0)\n",
    "\n",
    "            pred = pred * batch.scale.view(-1, 1, 1) + batch.origin.unsqueeze(1)\n",
    "            gt = torch.stack(torch.split(batch_y, 60, dim=0), dim=0) * batch.scale.view(-1, 1, 1) + batch.origin.unsqueeze(1)\n",
    "\n",
    "        pred = pred.detach().cpu().numpy()\n",
    "        gt = gt.detach().cpu().numpy()\n",
    "\n",
    "        # Plot the trajectory using the i-th axis\n",
    "        plot_trajectory(axes[i], pred, gt, title=f\"Sample {idx}\")\n",
    "\n",
    "    plt.savefig(fname=graph_save_path)\n",
    "    plt.show()"
   ]
  },
  {
   "cell_type": "code",
   "execution_count": 62,
   "metadata": {},
   "outputs": [
    {
     "data": {
      "image/png": "[encoded data removed]",
      "text/plain": [
       "<Figure size 1000x1000 with 4 Axes>"
      ]
     },
     "metadata": {},
     "output_type": "display_data"
    }
   ],
   "source": [
    "model = get_model()\n",
    "if not isinstance(model, SceneContextModel):\n",
    "    # LSTM can handle the timeseries data directly\n",
    "    # TrajectoryDataset expects numpy arrays\n",
    "    collate_func = lambda x: Batch.from_data_list(x)\n",
    "    train_dataset = TrajectoryDatasetTrain(train_data, scale=scale, augment=True)\n",
    "else:\n",
    "    train_x: np.ndarray = train_data[..., :50, :]\n",
    "    train_y: np.ndarray = train_data[:, 0, 50:, :2]\n",
    "    X_train_tensor = torch.FloatTensor(train_x).reshape((-1, input_features))\n",
    "    y_train_tensor = torch.FloatTensor(train_y).reshape((-1, output_features))\n",
    "    train_dataset = TensorDataset(X_train_tensor, y_train_tensor)\n",
    "\n",
    "visualize_predictions(model, train_dataset)"
   ]
  }
 ],
 "metadata": {
  "kernelspec": {
   "display_name": ".venv",
   "language": "python",
   "name": "python3"
  },
  "language_info": {
   "codemirror_mode": {
    "name": "ipython",
    "version": 3
   },
   "file_extension": ".py",
   "mimetype": "text/x-python",
   "name": "python",
   "nbconvert_exporter": "python",
   "pygments_lexer": "ipython3",
   "version": "3.13.3"
  }
 },
 "nbformat": 4,
 "nbformat_minor": 2
}
