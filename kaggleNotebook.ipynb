{
 "cells": [
  {
   "cell_type": "code",
   "execution_count": null,
   "metadata": {
    "execution": {
     "iopub.execute_input": "2025-05-24T01:50:36.854914Z",
     "iopub.status.busy": "2025-05-24T01:50:36.854198Z",
     "iopub.status.idle": "2025-05-24T01:50:39.889658Z",
     "shell.execute_reply": "2025-05-24T01:50:39.888641Z",
     "shell.execute_reply.started": "2025-05-24T01:50:36.854892Z"
    },
    "trusted": true
   },
   "outputs": [],
   "source": [
    "running_on_kaggle = True\n",
    "\n",
    "if running_on_kaggle:\n",
    "    # Kaggle does not automatically have this\n",
    "    !pip install torch_geometric -q"
   ]
  },
  {
   "cell_type": "code",
   "execution_count": 2,
   "metadata": {
    "execution": {
     "iopub.execute_input": "2025-05-24T01:50:39.891877Z",
     "iopub.status.busy": "2025-05-24T01:50:39.891636Z",
     "iopub.status.idle": "2025-05-24T01:50:39.897339Z",
     "shell.execute_reply": "2025-05-24T01:50:39.896588Z",
     "shell.execute_reply.started": "2025-05-24T01:50:39.891856Z"
    },
    "trusted": true
   },
   "outputs": [],
   "source": [
    "import os\n",
    "import sys\n",
    "from tqdm import tqdm\n",
    "from datetime import datetime\n",
    "import random\n",
    "\n",
    "import numpy as np\n",
    "import pandas as pd\n",
    "import matplotlib.pyplot as plt\n",
    "import matplotlib.animation as animation\n",
    "from sklearn.model_selection import TimeSeriesSplit\n",
    "\n",
    "import torch\n",
    "import torch.nn as nn\n",
    "import torch.optim as optim\n",
    "import torch.optim.lr_scheduler as lr_scheduler\n",
    "import torch.nn.functional as F\n",
    "from torch.utils.data import Dataset, DataLoader, TensorDataset\n",
    "from torch_geometric.data import Data, Batch"
   ]
  },
  {
   "cell_type": "code",
   "execution_count": 3,
   "metadata": {
    "execution": {
     "iopub.execute_input": "2025-05-24T01:50:39.898622Z",
     "iopub.status.busy": "2025-05-24T01:50:39.898389Z",
     "iopub.status.idle": "2025-05-24T01:50:43.907187Z",
     "shell.execute_reply": "2025-05-24T01:50:43.906517Z",
     "shell.execute_reply.started": "2025-05-24T01:50:39.898602Z"
    },
    "trusted": true
   },
   "outputs": [
    {
     "name": "stdout",
     "output_type": "stream",
     "text": [
      "train_data's shape: (10000, 50, 110, 6)\n",
      "test_data's shape: (2100, 50, 50, 6)\n"
     ]
    }
   ],
   "source": [
    "# Create submission folder if it doesn't exist\n",
    "submission_dir = './submission'\n",
    "os.makedirs(submission_dir, exist_ok=True)\n",
    "\n",
    "# Uncomment the following block ONLY if you wish to inspect file paths in a Kaggle-like directory structure.\n",
    "# On your local system, you likely have the files in your local folder so this is not needed.\n",
    "# for dirname, _, filenames in os.walk('/kaggle/input'):\n",
    "#     for filename in filenames:\n",
    "#         print(os.path.join(dirname, filename))\n",
    "\n",
    "\n",
    "# Data Loading for Local Environment\n",
    "# Files are assumed to be in:\n",
    "# ./cse-251-b-2025/train.npz\n",
    "# ./cse-251-b-2025/test_input.npz\n",
    "\n",
    "if running_on_kaggle:\n",
    "    train_file = np.load(\"/kaggle/input/cse-251-b-2025/train.npz\")\n",
    "    test_file = np.load(\"/kaggle/input/cse-251-b-2025/test_input.npz\")\n",
    "else:\n",
    "    train_file = np.load(\"./cse-251-b-2025/train.npz\")\n",
    "    test_file = np.load(\"./cse-251-b-2025/test_input.npz\")\n",
    "\n",
    "train_data = train_file['data']\n",
    "test_data = test_file['data']\n",
    "\n",
    "print(\"train_data's shape:\", train_data.shape)  # Expected shape: (10000, 50, 110, 6)\n",
    "print(\"test_data's shape:\", test_data.shape)    # Expected shape: (2100, 50, 50, 6)"
   ]
  },
  {
   "cell_type": "markdown",
   "metadata": {},
   "source": [
    "# Visualization: "
   ]
  },
  {
   "cell_type": "code",
   "execution_count": 4,
   "metadata": {
    "execution": {
     "iopub.execute_input": "2025-05-24T01:50:43.908892Z",
     "iopub.status.busy": "2025-05-24T01:50:43.908676Z",
     "iopub.status.idle": "2025-05-24T01:50:43.920778Z",
     "shell.execute_reply": "2025-05-24T01:50:43.920233Z",
     "shell.execute_reply.started": "2025-05-24T01:50:43.908877Z"
    },
    "trusted": true
   },
   "outputs": [],
   "source": [
    "# Run visualizations?\n",
    "run_visualizations: bool = False\n",
    "\n",
    "# From data loading notebook\n",
    "def plot_one_training_scene(idx: int = 0):\n",
    "    # Plot trajectories from one training scene (static plot)\n",
    "    data_matrix = train_data[idx]\n",
    "\n",
    "    plt.figure(figsize=(8, 8))\n",
    "    for agent in range(data_matrix.shape[idx]):\n",
    "        xs = data_matrix[agent, :, 0]\n",
    "        ys = data_matrix[agent, :, 1]\n",
    "        # Remove zeros (padding)\n",
    "        xs = xs[xs != 0]\n",
    "        ys = ys[ys != 0]\n",
    "        plt.plot(xs, ys, alpha=0.7)\n",
    "    plt.title(\"Trajectories from one training scene\")\n",
    "    plt.xlabel(\"x-coordinate\")\n",
    "    plt.ylabel(\"y-coordinate\")\n",
    "    plt.show()\n",
    "\n",
    "# Create an animated gif for one training scene (exact code provided on kaggle)\n",
    "def make_gif(data_matrix, name='example'):\n",
    "    cmap = None\n",
    "    if sys.version_info.minor <= 7:\n",
    "        cmap = plt.cm.get_cmap(\"viridis\", 50)\n",
    "    else:\n",
    "        cmap = plt.get_cmap(\"viridis\", 50)\n",
    "\n",
    "    fig, ax = plt.subplots(figsize=(10, 10))\n",
    "    # Function to update plot for each frame\n",
    "    def update(frame):\n",
    "        ax.clear()\n",
    "        # Get data for current timestep\n",
    "        for i in range(1, data_matrix.shape[0]):\n",
    "            x = data_matrix[i, frame, 0]\n",
    "            y = data_matrix[i, frame, 1]\n",
    "            if x != 0 and y != 0:\n",
    "                xs = data_matrix[i, :frame+1, 0]  # Include current frame\n",
    "                ys = data_matrix[i, :frame+1, 1]  # Include current frame\n",
    "                # trim all zeros\n",
    "                mask = (xs != 0) & (ys != 0)  # Only keep points where both x and y are non-zero\n",
    "                xs = xs[mask]\n",
    "                ys = ys[mask]\n",
    "                # Only plot if we have points to plot\n",
    "                if len(xs) > 0 and len(ys) > 0:\n",
    "                    color = cmap(i)\n",
    "                    ax.plot(xs, ys, alpha=0.9, color=color)\n",
    "                    ax.scatter(x, y, s=80, color=color)\n",
    "        ax.plot(data_matrix[0, :frame, 0], data_matrix[0, :frame, 1],\n",
    "                color='tab:orange', label='Ego Vehicle')\n",
    "        ax.scatter(data_matrix[0, frame, 0], data_matrix[0, frame, 1],\n",
    "                   s=80, color='tab:orange')\n",
    "        # Set title with timestep\n",
    "        ax.set_title(f'Timestep {frame}')\n",
    "        # Set consistent axis limits\n",
    "        ax.set_xlim(data_matrix[:,:,0][data_matrix[:,:,0] != 0].min() - 10, \n",
    "                    data_matrix[:,:,0][data_matrix[:,:,0] != 0].max() + 10)\n",
    "        ax.set_ylim(data_matrix[:,:,1][data_matrix[:,:,1] != 0].min() - 10, \n",
    "                    data_matrix[:,:,1][data_matrix[:,:,1] != 0].max() + 10)\n",
    "        ax.legend()\n",
    "        return ax.collections + ax.lines\n",
    "\n",
    "    # Create animation\n",
    "    anim = animation.FuncAnimation(fig, update, frames=list(range(0, data_matrix.shape[1], 3)),\n",
    "                                   interval=100, blit=True)\n",
    "    # Save as GIF\n",
    "    anim.save(f'trajectory_visualization_{name}.gif', writer='pillow')\n",
    "    plt.close()\n",
    "\n",
    "if run_visualizations:\n",
    "    plot_one_training_scene(0)\n",
    "    make_gif(train_data[0], 'index0')"
   ]
  },
  {
   "cell_type": "markdown",
   "metadata": {},
   "source": [
    "# Constant velocity from test set\n",
    "Untouched from original data loading notebook."
   ]
  },
  {
   "cell_type": "code",
   "execution_count": 5,
   "metadata": {
    "execution": {
     "iopub.execute_input": "2025-05-24T01:50:43.921864Z",
     "iopub.status.busy": "2025-05-24T01:50:43.921556Z",
     "iopub.status.idle": "2025-05-24T01:50:43.942951Z",
     "shell.execute_reply": "2025-05-24T01:50:43.942291Z",
     "shell.execute_reply.started": "2025-05-24T01:50:43.921840Z"
    },
    "trusted": true
   },
   "outputs": [],
   "source": [
    "# Run constant velocity model (Kaggle score of ~50)?\n",
    "run_constant_velocity_model: bool = False\n",
    "\n",
    "if run_constant_velocity_model:\n",
    "    # Compute the velocity differences for the ego vehicle (agent index 0)\n",
    "    velocity_diff = test_data[..., 1:, :2] - test_data[..., :-1, :2]\n",
    "    print(\"Velocity difference shape:\", velocity_diff.shape)\n",
    "\n",
    "    # Compute average velocity for the ego vehicle (index 0) in each scene\n",
    "    constant_vel = np.mean(velocity_diff[:, 0, :, :], axis=1)\n",
    "    print(\"Constant velocity shape:\", constant_vel.shape)\n",
    "\n",
    "    # Generate predictions for 60 future time steps based on constant velocity\n",
    "    pred_y_const = np.zeros((test_data.shape[0], 60, 2))\n",
    "    starting_point = test_data[:, 0, -1, :2]  # Last observed position of ego vehicle\n",
    "\n",
    "    for t in range(60):\n",
    "        pred_y_const[:, t, :] = starting_point + (t + 1) * constant_vel\n",
    "\n",
    "    # Reshape predictions to submission format: (2100, 60, 2) -> (12600, 2)\n",
    "    pred_output_const = pred_y_const.reshape(-1, 2)\n",
    "    output_df_const = pd.DataFrame(pred_output_const, columns=['x', 'y'])\n",
    "    output_df_const.index.name = 'index'\n",
    "    # Save output in the submission folder\n",
    "    constant_vel_path = os.path.join(submission_dir, 'constant_vel_submission.csv')\n",
    "    output_df_const.to_csv(constant_vel_path)\n",
    "    print(f\"Constant velocity submission saved locally as '{constant_vel_path}'.\")"
   ]
  },
  {
   "cell_type": "markdown",
   "metadata": {},
   "source": [
    "# Our Work"
   ]
  },
  {
   "cell_type": "code",
   "execution_count": 6,
   "metadata": {
    "execution": {
     "iopub.execute_input": "2025-05-24T01:50:43.943901Z",
     "iopub.status.busy": "2025-05-24T01:50:43.943676Z",
     "iopub.status.idle": "2025-05-24T01:50:43.959836Z",
     "shell.execute_reply": "2025-05-24T01:50:43.959154Z",
     "shell.execute_reply.started": "2025-05-24T01:50:43.943887Z"
    },
    "trusted": true
   },
   "outputs": [],
   "source": [
    "# MLP model with residual blocks: ineffective for TimeSeries data\n",
    "class BasicMLP(nn.Module):\n",
    "    def __init__(self, input_features, output_features):\n",
    "        super().__init__()\n",
    "\n",
    "        # Lazy layers infer the input size instead of having to explicitly pass it in\n",
    "        # Backbone: linear -> BatchNorm -> PReLU -> Dropout\n",
    "        self.net = nn.Sequential(\n",
    "            nn.Linear(input_features, 1024),\n",
    "            nn.BatchNorm1d(1024),\n",
    "            nn.PReLU(),\n",
    "            nn.Dropout(0.2),\n",
    "\n",
    "            nn.Linear(1024, 512),\n",
    "            nn.BatchNorm1d(512),\n",
    "            nn.PReLU(),\n",
    "            nn.Dropout(0.2),\n",
    "\n",
    "            nn.Linear(512, 256),\n",
    "            nn.BatchNorm1d(256),\n",
    "            nn.PReLU(),\n",
    "            nn.Dropout(0.2),\n",
    "        ) # Note: residual width must match the last width of the net\n",
    "\n",
    "        # Residual block added to avoid vanishing gradient issue\n",
    "        self.residual = nn.Sequential(\n",
    "            nn.LazyLinear(256),\n",
    "            nn.ReLU(),\n",
    "            nn.LazyLinear(256),\n",
    "        )\n",
    "\n",
    "        # Infer last input shape, then do final projection (60*2)\n",
    "        self.head = nn.LazyLinear(output_features)\n",
    "\n",
    "    def forward(self, x):\n",
    "        # Original forward loop\n",
    "        # # (batch, 50, 50, 6) or flattened already\n",
    "        # x = x.view(x.size(0), -1)\n",
    "        # h = self.net(x) #(batch, 256)\n",
    "        # h = h + self.residual(h)  # residual skip\n",
    "        # return self.head(h) #(batch, 120)\n",
    "\n",
    "        # Taken from milestone notebook (tensor format)\n",
    "        # In case you passed in a DataBatch\n",
    "        if not isinstance(x, torch.Tensor):\n",
    "            x = x.x\n",
    "\n",
    "        # x = x[:, :, :, :2] # (batch, 50, 50, 2)\n",
    "        x = x.reshape(-1, 50 * 50 * 6)\n",
    "        x = self.net(x)\n",
    "        x = x + self.residual(x)\n",
    "        x = self.head(x)\n",
    "        return x.view(-1, 60, 2)"
   ]
  },
  {
   "cell_type": "code",
   "execution_count": 7,
   "metadata": {
    "execution": {
     "iopub.execute_input": "2025-05-24T01:50:43.960803Z",
     "iopub.status.busy": "2025-05-24T01:50:43.960600Z",
     "iopub.status.idle": "2025-05-24T01:50:43.978074Z",
     "shell.execute_reply": "2025-05-24T01:50:43.977342Z",
     "shell.execute_reply.started": "2025-05-24T01:50:43.960789Z"
    },
    "trusted": true
   },
   "outputs": [],
   "source": [
    "# Base LSTM given to us in the milestone notebook\n",
    "class BaseLSTM(nn.Module):\n",
    "    def __init__(self, input_dim:int =6, hidden_dim:int =128, output_dim:int =60 * 2, dropout:float = 0):\n",
    "        super().__init__()\n",
    "        self.lstm = nn.LSTM(input_dim, hidden_dim, batch_first=True, dropout=dropout)\n",
    "        self.fc = nn.Linear(hidden_dim, output_dim)\n",
    "\n",
    "    def forward(self, x):\n",
    "        # In case you passed in a DataBatch\n",
    "        if not isinstance(x, torch.Tensor):\n",
    "            x = x.x\n",
    "\n",
    "        x= x.reshape(-1, 50, 50, 6)  # (batch_size, num_agents, seq_len, input_dim)\n",
    "        x = x[:, 0, :, :] # Only Consider ego agent index 0\n",
    "\n",
    "        lstm_out, _ = self.lstm(x)\n",
    "        # lstm_out is of shape (batch_size, seq_len, hidden_dim) and we want the last time step output\n",
    "        out = self.fc(lstm_out[:, -1, :])\n",
    "        return out.view(-1, 60, 2)"
   ]
  },
  {
   "cell_type": "code",
   "execution_count": 8,
   "metadata": {
    "execution": {
     "iopub.execute_input": "2025-05-24T01:50:43.978962Z",
     "iopub.status.busy": "2025-05-24T01:50:43.978788Z",
     "iopub.status.idle": "2025-05-24T01:50:43.993918Z",
     "shell.execute_reply": "2025-05-24T01:50:43.993329Z",
     "shell.execute_reply.started": "2025-05-24T01:50:43.978948Z"
    },
    "trusted": true
   },
   "outputs": [],
   "source": [
    "# Multi agent scene context model\n",
    "class SceneContextModel(nn.Module):\n",
    "    def __init__(self, hidden_dim=128):\n",
    "        super().__init__()\n",
    "        self.agent_encoder = nn.Sequential(\n",
    "            nn.Linear(50 * 6, hidden_dim),\n",
    "            nn.ReLU()\n",
    "        )\n",
    "        self.ego_encoder = nn.Sequential(\n",
    "            nn.Linear(50 * 6, hidden_dim),\n",
    "            nn.ReLU()\n",
    "        )\n",
    "        self.decoder = nn.Sequential(\n",
    "            nn.Linear(2 * hidden_dim, hidden_dim),\n",
    "            nn.ReLU(),\n",
    "            nn.Linear(hidden_dim, 60 * 2)\n",
    "        )\n",
    "\n",
    "    def forward(self, x_flat):\n",
    "        # x = data.x\n",
    "        # x = x[:, :, :, :2] # (batch, 50, 50, 2)\n",
    "        # x = x.reshape(-1, 50 * 50 * 6)\n",
    "        # x = self.mlp(x)\n",
    "        # return x.view(-1, 60, 2)\n",
    "        # In case you passed in a DataBatch\n",
    "        if not isinstance(x_flat, torch.Tensor):\n",
    "            x_flat = x_flat.x\n",
    "\n",
    "        B = x_flat.size(0)\n",
    "        x = x_flat.view(B, 50, 50, 6) #(B, agents, timesteps, features)\n",
    "        x_agents = x.view(B, 50, -1)  #(B, 50, 300)\n",
    "        agent_feats = self.agent_encoder(x_agents) #(B, 50, hidden_dim)\n",
    "        scene_context = agent_feats.mean(dim=1) #(B, hidden_dim)\n",
    "\n",
    "        ego_input = x[:, 0, :, :].reshape(B, -1) #(B, 300)\n",
    "        ego_feat = self.ego_encoder(ego_input) #(B, hidden_dim)\n",
    "\n",
    "        combined = torch.cat([ego_feat, scene_context], dim=1)\n",
    "\n",
    "        out = self.decoder(combined) #(B, 120)\n",
    "        return out.view(-1, 60, 2)"
   ]
  },
  {
   "cell_type": "code",
   "execution_count": 9,
   "metadata": {
    "execution": {
     "iopub.execute_input": "2025-05-24T01:50:43.994652Z",
     "iopub.status.busy": "2025-05-24T01:50:43.994492Z",
     "iopub.status.idle": "2025-05-24T01:50:44.006391Z",
     "shell.execute_reply": "2025-05-24T01:50:44.005823Z",
     "shell.execute_reply.started": "2025-05-24T01:50:43.994638Z"
    },
    "trusted": true
   },
   "outputs": [],
   "source": [
    "# Extended from the base LSTM model\n",
    "class LSTMWithMLP(nn.Module):\n",
    "    def __init__(self, input_dim:int =6, hidden_dim:int =128, output_dim:int =60 * 2, dropout:float = 0):\n",
    "        super().__init__()\n",
    "        self.lstm = nn.LSTM(input_dim, hidden_dim, batch_first=True, dropout=dropout)\n",
    "        self.net = nn.Sequential(\n",
    "            nn.Linear(hidden_dim, 128),\n",
    "            nn.BatchNorm1d(128),\n",
    "            nn.LeakyReLU(),\n",
    "\n",
    "            nn.Linear(128, 64),\n",
    "            nn.BatchNorm1d(64),\n",
    "            nn.LeakyReLU(),\n",
    "        )\n",
    "        self.fc = nn.Linear(64, output_dim)\n",
    "\n",
    "    def forward(self, x):\n",
    "        # In case you passed in a DataBatch\n",
    "        if not isinstance(x, torch.Tensor):\n",
    "            x = x.x\n",
    "\n",
    "        x= x.reshape(-1, 50, 50, 6)  # (batch_size, num_agents, seq_len, input_dim)\n",
    "        x = x[:, 0, :, :] # Only Consider ego agent index 0\n",
    "\n",
    "        lstm_out, _ = self.lstm(x)\n",
    "        # lstm_out is of shape (batch_size, seq_len, hidden_dim) and we want the last time step output\n",
    "        x = self.net(lstm_out[:, -1, :])\n",
    "        x = self.fc(x)\n",
    "        return x.view(-1, 60, 2)"
   ]
  },
  {
   "cell_type": "code",
   "execution_count": 10,
   "metadata": {
    "execution": {
     "iopub.execute_input": "2025-05-24T01:50:44.009133Z",
     "iopub.status.busy": "2025-05-24T01:50:44.008915Z",
     "iopub.status.idle": "2025-05-24T01:50:44.023426Z",
     "shell.execute_reply": "2025-05-24T01:50:44.022768Z",
     "shell.execute_reply.started": "2025-05-24T01:50:44.009110Z"
    },
    "trusted": true
   },
   "outputs": [],
   "source": [
    "class LSTMButTwo(nn.Module):\n",
    "    def __init__(self, input_dim:int =6, hidden_dim:int =128, output_dim:int =60 * 2, dropout:float = 0):\n",
    "        super().__init__()\n",
    "        self.second_out_dim = 128\n",
    "\n",
    "        self.lstm_1 = nn.LSTM(input_dim, hidden_dim, batch_first=True, dropout=dropout)\n",
    "\n",
    "        self.residual = nn.Sequential(\n",
    "            nn.Linear(hidden_dim, 256),\n",
    "            nn.ReLU(),\n",
    "            nn.Linear(256, self.second_out_dim),\n",
    "        )\n",
    "        \n",
    "        self.lstm_2 = nn.LSTM(hidden_dim, self.second_out_dim, batch_first=True, dropout=dropout)\n",
    "        self.fc = nn.Linear(self.second_out_dim, output_dim)\n",
    "\n",
    "    def forward(self, x):\n",
    "        # In case you passed in a DataBatch\n",
    "        if not isinstance(x, torch.Tensor):\n",
    "            x = x.x\n",
    "\n",
    "        x= x.reshape(-1, 50, 50, 6)  # (batch_size, num_agents, seq_len, input_dim)\n",
    "        x = x[:, 0, :, :] # Only Consider ego agent index 0\n",
    "\n",
    "        lstm_first_out, _ = self.lstm_1(x)\n",
    "        residual = self.residual(lstm_first_out)\n",
    "        lstm_second_out, _ = self.lstm_2(lstm_first_out)\n",
    "        lstm_plus_res = lstm_second_out + residual\n",
    "\n",
    "        # lstm_out is of shape (batch_size, seq_len, hidden_dim) and we want the last time step output\n",
    "        lstm_out = lstm_plus_res[:, -1, :]\n",
    "        x = self.fc(lstm_out)\n",
    "        return x.view(-1, 60, 2)"
   ]
  },
  {
   "cell_type": "code",
   "execution_count": 11,
   "metadata": {
    "execution": {
     "iopub.execute_input": "2025-05-24T02:07:26.186793Z",
     "iopub.status.busy": "2025-05-24T02:07:26.186487Z",
     "iopub.status.idle": "2025-05-24T02:07:26.196248Z",
     "shell.execute_reply": "2025-05-24T02:07:26.195670Z",
     "shell.execute_reply.started": "2025-05-24T02:07:26.186773Z"
    },
    "trusted": true
   },
   "outputs": [],
   "source": [
    "# Coded with assistance from ChatGPT 4o to understand the attention mechanism stated in\n",
    "# the paper \"Time Series Prediction Based on LSTM-Attention-LSTM Model\" along with noting\n",
    "# the dimensions after each operation. Deepseek was also used to help with dimension issues,\n",
    "# such as when to squeeze/unsqueeze, especially debugging the decoder LSTM.\n",
    "class LSTMAttLSTM(nn.Module):\n",
    "    def __init__(self, input_dim:int =6, hidden_dim:int =128, output_dim:int =60 * 2, dropout:float = 0):\n",
    "        super().__init__()\n",
    "        \n",
    "        # Encoder: encodes input dimensions into hidden\n",
    "        self.encoder = nn.LSTM(input_dim, hidden_dim, batch_first=True, dropout=dropout)\n",
    "\n",
    "        # Decoder: another LSTM layer that decodes the encoder's hidden state\n",
    "        self.decoder = nn.LSTM(hidden_dim, hidden_dim, batch_first=True, dropout=dropout)\n",
    "\n",
    "        # Output\n",
    "        self.fc = nn.Sequential(\n",
    "            nn.Linear(hidden_dim, hidden_dim * 2),\n",
    "            nn.LayerNorm(hidden_dim * 2),\n",
    "            nn.LeakyReLU(),\n",
    "\n",
    "            nn.Linear(hidden_dim * 2, hidden_dim),\n",
    "            nn.LayerNorm(hidden_dim),\n",
    "            nn.LeakyReLU(),\n",
    "\n",
    "            nn.Linear(hidden_dim, hidden_dim),\n",
    "            nn.LayerNorm(hidden_dim),\n",
    "            nn.LeakyReLU(),\n",
    "\n",
    "            nn.Linear(hidden_dim, output_dim),\n",
    "        )\n",
    "\n",
    "    def forward(self, x):\n",
    "        # In case you passed in a DataBatch\n",
    "        if not isinstance(x, torch.Tensor):\n",
    "            x = x.x\n",
    "\n",
    "        x= x.reshape(-1, 50, 50, 6)  # (batch_size, num_agents, seq_len, input_dim)\n",
    "        # Only consider Ego agent at index 0 -> (batch_size, seq_len, input_dim)\n",
    "        x = x[:, 0, :, :] # Can adjust how much of the sequence to consider\n",
    "        # B, L, D = x.shape\n",
    "\n",
    "        # nn.LSTM: # enc_out: (B, L, H), h_n: (D*num_layers, B, H)\n",
    "        encoder_out, (h_n, c_n) = self.encoder(x)\n",
    "\n",
    "        # Last hidden state: (B, H)\n",
    "        h_n_last = h_n[-1]\n",
    "\n",
    "        # \"Attention correlations\"\n",
    "        # Unsqueeze -> extend a dimension (so the matrix multiplication works)\n",
    "        # torch.bmm -> matrix multiplication/dot product across batches\n",
    "        # Squeeze -> contract a dimension (remove the previous phantom dimension)\n",
    "        # e: (B, L)\n",
    "        e = torch.bmm(encoder_out, h_n_last.unsqueeze(2)).squeeze(2)\n",
    "\n",
    "        # Attention weights: (B, L)\n",
    "        alpha = F.softmax(e, dim=1) # dim=1 to go along seq_len\n",
    "\n",
    "        # Context vector: (B, H)\n",
    "        # Unsqueeze alpha to (B, 1, L) to matrixmul into encoder (B, L, H)\n",
    "        # Squeeze the expanded dimension to reach (B, H)\n",
    "        context = torch.bmm(alpha.unsqueeze(1), encoder_out).squeeze(1)\n",
    "\n",
    "        # Decoder: pass in the encoder's last hidden state (h_i)\n",
    "        # Unsqueeze context to a \"one-step\" sequence\n",
    "        context = context.unsqueeze(1)  # (B, 1, H)\n",
    "        decoder_h0 = h_n[-1].unsqueeze(0)  # (1, B, H)\n",
    "        decoder_c0 = c_n[-1].unsqueeze(0)  # (1, B, H)\n",
    "        decoder_out, _ = self.decoder(context, (decoder_h0, decoder_c0))  # (B, 1, H)\n",
    "        decoder_out = decoder_out.squeeze(1)  # (B, H)\n",
    "\n",
    "        out = self.fc(decoder_out)\n",
    "        return out.view(-1, 60, 2)"
   ]
  },
  {
   "cell_type": "markdown",
   "metadata": {},
   "source": [
    "**Multi-Agent Models**"
   ]
  },
  {
   "cell_type": "code",
   "execution_count": null,
   "metadata": {},
   "outputs": [],
   "source": [
    "# AI (Claude) assistance was used for help with finding different ways to integrate multiple agents\n",
    "\n",
    "# Multi-Agent LSTM with Agent-Level Attention\n",
    "class MultiAgentLSTMWithAttention(nn.Module):\n",
    "    def __init__(self, input_dim=6, hidden_dim=128, output_dim=60*2, dropout=0.1, max_agents=50):\n",
    "        super().__init__()\n",
    "        self.hidden_dim = hidden_dim\n",
    "        self.max_agents = max_agents\n",
    "        \n",
    "        # Encoder for each agent's trajectory\n",
    "        self.agent_encoder = nn.LSTM(input_dim, hidden_dim, batch_first=True, dropout=dropout)\n",
    "        \n",
    "        # Agent-level attention mechanism\n",
    "        self.agent_attention = nn.MultiheadAttention(hidden_dim, num_heads=8, dropout=dropout, batch_first=True)\n",
    "        \n",
    "        # Temporal LSTM decoder\n",
    "        self.decoder = nn.LSTM(hidden_dim, hidden_dim, batch_first=True, dropout=dropout)\n",
    "        \n",
    "        # Output projection\n",
    "        self.fc = nn.Sequential(\n",
    "            nn.Linear(hidden_dim, hidden_dim * 2),\n",
    "            nn.LayerNorm(hidden_dim * 2),\n",
    "            nn.LeakyReLU(),\n",
    "            nn.Dropout(dropout),\n",
    "\n",
    "            nn.Linear(hidden_dim * 2, hidden_dim),\n",
    "            nn.LayerNorm(hidden_dim),\n",
    "            nn.LeakyReLU(),\n",
    "            nn.Dropout(dropout),\n",
    "            \n",
    "            nn.Linear(hidden_dim, output_dim),\n",
    "        )\n",
    "        \n",
    "    def forward(self, x):\n",
    "        if not isinstance(x, torch.Tensor):\n",
    "            x = x.x\n",
    "            \n",
    "        # Reshape to (batch_size, num_agents, seq_len, input_dim)\n",
    "        x = x.reshape(-1, 50, 50, 6)\n",
    "        batch_size, num_agents, seq_len, input_dim = x.shape\n",
    "        \n",
    "        # Process each agent's trajectory\n",
    "        # Reshape to process all agents at once: (batch_size * num_agents, seq_len, input_dim)\n",
    "        x_flat = x.reshape(-1, seq_len, input_dim)\n",
    "        \n",
    "        # Encode each agent's trajectory\n",
    "        agent_encoded, (h_n, c_n) = self.agent_encoder(x_flat)\n",
    "        \n",
    "        # Get final hidden state for each agent: (batch_size * num_agents, hidden_dim)\n",
    "        agent_features = h_n[-1]  # Last layer's hidden state\n",
    "        \n",
    "        # Reshape back to separate agents: (batch_size, num_agents, hidden_dim)\n",
    "        agent_features = agent_features.reshape(batch_size, num_agents, self.hidden_dim)\n",
    "        \n",
    "        # Apply agent-level attention (ego agent attends to all agents)\n",
    "        ego_query = agent_features[:, 0:1, :]  # Ego agent as query\n",
    "        attended_features, attention_weights = self.agent_attention(\n",
    "            ego_query, agent_features, agent_features\n",
    "        )\n",
    "        \n",
    "        # Decode the attended features\n",
    "        context = attended_features  # (batch_size, 1, hidden_dim)\n",
    "        decoder_out, _ = self.decoder(context)\n",
    "        decoder_out = decoder_out.squeeze(1)  # (batch_size, hidden_dim)\n",
    "        \n",
    "        # Final prediction\n",
    "        out = self.fc(decoder_out)\n",
    "        return out.view(-1, 60, 2)\n",
    "\n",
    "\n",
    "# Hierarchical Multi-Agent LSTM\n",
    "class HierarchicalMultiAgentLSTM(nn.Module):\n",
    "    def __init__(self, input_dim=6, hidden_dim=128, output_dim=60*2, dropout=0.1):\n",
    "        super().__init__()\n",
    "        self.hidden_dim = hidden_dim\n",
    "        \n",
    "        # Individual agent trajectory encoder\n",
    "        self.agent_lstm = nn.LSTM(input_dim, hidden_dim//2, batch_first=True, dropout=dropout)\n",
    "        \n",
    "        # Scene-level LSTM to process all agents\n",
    "        self.scene_lstm = nn.LSTM(hidden_dim//2, hidden_dim, batch_first=True, dropout=dropout)\n",
    "        \n",
    "        # Decoder LSTM\n",
    "        self.decoder = nn.LSTM(hidden_dim, hidden_dim, batch_first=True, dropout=dropout)\n",
    "        \n",
    "        # Output layers\n",
    "        self.fc = nn.Sequential(\n",
    "            nn.Linear(hidden_dim, hidden_dim * 2),\n",
    "            nn.LayerNorm(hidden_dim * 2),\n",
    "            nn.ReLU(),\n",
    "            nn.Dropout(dropout),\n",
    "            nn.Linear(hidden_dim * 2, hidden_dim),\n",
    "            nn.LayerNorm(hidden_dim),\n",
    "            nn.ReLU(),\n",
    "            nn.Linear(hidden_dim, output_dim),\n",
    "        )\n",
    "        \n",
    "    def forward(self, x):\n",
    "        if not isinstance(x, torch.Tensor):\n",
    "            x = x.x\n",
    "            \n",
    "        # Reshape to (batch_size, num_agents, seq_len, input_dim)\n",
    "        x = x.reshape(-1, 50, 50, 6)\n",
    "        batch_size, num_agents, seq_len, input_dim = x.shape\n",
    "        \n",
    "        # Encode each agent's trajectory\n",
    "        x_flat = x.reshape(-1, seq_len, input_dim)\n",
    "        agent_encoded, (h_n, _) = self.agent_lstm(x_flat)\n",
    "        \n",
    "        # Get final hidden state for each agent\n",
    "        agent_features = h_n[-1].reshape(batch_size, num_agents, -1)\n",
    "        \n",
    "        # Process agent interactions at scene level\n",
    "        scene_encoded, (scene_h, scene_c) = self.scene_lstm(agent_features)\n",
    "        \n",
    "        # Focus on ego agent's representation after scene processing\n",
    "        ego_context = scene_encoded[:, 0:1, :]  # (batch_size, 1, hidden_dim)\n",
    "        \n",
    "        # Decode future trajectory\n",
    "        decoder_out, _ = self.decoder(ego_context, (scene_h, scene_c))\n",
    "        decoder_out = decoder_out.squeeze(1)\n",
    "        \n",
    "        out = self.fc(decoder_out)\n",
    "        return out.view(-1, 60, 2)\n",
    "\n",
    "\n",
    "# Graph-inspired Multi-Agent LSTM (using agent proximity)\n",
    "class GraphMultiAgentLSTM(nn.Module):\n",
    "    def __init__(self, input_dim=6, hidden_dim=128, output_dim=60*2, dropout=0.1):\n",
    "        super().__init__()\n",
    "        self.hidden_dim = hidden_dim\n",
    "        \n",
    "        # Agent trajectory encoders\n",
    "        self.agent_encoder = nn.LSTM(input_dim, hidden_dim, batch_first=True, dropout=dropout)\n",
    "        \n",
    "        # Graph convolution-like layer for agent interactions\n",
    "        self.agent_interaction = nn.Sequential(\n",
    "            nn.Linear(hidden_dim, hidden_dim),\n",
    "            nn.ReLU(),\n",
    "            nn.Linear(hidden_dim, hidden_dim)\n",
    "        )\n",
    "        \n",
    "        # Attention for selecting relevant agents\n",
    "        self.relevance_attention = nn.Linear(hidden_dim, 1)\n",
    "        \n",
    "        # Decoder\n",
    "        self.decoder = nn.LSTM(hidden_dim, hidden_dim, batch_first=True, dropout=dropout)\n",
    "        \n",
    "        self.fc = nn.Sequential(\n",
    "            nn.Linear(hidden_dim, hidden_dim * 2),\n",
    "            nn.LayerNorm(hidden_dim * 2),\n",
    "            nn.ReLU(),\n",
    "            nn.Dropout(dropout),\n",
    "            nn.Linear(hidden_dim * 2, output_dim),\n",
    "        )\n",
    "        \n",
    "    def forward(self, x):\n",
    "        if not isinstance(x, torch.Tensor):\n",
    "            x = x.x\n",
    "            \n",
    "        x = x.reshape(-1, 50, 50, 6)\n",
    "        batch_size, num_agents, seq_len, input_dim = x.shape\n",
    "        \n",
    "        # Encode all agents\n",
    "        x_flat = x.reshape(-1, seq_len, input_dim)\n",
    "        encoded, (h_n, c_n) = self.agent_encoder(x_flat)\n",
    "        \n",
    "        # Agent features: (batch_size, num_agents, hidden_dim)\n",
    "        agent_features = h_n[-1].reshape(batch_size, num_agents, self.hidden_dim)\n",
    "        \n",
    "        # Calculate agent relevance (simple distance-based or learned)\n",
    "        relevance_scores = self.relevance_attention(agent_features)  # (batch_size, num_agents, 1)\n",
    "        relevance_weights = F.softmax(relevance_scores.squeeze(-1), dim=1)  # (batch_size, num_agents)\n",
    "        \n",
    "        # Agent interaction processing\n",
    "        interacted_features = self.agent_interaction(agent_features)\n",
    "        \n",
    "        # Weighted combination of agent features\n",
    "        ego_context = torch.sum(interacted_features * relevance_weights.unsqueeze(-1), dim=1, keepdim=True)\n",
    "        \n",
    "        # Decode\n",
    "        decoder_out, _ = self.decoder(ego_context)\n",
    "        decoder_out = decoder_out.squeeze(1)\n",
    "        \n",
    "        out = self.fc(decoder_out)\n",
    "        return out.view(-1, 60, 2)\n",
    "\n",
    "\n",
    "# Simple Multi-Agent Concatenation LSTM\n",
    "class ConcatMultiAgentLSTM(nn.Module):\n",
    "    def __init__(self, input_dim=6, hidden_dim=128, output_dim=60*2, dropout=0.1, num_agents_to_use=10):\n",
    "        super().__init__()\n",
    "        self.num_agents_to_use = num_agents_to_use\n",
    "        \n",
    "        # Encoder for multiple agents (concatenated features)\n",
    "        self.encoder = nn.LSTM(input_dim * num_agents_to_use, hidden_dim, batch_first=True, dropout=dropout)\n",
    "        \n",
    "        # Attention mechanism\n",
    "        self.attention = nn.MultiheadAttention(hidden_dim, num_heads=4, dropout=dropout, batch_first=True)\n",
    "        \n",
    "        # Decoder\n",
    "        self.decoder = nn.LSTM(hidden_dim, hidden_dim, batch_first=True, dropout=dropout)\n",
    "        \n",
    "        self.fc = nn.Sequential(\n",
    "            nn.Linear(hidden_dim, hidden_dim * 2),\n",
    "            nn.LayerNorm(hidden_dim * 2),\n",
    "            nn.LeakyReLU(),\n",
    "            nn.Dropout(dropout),\n",
    "            nn.Linear(hidden_dim * 2, hidden_dim),\n",
    "            nn.LayerNorm(hidden_dim),\n",
    "            nn.LeakyReLU(),\n",
    "            nn.Linear(hidden_dim, output_dim),\n",
    "        )\n",
    "        \n",
    "    def forward(self, x):\n",
    "        if not isinstance(x, torch.Tensor):\n",
    "            x = x.x\n",
    "            \n",
    "        x = x.reshape(-1, 50, 50, 6)\n",
    "        \n",
    "        # Take first N agents and concatenate their features\n",
    "        x_selected = x[:, :self.num_agents_to_use, :, :]  # (batch, N_agents, seq_len, 6)\n",
    "        \n",
    "        # Concatenate agent features: (batch, seq_len, N_agents * 6)\n",
    "        x_concat = x_selected.permute(0, 2, 1, 3).reshape(x.size(0), 50, -1)\n",
    "        \n",
    "        # Encode concatenated features\n",
    "        encoded, (h_n, c_n) = self.encoder(x_concat)\n",
    "        \n",
    "        # Self-attention on encoded sequence\n",
    "        attended, _ = self.attention(encoded, encoded, encoded)\n",
    "        \n",
    "        # Use last timestep for decoding\n",
    "        context = attended[:, -1:, :]  # (batch, 1, hidden_dim)\n",
    "        \n",
    "        decoder_out, _ = self.decoder(context, (h_n, c_n))\n",
    "        decoder_out = decoder_out.squeeze(1)\n",
    "        \n",
    "        out = self.fc(decoder_out)\n",
    "        return out.view(-1, 60, 2)\n",
    "    \n",
    "# Gradual Multi-Agent Integration\n",
    "class SimpleMultiAgentLSTM(nn.Module):\n",
    "    def __init__(self, input_dim=6, hidden_dim=128, output_dim=60*2, dropout=0.1, num_agents=5):\n",
    "        super().__init__()\n",
    "        self.num_agents = num_agents\n",
    "        \n",
    "        # Single LSTM that processes multiple agents sequentially\n",
    "        self.encoder = nn.LSTM(input_dim, hidden_dim, batch_first=True, dropout=dropout)\n",
    "        \n",
    "        # Simple attention mechanism (simpler than MultiheadAttention)\n",
    "        self.attention_fc = nn.Linear(hidden_dim, 1)\n",
    "        \n",
    "        # Decoder\n",
    "        self.decoder = nn.LSTM(hidden_dim, hidden_dim, batch_first=True, dropout=dropout)\n",
    "        \n",
    "        # Output layers (same as original)\n",
    "        self.fc = nn.Sequential(\n",
    "            nn.Linear(hidden_dim, hidden_dim * 2),\n",
    "            nn.LayerNorm(hidden_dim * 2),\n",
    "            nn.LeakyReLU(),\n",
    "            nn.Linear(hidden_dim * 2, hidden_dim),\n",
    "            nn.LayerNorm(hidden_dim),\n",
    "            nn.LeakyReLU(),\n",
    "            nn.Linear(hidden_dim, hidden_dim),\n",
    "            nn.LayerNorm(hidden_dim),\n",
    "            nn.LeakyReLU(),\n",
    "            nn.Linear(hidden_dim, output_dim),\n",
    "        )\n",
    "        \n",
    "    def forward(self, x):\n",
    "        if not isinstance(x, torch.Tensor):\n",
    "            x = x.x\n",
    "            \n",
    "        x = x.reshape(-1, 50, 50, 6)\n",
    "        batch_size = x.size(0)\n",
    "        \n",
    "        # Only use first N agents (including ego at index 0)\n",
    "        x_selected = x[:, :self.num_agents, :, :]  # (batch, N_agents, seq_len, 6)\n",
    "        \n",
    "        # Process each agent and collect their final hidden states\n",
    "        agent_features = []\n",
    "        for i in range(self.num_agents):\n",
    "            agent_traj = x_selected[:, i, :, :]  # (batch, seq_len, 6)\n",
    "            _, (h_n, c_n) = self.encoder(agent_traj)\n",
    "            agent_features.append(h_n[-1])  # (batch, hidden_dim)\n",
    "        \n",
    "        # Stack agent features: (batch, num_agents, hidden_dim)\n",
    "        agent_features = torch.stack(agent_features, dim=1)\n",
    "        \n",
    "        # Simple attention weights\n",
    "        attention_scores = self.attention_fc(agent_features).squeeze(-1)  # (batch, num_agents)\n",
    "        attention_weights = F.softmax(attention_scores, dim=1)\n",
    "        \n",
    "        # Weighted combination\n",
    "        context = torch.sum(agent_features * attention_weights.unsqueeze(-1), dim=1, keepdim=True)\n",
    "        \n",
    "        # Decode\n",
    "        decoder_out, _ = self.decoder(context)\n",
    "        decoder_out = decoder_out.squeeze(1)\n",
    "        \n",
    "        out = self.fc(decoder_out)\n",
    "        return out.view(-1, 60, 2)\n",
    "\n",
    "\n",
    "# Simplest: just average multiple agents\n",
    "class AverageMultiAgentLSTM(nn.Module):\n",
    "    def __init__(self, input_dim=6, hidden_dim=128, output_dim=60*2, dropout=0.1, num_agents=3):\n",
    "        super().__init__()\n",
    "        self.num_agents = num_agents\n",
    "        \n",
    "        # Same architecture as original LSTMAttLSTM\n",
    "        self.encoder = nn.LSTM(input_dim, hidden_dim, batch_first=True, dropout=dropout)\n",
    "        self.decoder = nn.LSTM(hidden_dim, hidden_dim, batch_first=True, dropout=dropout)\n",
    "        \n",
    "        self.fc = nn.Sequential(\n",
    "            nn.Linear(hidden_dim, hidden_dim * 2),\n",
    "            nn.LayerNorm(hidden_dim * 2),\n",
    "            nn.LeakyReLU(),\n",
    "            nn.Linear(hidden_dim * 2, hidden_dim),\n",
    "            nn.LayerNorm(hidden_dim),\n",
    "            nn.LeakyReLU(),\n",
    "            nn.Linear(hidden_dim, hidden_dim),\n",
    "            nn.LayerNorm(hidden_dim),\n",
    "            nn.LeakyReLU(),\n",
    "            nn.Linear(hidden_dim, output_dim),\n",
    "        )\n",
    "        \n",
    "    def forward(self, x):\n",
    "        if not isinstance(x, torch.Tensor):\n",
    "            x = x.x\n",
    "            \n",
    "        x = x.reshape(-1, 50, 50, 6)\n",
    "        \n",
    "        # Average the trajectories of first N agents\n",
    "        x_avg = x[:, :self.num_agents, :, :].mean(dim=1)  # (batch, seq_len, 6)\n",
    "        \n",
    "        # Same logic as your original LSTMAttLSTM\n",
    "        encoder_out, (h_n, c_n) = self.encoder(x_avg)\n",
    "        h_n_last = h_n[-1]\n",
    "        \n",
    "        # Attention\n",
    "        e = torch.bmm(encoder_out, h_n_last.unsqueeze(2)).squeeze(2)\n",
    "        alpha = F.softmax(e, dim=1)\n",
    "        context = torch.bmm(alpha.unsqueeze(1), encoder_out).squeeze(1)\n",
    "        \n",
    "        # Decode\n",
    "        context = context.unsqueeze(1)\n",
    "        decoder_h0 = h_n[-1].unsqueeze(0)\n",
    "        decoder_c0 = c_n[-1].unsqueeze(0)\n",
    "        decoder_out, _ = self.decoder(context, (decoder_h0, decoder_c0))\n",
    "        decoder_out = decoder_out.squeeze(1)\n",
    "        \n",
    "        out = self.fc(decoder_out)\n",
    "        return out.view(-1, 60, 2)"
   ]
  },
  {
   "cell_type": "markdown",
   "metadata": {},
   "source": [
    "# Preparing data\n",
    "\n",
    "`TrajectoryDataset*` are taken from the milestone notebook."
   ]
  },
  {
   "cell_type": "code",
   "execution_count": 13,
   "metadata": {
    "execution": {
     "iopub.execute_input": "2025-05-24T02:07:26.197888Z",
     "iopub.status.busy": "2025-05-24T02:07:26.197308Z",
     "iopub.status.idle": "2025-05-24T02:07:26.212850Z",
     "shell.execute_reply": "2025-05-24T02:07:26.212208Z",
     "shell.execute_reply.started": "2025-05-24T02:07:26.197872Z"
    },
    "jupyter": {
     "source_hidden": true
    },
    "trusted": true
   },
   "outputs": [],
   "source": [
    "class TrajectoryDatasetTrain(Dataset):\n",
    "    def __init__(self, data, scale=10.0, augment=True):\n",
    "        \"\"\"\n",
    "        data: Shape (N, 50, 110, 6) Training data\n",
    "        scale: Scale for normalization (suggested to use 10.0 for Argoverse 2 data)\n",
    "        augment: Whether to apply data augmentation (only for training)\n",
    "        \"\"\"\n",
    "        self.data = data\n",
    "        self.scale = scale\n",
    "        self.augment = augment\n",
    "\n",
    "    def __len__(self):\n",
    "        return len(self.data)\n",
    "\n",
    "    def __getitem__(self, idx):\n",
    "        scene = self.data[idx]\n",
    "        # Getting 50 historical timestamps and 60 future timestamps\n",
    "        hist = scene[:, :50, :].copy()    # (agents=50, time_seq=50, 6)\n",
    "        future = torch.tensor(scene[0, 50:, :2].copy(), dtype=torch.float32)  # (60, 2)\n",
    "        \n",
    "        # Data augmentation(only for training)\n",
    "        if self.augment:\n",
    "            if np.random.rand() < 0.5:\n",
    "                theta = np.random.uniform(-np.pi, np.pi)\n",
    "                R = np.array([[np.cos(theta), -np.sin(theta)],\n",
    "                              [np.sin(theta),  np.cos(theta)]], dtype=np.float32)\n",
    "                # Rotate the historical trajectory and future trajectory\n",
    "                hist[..., :2] = hist[..., :2] @ R\n",
    "                hist[..., 2:4] = hist[..., 2:4] @ R\n",
    "                # future = future @ R gives DeprecationWarning: future a torch.Tensor\n",
    "                future = torch.from_numpy(np.dot(future.numpy(), R)) \n",
    "            if np.random.rand() < 0.5:\n",
    "                hist[..., 0] *= -1\n",
    "                hist[..., 2] *= -1\n",
    "                future[:, 0] *= -1\n",
    "\n",
    "        # Use the last timeframe of the historical trajectory as the origin\n",
    "        origin = hist[0, 49, :2].copy()  # (2,)\n",
    "        hist[..., :2] = hist[..., :2] - origin\n",
    "        # future = future - origin -> same DeprecationWarning\n",
    "        future = torch.from_numpy(future.numpy() - origin)\n",
    "\n",
    "        # Normalize the historical trajectory and future trajectory\n",
    "        hist[..., :4] = hist[..., :4] / self.scale\n",
    "        future = future / self.scale\n",
    "\n",
    "        data_item = Data(\n",
    "            x=torch.tensor(hist, dtype=torch.float32),\n",
    "            y=future.type(torch.float32),\n",
    "            origin=torch.tensor(origin, dtype=torch.float32).unsqueeze(0),\n",
    "            scale=torch.tensor(self.scale, dtype=torch.float32),\n",
    "        )\n",
    "\n",
    "        return data_item\n",
    "    \n",
    "\n",
    "class TrajectoryDatasetTest(Dataset):\n",
    "    def __init__(self, data, scale=10.0):\n",
    "        \"\"\"\n",
    "        data: Shape (N, 50, 110, 6) Testing data\n",
    "        scale: Scale for normalization (suggested to use 10.0 for Argoverse 2 data)\n",
    "        \"\"\"\n",
    "        self.data = data\n",
    "        self.scale = scale\n",
    "\n",
    "    def __len__(self):\n",
    "        return len(self.data)\n",
    "\n",
    "    def __getitem__(self, idx):\n",
    "        # Testing data only contains historical trajectory\n",
    "        scene = self.data[idx]  # (50, 50, 6)\n",
    "        hist = scene.copy()\n",
    "        \n",
    "        origin = hist[0, 49, :2].copy()\n",
    "        hist[..., :2] = hist[..., :2] - origin\n",
    "        hist[..., :4] = hist[..., :4] / self.scale\n",
    "\n",
    "        data_item = Data(\n",
    "            x=torch.tensor(hist, dtype=torch.float32),\n",
    "            origin=torch.tensor(origin, dtype=torch.float32).unsqueeze(0),\n",
    "            scale=torch.tensor(self.scale, dtype=torch.float32),\n",
    "        )\n",
    "        return data_item"
   ]
  },
  {
   "cell_type": "markdown",
   "metadata": {},
   "source": [
    "# Training loop\n",
    "\n",
    "Change which model is used at the `model = ...(input_features, output_features)` line.\n",
    "\n",
    "Change which optimizer is used at the `optimizer = optim...` line.\n",
    "\n",
    "Do **NOT** change the `criterion`, as MSE is stated in the Data tab of the competition."
   ]
  },
  {
   "cell_type": "code",
   "execution_count": 14,
   "metadata": {
    "execution": {
     "iopub.execute_input": "2025-05-24T02:07:26.214107Z",
     "iopub.status.busy": "2025-05-24T02:07:26.213901Z",
     "iopub.status.idle": "2025-05-24T02:07:26.231996Z",
     "shell.execute_reply": "2025-05-24T02:07:26.231249Z",
     "shell.execute_reply.started": "2025-05-24T02:07:26.214086Z"
    },
    "jupyter": {
     "source_hidden": true
    },
    "trusted": true
   },
   "outputs": [
    {
     "name": "stdout",
     "output_type": "stream",
     "text": [
      "Using Apple Silicon GPU\n"
     ]
    }
   ],
   "source": [
    "# Taken from milestone notebook\n",
    "# Set device for training speedup\n",
    "if torch.backends.mps.is_available():\n",
    "    device = torch.device('mps')\n",
    "    print(\"Using Apple Silicon GPU\")\n",
    "elif torch.cuda.is_available():\n",
    "    device = torch.device('cuda')\n",
    "    print(\"Using CUDA GPU\")\n",
    "else:\n",
    "    device = torch.device('cpu')\n",
    "    print(\"Using CPU\")"
   ]
  },
  {
   "cell_type": "code",
   "execution_count": 15,
   "metadata": {
    "execution": {
     "iopub.execute_input": "2025-05-24T02:07:26.233411Z",
     "iopub.status.busy": "2025-05-24T02:07:26.233151Z",
     "iopub.status.idle": "2025-05-24T02:07:26.247589Z",
     "shell.execute_reply": "2025-05-24T02:07:26.247003Z",
     "shell.execute_reply.started": "2025-05-24T02:07:26.233396Z"
    },
    "jupyter": {
     "source_hidden": true
    },
    "trusted": true
   },
   "outputs": [],
   "source": [
    "# Functions to save and load the model (should correspond to what was trained!)\n",
    "def save_model(model, path=\"our_model.pth\"):\n",
    "    torch.save(model.state_dict(), path)\n",
    "    print(f\"Model saved to {path}\")\n",
    "\n",
    "\n",
    "def load_model(model_instance, path=\"our_model.pth\"):\n",
    "    loaded_model = model_instance\n",
    "    loaded_model.load_state_dict(torch.load(path))\n",
    "    loaded_model.eval()\n",
    "    return loaded_model\n",
    "\n",
    "\n",
    "# Example usage:\n",
    "# save_model(trained_model)\n",
    "# model = load_model()"
   ]
  },
  {
   "cell_type": "code",
   "execution_count": 16,
   "metadata": {
    "execution": {
     "iopub.execute_input": "2025-05-24T02:07:26.248822Z",
     "iopub.status.busy": "2025-05-24T02:07:26.248167Z",
     "iopub.status.idle": "2025-05-24T02:07:26.264818Z",
     "shell.execute_reply": "2025-05-24T02:07:26.264263Z",
     "shell.execute_reply.started": "2025-05-24T02:07:26.248801Z"
    },
    "trusted": true
   },
   "outputs": [],
   "source": [
    "def get_timestamp() -> str:\n",
    "    return datetime.now().strftime(\"%Y-%m-%d_%I-%M%p\")"
   ]
  },
  {
   "cell_type": "code",
   "execution_count": 17,
   "metadata": {
    "execution": {
     "iopub.execute_input": "2025-05-24T02:07:26.266625Z",
     "iopub.status.busy": "2025-05-24T02:07:26.266124Z",
     "iopub.status.idle": "2025-05-24T02:07:26.285106Z",
     "shell.execute_reply": "2025-05-24T02:07:26.284436Z",
     "shell.execute_reply.started": "2025-05-24T02:07:26.266594Z"
    },
    "trusted": true
   },
   "outputs": [],
   "source": [
    "# Set up hyperparameters\n",
    "\n",
    "# Calculate number of input features after flattening and number of output features\n",
    "# Note: LSTM models take features in different dimensions\n",
    "input_features:int = 50 * 50 * 6   # 50 agents, 50 time steps, 6 dimensions each (15000 input features)\n",
    "output_features:int = 60 * 2       # 60 future time steps, 2 dimensions (x, y) (120 output features)\n",
    "\n",
    "# Hyperparameters\n",
    "batch_size: int = 32\n",
    "num_folds: int = 3\n",
    "early_stopping_patience: int = 30\n",
    "early_stopping_threshold: float = 1e-5\n",
    "epochs: int = 300\n",
    "starting_lr: float = 1e-2\n",
    "scale: float = 10.0\n",
    "weight_decay: float = 1e-2\n",
    "gradient_norm_clip = 2.0\n",
    "\n",
    "lstm_hidden_dim: int = 64 # 128\n",
    "\n",
    "\n",
    "SEED: int = 42\n",
    "torch.manual_seed(SEED)\n",
    "np.random.seed(SEED)"
   ]
  },
  {
   "cell_type": "code",
   "execution_count": null,
   "metadata": {
    "execution": {
     "iopub.execute_input": "2025-05-24T02:07:26.285986Z",
     "iopub.status.busy": "2025-05-24T02:07:26.285830Z",
     "iopub.status.idle": "2025-05-24T02:07:26.300200Z",
     "shell.execute_reply": "2025-05-24T02:07:26.299565Z",
     "shell.execute_reply.started": "2025-05-24T02:07:26.285974Z"
    },
    "trusted": true
   },
   "outputs": [],
   "source": [
    "# IMPORTANT! To change which model is used: comment/uncomment below\n",
    "# Easily swap models by changing what is returned (called in training and test to avoid conflicts)\n",
    "def get_model():\n",
    "    global lstm_hidden_dim, input_features, output_features\n",
    "\n",
    "    # return BasicMLP(input_features, output_features).to(device)\n",
    "    # return BaseLSTM(input_dim=6, hidden_dim=lstm_hidden_dim, output_dim=output_features).to(device)\n",
    "    # return SceneContextModel(hidden_dim=864).to(device)\n",
    "    # return LSTMWithMLP(input_dim=6, hidden_dim=lstm_hidden_dim, output_dim=output_features).to(device)\n",
    "    # return LSTMButTwo(input_dim=6, hidden_dim=lstm_hidden_dim, output_dim=output_features).to(device)\n",
    "    # return LSTMAttLSTM(input_dim=6, hidden_dim=lstm_hidden_dim, output_dim=output_features).to(device)\n",
    "\n",
    "    # return MultiAgentLSTMWithAttention(input_dim=6, hidden_dim=lstm_hidden_dim, output_dim=output_features).to(device)            # terrible - 200s\n",
    "    # return HierarchicalMultiAgentLSTM(input_dim=6, hidden_dim=lstm_hidden_dim, output_dim=output_features).to(device)             # potential\n",
    "    # return GraphMultiAgentLSTM(input_dim=6, hidden_dim=lstm_hidden_dim, output_dim=output_features).to(device)                    # potential\n",
    "    # return ConcatMultiAgentLSTM(input_dim=6, hidden_dim=lstm_hidden_dim, output_dim=output_features, num_agents_to_use=3).to(device)  # maybe\n",
    "    return SimpleMultiAgentLSTM(input_dim=6, hidden_dim=lstm_hidden_dim, output_dim=output_features, num_agents=5).to(device)       # Best so far\n",
    "    # return AverageMultiAgentLSTM(input_dim=6, hidden_dim=lstm_hidden_dim, output_dim=output_features, num_agents=2).to(device)    # terrible"
   ]
  },
  {
   "cell_type": "code",
   "execution_count": 33,
   "metadata": {
    "execution": {
     "iopub.execute_input": "2025-05-24T02:07:26.301302Z",
     "iopub.status.busy": "2025-05-24T02:07:26.301040Z",
     "iopub.status.idle": "2025-05-24T02:07:26.322510Z",
     "shell.execute_reply": "2025-05-24T02:07:26.321729Z",
     "shell.execute_reply.started": "2025-05-24T02:07:26.301287Z"
    },
    "trusted": true
   },
   "outputs": [],
   "source": [
    "def train_model(full_training_data: np.ndarray, \n",
    "                batch_size:int = 64, epochs:int = 10, num_folds:int = 5,\n",
    "                early_stopping_patience:int = 5, early_stopping_threshold:float = 1e-3):\n",
    "    global starting_lr, gamma, scale, lstm_hidden_dim, output_features, weight_decay, gradient_norm_clip\n",
    "\n",
    "    # Time series data needs to keep its data in relative order, so no shuffling can occur\n",
    "    #   like in regular KFold cross validation\n",
    "    splitter = TimeSeriesSplit(n_splits=num_folds, test_size=int(0.20 * len(full_training_data)))\n",
    "\n",
    "    # Perform cross-validation, the best model will be saved as \"best_model.pt\" to be loaded in later\n",
    "    overall_best_val_loss = float(\"inf\")\n",
    "    overall_best_seen_at = (0, 0) #(epoch, fold)\n",
    "\n",
    "    # Resources used:\n",
    "    # Project milestone notebook\n",
    "    # https://github.com/christianversloot/machine-learning-articles/blob/main/how-to-use-k-fold-cross-validation-with-pytorch.md\n",
    "    # https://www.geeksforgeeks.org/time-series-cross-validation/\n",
    "    for fold_i, (train_idx, val_idx) in enumerate(splitter.split(full_training_data)):\n",
    "        print(f\"\\nFOLD {fold_i + 1}/{num_folds} ==================================\")\n",
    "\n",
    "        # Create the model, loss criterion, and optimizer (reset per fold, to find the best model)\n",
    "        # If you change the model here, ensure its the same in the test loop!\n",
    "        # DO NOT CHANGE CRITERION\n",
    "        criterion = nn.MSELoss()\n",
    "\n",
    "        model = get_model()\n",
    "        optimizer = optim.AdamW(model.parameters(), lr=starting_lr, weight_decay=weight_decay)\n",
    "        schedulers: list[lr_scheduler.LRScheduler] =[\n",
    "            # lr_scheduler.ExponentialLR(optimizer, gamma=0.995),\n",
    "            # lr_scheduler.MultiStepLR(\n",
    "            #     optimizer,\n",
    "            #     milestones= list(range(25, epochs, 25)),\n",
    "            #     gamma=0.80,\n",
    "            # ),\n",
    "            # lr_scheduler.CosineAnnealingLR(\n",
    "            #     optimizer, \n",
    "            #     T_max= int(epochs * 0.25),\n",
    "            #     # T_0 = 50,\n",
    "            #     # T_mult = 2,\n",
    "            #     eta_min=1e-5\n",
    "            # ),\n",
    "            lr_scheduler.ReduceLROnPlateau(\n",
    "                optimizer,\n",
    "                mode=\"min\", # reduce LR when there is a plataeu of loss\n",
    "                factor=0.85,\n",
    "                patience=5,\n",
    "                min_lr=1e-5\n",
    "            )\n",
    "        ]\n",
    "\n",
    "        # Prepare data from this fold\n",
    "        train_fold: np.ndarray = full_training_data[train_idx]\n",
    "        val_fold: np.ndarray = full_training_data[val_idx]\n",
    "        collate_func = None     # Optional for DataLoader, taken from milestone notebook\n",
    "        if not isinstance(model, SceneContextModel):\n",
    "            # LSTM can handle the timeseries data directly\n",
    "            # TrajectoryDataset expects numpy arrays\n",
    "            collate_func = lambda x: Batch.from_data_list(x)\n",
    "            train_dataset = TrajectoryDatasetTrain(train_fold, scale=scale, augment=True)\n",
    "            val_dataset = TrajectoryDatasetTrain(val_fold, scale=scale, augment=False)\n",
    "        else:\n",
    "            train_x: np.ndarray = train_fold[..., :50, :]\n",
    "            train_y: np.ndarray = train_fold[:, 0, 50:, :2]\n",
    "            X_train_tensor = torch.FloatTensor(train_x).reshape((-1, input_features))\n",
    "            y_train_tensor = torch.FloatTensor(train_y).reshape((-1, output_features))\n",
    "            train_dataset = TensorDataset(X_train_tensor, y_train_tensor)\n",
    "\n",
    "            val_x: np.ndarray = val_fold[..., :50, :]\n",
    "            val_y: np.ndarray = val_fold[:, 0, 50:, :2]\n",
    "            X_val_tensor = torch.FloatTensor(val_x).reshape((-1, input_features))\n",
    "            y_val_tensor = torch.FloatTensor(val_y).reshape((-1, output_features))\n",
    "            val_dataset = TensorDataset(X_val_tensor, y_val_tensor)\n",
    "\n",
    "        train_dataloader = DataLoader(train_dataset, batch_size=batch_size, shuffle=True, collate_fn=collate_func)\n",
    "        val_dataloader = DataLoader(val_dataset, batch_size=batch_size, shuffle=False, collate_fn=collate_func)\n",
    "\n",
    "        best_val_loss: float = float(\"inf\")\n",
    "        no_improvement: int = 0\n",
    "\n",
    "        # Training and validation loops are taken from the milestone notebook,\n",
    "        #   with modifications to allow for different data loading shapes      \n",
    "        for epoch in tqdm(range(epochs), desc=\"Epoch\", unit=\"epoch\"):\n",
    "            # Training loop\n",
    "            model.train()\n",
    "            train_loss = 0\n",
    "            for batch in train_dataloader:\n",
    "                batch_x = None\n",
    "                batch_y = None\n",
    "                if isinstance(batch, tuple) or isinstance(batch, list):\n",
    "                    batch_x, batch_y = batch\n",
    "                    batch_y = batch_y.view(-1, 60, 2)\n",
    "                else: # DataBatch type\n",
    "                    batch = batch.to(device)\n",
    "                    batch_x = batch.x\n",
    "                    batch_y = batch.y.view(batch.num_graphs, 60, 2)\n",
    "\n",
    "                optimizer.zero_grad()\n",
    "                outputs = model(batch_x)\n",
    "                loss = criterion(outputs, batch_y)\n",
    "                loss.backward()\n",
    "                torch.nn.utils.clip_grad_norm_(model.parameters(), max_norm=gradient_norm_clip)\n",
    "                optimizer.step()\n",
    "                train_loss += loss.item()\n",
    "\n",
    "            # Validation loop\n",
    "            model.eval()\n",
    "            val_loss = 0\n",
    "            val_mae = 0\n",
    "            val_mse = 0\n",
    "            with torch.no_grad():\n",
    "                for batch in val_dataloader:\n",
    "                    batch_x = None\n",
    "                    batch_y = None\n",
    "                    if isinstance(batch, tuple) or isinstance(batch, list):\n",
    "                        batch_x, batch_y = batch\n",
    "                        batch_y = batch_y.view(-1, 60, 2)\n",
    "                    else: # DataBatch type\n",
    "                        batch = batch.to(device)\n",
    "                        batch_x = batch.x\n",
    "                        batch_y = batch.y.view(batch.num_graphs, 60, 2)\n",
    "\n",
    "                    pred = model(batch_x)\n",
    "                    val_loss += criterion(pred, batch_y).item()\n",
    "\n",
    "                    # show MAE and MSE with unnormalized data\n",
    "                    y = None\n",
    "                    if isinstance(batch, tuple) or isinstance(batch, list):\n",
    "                        y = batch_y.view(-1, 60, 2)\n",
    "                    else: # DataBatch type\n",
    "                        pred = pred * batch.scale.view(-1, 1, 1) + batch.origin.unsqueeze(1)\n",
    "                        y = batch_y * batch.scale.view(-1, 1, 1) + batch.origin.unsqueeze(1)\n",
    "                    val_mae += nn.L1Loss()(pred, y).item()\n",
    "                    val_mse += nn.MSELoss()(pred, y).item()\n",
    "\n",
    "            train_loss /= len(train_dataloader)\n",
    "            val_loss /= len(val_dataloader)\n",
    "            val_mae /= len(val_dataloader)\n",
    "            val_mse /= len(val_dataloader)\n",
    "\n",
    "            if (epoch + 1) % 5 == 0:\n",
    "                tqdm.write(f\"Epoch {(epoch + 1):03d} | Learning rate {optimizer.param_groups[0]['lr']:.6f} | train normalized MSE {train_loss:8.4f} | val normalized MSE {val_loss:8.4f}, | val MAE {val_mae:8.4f} | val MSE {val_mse:8.4f}\")\n",
    "\n",
    "            if val_loss < best_val_loss - early_stopping_threshold:\n",
    "                best_val_loss = val_loss\n",
    "                no_improvement = 0\n",
    "\n",
    "                # Better than the overall seen so far?\n",
    "                if best_val_loss < overall_best_val_loss:\n",
    "                    overall_best_val_loss = best_val_loss\n",
    "                    overall_best_seen_at = (epoch + 1, fold_i + 1)\n",
    "                    torch.save(model.state_dict(), \"best_model.pt\")\n",
    "            else:\n",
    "                no_improvement += 1\n",
    "                if no_improvement >= early_stopping_patience:\n",
    "                    print(f\"==== EARLY STOP at epoch {(epoch + 1):03d}\")\n",
    "                    break\n",
    "\n",
    "            for sched in schedulers:\n",
    "                if isinstance(sched, lr_scheduler.ReduceLROnPlateau):\n",
    "                    sched.step(val_loss)\n",
    "                else:\n",
    "                    sched.step()\n",
    "\n",
    "        # Clean up after the fold finishes to prevent slower folds later\n",
    "        # https://discuss.pytorch.org/t/how-to-delete-a-tensor-in-gpu-to-free-up-memory/48879\n",
    "        torch.cuda.empty_cache()\n",
    "        del train_dataloader, train_dataset, val_dataloader, val_dataset, model, optimizer, schedulers\n",
    "\n",
    "    print(f\"BEST VALIDATION LOSS (NORMALIZED MSE) SEEN: {overall_best_val_loss}, AT (epoch, fold) = {overall_best_seen_at}\")"
   ]
  },
  {
   "cell_type": "code",
   "execution_count": 34,
   "metadata": {
    "execution": {
     "iopub.execute_input": "2025-05-24T02:07:26.324414Z",
     "iopub.status.busy": "2025-05-24T02:07:26.324150Z",
     "iopub.status.idle": "2025-05-24T02:07:26.344383Z",
     "shell.execute_reply": "2025-05-24T02:07:26.343824Z",
     "shell.execute_reply.started": "2025-05-24T02:07:26.324393Z"
    },
    "jupyter": {
     "source_hidden": true
    },
    "trusted": true
   },
   "outputs": [],
   "source": [
    "# Load in the model saved during testing to use on X_test\n",
    "# Mostly taken from milestone notebook\n",
    "def predict(X_test: np.ndarray, best_model_path: str = \"best_model.pt\"):\n",
    "    global scale, batch_size, lstm_hidden_dim, output_features\n",
    "\n",
    "    # Ensure this aligns with the trained model!\n",
    "    best_model = torch.load(best_model_path)\n",
    "    model = get_model()\n",
    "    model.load_state_dict(best_model)\n",
    "    model.eval()\n",
    "\n",
    "    pred_list = []\n",
    "    with torch.no_grad():\n",
    "        if not isinstance(model, SceneContextModel): # Using DataBatch type from a DataLoader\n",
    "            collate_func = lambda x: Batch.from_data_list(x)\n",
    "            test_dataset = TrajectoryDatasetTest(X_test, scale=scale)\n",
    "            test_loader = DataLoader(test_dataset, batch_size=batch_size, shuffle=False, collate_fn=collate_func)\n",
    "\n",
    "            for batch in test_loader:\n",
    "                batch = batch.to(device)\n",
    "                pred_norm = model(batch.x)\n",
    "\n",
    "                # Reshape the prediction to (N, 60, 2)\n",
    "                pred = pred_norm * batch.scale.view(-1,1,1) + batch.origin.unsqueeze(1)\n",
    "                pred_list.append(pred.cpu().numpy())\n",
    "        else:\n",
    "            X_test_tensor = torch.FloatTensor(X_test).reshape((-1, input_features)).to(device)\n",
    "            pred = model(X_test_tensor).cpu().reshape((-1, 60, 2))\n",
    "            pred_list.append(pred.numpy())\n",
    "\n",
    "    # Reshape predictions to match submission format: (2100, 60, 2) -> (12600, 2)\n",
    "    pred_list = np.concatenate(pred_list, axis=0)  # (N,60,2)\n",
    "    pred_output = pred_list.reshape(-1, 2)  # (N*60, 2)\n",
    "    output_df = pd.DataFrame(pred_output, columns=['x', 'y'])\n",
    "    output_df.index.name = 'index'\n",
    "    return output_df"
   ]
  },
  {
   "cell_type": "code",
   "execution_count": null,
   "metadata": {
    "execution": {
     "iopub.execute_input": "2025-05-24T02:07:26.345199Z",
     "iopub.status.busy": "2025-05-24T02:07:26.344993Z",
     "iopub.status.idle": "2025-05-24T03:01:25.183003Z",
     "shell.execute_reply": "2025-05-24T03:01:25.182277Z",
     "shell.execute_reply.started": "2025-05-24T02:07:26.345175Z"
    },
    "trusted": true
   },
   "outputs": [
    {
     "name": "stdout",
     "output_type": "stream",
     "text": [
      "\n",
      "FOLD 1/3 ==================================\n"
     ]
    },
    {
     "name": "stderr",
     "output_type": "stream",
     "text": [
      "Epoch:   2%|▏         | 5/300 [00:23<22:51,  4.65s/epoch]"
     ]
    },
    {
     "name": "stdout",
     "output_type": "stream",
     "text": [
      "Epoch 005 | Learning rate 0.010000 | train normalized MSE   0.2239 | val normalized MSE   0.2493, | val MAE   2.9295 | val MSE  24.9254\n"
     ]
    },
    {
     "name": "stderr",
     "output_type": "stream",
     "text": [
      "Epoch:   3%|▎         | 10/300 [00:45<21:45,  4.50s/epoch]"
     ]
    },
    {
     "name": "stdout",
     "output_type": "stream",
     "text": [
      "Epoch 010 | Learning rate 0.010000 | train normalized MSE   0.2086 | val normalized MSE   0.2378, | val MAE   3.0749 | val MSE  23.7777\n"
     ]
    },
    {
     "name": "stderr",
     "output_type": "stream",
     "text": [
      "Epoch:   5%|▌         | 15/300 [01:08<21:19,  4.49s/epoch]"
     ]
    },
    {
     "name": "stdout",
     "output_type": "stream",
     "text": [
      "Epoch 015 | Learning rate 0.010000 | train normalized MSE   0.1818 | val normalized MSE   0.2064, | val MAE   2.6056 | val MSE  20.6378\n"
     ]
    },
    {
     "name": "stderr",
     "output_type": "stream",
     "text": [
      "Epoch:   7%|▋         | 20/300 [01:31<21:36,  4.63s/epoch]"
     ]
    },
    {
     "name": "stdout",
     "output_type": "stream",
     "text": [
      "Epoch 020 | Learning rate 0.010000 | train normalized MSE   0.1742 | val normalized MSE   0.1591, | val MAE   2.1326 | val MSE  15.9120\n"
     ]
    },
    {
     "name": "stderr",
     "output_type": "stream",
     "text": [
      "Epoch:   8%|▊         | 25/300 [01:54<20:42,  4.52s/epoch]"
     ]
    },
    {
     "name": "stdout",
     "output_type": "stream",
     "text": [
      "Epoch 025 | Learning rate 0.010000 | train normalized MSE   0.1595 | val normalized MSE   0.1841, | val MAE   2.2526 | val MSE  18.4128\n"
     ]
    },
    {
     "name": "stderr",
     "output_type": "stream",
     "text": [
      "Epoch:  10%|█         | 30/300 [02:16<20:13,  4.49s/epoch]"
     ]
    },
    {
     "name": "stdout",
     "output_type": "stream",
     "text": [
      "Epoch 030 | Learning rate 0.010000 | train normalized MSE   0.1426 | val normalized MSE   0.1430, | val MAE   1.9901 | val MSE  14.2966\n"
     ]
    },
    {
     "name": "stderr",
     "output_type": "stream",
     "text": [
      "Epoch:  12%|█▏        | 35/300 [02:39<19:57,  4.52s/epoch]"
     ]
    },
    {
     "name": "stdout",
     "output_type": "stream",
     "text": [
      "Epoch 035 | Learning rate 0.008500 | train normalized MSE   0.1344 | val normalized MSE   0.1367, | val MAE   2.0009 | val MSE  13.6736\n"
     ]
    },
    {
     "name": "stderr",
     "output_type": "stream",
     "text": [
      "Epoch:  13%|█▎        | 40/300 [03:01<19:36,  4.53s/epoch]"
     ]
    },
    {
     "name": "stdout",
     "output_type": "stream",
     "text": [
      "Epoch 040 | Learning rate 0.008500 | train normalized MSE   0.1360 | val normalized MSE   0.1343, | val MAE   2.0220 | val MSE  13.4282\n"
     ]
    },
    {
     "name": "stderr",
     "output_type": "stream",
     "text": [
      "Epoch:  15%|█▌        | 45/300 [03:24<19:08,  4.50s/epoch]"
     ]
    },
    {
     "name": "stdout",
     "output_type": "stream",
     "text": [
      "Epoch 045 | Learning rate 0.007225 | train normalized MSE   0.1246 | val normalized MSE   0.1218, | val MAE   1.9573 | val MSE  12.1777\n"
     ]
    },
    {
     "name": "stderr",
     "output_type": "stream",
     "text": [
      "Epoch:  17%|█▋        | 50/300 [03:46<18:45,  4.50s/epoch]"
     ]
    },
    {
     "name": "stdout",
     "output_type": "stream",
     "text": [
      "Epoch 050 | Learning rate 0.007225 | train normalized MSE   0.1204 | val normalized MSE   0.1226, | val MAE   2.0298 | val MSE  12.2597\n"
     ]
    },
    {
     "name": "stderr",
     "output_type": "stream",
     "text": [
      "Epoch:  18%|█▊        | 55/300 [04:08<18:13,  4.46s/epoch]"
     ]
    },
    {
     "name": "stdout",
     "output_type": "stream",
     "text": [
      "Epoch 055 | Learning rate 0.007225 | train normalized MSE   0.1193 | val normalized MSE   0.1167, | val MAE   1.8920 | val MSE  11.6665\n"
     ]
    },
    {
     "name": "stderr",
     "output_type": "stream",
     "text": [
      "Epoch:  20%|██        | 60/300 [04:31<17:59,  4.50s/epoch]"
     ]
    },
    {
     "name": "stdout",
     "output_type": "stream",
     "text": [
      "Epoch 060 | Learning rate 0.007225 | train normalized MSE   0.1191 | val normalized MSE   0.1361, | val MAE   2.1107 | val MSE  13.6060\n"
     ]
    },
    {
     "name": "stderr",
     "output_type": "stream",
     "text": [
      "Epoch:  22%|██▏       | 65/300 [04:54<17:31,  4.47s/epoch]"
     ]
    },
    {
     "name": "stdout",
     "output_type": "stream",
     "text": [
      "Epoch 065 | Learning rate 0.007225 | train normalized MSE   0.1375 | val normalized MSE   0.1561, | val MAE   2.1750 | val MSE  15.6122\n"
     ]
    },
    {
     "name": "stderr",
     "output_type": "stream",
     "text": [
      "Epoch:  23%|██▎       | 70/300 [05:16<17:24,  4.54s/epoch]"
     ]
    },
    {
     "name": "stdout",
     "output_type": "stream",
     "text": [
      "Epoch 070 | Learning rate 0.006141 | train normalized MSE   0.1034 | val normalized MSE   0.1111, | val MAE   1.8212 | val MSE  11.1124\n"
     ]
    },
    {
     "name": "stderr",
     "output_type": "stream",
     "text": [
      "Epoch:  25%|██▌       | 75/300 [05:39<16:40,  4.44s/epoch]"
     ]
    },
    {
     "name": "stdout",
     "output_type": "stream",
     "text": [
      "Epoch 075 | Learning rate 0.006141 | train normalized MSE   0.1054 | val normalized MSE   0.1083, | val MAE   1.7261 | val MSE  10.8323\n"
     ]
    },
    {
     "name": "stderr",
     "output_type": "stream",
     "text": [
      "Epoch:  27%|██▋       | 80/300 [06:01<16:16,  4.44s/epoch]"
     ]
    },
    {
     "name": "stdout",
     "output_type": "stream",
     "text": [
      "Epoch 080 | Learning rate 0.006141 | train normalized MSE   0.1036 | val normalized MSE   0.1187, | val MAE   1.8483 | val MSE  11.8710\n"
     ]
    },
    {
     "name": "stderr",
     "output_type": "stream",
     "text": [
      "Epoch:  28%|██▊       | 85/300 [06:23<15:57,  4.45s/epoch]"
     ]
    },
    {
     "name": "stdout",
     "output_type": "stream",
     "text": [
      "Epoch 085 | Learning rate 0.005220 | train normalized MSE   0.0982 | val normalized MSE   0.1193, | val MAE   1.8881 | val MSE  11.9305\n"
     ]
    },
    {
     "name": "stderr",
     "output_type": "stream",
     "text": [
      "Epoch:  30%|███       | 90/300 [06:45<15:46,  4.51s/epoch]"
     ]
    },
    {
     "name": "stdout",
     "output_type": "stream",
     "text": [
      "Epoch 090 | Learning rate 0.004437 | train normalized MSE   0.0965 | val normalized MSE   0.1023, | val MAE   1.7264 | val MSE  10.2323\n"
     ]
    },
    {
     "name": "stderr",
     "output_type": "stream",
     "text": [
      "Epoch:  32%|███▏      | 95/300 [07:08<15:31,  4.55s/epoch]"
     ]
    },
    {
     "name": "stdout",
     "output_type": "stream",
     "text": [
      "Epoch 095 | Learning rate 0.004437 | train normalized MSE   0.0922 | val normalized MSE   0.1124, | val MAE   1.8324 | val MSE  11.2358\n"
     ]
    },
    {
     "name": "stderr",
     "output_type": "stream",
     "text": [
      "Epoch:  33%|███▎      | 100/300 [07:31<15:06,  4.53s/epoch]"
     ]
    },
    {
     "name": "stdout",
     "output_type": "stream",
     "text": [
      "Epoch 100 | Learning rate 0.003771 | train normalized MSE   0.0934 | val normalized MSE   0.1012, | val MAE   1.6341 | val MSE  10.1226\n"
     ]
    },
    {
     "name": "stderr",
     "output_type": "stream",
     "text": [
      "Epoch:  35%|███▌      | 105/300 [07:54<14:46,  4.55s/epoch]"
     ]
    },
    {
     "name": "stdout",
     "output_type": "stream",
     "text": [
      "Epoch 105 | Learning rate 0.003771 | train normalized MSE   0.0937 | val normalized MSE   0.1018, | val MAE   1.6232 | val MSE  10.1801\n"
     ]
    },
    {
     "name": "stderr",
     "output_type": "stream",
     "text": [
      "Epoch:  37%|███▋      | 110/300 [08:17<14:33,  4.60s/epoch]"
     ]
    },
    {
     "name": "stdout",
     "output_type": "stream",
     "text": [
      "Epoch 110 | Learning rate 0.003206 | train normalized MSE   0.0884 | val normalized MSE   0.1028, | val MAE   1.6986 | val MSE  10.2793\n"
     ]
    },
    {
     "name": "stderr",
     "output_type": "stream",
     "text": [
      "Epoch:  38%|███▊      | 115/300 [08:39<13:58,  4.53s/epoch]"
     ]
    },
    {
     "name": "stdout",
     "output_type": "stream",
     "text": [
      "Epoch 115 | Learning rate 0.003206 | train normalized MSE   0.0896 | val normalized MSE   0.0974, | val MAE   1.5587 | val MSE   9.7388\n"
     ]
    },
    {
     "name": "stderr",
     "output_type": "stream",
     "text": [
      "Epoch:  40%|████      | 120/300 [09:02<13:44,  4.58s/epoch]"
     ]
    },
    {
     "name": "stdout",
     "output_type": "stream",
     "text": [
      "Epoch 120 | Learning rate 0.003206 | train normalized MSE   0.0887 | val normalized MSE   0.0988, | val MAE   1.6136 | val MSE   9.8759\n"
     ]
    },
    {
     "name": "stderr",
     "output_type": "stream",
     "text": [
      "Epoch:  42%|████▏     | 125/300 [09:25<13:13,  4.53s/epoch]"
     ]
    },
    {
     "name": "stdout",
     "output_type": "stream",
     "text": [
      "Epoch 125 | Learning rate 0.002725 | train normalized MSE   0.0857 | val normalized MSE   0.0966, | val MAE   1.5936 | val MSE   9.6596\n"
     ]
    },
    {
     "name": "stderr",
     "output_type": "stream",
     "text": [
      "Epoch:  43%|████▎     | 130/300 [09:47<12:50,  4.53s/epoch]"
     ]
    },
    {
     "name": "stdout",
     "output_type": "stream",
     "text": [
      "Epoch 130 | Learning rate 0.002725 | train normalized MSE   0.0832 | val normalized MSE   0.0982, | val MAE   1.5906 | val MSE   9.8236\n"
     ]
    },
    {
     "name": "stderr",
     "output_type": "stream",
     "text": [
      "Epoch:  45%|████▌     | 135/300 [10:10<12:31,  4.55s/epoch]"
     ]
    },
    {
     "name": "stdout",
     "output_type": "stream",
     "text": [
      "Epoch 135 | Learning rate 0.002316 | train normalized MSE   0.0845 | val normalized MSE   0.1021, | val MAE   1.7463 | val MSE  10.2095\n"
     ]
    },
    {
     "name": "stderr",
     "output_type": "stream",
     "text": [
      "Epoch:  47%|████▋     | 140/300 [10:33<12:10,  4.56s/epoch]"
     ]
    },
    {
     "name": "stdout",
     "output_type": "stream",
     "text": [
      "Epoch 140 | Learning rate 0.002316 | train normalized MSE   0.0813 | val normalized MSE   0.0972, | val MAE   1.5771 | val MSE   9.7208\n"
     ]
    },
    {
     "name": "stderr",
     "output_type": "stream",
     "text": [
      "Epoch:  48%|████▊     | 145/300 [10:56<11:35,  4.49s/epoch]"
     ]
    },
    {
     "name": "stdout",
     "output_type": "stream",
     "text": [
      "Epoch 145 | Learning rate 0.002316 | train normalized MSE   0.0820 | val normalized MSE   0.0982, | val MAE   1.6245 | val MSE   9.8154\n"
     ]
    },
    {
     "name": "stderr",
     "output_type": "stream",
     "text": [
      "Epoch:  50%|█████     | 150/300 [11:18<11:09,  4.46s/epoch]"
     ]
    },
    {
     "name": "stdout",
     "output_type": "stream",
     "text": [
      "Epoch 150 | Learning rate 0.002316 | train normalized MSE   0.0836 | val normalized MSE   0.0972, | val MAE   1.6479 | val MSE   9.7172\n"
     ]
    },
    {
     "name": "stderr",
     "output_type": "stream",
     "text": [
      "Epoch:  52%|█████▏    | 155/300 [11:40<10:49,  4.48s/epoch]"
     ]
    },
    {
     "name": "stdout",
     "output_type": "stream",
     "text": [
      "Epoch 155 | Learning rate 0.001969 | train normalized MSE   0.0825 | val normalized MSE   0.1017, | val MAE   1.6474 | val MSE  10.1697\n"
     ]
    },
    {
     "name": "stderr",
     "output_type": "stream",
     "text": [
      "Epoch:  53%|█████▎    | 160/300 [12:03<10:29,  4.50s/epoch]"
     ]
    },
    {
     "name": "stdout",
     "output_type": "stream",
     "text": [
      "Epoch 160 | Learning rate 0.001673 | train normalized MSE   0.0786 | val normalized MSE   0.0978, | val MAE   1.6407 | val MSE   9.7799\n"
     ]
    },
    {
     "name": "stderr",
     "output_type": "stream",
     "text": [
      "Epoch:  55%|█████▌    | 165/300 [13:20<28:10, 12.52s/epoch]"
     ]
    },
    {
     "name": "stdout",
     "output_type": "stream",
     "text": [
      "Epoch 165 | Learning rate 0.001422 | train normalized MSE   0.0756 | val normalized MSE   0.0965, | val MAE   1.6349 | val MSE   9.6516\n"
     ]
    },
    {
     "name": "stderr",
     "output_type": "stream",
     "text": [
      "Epoch:  57%|█████▋    | 170/300 [33:09<3:57:05, 109.43s/epoch] "
     ]
    },
    {
     "name": "stdout",
     "output_type": "stream",
     "text": [
      "Epoch 170 | Learning rate 0.001422 | train normalized MSE   0.0762 | val normalized MSE   0.0928, | val MAE   1.5330 | val MSE   9.2776\n"
     ]
    },
    {
     "name": "stderr",
     "output_type": "stream",
     "text": [
      "Epoch:  58%|█████▊    | 175/300 [34:54<1:28:48, 42.63s/epoch] "
     ]
    },
    {
     "name": "stdout",
     "output_type": "stream",
     "text": [
      "Epoch 175 | Learning rate 0.001209 | train normalized MSE   0.0755 | val normalized MSE   0.0925, | val MAE   1.5851 | val MSE   9.2511\n"
     ]
    },
    {
     "name": "stderr",
     "output_type": "stream",
     "text": [
      "Epoch:  60%|██████    | 180/300 [37:03<59:23, 29.69s/epoch]  "
     ]
    },
    {
     "name": "stdout",
     "output_type": "stream",
     "text": [
      "Epoch 180 | Learning rate 0.001209 | train normalized MSE   0.0746 | val normalized MSE   0.0927, | val MAE   1.5829 | val MSE   9.2725\n"
     ]
    },
    {
     "name": "stderr",
     "output_type": "stream",
     "text": [
      "Epoch:  62%|██████▏   | 185/300 [40:34<1:09:56, 36.49s/epoch]"
     ]
    },
    {
     "name": "stdout",
     "output_type": "stream",
     "text": [
      "Epoch 185 | Learning rate 0.001209 | train normalized MSE   0.0742 | val normalized MSE   0.0933, | val MAE   1.5825 | val MSE   9.3319\n"
     ]
    },
    {
     "name": "stderr",
     "output_type": "stream",
     "text": [
      "Epoch:  63%|██████▎   | 190/300 [1:24:41<9:25:41, 308.56s/epoch] "
     ]
    },
    {
     "name": "stdout",
     "output_type": "stream",
     "text": [
      "Epoch 190 | Learning rate 0.001028 | train normalized MSE   0.0726 | val normalized MSE   0.0921, | val MAE   1.5427 | val MSE   9.2059\n"
     ]
    },
    {
     "name": "stderr",
     "output_type": "stream",
     "text": [
      "Epoch:  65%|██████▌   | 195/300 [1:53:51<5:57:29, 204.28s/epoch] "
     ]
    },
    {
     "name": "stdout",
     "output_type": "stream",
     "text": [
      "Epoch 195 | Learning rate 0.000874 | train normalized MSE   0.0714 | val normalized MSE   0.0921, | val MAE   1.5528 | val MSE   9.2088\n"
     ]
    },
    {
     "name": "stderr",
     "output_type": "stream",
     "text": [
      "Epoch:  67%|██████▋   | 200/300 [2:22:21<9:31:22, 342.82s/epoch] "
     ]
    },
    {
     "name": "stdout",
     "output_type": "stream",
     "text": [
      "Epoch 200 | Learning rate 0.000743 | train normalized MSE   0.0713 | val normalized MSE   0.0938, | val MAE   1.5729 | val MSE   9.3795\n"
     ]
    },
    {
     "name": "stderr",
     "output_type": "stream",
     "text": [
      "Epoch:  68%|██████▊   | 205/300 [2:54:57<9:02:59, 342.94s/epoch] "
     ]
    },
    {
     "name": "stdout",
     "output_type": "stream",
     "text": [
      "Epoch 205 | Learning rate 0.000631 | train normalized MSE   0.0703 | val normalized MSE   0.0927, | val MAE   1.5308 | val MSE   9.2672\n"
     ]
    },
    {
     "name": "stderr",
     "output_type": "stream",
     "text": [
      "Epoch:  69%|██████▉   | 208/300 [2:57:47<1:18:38, 51.28s/epoch] "
     ]
    },
    {
     "name": "stdout",
     "output_type": "stream",
     "text": [
      "==== EARLY STOP at epoch 209\n",
      "\n",
      "FOLD 2/3 ==================================\n"
     ]
    },
    {
     "name": "stderr",
     "output_type": "stream",
     "text": [
      "\n",
      "Epoch:   2%|▏         | 5/300 [01:04<59:31, 12.11s/epoch]  "
     ]
    },
    {
     "name": "stdout",
     "output_type": "stream",
     "text": [
      "Epoch 005 | Learning rate 0.010000 | train normalized MSE   0.2230 | val normalized MSE   0.2296, | val MAE   2.8412 | val MSE  22.9553\n"
     ]
    },
    {
     "name": "stderr",
     "output_type": "stream",
     "text": [
      "Epoch:   3%|▎         | 10/300 [05:43<6:28:41, 80.42s/epoch]"
     ]
    },
    {
     "name": "stdout",
     "output_type": "stream",
     "text": [
      "Epoch 010 | Learning rate 0.010000 | train normalized MSE   0.1941 | val normalized MSE   0.2217, | val MAE   2.7921 | val MSE  22.1727\n"
     ]
    },
    {
     "name": "stderr",
     "output_type": "stream",
     "text": [
      "Epoch:   5%|▌         | 15/300 [07:46<2:11:36, 27.71s/epoch]"
     ]
    },
    {
     "name": "stdout",
     "output_type": "stream",
     "text": [
      "Epoch 015 | Learning rate 0.010000 | train normalized MSE   0.1717 | val normalized MSE   0.1584, | val MAE   2.2988 | val MSE  15.8388\n"
     ]
    },
    {
     "name": "stderr",
     "output_type": "stream",
     "text": [
      "Epoch:   7%|▋         | 20/300 [16:13<10:59:35, 141.34s/epoch]"
     ]
    },
    {
     "name": "stdout",
     "output_type": "stream",
     "text": [
      "Epoch 020 | Learning rate 0.008500 | train normalized MSE   0.1629 | val normalized MSE   0.1721, | val MAE   2.4881 | val MSE  17.2084\n"
     ]
    },
    {
     "name": "stderr",
     "output_type": "stream",
     "text": [
      "Epoch:   8%|▊         | 25/300 [23:11<8:15:39, 108.14s/epoch] "
     ]
    },
    {
     "name": "stdout",
     "output_type": "stream",
     "text": [
      "Epoch 025 | Learning rate 0.008500 | train normalized MSE   0.1599 | val normalized MSE   0.1746, | val MAE   2.5487 | val MSE  17.4635\n"
     ]
    },
    {
     "name": "stderr",
     "output_type": "stream",
     "text": [
      "Epoch:  10%|█         | 30/300 [32:57<5:06:17, 68.07s/epoch]  "
     ]
    },
    {
     "name": "stdout",
     "output_type": "stream",
     "text": [
      "Epoch 030 | Learning rate 0.008500 | train normalized MSE   0.1390 | val normalized MSE   0.1430, | val MAE   2.0562 | val MSE  14.2953\n"
     ]
    },
    {
     "name": "stderr",
     "output_type": "stream",
     "text": [
      "Epoch:  12%|█▏        | 35/300 [37:53<3:42:29, 50.38s/epoch]"
     ]
    },
    {
     "name": "stdout",
     "output_type": "stream",
     "text": [
      "Epoch 035 | Learning rate 0.007225 | train normalized MSE   0.1265 | val normalized MSE   0.1388, | val MAE   2.1119 | val MSE  13.8769\n"
     ]
    },
    {
     "name": "stderr",
     "output_type": "stream",
     "text": [
      "Epoch:  13%|█▎        | 40/300 [38:25<1:00:10, 13.89s/epoch]"
     ]
    },
    {
     "name": "stdout",
     "output_type": "stream",
     "text": [
      "Epoch 040 | Learning rate 0.007225 | train normalized MSE   0.1192 | val normalized MSE   0.1327, | val MAE   2.1627 | val MSE  13.2659\n"
     ]
    },
    {
     "name": "stderr",
     "output_type": "stream",
     "text": [
      "Epoch:  15%|█▌        | 45/300 [50:15<8:16:11, 116.75s/epoch]"
     ]
    },
    {
     "name": "stdout",
     "output_type": "stream",
     "text": [
      "Epoch 045 | Learning rate 0.007225 | train normalized MSE   0.1186 | val normalized MSE   0.1152, | val MAE   1.7533 | val MSE  11.5205\n"
     ]
    },
    {
     "name": "stderr",
     "output_type": "stream",
     "text": [
      "Epoch:  17%|█▋        | 50/300 [54:25<5:43:47, 82.51s/epoch] "
     ]
    },
    {
     "name": "stdout",
     "output_type": "stream",
     "text": [
      "Epoch 050 | Learning rate 0.007225 | train normalized MSE   0.1198 | val normalized MSE   0.1476, | val MAE   2.1709 | val MSE  14.7612\n"
     ]
    },
    {
     "name": "stderr",
     "output_type": "stream",
     "text": [
      "Epoch:  18%|█▊        | 55/300 [1:50:04<57:39:42, 847.27s/epoch]"
     ]
    },
    {
     "name": "stdout",
     "output_type": "stream",
     "text": [
      "Epoch 055 | Learning rate 0.007225 | train normalized MSE   0.1115 | val normalized MSE   0.1137, | val MAE   1.8350 | val MSE  11.3680\n"
     ]
    },
    {
     "name": "stderr",
     "output_type": "stream",
     "text": [
      "Epoch:  20%|██        | 60/300 [2:07:24<14:40:24, 220.10s/epoch]"
     ]
    },
    {
     "name": "stdout",
     "output_type": "stream",
     "text": [
      "Epoch 060 | Learning rate 0.007225 | train normalized MSE   0.1170 | val normalized MSE   0.1193, | val MAE   1.7981 | val MSE  11.9309\n"
     ]
    },
    {
     "name": "stderr",
     "output_type": "stream",
     "text": [
      "Epoch:  22%|██▏       | 65/300 [2:26:29<8:14:45, 126.32s/epoch] "
     ]
    },
    {
     "name": "stdout",
     "output_type": "stream",
     "text": [
      "Epoch 065 | Learning rate 0.006141 | train normalized MSE   0.1065 | val normalized MSE   0.1099, | val MAE   1.7217 | val MSE  10.9868\n"
     ]
    },
    {
     "name": "stderr",
     "output_type": "stream",
     "text": [
      "Epoch:  23%|██▎       | 70/300 [2:27:00<1:41:11, 26.40s/epoch] "
     ]
    },
    {
     "name": "stdout",
     "output_type": "stream",
     "text": [
      "Epoch 070 | Learning rate 0.006141 | train normalized MSE   0.1032 | val normalized MSE   0.1046, | val MAE   1.6871 | val MSE  10.4563\n"
     ]
    },
    {
     "name": "stderr",
     "output_type": "stream",
     "text": [
      "Epoch:  25%|██▌       | 75/300 [2:27:31<35:41,  9.52s/epoch]  "
     ]
    },
    {
     "name": "stdout",
     "output_type": "stream",
     "text": [
      "Epoch 075 | Learning rate 0.006141 | train normalized MSE   0.1068 | val normalized MSE   0.1201, | val MAE   1.8852 | val MSE  12.0132\n"
     ]
    },
    {
     "name": "stderr",
     "output_type": "stream",
     "text": [
      "Epoch:  27%|██▋       | 80/300 [2:28:01<24:30,  6.69s/epoch]"
     ]
    },
    {
     "name": "stdout",
     "output_type": "stream",
     "text": [
      "Epoch 080 | Learning rate 0.005220 | train normalized MSE   0.1003 | val normalized MSE   0.1081, | val MAE   1.7676 | val MSE  10.8075\n"
     ]
    },
    {
     "name": "stderr",
     "output_type": "stream",
     "text": [
      "Epoch:  28%|██▊       | 85/300 [2:28:32<22:21,  6.24s/epoch]"
     ]
    },
    {
     "name": "stdout",
     "output_type": "stream",
     "text": [
      "Epoch 085 | Learning rate 0.004437 | train normalized MSE   0.0981 | val normalized MSE   0.0995, | val MAE   1.5606 | val MSE   9.9466\n"
     ]
    },
    {
     "name": "stderr",
     "output_type": "stream",
     "text": [
      "Epoch:  30%|███       | 90/300 [2:29:03<21:51,  6.24s/epoch]"
     ]
    },
    {
     "name": "stdout",
     "output_type": "stream",
     "text": [
      "Epoch 090 | Learning rate 0.004437 | train normalized MSE   0.0988 | val normalized MSE   0.1066, | val MAE   1.7343 | val MSE  10.6607\n"
     ]
    },
    {
     "name": "stderr",
     "output_type": "stream",
     "text": [
      "Epoch:  32%|███▏      | 95/300 [2:29:35<21:13,  6.21s/epoch]"
     ]
    },
    {
     "name": "stdout",
     "output_type": "stream",
     "text": [
      "Epoch 095 | Learning rate 0.003771 | train normalized MSE   0.0945 | val normalized MSE   0.0962, | val MAE   1.6348 | val MSE   9.6181\n"
     ]
    },
    {
     "name": "stderr",
     "output_type": "stream",
     "text": [
      "Epoch:  33%|███▎      | 100/300 [2:30:05<20:31,  6.16s/epoch]"
     ]
    },
    {
     "name": "stdout",
     "output_type": "stream",
     "text": [
      "Epoch 100 | Learning rate 0.003771 | train normalized MSE   0.0946 | val normalized MSE   0.1038, | val MAE   1.7507 | val MSE  10.3835\n"
     ]
    },
    {
     "name": "stderr",
     "output_type": "stream",
     "text": [
      "Epoch:  35%|███▌      | 105/300 [2:30:36<20:04,  6.18s/epoch]"
     ]
    },
    {
     "name": "stdout",
     "output_type": "stream",
     "text": [
      "Epoch 105 | Learning rate 0.003206 | train normalized MSE   0.0926 | val normalized MSE   0.0905, | val MAE   1.4897 | val MSE   9.0514\n"
     ]
    },
    {
     "name": "stderr",
     "output_type": "stream",
     "text": [
      "Epoch:  37%|███▋      | 110/300 [2:31:13<22:33,  7.12s/epoch]"
     ]
    },
    {
     "name": "stdout",
     "output_type": "stream",
     "text": [
      "Epoch 110 | Learning rate 0.003206 | train normalized MSE   0.0917 | val normalized MSE   0.0943, | val MAE   1.5563 | val MSE   9.4284\n"
     ]
    },
    {
     "name": "stderr",
     "output_type": "stream",
     "text": [
      "Epoch:  38%|███▊      | 115/300 [2:31:51<23:25,  7.60s/epoch]"
     ]
    },
    {
     "name": "stdout",
     "output_type": "stream",
     "text": [
      "Epoch 115 | Learning rate 0.002725 | train normalized MSE   0.0884 | val normalized MSE   0.0946, | val MAE   1.5802 | val MSE   9.4630\n"
     ]
    },
    {
     "name": "stderr",
     "output_type": "stream",
     "text": [
      "Epoch:  40%|████      | 120/300 [2:32:23<19:15,  6.42s/epoch]"
     ]
    },
    {
     "name": "stdout",
     "output_type": "stream",
     "text": [
      "Epoch 120 | Learning rate 0.002725 | train normalized MSE   0.0912 | val normalized MSE   0.0960, | val MAE   1.5689 | val MSE   9.5978\n"
     ]
    },
    {
     "name": "stderr",
     "output_type": "stream",
     "text": [
      "Epoch:  42%|████▏     | 125/300 [2:32:52<17:16,  5.92s/epoch]"
     ]
    },
    {
     "name": "stdout",
     "output_type": "stream",
     "text": [
      "Epoch 125 | Learning rate 0.002316 | train normalized MSE   0.0851 | val normalized MSE   0.0969, | val MAE   1.6593 | val MSE   9.6883\n"
     ]
    },
    {
     "name": "stderr",
     "output_type": "stream",
     "text": [
      "Epoch:  43%|████▎     | 130/300 [2:33:22<16:47,  5.93s/epoch]"
     ]
    },
    {
     "name": "stdout",
     "output_type": "stream",
     "text": [
      "Epoch 130 | Learning rate 0.001969 | train normalized MSE   0.0849 | val normalized MSE   0.0890, | val MAE   1.5315 | val MSE   8.8985\n"
     ]
    },
    {
     "name": "stderr",
     "output_type": "stream",
     "text": [
      "Epoch:  45%|████▌     | 135/300 [2:33:51<16:10,  5.88s/epoch]"
     ]
    },
    {
     "name": "stdout",
     "output_type": "stream",
     "text": [
      "Epoch 135 | Learning rate 0.001969 | train normalized MSE   0.0838 | val normalized MSE   0.0919, | val MAE   1.6093 | val MSE   9.1922\n"
     ]
    },
    {
     "name": "stderr",
     "output_type": "stream",
     "text": [
      "Epoch:  47%|████▋     | 140/300 [3:25:42<33:10:35, 746.47s/epoch]"
     ]
    },
    {
     "name": "stdout",
     "output_type": "stream",
     "text": [
      "Epoch 140 | Learning rate 0.001673 | train normalized MSE   0.0824 | val normalized MSE   0.0919, | val MAE   1.5456 | val MSE   9.1929\n"
     ]
    },
    {
     "name": "stderr",
     "output_type": "stream",
     "text": [
      "Epoch:  48%|████▊     | 145/300 [4:48:24<40:32:37, 941.66s/epoch]"
     ]
    },
    {
     "name": "stdout",
     "output_type": "stream",
     "text": [
      "Epoch 145 | Learning rate 0.001422 | train normalized MSE   0.0812 | val normalized MSE   0.0876, | val MAE   1.5161 | val MSE   8.7557\n"
     ]
    },
    {
     "name": "stderr",
     "output_type": "stream",
     "text": [
      "Epoch:  50%|█████     | 150/300 [4:56:39<9:18:07, 223.25s/epoch] "
     ]
    },
    {
     "name": "stdout",
     "output_type": "stream",
     "text": [
      "Epoch 150 | Learning rate 0.001422 | train normalized MSE   0.0800 | val normalized MSE   0.0876, | val MAE   1.5130 | val MSE   8.7613\n"
     ]
    },
    {
     "name": "stderr",
     "output_type": "stream",
     "text": [
      "Epoch:  52%|█████▏    | 155/300 [4:59:41<2:29:03, 61.68s/epoch] "
     ]
    },
    {
     "name": "stdout",
     "output_type": "stream",
     "text": [
      "Epoch 155 | Learning rate 0.001209 | train normalized MSE   0.0812 | val normalized MSE   0.0877, | val MAE   1.4916 | val MSE   8.7712\n"
     ]
    },
    {
     "name": "stderr",
     "output_type": "stream",
     "text": [
      "Epoch:  53%|█████▎    | 160/300 [5:00:14<36:45, 15.76s/epoch]  "
     ]
    },
    {
     "name": "stdout",
     "output_type": "stream",
     "text": [
      "Epoch 160 | Learning rate 0.001209 | train normalized MSE   0.0780 | val normalized MSE   0.0909, | val MAE   1.5182 | val MSE   9.0935\n"
     ]
    },
    {
     "name": "stderr",
     "output_type": "stream",
     "text": [
      "Epoch:  55%|█████▌    | 165/300 [5:00:45<17:25,  7.75s/epoch]"
     ]
    },
    {
     "name": "stdout",
     "output_type": "stream",
     "text": [
      "Epoch 165 | Learning rate 0.001028 | train normalized MSE   0.0782 | val normalized MSE   0.0884, | val MAE   1.5473 | val MSE   8.8364\n"
     ]
    },
    {
     "name": "stderr",
     "output_type": "stream",
     "text": [
      "Epoch:  57%|█████▋    | 170/300 [5:01:15<13:42,  6.33s/epoch]"
     ]
    },
    {
     "name": "stdout",
     "output_type": "stream",
     "text": [
      "Epoch 170 | Learning rate 0.000874 | train normalized MSE   0.0778 | val normalized MSE   0.0886, | val MAE   1.5297 | val MSE   8.8564\n"
     ]
    },
    {
     "name": "stderr",
     "output_type": "stream",
     "text": [
      "Epoch:  58%|█████▊    | 175/300 [5:01:45<12:42,  6.10s/epoch]"
     ]
    },
    {
     "name": "stdout",
     "output_type": "stream",
     "text": [
      "Epoch 175 | Learning rate 0.000874 | train normalized MSE   0.0754 | val normalized MSE   0.0860, | val MAE   1.4520 | val MSE   8.6047\n"
     ]
    },
    {
     "name": "stderr",
     "output_type": "stream",
     "text": [
      "Epoch:  60%|██████    | 180/300 [5:02:15<12:11,  6.10s/epoch]"
     ]
    },
    {
     "name": "stdout",
     "output_type": "stream",
     "text": [
      "Epoch 180 | Learning rate 0.000743 | train normalized MSE   0.0740 | val normalized MSE   0.0862, | val MAE   1.4890 | val MSE   8.6177\n"
     ]
    },
    {
     "name": "stderr",
     "output_type": "stream",
     "text": [
      "Epoch:  62%|██████▏   | 185/300 [5:02:46<11:40,  6.09s/epoch]"
     ]
    },
    {
     "name": "stdout",
     "output_type": "stream",
     "text": [
      "Epoch 185 | Learning rate 0.000743 | train normalized MSE   0.0758 | val normalized MSE   0.0851, | val MAE   1.4633 | val MSE   8.5150\n"
     ]
    },
    {
     "name": "stderr",
     "output_type": "stream",
     "text": [
      "Epoch:  63%|██████▎   | 190/300 [5:03:17<11:18,  6.17s/epoch]"
     ]
    },
    {
     "name": "stdout",
     "output_type": "stream",
     "text": [
      "Epoch 190 | Learning rate 0.000631 | train normalized MSE   0.0740 | val normalized MSE   0.0840, | val MAE   1.4532 | val MSE   8.3969\n"
     ]
    },
    {
     "name": "stderr",
     "output_type": "stream",
     "text": [
      "Epoch:  65%|██████▌   | 195/300 [5:03:48<10:48,  6.18s/epoch]"
     ]
    },
    {
     "name": "stdout",
     "output_type": "stream",
     "text": [
      "Epoch 195 | Learning rate 0.000631 | train normalized MSE   0.0746 | val normalized MSE   0.0836, | val MAE   1.4810 | val MSE   8.3626\n"
     ]
    },
    {
     "name": "stderr",
     "output_type": "stream",
     "text": [
      "Epoch:  67%|██████▋   | 200/300 [5:04:18<10:13,  6.13s/epoch]"
     ]
    },
    {
     "name": "stdout",
     "output_type": "stream",
     "text": [
      "Epoch 200 | Learning rate 0.000631 | train normalized MSE   0.0744 | val normalized MSE   0.0843, | val MAE   1.4809 | val MSE   8.4288\n"
     ]
    },
    {
     "name": "stderr",
     "output_type": "stream",
     "text": [
      "Epoch:  68%|██████▊   | 205/300 [5:04:49<09:45,  6.16s/epoch]"
     ]
    },
    {
     "name": "stdout",
     "output_type": "stream",
     "text": [
      "Epoch 205 | Learning rate 0.000536 | train normalized MSE   0.0714 | val normalized MSE   0.0864, | val MAE   1.4916 | val MSE   8.6385\n"
     ]
    },
    {
     "name": "stderr",
     "output_type": "stream",
     "text": [
      "Epoch:  70%|███████   | 210/300 [5:05:20<09:15,  6.17s/epoch]"
     ]
    },
    {
     "name": "stdout",
     "output_type": "stream",
     "text": [
      "Epoch 210 | Learning rate 0.000536 | train normalized MSE   0.0726 | val normalized MSE   0.0842, | val MAE   1.4738 | val MSE   8.4228\n"
     ]
    },
    {
     "name": "stderr",
     "output_type": "stream",
     "text": [
      "Epoch:  72%|███████▏  | 215/300 [5:05:52<08:56,  6.31s/epoch]"
     ]
    },
    {
     "name": "stdout",
     "output_type": "stream",
     "text": [
      "Epoch 215 | Learning rate 0.000456 | train normalized MSE   0.0717 | val normalized MSE   0.0851, | val MAE   1.4437 | val MSE   8.5146\n"
     ]
    },
    {
     "name": "stderr",
     "output_type": "stream",
     "text": [
      "Epoch:  73%|███████▎  | 220/300 [5:06:23<08:17,  6.22s/epoch]"
     ]
    },
    {
     "name": "stdout",
     "output_type": "stream",
     "text": [
      "Epoch 220 | Learning rate 0.000456 | train normalized MSE   0.0715 | val normalized MSE   0.0836, | val MAE   1.4569 | val MSE   8.3558\n"
     ]
    },
    {
     "name": "stderr",
     "output_type": "stream",
     "text": [
      "Epoch:  75%|███████▌  | 225/300 [5:06:54<07:44,  6.19s/epoch]"
     ]
    },
    {
     "name": "stdout",
     "output_type": "stream",
     "text": [
      "Epoch 225 | Learning rate 0.000388 | train normalized MSE   0.0716 | val normalized MSE   0.0838, | val MAE   1.4391 | val MSE   8.3786\n"
     ]
    },
    {
     "name": "stderr",
     "output_type": "stream",
     "text": [
      "Epoch:  77%|███████▋  | 230/300 [5:07:25<07:11,  6.16s/epoch]"
     ]
    },
    {
     "name": "stdout",
     "output_type": "stream",
     "text": [
      "Epoch 230 | Learning rate 0.000388 | train normalized MSE   0.0714 | val normalized MSE   0.0827, | val MAE   1.4309 | val MSE   8.2709\n"
     ]
    },
    {
     "name": "stderr",
     "output_type": "stream",
     "text": [
      "Epoch:  78%|███████▊  | 235/300 [5:07:56<06:40,  6.17s/epoch]"
     ]
    },
    {
     "name": "stdout",
     "output_type": "stream",
     "text": [
      "Epoch 235 | Learning rate 0.000329 | train normalized MSE   0.0716 | val normalized MSE   0.0849, | val MAE   1.4593 | val MSE   8.4946\n"
     ]
    },
    {
     "name": "stderr",
     "output_type": "stream",
     "text": [
      "Epoch:  80%|████████  | 240/300 [5:08:26<06:09,  6.16s/epoch]"
     ]
    },
    {
     "name": "stdout",
     "output_type": "stream",
     "text": [
      "Epoch 240 | Learning rate 0.000280 | train normalized MSE   0.0699 | val normalized MSE   0.0834, | val MAE   1.4257 | val MSE   8.3427\n"
     ]
    },
    {
     "name": "stderr",
     "output_type": "stream",
     "text": [
      "Epoch:  82%|████████▏ | 245/300 [5:08:57<05:40,  6.19s/epoch]"
     ]
    },
    {
     "name": "stdout",
     "output_type": "stream",
     "text": [
      "Epoch 245 | Learning rate 0.000238 | train normalized MSE   0.0697 | val normalized MSE   0.0843, | val MAE   1.4385 | val MSE   8.4313\n"
     ]
    },
    {
     "name": "stderr",
     "output_type": "stream",
     "text": [
      "Epoch:  83%|████████▎ | 250/300 [5:09:28<05:08,  6.17s/epoch]"
     ]
    },
    {
     "name": "stdout",
     "output_type": "stream",
     "text": [
      "Epoch 250 | Learning rate 0.000238 | train normalized MSE   0.0700 | val normalized MSE   0.0843, | val MAE   1.4412 | val MSE   8.4342\n"
     ]
    },
    {
     "name": "stderr",
     "output_type": "stream",
     "text": [
      "Epoch:  85%|████████▌ | 255/300 [5:09:59<04:37,  6.17s/epoch]"
     ]
    },
    {
     "name": "stdout",
     "output_type": "stream",
     "text": [
      "Epoch 255 | Learning rate 0.000202 | train normalized MSE   0.0697 | val normalized MSE   0.0832, | val MAE   1.4207 | val MSE   8.3201\n"
     ]
    },
    {
     "name": "stderr",
     "output_type": "stream",
     "text": [
      "Epoch:  85%|████████▌ | 255/300 [5:10:05<54:43, 72.96s/epoch]"
     ]
    },
    {
     "name": "stdout",
     "output_type": "stream",
     "text": [
      "==== EARLY STOP at epoch 256\n",
      "\n",
      "FOLD 3/3 ==================================\n"
     ]
    },
    {
     "name": "stderr",
     "output_type": "stream",
     "text": [
      "\n",
      "Epoch:   2%|▏         | 5/300 [00:40<39:10,  7.97s/epoch]"
     ]
    },
    {
     "name": "stdout",
     "output_type": "stream",
     "text": [
      "Epoch 005 | Learning rate 0.010000 | train normalized MSE   0.2165 | val normalized MSE   0.1956, | val MAE   2.6078 | val MSE  19.5560\n"
     ]
    },
    {
     "name": "stderr",
     "output_type": "stream",
     "text": [
      "Epoch:   3%|▎         | 10/300 [01:19<38:06,  7.88s/epoch]"
     ]
    },
    {
     "name": "stdout",
     "output_type": "stream",
     "text": [
      "Epoch 010 | Learning rate 0.010000 | train normalized MSE   0.1730 | val normalized MSE   0.1771, | val MAE   2.3200 | val MSE  17.7055\n"
     ]
    },
    {
     "name": "stderr",
     "output_type": "stream",
     "text": [
      "Epoch:   5%|▌         | 15/300 [01:59<37:35,  7.91s/epoch]"
     ]
    },
    {
     "name": "stdout",
     "output_type": "stream",
     "text": [
      "Epoch 015 | Learning rate 0.010000 | train normalized MSE   0.1599 | val normalized MSE   0.1561, | val MAE   2.2979 | val MSE  15.6117\n"
     ]
    },
    {
     "name": "stderr",
     "output_type": "stream",
     "text": [
      "Epoch:   7%|▋         | 20/300 [02:38<36:54,  7.91s/epoch]"
     ]
    },
    {
     "name": "stdout",
     "output_type": "stream",
     "text": [
      "Epoch 020 | Learning rate 0.010000 | train normalized MSE   0.1504 | val normalized MSE   0.1649, | val MAE   2.3111 | val MSE  16.4879\n"
     ]
    },
    {
     "name": "stderr",
     "output_type": "stream",
     "text": [
      "Epoch:   8%|▊         | 25/300 [03:18<36:03,  7.87s/epoch]"
     ]
    },
    {
     "name": "stdout",
     "output_type": "stream",
     "text": [
      "Epoch 025 | Learning rate 0.010000 | train normalized MSE   0.1855 | val normalized MSE   0.1807, | val MAE   2.4210 | val MSE  18.0739\n"
     ]
    },
    {
     "name": "stderr",
     "output_type": "stream",
     "text": [
      "Epoch:  10%|█         | 30/300 [03:57<35:18,  7.85s/epoch]"
     ]
    },
    {
     "name": "stdout",
     "output_type": "stream",
     "text": [
      "Epoch 030 | Learning rate 0.010000 | train normalized MSE   0.1362 | val normalized MSE   0.1333, | val MAE   2.0402 | val MSE  13.3310\n"
     ]
    },
    {
     "name": "stderr",
     "output_type": "stream",
     "text": [
      "Epoch:  12%|█▏        | 35/300 [04:37<34:50,  7.89s/epoch]"
     ]
    },
    {
     "name": "stdout",
     "output_type": "stream",
     "text": [
      "Epoch 035 | Learning rate 0.010000 | train normalized MSE   0.1373 | val normalized MSE   0.1567, | val MAE   2.4062 | val MSE  15.6688\n"
     ]
    },
    {
     "name": "stderr",
     "output_type": "stream",
     "text": [
      "Epoch:  13%|█▎        | 40/300 [05:16<34:12,  7.90s/epoch]"
     ]
    },
    {
     "name": "stdout",
     "output_type": "stream",
     "text": [
      "Epoch 040 | Learning rate 0.008500 | train normalized MSE   0.1231 | val normalized MSE   0.1317, | val MAE   2.0952 | val MSE  13.1735\n"
     ]
    },
    {
     "name": "stderr",
     "output_type": "stream",
     "text": [
      "Epoch:  15%|█▌        | 45/300 [05:56<33:38,  7.91s/epoch]"
     ]
    },
    {
     "name": "stdout",
     "output_type": "stream",
     "text": [
      "Epoch 045 | Learning rate 0.007225 | train normalized MSE   0.1123 | val normalized MSE   0.1053, | val MAE   1.6957 | val MSE  10.5253\n"
     ]
    },
    {
     "name": "stderr",
     "output_type": "stream",
     "text": [
      "Epoch:  17%|█▋        | 50/300 [06:36<33:52,  8.13s/epoch]"
     ]
    },
    {
     "name": "stdout",
     "output_type": "stream",
     "text": [
      "Epoch 050 | Learning rate 0.007225 | train normalized MSE   0.1111 | val normalized MSE   0.1093, | val MAE   1.7172 | val MSE  10.9317\n"
     ]
    },
    {
     "name": "stderr",
     "output_type": "stream",
     "text": [
      "Epoch:  18%|█▊        | 55/300 [07:18<33:51,  8.29s/epoch]"
     ]
    },
    {
     "name": "stdout",
     "output_type": "stream",
     "text": [
      "Epoch 055 | Learning rate 0.006141 | train normalized MSE   0.1067 | val normalized MSE   0.1339, | val MAE   1.8178 | val MSE  13.3871\n"
     ]
    },
    {
     "name": "stderr",
     "output_type": "stream",
     "text": [
      "Epoch:  20%|██        | 60/300 [07:59<32:46,  8.19s/epoch]"
     ]
    },
    {
     "name": "stdout",
     "output_type": "stream",
     "text": [
      "Epoch 060 | Learning rate 0.005220 | train normalized MSE   0.1026 | val normalized MSE   0.0991, | val MAE   1.6643 | val MSE   9.9082\n"
     ]
    },
    {
     "name": "stderr",
     "output_type": "stream",
     "text": [
      "Epoch:  22%|██▏       | 65/300 [08:40<32:03,  8.19s/epoch]"
     ]
    },
    {
     "name": "stdout",
     "output_type": "stream",
     "text": [
      "Epoch 065 | Learning rate 0.004437 | train normalized MSE   0.0998 | val normalized MSE   0.0997, | val MAE   1.6912 | val MSE   9.9737\n"
     ]
    },
    {
     "name": "stderr",
     "output_type": "stream",
     "text": [
      "Epoch:  23%|██▎       | 70/300 [09:21<31:58,  8.34s/epoch]"
     ]
    },
    {
     "name": "stdout",
     "output_type": "stream",
     "text": [
      "Epoch 070 | Learning rate 0.004437 | train normalized MSE   0.0950 | val normalized MSE   0.0967, | val MAE   1.6592 | val MSE   9.6707\n"
     ]
    },
    {
     "name": "stderr",
     "output_type": "stream",
     "text": [
      "Epoch:  25%|██▌       | 75/300 [10:05<31:51,  8.50s/epoch]"
     ]
    },
    {
     "name": "stdout",
     "output_type": "stream",
     "text": [
      "Epoch 075 | Learning rate 0.003771 | train normalized MSE   0.0929 | val normalized MSE   0.0933, | val MAE   1.5609 | val MSE   9.3335\n"
     ]
    },
    {
     "name": "stderr",
     "output_type": "stream",
     "text": [
      "Epoch:  27%|██▋       | 80/300 [10:46<30:25,  8.30s/epoch]"
     ]
    },
    {
     "name": "stdout",
     "output_type": "stream",
     "text": [
      "Epoch 080 | Learning rate 0.003771 | train normalized MSE   0.0954 | val normalized MSE   0.1002, | val MAE   1.7119 | val MSE  10.0184\n"
     ]
    },
    {
     "name": "stderr",
     "output_type": "stream",
     "text": [
      "Epoch:  28%|██▊       | 85/300 [11:27<29:31,  8.24s/epoch]"
     ]
    },
    {
     "name": "stdout",
     "output_type": "stream",
     "text": [
      "Epoch 085 | Learning rate 0.003206 | train normalized MSE   0.0906 | val normalized MSE   0.0936, | val MAE   1.6825 | val MSE   9.3568\n"
     ]
    },
    {
     "name": "stderr",
     "output_type": "stream",
     "text": [
      "Epoch:  30%|███       | 90/300 [12:08<28:34,  8.17s/epoch]"
     ]
    },
    {
     "name": "stdout",
     "output_type": "stream",
     "text": [
      "Epoch 090 | Learning rate 0.003206 | train normalized MSE   0.0908 | val normalized MSE   0.0973, | val MAE   1.6338 | val MSE   9.7326\n"
     ]
    },
    {
     "name": "stderr",
     "output_type": "stream",
     "text": [
      "Epoch:  32%|███▏      | 95/300 [12:50<28:11,  8.25s/epoch]"
     ]
    },
    {
     "name": "stdout",
     "output_type": "stream",
     "text": [
      "Epoch 095 | Learning rate 0.003206 | train normalized MSE   0.0890 | val normalized MSE   0.0963, | val MAE   1.6997 | val MSE   9.6254\n"
     ]
    },
    {
     "name": "stderr",
     "output_type": "stream",
     "text": [
      "Epoch:  33%|███▎      | 100/300 [13:30<26:56,  8.08s/epoch]"
     ]
    },
    {
     "name": "stdout",
     "output_type": "stream",
     "text": [
      "Epoch 100 | Learning rate 0.002725 | train normalized MSE   0.0874 | val normalized MSE   0.0895, | val MAE   1.5920 | val MSE   8.9473\n"
     ]
    },
    {
     "name": "stderr",
     "output_type": "stream",
     "text": [
      "Epoch:  35%|███▌      | 105/300 [14:10<26:07,  8.04s/epoch]"
     ]
    },
    {
     "name": "stdout",
     "output_type": "stream",
     "text": [
      "Epoch 105 | Learning rate 0.002725 | train normalized MSE   0.0879 | val normalized MSE   0.0937, | val MAE   1.5774 | val MSE   9.3736\n"
     ]
    },
    {
     "name": "stderr",
     "output_type": "stream",
     "text": [
      "Epoch:  37%|███▋      | 110/300 [14:50<25:04,  7.92s/epoch]"
     ]
    },
    {
     "name": "stdout",
     "output_type": "stream",
     "text": [
      "Epoch 110 | Learning rate 0.002316 | train normalized MSE   0.0846 | val normalized MSE   0.0878, | val MAE   1.5140 | val MSE   8.7810\n"
     ]
    },
    {
     "name": "stderr",
     "output_type": "stream",
     "text": [
      "Epoch:  38%|███▊      | 115/300 [15:30<24:44,  8.03s/epoch]"
     ]
    },
    {
     "name": "stdout",
     "output_type": "stream",
     "text": [
      "Epoch 115 | Learning rate 0.002316 | train normalized MSE   0.0830 | val normalized MSE   0.0930, | val MAE   1.5907 | val MSE   9.3024\n"
     ]
    },
    {
     "name": "stderr",
     "output_type": "stream",
     "text": [
      "Epoch:  40%|████      | 120/300 [16:10<24:02,  8.01s/epoch]"
     ]
    },
    {
     "name": "stdout",
     "output_type": "stream",
     "text": [
      "Epoch 120 | Learning rate 0.001969 | train normalized MSE   0.0827 | val normalized MSE   0.0899, | val MAE   1.5415 | val MSE   8.9917\n"
     ]
    },
    {
     "name": "stderr",
     "output_type": "stream",
     "text": [
      "Epoch:  42%|████▏     | 125/300 [16:50<23:26,  8.04s/epoch]"
     ]
    },
    {
     "name": "stdout",
     "output_type": "stream",
     "text": [
      "Epoch 125 | Learning rate 0.001969 | train normalized MSE   0.0807 | val normalized MSE   0.0882, | val MAE   1.5692 | val MSE   8.8223\n"
     ]
    },
    {
     "name": "stderr",
     "output_type": "stream",
     "text": [
      "Epoch:  43%|████▎     | 130/300 [17:31<22:51,  8.07s/epoch]"
     ]
    },
    {
     "name": "stdout",
     "output_type": "stream",
     "text": [
      "Epoch 130 | Learning rate 0.001673 | train normalized MSE   0.0794 | val normalized MSE   0.0854, | val MAE   1.4881 | val MSE   8.5367\n"
     ]
    },
    {
     "name": "stderr",
     "output_type": "stream",
     "text": [
      "Epoch:  45%|████▌     | 135/300 [18:11<22:11,  8.07s/epoch]"
     ]
    },
    {
     "name": "stdout",
     "output_type": "stream",
     "text": [
      "Epoch 135 | Learning rate 0.001673 | train normalized MSE   0.0803 | val normalized MSE   0.0889, | val MAE   1.5471 | val MSE   8.8896\n"
     ]
    },
    {
     "name": "stderr",
     "output_type": "stream",
     "text": [
      "Epoch:  47%|████▋     | 140/300 [18:51<21:23,  8.02s/epoch]"
     ]
    },
    {
     "name": "stdout",
     "output_type": "stream",
     "text": [
      "Epoch 140 | Learning rate 0.001422 | train normalized MSE   0.0790 | val normalized MSE   0.0875, | val MAE   1.5442 | val MSE   8.7450\n"
     ]
    },
    {
     "name": "stderr",
     "output_type": "stream",
     "text": [
      "Epoch:  48%|████▊     | 145/300 [19:31<20:33,  7.96s/epoch]"
     ]
    },
    {
     "name": "stdout",
     "output_type": "stream",
     "text": [
      "Epoch 145 | Learning rate 0.001209 | train normalized MSE   0.0777 | val normalized MSE   0.0851, | val MAE   1.4972 | val MSE   8.5051\n"
     ]
    },
    {
     "name": "stderr",
     "output_type": "stream",
     "text": [
      "Epoch:  50%|█████     | 150/300 [20:11<19:54,  7.96s/epoch]"
     ]
    },
    {
     "name": "stdout",
     "output_type": "stream",
     "text": [
      "Epoch 150 | Learning rate 0.001209 | train normalized MSE   0.0765 | val normalized MSE   0.0884, | val MAE   1.5704 | val MSE   8.8394\n"
     ]
    },
    {
     "name": "stderr",
     "output_type": "stream",
     "text": [
      "Epoch:  52%|█████▏    | 155/300 [20:51<19:22,  8.02s/epoch]"
     ]
    },
    {
     "name": "stdout",
     "output_type": "stream",
     "text": [
      "Epoch 155 | Learning rate 0.001209 | train normalized MSE   0.0762 | val normalized MSE   0.0869, | val MAE   1.4952 | val MSE   8.6948\n"
     ]
    },
    {
     "name": "stderr",
     "output_type": "stream",
     "text": [
      "Epoch:  53%|█████▎    | 160/300 [21:31<18:42,  8.02s/epoch]"
     ]
    },
    {
     "name": "stdout",
     "output_type": "stream",
     "text": [
      "Epoch 160 | Learning rate 0.001028 | train normalized MSE   0.0756 | val normalized MSE   0.0859, | val MAE   1.5078 | val MSE   8.5938\n"
     ]
    },
    {
     "name": "stderr",
     "output_type": "stream",
     "text": [
      "Epoch:  55%|█████▌    | 165/300 [22:11<17:59,  7.99s/epoch]"
     ]
    },
    {
     "name": "stdout",
     "output_type": "stream",
     "text": [
      "Epoch 165 | Learning rate 0.000874 | train normalized MSE   0.0733 | val normalized MSE   0.0863, | val MAE   1.4984 | val MSE   8.6324\n"
     ]
    },
    {
     "name": "stderr",
     "output_type": "stream",
     "text": [
      "Epoch:  57%|█████▋    | 170/300 [22:51<17:19,  8.00s/epoch]"
     ]
    },
    {
     "name": "stdout",
     "output_type": "stream",
     "text": [
      "Epoch 170 | Learning rate 0.000874 | train normalized MSE   0.0742 | val normalized MSE   0.0840, | val MAE   1.4819 | val MSE   8.3985\n"
     ]
    },
    {
     "name": "stderr",
     "output_type": "stream",
     "text": [
      "Epoch:  58%|█████▊    | 175/300 [23:31<16:41,  8.02s/epoch]"
     ]
    },
    {
     "name": "stdout",
     "output_type": "stream",
     "text": [
      "Epoch 175 | Learning rate 0.000874 | train normalized MSE   0.0739 | val normalized MSE   0.0839, | val MAE   1.4852 | val MSE   8.3920\n"
     ]
    },
    {
     "name": "stderr",
     "output_type": "stream",
     "text": [
      "Epoch:  60%|██████    | 180/300 [24:11<15:57,  7.98s/epoch]"
     ]
    },
    {
     "name": "stdout",
     "output_type": "stream",
     "text": [
      "Epoch 180 | Learning rate 0.000874 | train normalized MSE   0.0735 | val normalized MSE   0.0866, | val MAE   1.5332 | val MSE   8.6642\n"
     ]
    },
    {
     "name": "stderr",
     "output_type": "stream",
     "text": [
      "Epoch:  62%|██████▏   | 185/300 [24:51<15:15,  7.96s/epoch]"
     ]
    },
    {
     "name": "stdout",
     "output_type": "stream",
     "text": [
      "Epoch 185 | Learning rate 0.000743 | train normalized MSE   0.0720 | val normalized MSE   0.0839, | val MAE   1.4734 | val MSE   8.3899\n"
     ]
    },
    {
     "name": "stderr",
     "output_type": "stream",
     "text": [
      "Epoch:  63%|██████▎   | 190/300 [25:31<14:30,  7.91s/epoch]"
     ]
    },
    {
     "name": "stdout",
     "output_type": "stream",
     "text": [
      "Epoch 190 | Learning rate 0.000743 | train normalized MSE   0.0723 | val normalized MSE   0.0839, | val MAE   1.4958 | val MSE   8.3879\n"
     ]
    },
    {
     "name": "stderr",
     "output_type": "stream",
     "text": [
      "Epoch:  65%|██████▌   | 195/300 [26:10<13:58,  7.98s/epoch]"
     ]
    },
    {
     "name": "stdout",
     "output_type": "stream",
     "text": [
      "Epoch 195 | Learning rate 0.000631 | train normalized MSE   0.0711 | val normalized MSE   0.0849, | val MAE   1.4878 | val MSE   8.4893\n"
     ]
    },
    {
     "name": "stderr",
     "output_type": "stream",
     "text": [
      "Epoch:  67%|██████▋   | 200/300 [26:50<13:17,  7.97s/epoch]"
     ]
    },
    {
     "name": "stdout",
     "output_type": "stream",
     "text": [
      "Epoch 200 | Learning rate 0.000631 | train normalized MSE   0.0711 | val normalized MSE   0.0850, | val MAE   1.5051 | val MSE   8.5048\n"
     ]
    },
    {
     "name": "stderr",
     "output_type": "stream",
     "text": [
      "Epoch:  68%|██████▊   | 205/300 [27:30<12:36,  7.97s/epoch]"
     ]
    },
    {
     "name": "stdout",
     "output_type": "stream",
     "text": [
      "Epoch 205 | Learning rate 0.000536 | train normalized MSE   0.0701 | val normalized MSE   0.0844, | val MAE   1.4889 | val MSE   8.4394\n"
     ]
    },
    {
     "name": "stderr",
     "output_type": "stream",
     "text": [
      "Epoch:  70%|███████   | 210/300 [28:10<11:56,  7.96s/epoch]"
     ]
    },
    {
     "name": "stdout",
     "output_type": "stream",
     "text": [
      "Epoch 210 | Learning rate 0.000456 | train normalized MSE   0.0703 | val normalized MSE   0.0837, | val MAE   1.4915 | val MSE   8.3663\n"
     ]
    },
    {
     "name": "stderr",
     "output_type": "stream",
     "text": [
      "Epoch:  72%|███████▏  | 215/300 [28:50<11:17,  7.97s/epoch]"
     ]
    },
    {
     "name": "stdout",
     "output_type": "stream",
     "text": [
      "Epoch 215 | Learning rate 0.000388 | train normalized MSE   0.0699 | val normalized MSE   0.0840, | val MAE   1.4904 | val MSE   8.3981\n"
     ]
    },
    {
     "name": "stderr",
     "output_type": "stream",
     "text": [
      "Epoch:  73%|███████▎  | 220/300 [29:33<11:22,  8.53s/epoch]"
     ]
    },
    {
     "name": "stdout",
     "output_type": "stream",
     "text": [
      "Epoch 220 | Learning rate 0.000388 | train normalized MSE   0.0696 | val normalized MSE   0.0832, | val MAE   1.4701 | val MSE   8.3189\n"
     ]
    }
   ],
   "source": [
    "# Train the model (tweak batch_size and epochs as needed at top of this block)\n",
    "# Saved as \"best_model.pt\" to be loaded in during testing\n",
    "train_model(train_data, batch_size=batch_size, epochs=epochs, num_folds=num_folds,\n",
    "            early_stopping_patience=early_stopping_patience,\n",
    "            early_stopping_threshold=early_stopping_threshold)"
   ]
  },
  {
   "cell_type": "code",
   "execution_count": 31,
   "metadata": {
    "execution": {
     "iopub.execute_input": "2025-05-24T03:01:25.184092Z",
     "iopub.status.busy": "2025-05-24T03:01:25.183905Z",
     "iopub.status.idle": "2025-05-24T03:01:26.192564Z",
     "shell.execute_reply": "2025-05-24T03:01:26.191799Z",
     "shell.execute_reply.started": "2025-05-24T03:01:25.184077Z"
    },
    "trusted": true
   },
   "outputs": [
    {
     "name": "stdout",
     "output_type": "stream",
     "text": [
      "Submission saved locally as: './submission/submission-2025-05-28_01-37PM.csv'.\n"
     ]
    }
   ],
   "source": [
    "# Make predictions on the test set\n",
    "model_predictions_df = predict(test_data)\n",
    "assert len(model_predictions_df) == 126000, f\"Incorrect number of rows in output, expected 126000, got {len(model_predictions_df)}\"\n",
    "\n",
    "# Save output in the submission foldder, timestamped!\n",
    "submission_path = os.path.join(submission_dir, f\"submission-{get_timestamp()}.csv\")\n",
    "model_predictions_df.to_csv(submission_path)\n",
    "print(f\"Submission saved locally as: '{submission_path}'.\")"
   ]
  },
  {
   "cell_type": "markdown",
   "metadata": {},
   "source": [
    "# Visualize predictions\n",
    "\n",
    "These functions are taken from the milestone notebook, with minor additions"
   ]
  },
  {
   "cell_type": "code",
   "execution_count": 90,
   "metadata": {
    "execution": {
     "iopub.execute_input": "2025-05-24T03:01:26.193577Z",
     "iopub.status.busy": "2025-05-24T03:01:26.193392Z",
     "iopub.status.idle": "2025-05-24T03:01:26.199515Z",
     "shell.execute_reply": "2025-05-24T03:01:26.198959Z",
     "shell.execute_reply.started": "2025-05-24T03:01:26.193561Z"
    },
    "jupyter": {
     "source_hidden": true
    },
    "trusted": true
   },
   "outputs": [],
   "source": [
    "def plot_trajectory(ax, pred, gt, title=None):\n",
    "    ax.cla()\n",
    "    # Plot the predicted future trajectory\n",
    "    ax.plot(pred[0,:60,0], pred[0,:60,1], color='palevioletred', label='Predicted Future Trajectory')\n",
    "    \n",
    "    # Plot the ground truth future trajectory\n",
    "    ax.plot(gt[0,:60,0], gt[0,:60,1], color='navy', label='Ground Truth Future Trajectory')\n",
    "    \n",
    "    # Optionally set axis limits, labels, and title.\n",
    "    x_max = max(pred[..., 0].max(), gt[..., 0].max())\n",
    "    x_min = min(pred[..., 0].min(), gt[..., 0].min())\n",
    "    y_max = max(pred[..., 1].max(), gt[..., 1].max())\n",
    "    y_min = min(pred[..., 1].min(), gt[..., 1].min())\n",
    "    \n",
    "    ax.set_xlim(x_min, x_max)\n",
    "    ax.set_ylim(y_min, y_max)\n",
    "    ax.set_xlabel('X-axis')\n",
    "    ax.set_ylabel('Y-axis')\n",
    "    \n",
    "    if title:\n",
    "        ax.set_title(title)\n",
    "    \n",
    "    ax.legend()\n",
    "    ax.grid(True, linestyle='--', alpha=0.7)"
   ]
  },
  {
   "cell_type": "code",
   "execution_count": 91,
   "metadata": {
    "execution": {
     "iopub.execute_input": "2025-05-24T03:01:26.200294Z",
     "iopub.status.busy": "2025-05-24T03:01:26.200082Z",
     "iopub.status.idle": "2025-05-24T03:01:26.217915Z",
     "shell.execute_reply": "2025-05-24T03:01:26.217308Z",
     "shell.execute_reply.started": "2025-05-24T03:01:26.200279Z"
    },
    "jupyter": {
     "source_hidden": true
    },
    "trusted": true
   },
   "outputs": [],
   "source": [
    "def visualize_predictions(model, val_dataset, graph_save_path: str = f\"{get_timestamp()}_graph.png\"):\n",
    "    global input_features\n",
    "\n",
    "    model.load_state_dict(torch.load(\"best_model.pt\"))\n",
    "    model.eval()\n",
    "\n",
    "    # randomly select 4 samples from the validation set\n",
    "    random_indices = random.sample(range(len(val_dataset)), 4)\n",
    "    fig, axes = plt.subplots(2, 2, figsize=(10, 10))\n",
    "    axes = axes.flatten()  # Flatten the array to iterate single axes objects\n",
    "\n",
    "    for i, idx in enumerate(random_indices):\n",
    "        batch = val_dataset[idx]\n",
    "        batch_x, batch_y = None, None\n",
    "        if isinstance(batch, tuple) or isinstance(batch, list):\n",
    "            batch_x, batch_y = batch\n",
    "            X_val_tensor = torch.FloatTensor(batch_x).reshape((-1, input_features)).to(device)\n",
    "            y_val_tensor = torch.FloatTensor(batch_y.view(-1, 60, 2))\n",
    "\n",
    "            pred = model(X_val_tensor).cpu().reshape((-1, 60, 2))\n",
    "            gt = torch.stack(torch.split(y_val_tensor, 60, dim=0), dim=0).squeeze(dim=0) # getting a phantom dimension\n",
    "        else:\n",
    "            batch = batch.to(device)\n",
    "            batch_x = batch.x\n",
    "            batch_y = batch.y\n",
    "        \n",
    "            pred = model(batch_x)\n",
    "            gt = torch.stack(torch.split(batch_y, 60, dim=0), dim=0)\n",
    "\n",
    "            pred = pred * batch.scale.view(-1, 1, 1) + batch.origin.unsqueeze(1)\n",
    "            gt = torch.stack(torch.split(batch_y, 60, dim=0), dim=0) * batch.scale.view(-1, 1, 1) + batch.origin.unsqueeze(1)\n",
    "\n",
    "        pred = pred.detach().cpu().numpy()\n",
    "        gt = gt.detach().cpu().numpy()\n",
    "\n",
    "        # Plot the trajectory using the i-th axis\n",
    "        plot_trajectory(axes[i], pred, gt, title=f\"Sample {idx}\")\n",
    "\n",
    "    plt.savefig(fname=graph_save_path)\n",
    "    plt.show()"
   ]
  },
  {
   "cell_type": "code",
   "execution_count": 92,
   "metadata": {
    "execution": {
     "iopub.execute_input": "2025-05-24T03:01:26.219523Z",
     "iopub.status.busy": "2025-05-24T03:01:26.219331Z",
     "iopub.status.idle": "2025-05-24T03:01:27.245705Z",
     "shell.execute_reply": "2025-05-24T03:01:27.245050Z",
     "shell.execute_reply.started": "2025-05-24T03:01:26.219509Z"
    },
    "jupyter": {
     "source_hidden": true
    },
    "trusted": true
   },
   "outputs": [
    {
     "data": {
      "image/png": "[encoded data removed]",
      "text/plain": [
       "<Figure size 1000x1000 with 4 Axes>"
      ]
     },
     "metadata": {},
     "output_type": "display_data"
    }
   ],
   "source": [
    "model = get_model()\n",
    "if not isinstance(model, SceneContextModel):\n",
    "    # LSTM can handle the timeseries data directly\n",
    "    # TrajectoryDataset expects numpy arrays\n",
    "    collate_func = lambda x: Batch.from_data_list(x)\n",
    "    train_dataset = TrajectoryDatasetTrain(train_data, scale=scale, augment=True)\n",
    "else:\n",
    "    train_x: np.ndarray = train_data[..., :50, :]\n",
    "    train_y: np.ndarray = train_data[:, 0, 50:, :2]\n",
    "    X_train_tensor = torch.FloatTensor(train_x).reshape((-1, input_features))\n",
    "    y_train_tensor = torch.FloatTensor(train_y).reshape((-1, output_features))\n",
    "    train_dataset = TensorDataset(X_train_tensor, y_train_tensor)\n",
    "\n",
    "visualize_predictions(model, train_dataset)"
   ]
  }
 ],
 "metadata": {
  "kernelspec": {
   "display_name": "python_venv",
   "language": "python",
   "name": "python3"
  },
  "language_info": {
   "codemirror_mode": {
    "name": "ipython",
    "version": 3
   },
   "file_extension": ".py",
   "mimetype": "text/x-python",
   "name": "python",
   "nbconvert_exporter": "python",
   "pygments_lexer": "ipython3",
   "version": "3.12.10"
  }
 },
 "nbformat": 4,
 "nbformat_minor": 4
}
